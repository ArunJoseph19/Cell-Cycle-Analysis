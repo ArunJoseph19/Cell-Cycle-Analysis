{
 "cells": [
  {
   "cell_type": "code",
   "execution_count": 4,
   "metadata": {
    "scrolled": false
   },
   "outputs": [
    {
     "name": "stdout",
     "output_type": "stream",
     "text": [
      "reaction network\n",
      "reaction:  reactants             ->  products      \n",
      "r1      :  1 b1                  ->  1 b1  + 1 a1  \n",
      "r2      :  1 b2                  ->  1 b2  + 1 a2  \n",
      "r3      :  1 b3                  ->  1 b3  + 1 a3  \n",
      "r4      :  1 b2  + 1 b3          ->  2 b3          \n",
      "r5      :  1 b1  + 1 a2          ->                \n",
      "r6      :  1 b1  + 1 b3          ->  2 b2          \n",
      "r7      :  1 a1  + 1 a2          ->                \n",
      "r8      :  1 a1  + 1 a2  + 1 a3  ->  1 d1          \n",
      "r9      :  1 d1  + 1 b1          ->  2 b1  + 1 a2  \n",
      "\n",
      "speciesset: {'b2', 'a2', 'b3', 'a3', 'd1', 'b1', 'a1'}\n",
      "\n"
     ]
    },
    {
     "data": {
      "text/plain": [
       "'\\nanalysis=Analysis(example)\\n#print ERCs\\nanalysis.get_ERCs()\\nanalysis.print_ERC()\\n\\n\\n#calculate DOs\\nallDOs=analysis.all_DOs()\\nprint(len(allDOs))\\n\\n#calculate SORs\\nallSORs=analysis.all_SORs()\\nprint(allSORs)\\n#print(analysis.OP_map)\\n\\n\\n\\n\\nSOR_graph=analysis.draw_SORs(show_compartments=True, show_species=True, show_overproduction=True)\\nprint()\\nprint()\\n#get specific solution of DOs or SORs and get the set of contrerary elements, which can solve for that\\n#SOR\\nlargestSOR=allSORs[-1]\\nDOs_of_largest_SOR=analysis.get_DOs_of_SOR(largestSOR)\\nprint(\"DO subset\")\\nprint(DOs_of_largest_SOR)\\n\\n\\n\\n#DO\\nlargestDO=allDOs[0]\\nSORs_of_largest_DO=analysis.get_SORs_of_DO(largestDO)\\nprint(\"SOR subset\")\\nprint(SORs_of_largest_DO)\\nprint()\\n\\n#use function to get compartmentalization\\ncomp=analysis.get_compartmentalization_of_SOR_DO_pair(allSORs[5])\\nprint(comp)\\n\\n#you can also print the MRCs\\nprint(analysis.MCs)\\n\\n#print of hasse\\nanalysis.draw_DOs(DOs_of_largest_SOR)\\ntime.sleep(0.5)\\nSOR_graph=analysis.draw_SORs(show_compartments=True, show_species=True,show_overproduction=True)\\nSOR_graph=analysis.draw_SORs(show_compartments=True, show_species=True,show_overproduction=False)\\n#print(SOR_graph)\\ndisplay(SOR_graph)\\n\\nDO_graph=analysis.draw_DOs()\\ndisplay(DO_graph)\\n'"
      ]
     },
     "execution_count": 4,
     "metadata": {},
     "output_type": "execute_result"
    }
   ],
   "source": [
    "from Analysis import *\n",
    "from reactionnetwork import *\n",
    "\n",
    "import time\n",
    "\n",
    "example=get_example()\n",
    "print(\"reaction network\")\n",
    "print(example)\n",
    "print()\n",
    "\n",
    "analysis=Analysis(example)\n",
    "#print ERCs\n",
    "analysis.get_ERCs()\n",
    "analysis.print_ERC()\n",
    "\n",
    "\n",
    "#calculate DOs\n",
    "allDOs=analysis.all_DOs()\n",
    "print(len(allDOs))\n",
    "\n",
    "#calculate SORs\n",
    "allSORs=analysis.all_SORs()\n",
    "print(allSORs)\n",
    "#print(analysis.OP_map)\n",
    "\n",
    "\n",
    "\n",
    "\n",
    "SOR_graph=analysis.draw_SORs(show_compartments=True, show_species=True, show_overproduction=True)\n",
    "print()\n",
    "print()\n",
    "#get specific solution of DOs or SORs and get the set of contrerary elements, which can solve for that\n",
    "#SOR\n",
    "largestSOR=allSORs[-1]\n",
    "DOs_of_largest_SOR=analysis.get_DOs_of_SOR(largestSOR)\n",
    "print(\"DO subset\")\n",
    "print(DOs_of_largest_SOR)\n",
    "\n",
    "\n",
    "\n",
    "#DO\n",
    "largestDO=allDOs[0]\n",
    "SORs_of_largest_DO=analysis.get_SORs_of_DO(largestDO)\n",
    "print(\"SOR subset\")\n",
    "print(SORs_of_largest_DO)\n",
    "print()\n",
    "\n",
    "#use function to get compartmentalization\n",
    "comp=analysis.get_compartmentalization_of_SOR_DO_pair(allSORs[5])\n",
    "print(comp)\n",
    "\n",
    "#you can also print the MRCs\n",
    "print(analysis.MCs)\n",
    "\n",
    "#print of hasse\n",
    "analysis.draw_DOs(DOs_of_largest_SOR)\n",
    "time.sleep(0.5)\n",
    "SOR_graph=analysis.draw_SORs(show_compartments=True, show_species=True,show_overproduction=True)\n",
    "SOR_graph=analysis.draw_SORs(show_compartments=True, show_species=True,show_overproduction=False)\n",
    "#print(SOR_graph)\n",
    "display(SOR_graph)\n",
    "\n",
    "DO_graph=analysis.draw_DOs()\n",
    "display(DO_graph)\n"
   ]
  },
  {
   "cell_type": "code",
   "execution_count": null,
   "metadata": {},
   "outputs": [],
   "source": []
  }
 ],
 "metadata": {
  "kernelspec": {
   "display_name": "Python 3 (ipykernel)",
   "language": "python",
   "name": "python3"
  },
  "language_info": {
   "codemirror_mode": {
    "name": "ipython",
    "version": 3
   },
   "file_extension": ".py",
   "mimetype": "text/x-python",
   "name": "python",
   "nbconvert_exporter": "python",
   "pygments_lexer": "ipython3",
   "version": "3.8.16"
  }
 },
 "nbformat": 4,
 "nbformat_minor": 4
}
