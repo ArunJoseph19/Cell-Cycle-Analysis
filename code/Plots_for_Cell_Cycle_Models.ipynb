{
  "cells": [
    {
      "cell_type": "code",
      "source": [
        "!pip install -U kaleido"
      ],
      "metadata": {
        "id": "27FotGOSDr0o",
        "colab": {
          "base_uri": "https://localhost:8080/"
        },
        "outputId": "cee3aea5-126c-40d1-b113-a459fa92bbee"
      },
      "id": "27FotGOSDr0o",
      "execution_count": 21,
      "outputs": [
        {
          "output_type": "stream",
          "name": "stdout",
          "text": [
            "Requirement already satisfied: kaleido in /usr/local/lib/python3.10/dist-packages (0.2.1)\n"
          ]
        }
      ]
    },
    {
      "cell_type": "code",
      "execution_count": 2,
      "id": "1a053131",
      "metadata": {
        "id": "1a053131"
      },
      "outputs": [],
      "source": [
        "import plotly.graph_objects as go\n",
        "from plotly.io import write_image\n",
        "import numpy as np\n",
        "import pandas as pd\n",
        "import matplotlib.pyplot as plt\n",
        "\n",
        "df = pd.read_csv('/content/Biomodels cell cycles - Sheet2 (4).csv')"
      ]
    },
    {
      "cell_type": "code",
      "source": [
        "time = df['Time Complete'].to_list()"
      ],
      "metadata": {
        "id": "DfacsghaaNOH"
      },
      "id": "DfacsghaaNOH",
      "execution_count": 3,
      "outputs": []
    },
    {
      "cell_type": "code",
      "execution_count": 4,
      "id": "51d1dd1a",
      "metadata": {
        "id": "51d1dd1a"
      },
      "outputs": [],
      "source": [
        "time_temp = []\n",
        "for j in time:\n",
        "  j = j.replace(\",\", \"\")\n",
        "  if float(j) < 1:\n",
        "    time_temp.append(float(j))\n",
        "  else:\n",
        "    time_temp.append(int(j))"
      ]
    },
    {
      "cell_type": "code",
      "source": [
        "df['Time Complete exp']  = time_temp"
      ],
      "metadata": {
        "id": "eiUd-wAL3eIR"
      },
      "id": "eiUd-wAL3eIR",
      "execution_count": 5,
      "outputs": []
    },
    {
      "cell_type": "code",
      "source": [
        "col = df.columns\n",
        "col"
      ],
      "metadata": {
        "colab": {
          "base_uri": "https://localhost:8080/"
        },
        "id": "7dcqhla-3cYz",
        "outputId": "0a1eb408-7510-4b00-94b8-680b3b8d2df7"
      },
      "id": "7dcqhla-3cYz",
      "execution_count": 6,
      "outputs": [
        {
          "output_type": "execute_result",
          "data": {
            "text/plain": [
              "Index([' ', 'No. of SORs', 'No. of Dos', '2a. No. of Reactions',\n",
              "       '2b. No. of Species', '2c. Reactions / Species',\n",
              "       '3a. No. of Organisations',\n",
              "       '3b. Avg number of reactions per Organization', '3c. Height',\n",
              "       '3e. Persistence', '3d. Width', '4a. No. of Genuine DOs',\n",
              "       '4b. No. of Compartmentalized organisations',\n",
              "       '4c. No. of Compartmentalizations', 'Time Complete',\n",
              "       'No: of Compartments', 'Type of modelling tech', 'Organisms', 'Year',\n",
              "       'Other Details', 'Part of cell cycle ', 'Time Complete exp'],\n",
              "      dtype='object')"
            ]
          },
          "metadata": {},
          "execution_count": 6
        }
      ]
    },
    {
      "cell_type": "code",
      "source": [
        "df['Time Complete exp']"
      ],
      "metadata": {
        "colab": {
          "base_uri": "https://localhost:8080/"
        },
        "id": "I-zkRGm7gBYR",
        "outputId": "094d6b2b-9108-45a2-a502-f5b4aeccc4a5"
      },
      "id": "I-zkRGm7gBYR",
      "execution_count": 7,
      "outputs": [
        {
          "output_type": "execute_result",
          "data": {
            "text/plain": [
              "0      2.273180e+16\n",
              "1      1.878428e+16\n",
              "2      2.652073e+16\n",
              "3      1.053119e+16\n",
              "4      2.685787e+16\n",
              "           ...     \n",
              "269    1.333473e+15\n",
              "270    2.750134e+16\n",
              "271    2.066113e+16\n",
              "272    2.540851e+16\n",
              "273    8.725333e+15\n",
              "Name: Time Complete exp, Length: 274, dtype: float64"
            ]
          },
          "metadata": {},
          "execution_count": 7
        }
      ]
    },
    {
      "cell_type": "code",
      "source": [
        "import plotly.graph_objects as go\n",
        "import numpy as np\n",
        "\n",
        "df['Time Complete Divided'] = df['Time Complete exp']/10**16\n",
        "\n",
        "bins = [-5, 0, 5, 10, 15, 20]\n",
        "\n",
        "hist, bin_edges = np.histogram(np.log10(df['Time Complete exp']), bins)\n",
        "# Create plotly histogram\n",
        "fig = go.Figure()\n",
        "\n",
        "# Add histogram trace\n",
        "fig.add_trace(go.Bar(\n",
        "    x=[f\"{bins[i]} - {bins[i+1]}\" for i in range(len(bins) - 1)],\n",
        "    y=hist,\n",
        "    marker_color='rgb(55,168,55)',\n",
        "    opacity=0.7,\n",
        "    name='Time Taken'\n",
        "))\n",
        "\n",
        "# Update layout\n",
        "fig.update_layout(\n",
        "    title='Histogram with Time Taken to run',\n",
        "    xaxis=dict(title='Time Taken (x10^16) Milliseconds'),\n",
        "    yaxis=dict(title='Number of Models')\n",
        ")\n",
        "\n",
        "fig.update_layout(font=dict(size=18))"
      ],
      "metadata": {
        "id": "CNcUCbvCy1il",
        "colab": {
          "base_uri": "https://localhost:8080/",
          "height": 611
        },
        "outputId": "8b31351a-c1fe-45f9-86d7-47aceee0b079"
      },
      "id": "CNcUCbvCy1il",
      "execution_count": 9,
      "outputs": [
        {
          "output_type": "stream",
          "name": "stderr",
          "text": [
            "/usr/local/lib/python3.10/dist-packages/pandas/core/arraylike.py:396: RuntimeWarning:\n",
            "\n",
            "divide by zero encountered in log10\n",
            "\n"
          ]
        },
        {
          "output_type": "display_data",
          "data": {
            "text/html": [
              "<html>\n",
              "<head><meta charset=\"utf-8\" /></head>\n",
              "<body>\n",
              "    <div>            <script src=\"https://cdnjs.cloudflare.com/ajax/libs/mathjax/2.7.5/MathJax.js?config=TeX-AMS-MML_SVG\"></script><script type=\"text/javascript\">if (window.MathJax && window.MathJax.Hub && window.MathJax.Hub.Config) {window.MathJax.Hub.Config({SVG: {font: \"STIX-Web\"}});}</script>                <script type=\"text/javascript\">window.PlotlyConfig = {MathJaxConfig: 'local'};</script>\n",
              "        <script charset=\"utf-8\" src=\"https://cdn.plot.ly/plotly-2.24.1.min.js\"></script>                <div id=\"1ebe4f02-e750-4738-b906-d4524c1fa68e\" class=\"plotly-graph-div\" style=\"height:525px; width:100%;\"></div>            <script type=\"text/javascript\">                                    window.PLOTLYENV=window.PLOTLYENV || {};                                    if (document.getElementById(\"1ebe4f02-e750-4738-b906-d4524c1fa68e\")) {                    Plotly.newPlot(                        \"1ebe4f02-e750-4738-b906-d4524c1fa68e\",                        [{\"marker\":{\"color\":\"rgb(55,168,55)\"},\"name\":\"Time Taken\",\"opacity\":0.7,\"x\":[\"-5 - 0\",\"0 - 5\",\"5 - 10\",\"10 - 15\",\"15 - 20\"],\"y\":[0,0,0,9,263],\"type\":\"bar\"}],                        {\"template\":{\"data\":{\"histogram2dcontour\":[{\"type\":\"histogram2dcontour\",\"colorbar\":{\"outlinewidth\":0,\"ticks\":\"\"},\"colorscale\":[[0.0,\"#0d0887\"],[0.1111111111111111,\"#46039f\"],[0.2222222222222222,\"#7201a8\"],[0.3333333333333333,\"#9c179e\"],[0.4444444444444444,\"#bd3786\"],[0.5555555555555556,\"#d8576b\"],[0.6666666666666666,\"#ed7953\"],[0.7777777777777778,\"#fb9f3a\"],[0.8888888888888888,\"#fdca26\"],[1.0,\"#f0f921\"]]}],\"choropleth\":[{\"type\":\"choropleth\",\"colorbar\":{\"outlinewidth\":0,\"ticks\":\"\"}}],\"histogram2d\":[{\"type\":\"histogram2d\",\"colorbar\":{\"outlinewidth\":0,\"ticks\":\"\"},\"colorscale\":[[0.0,\"#0d0887\"],[0.1111111111111111,\"#46039f\"],[0.2222222222222222,\"#7201a8\"],[0.3333333333333333,\"#9c179e\"],[0.4444444444444444,\"#bd3786\"],[0.5555555555555556,\"#d8576b\"],[0.6666666666666666,\"#ed7953\"],[0.7777777777777778,\"#fb9f3a\"],[0.8888888888888888,\"#fdca26\"],[1.0,\"#f0f921\"]]}],\"heatmap\":[{\"type\":\"heatmap\",\"colorbar\":{\"outlinewidth\":0,\"ticks\":\"\"},\"colorscale\":[[0.0,\"#0d0887\"],[0.1111111111111111,\"#46039f\"],[0.2222222222222222,\"#7201a8\"],[0.3333333333333333,\"#9c179e\"],[0.4444444444444444,\"#bd3786\"],[0.5555555555555556,\"#d8576b\"],[0.6666666666666666,\"#ed7953\"],[0.7777777777777778,\"#fb9f3a\"],[0.8888888888888888,\"#fdca26\"],[1.0,\"#f0f921\"]]}],\"heatmapgl\":[{\"type\":\"heatmapgl\",\"colorbar\":{\"outlinewidth\":0,\"ticks\":\"\"},\"colorscale\":[[0.0,\"#0d0887\"],[0.1111111111111111,\"#46039f\"],[0.2222222222222222,\"#7201a8\"],[0.3333333333333333,\"#9c179e\"],[0.4444444444444444,\"#bd3786\"],[0.5555555555555556,\"#d8576b\"],[0.6666666666666666,\"#ed7953\"],[0.7777777777777778,\"#fb9f3a\"],[0.8888888888888888,\"#fdca26\"],[1.0,\"#f0f921\"]]}],\"contourcarpet\":[{\"type\":\"contourcarpet\",\"colorbar\":{\"outlinewidth\":0,\"ticks\":\"\"}}],\"contour\":[{\"type\":\"contour\",\"colorbar\":{\"outlinewidth\":0,\"ticks\":\"\"},\"colorscale\":[[0.0,\"#0d0887\"],[0.1111111111111111,\"#46039f\"],[0.2222222222222222,\"#7201a8\"],[0.3333333333333333,\"#9c179e\"],[0.4444444444444444,\"#bd3786\"],[0.5555555555555556,\"#d8576b\"],[0.6666666666666666,\"#ed7953\"],[0.7777777777777778,\"#fb9f3a\"],[0.8888888888888888,\"#fdca26\"],[1.0,\"#f0f921\"]]}],\"surface\":[{\"type\":\"surface\",\"colorbar\":{\"outlinewidth\":0,\"ticks\":\"\"},\"colorscale\":[[0.0,\"#0d0887\"],[0.1111111111111111,\"#46039f\"],[0.2222222222222222,\"#7201a8\"],[0.3333333333333333,\"#9c179e\"],[0.4444444444444444,\"#bd3786\"],[0.5555555555555556,\"#d8576b\"],[0.6666666666666666,\"#ed7953\"],[0.7777777777777778,\"#fb9f3a\"],[0.8888888888888888,\"#fdca26\"],[1.0,\"#f0f921\"]]}],\"mesh3d\":[{\"type\":\"mesh3d\",\"colorbar\":{\"outlinewidth\":0,\"ticks\":\"\"}}],\"scatter\":[{\"fillpattern\":{\"fillmode\":\"overlay\",\"size\":10,\"solidity\":0.2},\"type\":\"scatter\"}],\"parcoords\":[{\"type\":\"parcoords\",\"line\":{\"colorbar\":{\"outlinewidth\":0,\"ticks\":\"\"}}}],\"scatterpolargl\":[{\"type\":\"scatterpolargl\",\"marker\":{\"colorbar\":{\"outlinewidth\":0,\"ticks\":\"\"}}}],\"bar\":[{\"error_x\":{\"color\":\"#2a3f5f\"},\"error_y\":{\"color\":\"#2a3f5f\"},\"marker\":{\"line\":{\"color\":\"#E5ECF6\",\"width\":0.5},\"pattern\":{\"fillmode\":\"overlay\",\"size\":10,\"solidity\":0.2}},\"type\":\"bar\"}],\"scattergeo\":[{\"type\":\"scattergeo\",\"marker\":{\"colorbar\":{\"outlinewidth\":0,\"ticks\":\"\"}}}],\"scatterpolar\":[{\"type\":\"scatterpolar\",\"marker\":{\"colorbar\":{\"outlinewidth\":0,\"ticks\":\"\"}}}],\"histogram\":[{\"marker\":{\"pattern\":{\"fillmode\":\"overlay\",\"size\":10,\"solidity\":0.2}},\"type\":\"histogram\"}],\"scattergl\":[{\"type\":\"scattergl\",\"marker\":{\"colorbar\":{\"outlinewidth\":0,\"ticks\":\"\"}}}],\"scatter3d\":[{\"type\":\"scatter3d\",\"line\":{\"colorbar\":{\"outlinewidth\":0,\"ticks\":\"\"}},\"marker\":{\"colorbar\":{\"outlinewidth\":0,\"ticks\":\"\"}}}],\"scattermapbox\":[{\"type\":\"scattermapbox\",\"marker\":{\"colorbar\":{\"outlinewidth\":0,\"ticks\":\"\"}}}],\"scatterternary\":[{\"type\":\"scatterternary\",\"marker\":{\"colorbar\":{\"outlinewidth\":0,\"ticks\":\"\"}}}],\"scattercarpet\":[{\"type\":\"scattercarpet\",\"marker\":{\"colorbar\":{\"outlinewidth\":0,\"ticks\":\"\"}}}],\"carpet\":[{\"aaxis\":{\"endlinecolor\":\"#2a3f5f\",\"gridcolor\":\"white\",\"linecolor\":\"white\",\"minorgridcolor\":\"white\",\"startlinecolor\":\"#2a3f5f\"},\"baxis\":{\"endlinecolor\":\"#2a3f5f\",\"gridcolor\":\"white\",\"linecolor\":\"white\",\"minorgridcolor\":\"white\",\"startlinecolor\":\"#2a3f5f\"},\"type\":\"carpet\"}],\"table\":[{\"cells\":{\"fill\":{\"color\":\"#EBF0F8\"},\"line\":{\"color\":\"white\"}},\"header\":{\"fill\":{\"color\":\"#C8D4E3\"},\"line\":{\"color\":\"white\"}},\"type\":\"table\"}],\"barpolar\":[{\"marker\":{\"line\":{\"color\":\"#E5ECF6\",\"width\":0.5},\"pattern\":{\"fillmode\":\"overlay\",\"size\":10,\"solidity\":0.2}},\"type\":\"barpolar\"}],\"pie\":[{\"automargin\":true,\"type\":\"pie\"}]},\"layout\":{\"autotypenumbers\":\"strict\",\"colorway\":[\"#636efa\",\"#EF553B\",\"#00cc96\",\"#ab63fa\",\"#FFA15A\",\"#19d3f3\",\"#FF6692\",\"#B6E880\",\"#FF97FF\",\"#FECB52\"],\"font\":{\"color\":\"#2a3f5f\"},\"hovermode\":\"closest\",\"hoverlabel\":{\"align\":\"left\"},\"paper_bgcolor\":\"white\",\"plot_bgcolor\":\"#E5ECF6\",\"polar\":{\"bgcolor\":\"#E5ECF6\",\"angularaxis\":{\"gridcolor\":\"white\",\"linecolor\":\"white\",\"ticks\":\"\"},\"radialaxis\":{\"gridcolor\":\"white\",\"linecolor\":\"white\",\"ticks\":\"\"}},\"ternary\":{\"bgcolor\":\"#E5ECF6\",\"aaxis\":{\"gridcolor\":\"white\",\"linecolor\":\"white\",\"ticks\":\"\"},\"baxis\":{\"gridcolor\":\"white\",\"linecolor\":\"white\",\"ticks\":\"\"},\"caxis\":{\"gridcolor\":\"white\",\"linecolor\":\"white\",\"ticks\":\"\"}},\"coloraxis\":{\"colorbar\":{\"outlinewidth\":0,\"ticks\":\"\"}},\"colorscale\":{\"sequential\":[[0.0,\"#0d0887\"],[0.1111111111111111,\"#46039f\"],[0.2222222222222222,\"#7201a8\"],[0.3333333333333333,\"#9c179e\"],[0.4444444444444444,\"#bd3786\"],[0.5555555555555556,\"#d8576b\"],[0.6666666666666666,\"#ed7953\"],[0.7777777777777778,\"#fb9f3a\"],[0.8888888888888888,\"#fdca26\"],[1.0,\"#f0f921\"]],\"sequentialminus\":[[0.0,\"#0d0887\"],[0.1111111111111111,\"#46039f\"],[0.2222222222222222,\"#7201a8\"],[0.3333333333333333,\"#9c179e\"],[0.4444444444444444,\"#bd3786\"],[0.5555555555555556,\"#d8576b\"],[0.6666666666666666,\"#ed7953\"],[0.7777777777777778,\"#fb9f3a\"],[0.8888888888888888,\"#fdca26\"],[1.0,\"#f0f921\"]],\"diverging\":[[0,\"#8e0152\"],[0.1,\"#c51b7d\"],[0.2,\"#de77ae\"],[0.3,\"#f1b6da\"],[0.4,\"#fde0ef\"],[0.5,\"#f7f7f7\"],[0.6,\"#e6f5d0\"],[0.7,\"#b8e186\"],[0.8,\"#7fbc41\"],[0.9,\"#4d9221\"],[1,\"#276419\"]]},\"xaxis\":{\"gridcolor\":\"white\",\"linecolor\":\"white\",\"ticks\":\"\",\"title\":{\"standoff\":15},\"zerolinecolor\":\"white\",\"automargin\":true,\"zerolinewidth\":2},\"yaxis\":{\"gridcolor\":\"white\",\"linecolor\":\"white\",\"ticks\":\"\",\"title\":{\"standoff\":15},\"zerolinecolor\":\"white\",\"automargin\":true,\"zerolinewidth\":2},\"scene\":{\"xaxis\":{\"backgroundcolor\":\"#E5ECF6\",\"gridcolor\":\"white\",\"linecolor\":\"white\",\"showbackground\":true,\"ticks\":\"\",\"zerolinecolor\":\"white\",\"gridwidth\":2},\"yaxis\":{\"backgroundcolor\":\"#E5ECF6\",\"gridcolor\":\"white\",\"linecolor\":\"white\",\"showbackground\":true,\"ticks\":\"\",\"zerolinecolor\":\"white\",\"gridwidth\":2},\"zaxis\":{\"backgroundcolor\":\"#E5ECF6\",\"gridcolor\":\"white\",\"linecolor\":\"white\",\"showbackground\":true,\"ticks\":\"\",\"zerolinecolor\":\"white\",\"gridwidth\":2}},\"shapedefaults\":{\"line\":{\"color\":\"#2a3f5f\"}},\"annotationdefaults\":{\"arrowcolor\":\"#2a3f5f\",\"arrowhead\":0,\"arrowwidth\":1},\"geo\":{\"bgcolor\":\"white\",\"landcolor\":\"#E5ECF6\",\"subunitcolor\":\"white\",\"showland\":true,\"showlakes\":true,\"lakecolor\":\"white\"},\"title\":{\"x\":0.05},\"mapbox\":{\"style\":\"light\"}}},\"title\":{\"text\":\"Histogram with Time Taken to run\"},\"xaxis\":{\"title\":{\"text\":\"Time Taken (x10^16) Milliseconds\"}},\"yaxis\":{\"title\":{\"text\":\"Number of Models\"}},\"font\":{\"size\":18}},                        {\"responsive\": true}                    ).then(function(){\n",
              "                            \n",
              "var gd = document.getElementById('1ebe4f02-e750-4738-b906-d4524c1fa68e');\n",
              "var x = new MutationObserver(function (mutations, observer) {{\n",
              "        var display = window.getComputedStyle(gd).display;\n",
              "        if (!display || display === 'none') {{\n",
              "            console.log([gd, 'removed!']);\n",
              "            Plotly.purge(gd);\n",
              "            observer.disconnect();\n",
              "        }}\n",
              "}});\n",
              "\n",
              "// Listen for the removal of the full notebook cells\n",
              "var notebookContainer = gd.closest('#notebook-container');\n",
              "if (notebookContainer) {{\n",
              "    x.observe(notebookContainer, {childList: true});\n",
              "}}\n",
              "\n",
              "// Listen for the clearing of the current output cell\n",
              "var outputEl = gd.closest('.output');\n",
              "if (outputEl) {{\n",
              "    x.observe(outputEl, {childList: true});\n",
              "}}\n",
              "\n",
              "                        })                };                            </script>        </div>\n",
              "</body>\n",
              "</html>"
            ]
          },
          "metadata": {}
        }
      ]
    },
    {
      "cell_type": "code",
      "execution_count": 11,
      "id": "b766c3ba",
      "metadata": {
        "id": "b766c3ba",
        "colab": {
          "base_uri": "https://localhost:8080/",
          "height": 542
        },
        "outputId": "701e98b2-a7da-41f8-b565-98d993754860"
      },
      "outputs": [
        {
          "output_type": "display_data",
          "data": {
            "text/html": [
              "<html>\n",
              "<head><meta charset=\"utf-8\" /></head>\n",
              "<body>\n",
              "    <div>            <script src=\"https://cdnjs.cloudflare.com/ajax/libs/mathjax/2.7.5/MathJax.js?config=TeX-AMS-MML_SVG\"></script><script type=\"text/javascript\">if (window.MathJax && window.MathJax.Hub && window.MathJax.Hub.Config) {window.MathJax.Hub.Config({SVG: {font: \"STIX-Web\"}});}</script>                <script type=\"text/javascript\">window.PlotlyConfig = {MathJaxConfig: 'local'};</script>\n",
              "        <script charset=\"utf-8\" src=\"https://cdn.plot.ly/plotly-2.24.1.min.js\"></script>                <div id=\"846c5a49-43ed-4c9b-a078-6ae5203b9a81\" class=\"plotly-graph-div\" style=\"height:525px; width:100%;\"></div>            <script type=\"text/javascript\">                                    window.PLOTLYENV=window.PLOTLYENV || {};                                    if (document.getElementById(\"846c5a49-43ed-4c9b-a078-6ae5203b9a81\")) {                    Plotly.newPlot(                        \"846c5a49-43ed-4c9b-a078-6ae5203b9a81\",                        [{\"marker\":{\"color\":\"rgb(72,158,72)\"},\"name\":\"Time Taken\",\"opacity\":0.7,\"x\":[\"0 - 0.01\",\"0.01 - 0.02\",\"0.02 - 0.05\",\"0.05 - 0.08\",\"0.08 - 0.1\",\"0.1 - 0.2\",\"0.2 - 0.5\",\"0.5 - 0.75\",\"0.75 - 1\",\"1 - 1.2\",\"1.2 - 1.5\",\"1.5 - 2\",\"2 - 5\",\"5 - 7\"],\"y\":[4,2,3,2,0,32,42,23,23,28,36,31,45,3],\"type\":\"bar\"}],                        {\"template\":{\"data\":{\"histogram2dcontour\":[{\"type\":\"histogram2dcontour\",\"colorbar\":{\"outlinewidth\":0,\"ticks\":\"\"},\"colorscale\":[[0.0,\"#0d0887\"],[0.1111111111111111,\"#46039f\"],[0.2222222222222222,\"#7201a8\"],[0.3333333333333333,\"#9c179e\"],[0.4444444444444444,\"#bd3786\"],[0.5555555555555556,\"#d8576b\"],[0.6666666666666666,\"#ed7953\"],[0.7777777777777778,\"#fb9f3a\"],[0.8888888888888888,\"#fdca26\"],[1.0,\"#f0f921\"]]}],\"choropleth\":[{\"type\":\"choropleth\",\"colorbar\":{\"outlinewidth\":0,\"ticks\":\"\"}}],\"histogram2d\":[{\"type\":\"histogram2d\",\"colorbar\":{\"outlinewidth\":0,\"ticks\":\"\"},\"colorscale\":[[0.0,\"#0d0887\"],[0.1111111111111111,\"#46039f\"],[0.2222222222222222,\"#7201a8\"],[0.3333333333333333,\"#9c179e\"],[0.4444444444444444,\"#bd3786\"],[0.5555555555555556,\"#d8576b\"],[0.6666666666666666,\"#ed7953\"],[0.7777777777777778,\"#fb9f3a\"],[0.8888888888888888,\"#fdca26\"],[1.0,\"#f0f921\"]]}],\"heatmap\":[{\"type\":\"heatmap\",\"colorbar\":{\"outlinewidth\":0,\"ticks\":\"\"},\"colorscale\":[[0.0,\"#0d0887\"],[0.1111111111111111,\"#46039f\"],[0.2222222222222222,\"#7201a8\"],[0.3333333333333333,\"#9c179e\"],[0.4444444444444444,\"#bd3786\"],[0.5555555555555556,\"#d8576b\"],[0.6666666666666666,\"#ed7953\"],[0.7777777777777778,\"#fb9f3a\"],[0.8888888888888888,\"#fdca26\"],[1.0,\"#f0f921\"]]}],\"heatmapgl\":[{\"type\":\"heatmapgl\",\"colorbar\":{\"outlinewidth\":0,\"ticks\":\"\"},\"colorscale\":[[0.0,\"#0d0887\"],[0.1111111111111111,\"#46039f\"],[0.2222222222222222,\"#7201a8\"],[0.3333333333333333,\"#9c179e\"],[0.4444444444444444,\"#bd3786\"],[0.5555555555555556,\"#d8576b\"],[0.6666666666666666,\"#ed7953\"],[0.7777777777777778,\"#fb9f3a\"],[0.8888888888888888,\"#fdca26\"],[1.0,\"#f0f921\"]]}],\"contourcarpet\":[{\"type\":\"contourcarpet\",\"colorbar\":{\"outlinewidth\":0,\"ticks\":\"\"}}],\"contour\":[{\"type\":\"contour\",\"colorbar\":{\"outlinewidth\":0,\"ticks\":\"\"},\"colorscale\":[[0.0,\"#0d0887\"],[0.1111111111111111,\"#46039f\"],[0.2222222222222222,\"#7201a8\"],[0.3333333333333333,\"#9c179e\"],[0.4444444444444444,\"#bd3786\"],[0.5555555555555556,\"#d8576b\"],[0.6666666666666666,\"#ed7953\"],[0.7777777777777778,\"#fb9f3a\"],[0.8888888888888888,\"#fdca26\"],[1.0,\"#f0f921\"]]}],\"surface\":[{\"type\":\"surface\",\"colorbar\":{\"outlinewidth\":0,\"ticks\":\"\"},\"colorscale\":[[0.0,\"#0d0887\"],[0.1111111111111111,\"#46039f\"],[0.2222222222222222,\"#7201a8\"],[0.3333333333333333,\"#9c179e\"],[0.4444444444444444,\"#bd3786\"],[0.5555555555555556,\"#d8576b\"],[0.6666666666666666,\"#ed7953\"],[0.7777777777777778,\"#fb9f3a\"],[0.8888888888888888,\"#fdca26\"],[1.0,\"#f0f921\"]]}],\"mesh3d\":[{\"type\":\"mesh3d\",\"colorbar\":{\"outlinewidth\":0,\"ticks\":\"\"}}],\"scatter\":[{\"fillpattern\":{\"fillmode\":\"overlay\",\"size\":10,\"solidity\":0.2},\"type\":\"scatter\"}],\"parcoords\":[{\"type\":\"parcoords\",\"line\":{\"colorbar\":{\"outlinewidth\":0,\"ticks\":\"\"}}}],\"scatterpolargl\":[{\"type\":\"scatterpolargl\",\"marker\":{\"colorbar\":{\"outlinewidth\":0,\"ticks\":\"\"}}}],\"bar\":[{\"error_x\":{\"color\":\"#2a3f5f\"},\"error_y\":{\"color\":\"#2a3f5f\"},\"marker\":{\"line\":{\"color\":\"#E5ECF6\",\"width\":0.5},\"pattern\":{\"fillmode\":\"overlay\",\"size\":10,\"solidity\":0.2}},\"type\":\"bar\"}],\"scattergeo\":[{\"type\":\"scattergeo\",\"marker\":{\"colorbar\":{\"outlinewidth\":0,\"ticks\":\"\"}}}],\"scatterpolar\":[{\"type\":\"scatterpolar\",\"marker\":{\"colorbar\":{\"outlinewidth\":0,\"ticks\":\"\"}}}],\"histogram\":[{\"marker\":{\"pattern\":{\"fillmode\":\"overlay\",\"size\":10,\"solidity\":0.2}},\"type\":\"histogram\"}],\"scattergl\":[{\"type\":\"scattergl\",\"marker\":{\"colorbar\":{\"outlinewidth\":0,\"ticks\":\"\"}}}],\"scatter3d\":[{\"type\":\"scatter3d\",\"line\":{\"colorbar\":{\"outlinewidth\":0,\"ticks\":\"\"}},\"marker\":{\"colorbar\":{\"outlinewidth\":0,\"ticks\":\"\"}}}],\"scattermapbox\":[{\"type\":\"scattermapbox\",\"marker\":{\"colorbar\":{\"outlinewidth\":0,\"ticks\":\"\"}}}],\"scatterternary\":[{\"type\":\"scatterternary\",\"marker\":{\"colorbar\":{\"outlinewidth\":0,\"ticks\":\"\"}}}],\"scattercarpet\":[{\"type\":\"scattercarpet\",\"marker\":{\"colorbar\":{\"outlinewidth\":0,\"ticks\":\"\"}}}],\"carpet\":[{\"aaxis\":{\"endlinecolor\":\"#2a3f5f\",\"gridcolor\":\"white\",\"linecolor\":\"white\",\"minorgridcolor\":\"white\",\"startlinecolor\":\"#2a3f5f\"},\"baxis\":{\"endlinecolor\":\"#2a3f5f\",\"gridcolor\":\"white\",\"linecolor\":\"white\",\"minorgridcolor\":\"white\",\"startlinecolor\":\"#2a3f5f\"},\"type\":\"carpet\"}],\"table\":[{\"cells\":{\"fill\":{\"color\":\"#EBF0F8\"},\"line\":{\"color\":\"white\"}},\"header\":{\"fill\":{\"color\":\"#C8D4E3\"},\"line\":{\"color\":\"white\"}},\"type\":\"table\"}],\"barpolar\":[{\"marker\":{\"line\":{\"color\":\"#E5ECF6\",\"width\":0.5},\"pattern\":{\"fillmode\":\"overlay\",\"size\":10,\"solidity\":0.2}},\"type\":\"barpolar\"}],\"pie\":[{\"automargin\":true,\"type\":\"pie\"}]},\"layout\":{\"autotypenumbers\":\"strict\",\"colorway\":[\"#636efa\",\"#EF553B\",\"#00cc96\",\"#ab63fa\",\"#FFA15A\",\"#19d3f3\",\"#FF6692\",\"#B6E880\",\"#FF97FF\",\"#FECB52\"],\"font\":{\"color\":\"#2a3f5f\"},\"hovermode\":\"closest\",\"hoverlabel\":{\"align\":\"left\"},\"paper_bgcolor\":\"white\",\"plot_bgcolor\":\"#E5ECF6\",\"polar\":{\"bgcolor\":\"#E5ECF6\",\"angularaxis\":{\"gridcolor\":\"white\",\"linecolor\":\"white\",\"ticks\":\"\"},\"radialaxis\":{\"gridcolor\":\"white\",\"linecolor\":\"white\",\"ticks\":\"\"}},\"ternary\":{\"bgcolor\":\"#E5ECF6\",\"aaxis\":{\"gridcolor\":\"white\",\"linecolor\":\"white\",\"ticks\":\"\"},\"baxis\":{\"gridcolor\":\"white\",\"linecolor\":\"white\",\"ticks\":\"\"},\"caxis\":{\"gridcolor\":\"white\",\"linecolor\":\"white\",\"ticks\":\"\"}},\"coloraxis\":{\"colorbar\":{\"outlinewidth\":0,\"ticks\":\"\"}},\"colorscale\":{\"sequential\":[[0.0,\"#0d0887\"],[0.1111111111111111,\"#46039f\"],[0.2222222222222222,\"#7201a8\"],[0.3333333333333333,\"#9c179e\"],[0.4444444444444444,\"#bd3786\"],[0.5555555555555556,\"#d8576b\"],[0.6666666666666666,\"#ed7953\"],[0.7777777777777778,\"#fb9f3a\"],[0.8888888888888888,\"#fdca26\"],[1.0,\"#f0f921\"]],\"sequentialminus\":[[0.0,\"#0d0887\"],[0.1111111111111111,\"#46039f\"],[0.2222222222222222,\"#7201a8\"],[0.3333333333333333,\"#9c179e\"],[0.4444444444444444,\"#bd3786\"],[0.5555555555555556,\"#d8576b\"],[0.6666666666666666,\"#ed7953\"],[0.7777777777777778,\"#fb9f3a\"],[0.8888888888888888,\"#fdca26\"],[1.0,\"#f0f921\"]],\"diverging\":[[0,\"#8e0152\"],[0.1,\"#c51b7d\"],[0.2,\"#de77ae\"],[0.3,\"#f1b6da\"],[0.4,\"#fde0ef\"],[0.5,\"#f7f7f7\"],[0.6,\"#e6f5d0\"],[0.7,\"#b8e186\"],[0.8,\"#7fbc41\"],[0.9,\"#4d9221\"],[1,\"#276419\"]]},\"xaxis\":{\"gridcolor\":\"white\",\"linecolor\":\"white\",\"ticks\":\"\",\"title\":{\"standoff\":15},\"zerolinecolor\":\"white\",\"automargin\":true,\"zerolinewidth\":2},\"yaxis\":{\"gridcolor\":\"white\",\"linecolor\":\"white\",\"ticks\":\"\",\"title\":{\"standoff\":15},\"zerolinecolor\":\"white\",\"automargin\":true,\"zerolinewidth\":2},\"scene\":{\"xaxis\":{\"backgroundcolor\":\"#E5ECF6\",\"gridcolor\":\"white\",\"linecolor\":\"white\",\"showbackground\":true,\"ticks\":\"\",\"zerolinecolor\":\"white\",\"gridwidth\":2},\"yaxis\":{\"backgroundcolor\":\"#E5ECF6\",\"gridcolor\":\"white\",\"linecolor\":\"white\",\"showbackground\":true,\"ticks\":\"\",\"zerolinecolor\":\"white\",\"gridwidth\":2},\"zaxis\":{\"backgroundcolor\":\"#E5ECF6\",\"gridcolor\":\"white\",\"linecolor\":\"white\",\"showbackground\":true,\"ticks\":\"\",\"zerolinecolor\":\"white\",\"gridwidth\":2}},\"shapedefaults\":{\"line\":{\"color\":\"#2a3f5f\"}},\"annotationdefaults\":{\"arrowcolor\":\"#2a3f5f\",\"arrowhead\":0,\"arrowwidth\":1},\"geo\":{\"bgcolor\":\"white\",\"landcolor\":\"#E5ECF6\",\"subunitcolor\":\"white\",\"showland\":true,\"showlakes\":true,\"lakecolor\":\"white\"},\"title\":{\"x\":0.05},\"mapbox\":{\"style\":\"light\"}}},\"title\":{\"text\":\"Histogram of time taken to run cell cycle models\",\"x\":0.5,\"y\":0.95},\"xaxis\":{\"title\":{\"text\":\"Time Taken (x10^16) Milliseconds\"},\"showgrid\":false},\"yaxis\":{\"title\":{\"text\":\"Number of Models\"},\"showgrid\":false},\"font\":{\"size\":16}},                        {\"responsive\": true}                    ).then(function(){\n",
              "                            \n",
              "var gd = document.getElementById('846c5a49-43ed-4c9b-a078-6ae5203b9a81');\n",
              "var x = new MutationObserver(function (mutations, observer) {{\n",
              "        var display = window.getComputedStyle(gd).display;\n",
              "        if (!display || display === 'none') {{\n",
              "            console.log([gd, 'removed!']);\n",
              "            Plotly.purge(gd);\n",
              "            observer.disconnect();\n",
              "        }}\n",
              "}});\n",
              "\n",
              "// Listen for the removal of the full notebook cells\n",
              "var notebookContainer = gd.closest('#notebook-container');\n",
              "if (notebookContainer) {{\n",
              "    x.observe(notebookContainer, {childList: true});\n",
              "}}\n",
              "\n",
              "// Listen for the clearing of the current output cell\n",
              "var outputEl = gd.closest('.output');\n",
              "if (outputEl) {{\n",
              "    x.observe(outputEl, {childList: true});\n",
              "}}\n",
              "\n",
              "                        })                };                            </script>        </div>\n",
              "</body>\n",
              "</html>"
            ]
          },
          "metadata": {}
        }
      ],
      "source": [
        "\n",
        "import plotly.graph_objects as go\n",
        "import numpy as np\n",
        "\n",
        "df['Time Complete Divided'] = df['Time Complete exp']/10**16\n",
        "\n",
        "bins = [0, 0.01, 0.02, 0.05, 0.08, 0.1, 0.2, 0.5, 0.75, 1, 1.2, 1.5, 2, 5, 7]\n",
        "\n",
        "hist, bin_edges = np.histogram(df['Time Complete Divided'], bins)\n",
        "# Create plotly histogram\n",
        "fig = go.Figure()\n",
        "\n",
        "# Add histogram trace\n",
        "fig.add_trace(go.Bar(\n",
        "    x=[f\"{bins[i]} - {bins[i+1]}\" for i in range(len(bins) - 1)],\n",
        "    y=hist,\n",
        "    marker_color='rgb(72,158,72)',\n",
        "    opacity=0.7,\n",
        "    name='Time Taken'\n",
        "))\n",
        "\n",
        "# Update layout\n",
        "fig.update_layout(\n",
        "    title='Histogram of time taken to run cell cycle models',\n",
        "    xaxis=dict(title='Time Taken (x10^16) Milliseconds'),\n",
        "    yaxis=dict(title='Number of Models'),\n",
        "    title_x=0.5,\n",
        "    title_y=0.95\n",
        ")\n",
        "\n",
        "fig.update_layout(font=dict(size=16))\n",
        "fig.update_xaxes(showgrid=False)\n",
        "fig.update_yaxes(showgrid=False)\n",
        "\n",
        "write_image(fig, 'Histogram of Time Taken to run.png')\n",
        "\n",
        "# Show plot\n",
        "fig.show()"
      ]
    },
    {
      "cell_type": "code",
      "execution_count": 13,
      "id": "982badbe",
      "metadata": {
        "colab": {
          "base_uri": "https://localhost:8080/",
          "height": 542
        },
        "id": "982badbe",
        "outputId": "a986dac9-3b80-465c-c91f-68c126cfde9b"
      },
      "outputs": [
        {
          "output_type": "display_data",
          "data": {
            "text/html": [
              "<html>\n",
              "<head><meta charset=\"utf-8\" /></head>\n",
              "<body>\n",
              "    <div>            <script src=\"https://cdnjs.cloudflare.com/ajax/libs/mathjax/2.7.5/MathJax.js?config=TeX-AMS-MML_SVG\"></script><script type=\"text/javascript\">if (window.MathJax && window.MathJax.Hub && window.MathJax.Hub.Config) {window.MathJax.Hub.Config({SVG: {font: \"STIX-Web\"}});}</script>                <script type=\"text/javascript\">window.PlotlyConfig = {MathJaxConfig: 'local'};</script>\n",
              "        <script charset=\"utf-8\" src=\"https://cdn.plot.ly/plotly-2.24.1.min.js\"></script>                <div id=\"a130f342-04cf-4e00-a69c-c8765c54267d\" class=\"plotly-graph-div\" style=\"height:525px; width:100%;\"></div>            <script type=\"text/javascript\">                                    window.PLOTLYENV=window.PLOTLYENV || {};                                    if (document.getElementById(\"a130f342-04cf-4e00-a69c-c8765c54267d\")) {                    Plotly.newPlot(                        \"a130f342-04cf-4e00-a69c-c8765c54267d\",                        [{\"marker\":{\"color\":\"rgb(72,158,72)\"},\"name\":\"All Organizations\",\"opacity\":0.7,\"x\":[\"1 - 2\",\"2 - 3\",\"3 - 4\",\"4 - 5\",\"5 - 10\",\"10 - 50\",\"50 - 100\",\"100 - 1000\",\"1000 - 10000\"],\"y\":[145,31,12,8,15,47,5,4,6],\"type\":\"bar\"},{\"marker\":{\"color\":\"green\"},\"name\":\"Organizations with more than one compartment\",\"opacity\":1,\"x\":[\"1 - 2\",\"2 - 3\",\"3 - 4\",\"4 - 5\",\"5 - 10\",\"10 - 50\",\"50 - 100\",\"100 - 1000\",\"1000 - 10000\"],\"y\":[8,2,1,4,8,7,2,2,4],\"type\":\"bar\"}],                        {\"template\":{\"data\":{\"histogram2dcontour\":[{\"type\":\"histogram2dcontour\",\"colorbar\":{\"outlinewidth\":0,\"ticks\":\"\"},\"colorscale\":[[0.0,\"#0d0887\"],[0.1111111111111111,\"#46039f\"],[0.2222222222222222,\"#7201a8\"],[0.3333333333333333,\"#9c179e\"],[0.4444444444444444,\"#bd3786\"],[0.5555555555555556,\"#d8576b\"],[0.6666666666666666,\"#ed7953\"],[0.7777777777777778,\"#fb9f3a\"],[0.8888888888888888,\"#fdca26\"],[1.0,\"#f0f921\"]]}],\"choropleth\":[{\"type\":\"choropleth\",\"colorbar\":{\"outlinewidth\":0,\"ticks\":\"\"}}],\"histogram2d\":[{\"type\":\"histogram2d\",\"colorbar\":{\"outlinewidth\":0,\"ticks\":\"\"},\"colorscale\":[[0.0,\"#0d0887\"],[0.1111111111111111,\"#46039f\"],[0.2222222222222222,\"#7201a8\"],[0.3333333333333333,\"#9c179e\"],[0.4444444444444444,\"#bd3786\"],[0.5555555555555556,\"#d8576b\"],[0.6666666666666666,\"#ed7953\"],[0.7777777777777778,\"#fb9f3a\"],[0.8888888888888888,\"#fdca26\"],[1.0,\"#f0f921\"]]}],\"heatmap\":[{\"type\":\"heatmap\",\"colorbar\":{\"outlinewidth\":0,\"ticks\":\"\"},\"colorscale\":[[0.0,\"#0d0887\"],[0.1111111111111111,\"#46039f\"],[0.2222222222222222,\"#7201a8\"],[0.3333333333333333,\"#9c179e\"],[0.4444444444444444,\"#bd3786\"],[0.5555555555555556,\"#d8576b\"],[0.6666666666666666,\"#ed7953\"],[0.7777777777777778,\"#fb9f3a\"],[0.8888888888888888,\"#fdca26\"],[1.0,\"#f0f921\"]]}],\"heatmapgl\":[{\"type\":\"heatmapgl\",\"colorbar\":{\"outlinewidth\":0,\"ticks\":\"\"},\"colorscale\":[[0.0,\"#0d0887\"],[0.1111111111111111,\"#46039f\"],[0.2222222222222222,\"#7201a8\"],[0.3333333333333333,\"#9c179e\"],[0.4444444444444444,\"#bd3786\"],[0.5555555555555556,\"#d8576b\"],[0.6666666666666666,\"#ed7953\"],[0.7777777777777778,\"#fb9f3a\"],[0.8888888888888888,\"#fdca26\"],[1.0,\"#f0f921\"]]}],\"contourcarpet\":[{\"type\":\"contourcarpet\",\"colorbar\":{\"outlinewidth\":0,\"ticks\":\"\"}}],\"contour\":[{\"type\":\"contour\",\"colorbar\":{\"outlinewidth\":0,\"ticks\":\"\"},\"colorscale\":[[0.0,\"#0d0887\"],[0.1111111111111111,\"#46039f\"],[0.2222222222222222,\"#7201a8\"],[0.3333333333333333,\"#9c179e\"],[0.4444444444444444,\"#bd3786\"],[0.5555555555555556,\"#d8576b\"],[0.6666666666666666,\"#ed7953\"],[0.7777777777777778,\"#fb9f3a\"],[0.8888888888888888,\"#fdca26\"],[1.0,\"#f0f921\"]]}],\"surface\":[{\"type\":\"surface\",\"colorbar\":{\"outlinewidth\":0,\"ticks\":\"\"},\"colorscale\":[[0.0,\"#0d0887\"],[0.1111111111111111,\"#46039f\"],[0.2222222222222222,\"#7201a8\"],[0.3333333333333333,\"#9c179e\"],[0.4444444444444444,\"#bd3786\"],[0.5555555555555556,\"#d8576b\"],[0.6666666666666666,\"#ed7953\"],[0.7777777777777778,\"#fb9f3a\"],[0.8888888888888888,\"#fdca26\"],[1.0,\"#f0f921\"]]}],\"mesh3d\":[{\"type\":\"mesh3d\",\"colorbar\":{\"outlinewidth\":0,\"ticks\":\"\"}}],\"scatter\":[{\"fillpattern\":{\"fillmode\":\"overlay\",\"size\":10,\"solidity\":0.2},\"type\":\"scatter\"}],\"parcoords\":[{\"type\":\"parcoords\",\"line\":{\"colorbar\":{\"outlinewidth\":0,\"ticks\":\"\"}}}],\"scatterpolargl\":[{\"type\":\"scatterpolargl\",\"marker\":{\"colorbar\":{\"outlinewidth\":0,\"ticks\":\"\"}}}],\"bar\":[{\"error_x\":{\"color\":\"#2a3f5f\"},\"error_y\":{\"color\":\"#2a3f5f\"},\"marker\":{\"line\":{\"color\":\"#E5ECF6\",\"width\":0.5},\"pattern\":{\"fillmode\":\"overlay\",\"size\":10,\"solidity\":0.2}},\"type\":\"bar\"}],\"scattergeo\":[{\"type\":\"scattergeo\",\"marker\":{\"colorbar\":{\"outlinewidth\":0,\"ticks\":\"\"}}}],\"scatterpolar\":[{\"type\":\"scatterpolar\",\"marker\":{\"colorbar\":{\"outlinewidth\":0,\"ticks\":\"\"}}}],\"histogram\":[{\"marker\":{\"pattern\":{\"fillmode\":\"overlay\",\"size\":10,\"solidity\":0.2}},\"type\":\"histogram\"}],\"scattergl\":[{\"type\":\"scattergl\",\"marker\":{\"colorbar\":{\"outlinewidth\":0,\"ticks\":\"\"}}}],\"scatter3d\":[{\"type\":\"scatter3d\",\"line\":{\"colorbar\":{\"outlinewidth\":0,\"ticks\":\"\"}},\"marker\":{\"colorbar\":{\"outlinewidth\":0,\"ticks\":\"\"}}}],\"scattermapbox\":[{\"type\":\"scattermapbox\",\"marker\":{\"colorbar\":{\"outlinewidth\":0,\"ticks\":\"\"}}}],\"scatterternary\":[{\"type\":\"scatterternary\",\"marker\":{\"colorbar\":{\"outlinewidth\":0,\"ticks\":\"\"}}}],\"scattercarpet\":[{\"type\":\"scattercarpet\",\"marker\":{\"colorbar\":{\"outlinewidth\":0,\"ticks\":\"\"}}}],\"carpet\":[{\"aaxis\":{\"endlinecolor\":\"#2a3f5f\",\"gridcolor\":\"white\",\"linecolor\":\"white\",\"minorgridcolor\":\"white\",\"startlinecolor\":\"#2a3f5f\"},\"baxis\":{\"endlinecolor\":\"#2a3f5f\",\"gridcolor\":\"white\",\"linecolor\":\"white\",\"minorgridcolor\":\"white\",\"startlinecolor\":\"#2a3f5f\"},\"type\":\"carpet\"}],\"table\":[{\"cells\":{\"fill\":{\"color\":\"#EBF0F8\"},\"line\":{\"color\":\"white\"}},\"header\":{\"fill\":{\"color\":\"#C8D4E3\"},\"line\":{\"color\":\"white\"}},\"type\":\"table\"}],\"barpolar\":[{\"marker\":{\"line\":{\"color\":\"#E5ECF6\",\"width\":0.5},\"pattern\":{\"fillmode\":\"overlay\",\"size\":10,\"solidity\":0.2}},\"type\":\"barpolar\"}],\"pie\":[{\"automargin\":true,\"type\":\"pie\"}]},\"layout\":{\"autotypenumbers\":\"strict\",\"colorway\":[\"#636efa\",\"#EF553B\",\"#00cc96\",\"#ab63fa\",\"#FFA15A\",\"#19d3f3\",\"#FF6692\",\"#B6E880\",\"#FF97FF\",\"#FECB52\"],\"font\":{\"color\":\"#2a3f5f\"},\"hovermode\":\"closest\",\"hoverlabel\":{\"align\":\"left\"},\"paper_bgcolor\":\"white\",\"plot_bgcolor\":\"#E5ECF6\",\"polar\":{\"bgcolor\":\"#E5ECF6\",\"angularaxis\":{\"gridcolor\":\"white\",\"linecolor\":\"white\",\"ticks\":\"\"},\"radialaxis\":{\"gridcolor\":\"white\",\"linecolor\":\"white\",\"ticks\":\"\"}},\"ternary\":{\"bgcolor\":\"#E5ECF6\",\"aaxis\":{\"gridcolor\":\"white\",\"linecolor\":\"white\",\"ticks\":\"\"},\"baxis\":{\"gridcolor\":\"white\",\"linecolor\":\"white\",\"ticks\":\"\"},\"caxis\":{\"gridcolor\":\"white\",\"linecolor\":\"white\",\"ticks\":\"\"}},\"coloraxis\":{\"colorbar\":{\"outlinewidth\":0,\"ticks\":\"\"}},\"colorscale\":{\"sequential\":[[0.0,\"#0d0887\"],[0.1111111111111111,\"#46039f\"],[0.2222222222222222,\"#7201a8\"],[0.3333333333333333,\"#9c179e\"],[0.4444444444444444,\"#bd3786\"],[0.5555555555555556,\"#d8576b\"],[0.6666666666666666,\"#ed7953\"],[0.7777777777777778,\"#fb9f3a\"],[0.8888888888888888,\"#fdca26\"],[1.0,\"#f0f921\"]],\"sequentialminus\":[[0.0,\"#0d0887\"],[0.1111111111111111,\"#46039f\"],[0.2222222222222222,\"#7201a8\"],[0.3333333333333333,\"#9c179e\"],[0.4444444444444444,\"#bd3786\"],[0.5555555555555556,\"#d8576b\"],[0.6666666666666666,\"#ed7953\"],[0.7777777777777778,\"#fb9f3a\"],[0.8888888888888888,\"#fdca26\"],[1.0,\"#f0f921\"]],\"diverging\":[[0,\"#8e0152\"],[0.1,\"#c51b7d\"],[0.2,\"#de77ae\"],[0.3,\"#f1b6da\"],[0.4,\"#fde0ef\"],[0.5,\"#f7f7f7\"],[0.6,\"#e6f5d0\"],[0.7,\"#b8e186\"],[0.8,\"#7fbc41\"],[0.9,\"#4d9221\"],[1,\"#276419\"]]},\"xaxis\":{\"gridcolor\":\"white\",\"linecolor\":\"white\",\"ticks\":\"\",\"title\":{\"standoff\":15},\"zerolinecolor\":\"white\",\"automargin\":true,\"zerolinewidth\":2},\"yaxis\":{\"gridcolor\":\"white\",\"linecolor\":\"white\",\"ticks\":\"\",\"title\":{\"standoff\":15},\"zerolinecolor\":\"white\",\"automargin\":true,\"zerolinewidth\":2},\"scene\":{\"xaxis\":{\"backgroundcolor\":\"#E5ECF6\",\"gridcolor\":\"white\",\"linecolor\":\"white\",\"showbackground\":true,\"ticks\":\"\",\"zerolinecolor\":\"white\",\"gridwidth\":2},\"yaxis\":{\"backgroundcolor\":\"#E5ECF6\",\"gridcolor\":\"white\",\"linecolor\":\"white\",\"showbackground\":true,\"ticks\":\"\",\"zerolinecolor\":\"white\",\"gridwidth\":2},\"zaxis\":{\"backgroundcolor\":\"#E5ECF6\",\"gridcolor\":\"white\",\"linecolor\":\"white\",\"showbackground\":true,\"ticks\":\"\",\"zerolinecolor\":\"white\",\"gridwidth\":2}},\"shapedefaults\":{\"line\":{\"color\":\"#2a3f5f\"}},\"annotationdefaults\":{\"arrowcolor\":\"#2a3f5f\",\"arrowhead\":0,\"arrowwidth\":1},\"geo\":{\"bgcolor\":\"white\",\"landcolor\":\"#E5ECF6\",\"subunitcolor\":\"white\",\"showland\":true,\"showlakes\":true,\"lakecolor\":\"white\"},\"title\":{\"x\":0.05},\"mapbox\":{\"style\":\"light\"}}},\"title\":{\"text\":\"Fraction of organizations requiring more than one compartment\",\"x\":0.5,\"y\":0.95},\"xaxis\":{\"title\":{\"text\":\"Number of Organizations\"},\"tickvals\":[\"1 - 2\",\"2 - 3\",\"3 - 4\",\"4 - 5\",\"5 - 10\",\"10 - 50\",\"50 - 100\",\"100 - 1000\",\"1000 - 10000\"],\"ticktext\":[\"1\",\"2\",\"3\",\"4\",\"5-10\",\"10-50\",\"50-100\",\"1000+\"],\"showgrid\":false},\"yaxis\":{\"title\":{\"text\":\"Number of Models\"},\"showgrid\":false},\"barmode\":\"overlay\",\"legend\":{\"orientation\":\"h\",\"yanchor\":\"bottom\",\"y\":1.02,\"xanchor\":\"right\",\"x\":1},\"font\":{\"size\":16}},                        {\"responsive\": true}                    ).then(function(){\n",
              "                            \n",
              "var gd = document.getElementById('a130f342-04cf-4e00-a69c-c8765c54267d');\n",
              "var x = new MutationObserver(function (mutations, observer) {{\n",
              "        var display = window.getComputedStyle(gd).display;\n",
              "        if (!display || display === 'none') {{\n",
              "            console.log([gd, 'removed!']);\n",
              "            Plotly.purge(gd);\n",
              "            observer.disconnect();\n",
              "        }}\n",
              "}});\n",
              "\n",
              "// Listen for the removal of the full notebook cells\n",
              "var notebookContainer = gd.closest('#notebook-container');\n",
              "if (notebookContainer) {{\n",
              "    x.observe(notebookContainer, {childList: true});\n",
              "}}\n",
              "\n",
              "// Listen for the clearing of the current output cell\n",
              "var outputEl = gd.closest('.output');\n",
              "if (outputEl) {{\n",
              "    x.observe(outputEl, {childList: true});\n",
              "}}\n",
              "\n",
              "                        })                };                            </script>        </div>\n",
              "</body>\n",
              "</html>"
            ]
          },
          "metadata": {}
        }
      ],
      "source": [
        "import plotly.graph_objects as go\n",
        "import numpy as np\n",
        "\n",
        "bins = [1, 2, 3, 4, 5, 10, 50, 100, 1000, 10000]\n",
        "\n",
        "hist, bin_edges = np.histogram(df['No. of SORs'], bins)\n",
        "hist2, bin_edges = np.histogram(df['4a. No. of Genuine DOs'], bins)\n",
        "\n",
        "# Create plotly histogram\n",
        "fig = go.Figure()\n",
        "\n",
        "# Add histogram trace\n",
        "fig.add_trace(go.Bar(\n",
        "    x=[f\"{bins[i]} - {bins[i+1]}\" for i in range(len(bins) - 1)],\n",
        "    y=hist,\n",
        "    marker_color='rgb(72,158,72)',\n",
        "    opacity=0.7,\n",
        "    name='All Organizations'\n",
        "))\n",
        "\n",
        "fig.add_trace(go.Bar(\n",
        "    x=[f\"{bins[i]} - {bins[i+1]}\" for i in range(len(bins) - 1)],\n",
        "    y=hist2,\n",
        "    marker_color='green',\n",
        "    opacity=1,\n",
        "    name='Organizations with more than one compartment'))\n",
        "\n",
        "# Update layout\n",
        "fig.update_layout(\n",
        "    title='Fraction of organizations requiring more than one compartment',\n",
        "    xaxis=dict(title='Number of Organizations'),\n",
        "    yaxis=dict(title='Number of Models'),\n",
        "    barmode='overlay',\n",
        "    title_x=0.5,\n",
        "    title_y=0.95\n",
        ")\n",
        "\n",
        "fig.update_layout(\n",
        "    legend=dict(\n",
        "        orientation=\"h\",\n",
        "        yanchor=\"bottom\",\n",
        "        y=1.02,\n",
        "        xanchor=\"right\",\n",
        "        x=1\n",
        "    )\n",
        ")\n",
        "\n",
        "fig.update_xaxes(tickvals=[f\"{bins[i]} - {bins[i+1]}\" for i in range(len(bins) - 1)], ticktext=['1', '2', '3', '4', '5-10', '10-50', '50-100', '1000+'], showgrid=False)\n",
        "fig.update_yaxes(showgrid=False)\n",
        "\n",
        "fig.update_layout(font=dict(size=16))\n",
        "\n",
        "# Show plot\n",
        "fig.show()\n",
        "\n",
        "write_image(fig, 'Parameter 4a: Organizations versus those with multiple compartments.png', scale=5)"
      ]
    },
    {
      "cell_type": "code",
      "source": [
        "df.columns"
      ],
      "metadata": {
        "colab": {
          "base_uri": "https://localhost:8080/"
        },
        "id": "VUanM-Cs5tlJ",
        "outputId": "7611c0a8-1a94-44e2-9330-16956e885c3d"
      },
      "id": "VUanM-Cs5tlJ",
      "execution_count": null,
      "outputs": [
        {
          "output_type": "execute_result",
          "data": {
            "text/plain": [
              "Index(['Unnamed: 0', 'No. of SORs', 'No. of Dos', '2a. No. of Reactions',\n",
              "       '2b. No. of Species', '2c. Reactions / Species',\n",
              "       '3a. No. of Organisations',\n",
              "       '3b. Avg number of reactions per Organization', '3c. Height',\n",
              "       '3e. Persistence', '3d. Width', '4a. No. of Genuine DOs',\n",
              "       '4b. No. of Compartmentalized organisations',\n",
              "       '4c. No. of Compartmentalizations', 'Time Complete',\n",
              "       'No: of Compartments', 'Type of modelling tech', 'Organisms', 'Year',\n",
              "       'Other Details', 'Part of cell cycle ', 'Time Complete exp',\n",
              "       'Time Complete Divided'],\n",
              "      dtype='object')"
            ]
          },
          "metadata": {},
          "execution_count": 12
        }
      ]
    },
    {
      "cell_type": "code",
      "source": [
        "x = df['4c. No. of Compartmentalizations'].to_list()\n",
        "\n",
        "for i in range(len(x)):\n",
        "  x[i] = x[i]+1\n",
        "\n",
        "df['4c. No. of Compartmentalizations'] = x"
      ],
      "metadata": {
        "id": "QKNQQlqS-ZBc"
      },
      "id": "QKNQQlqS-ZBc",
      "execution_count": 14,
      "outputs": []
    },
    {
      "cell_type": "code",
      "source": [
        "import plotly.graph_objects as go\n",
        "import numpy as np\n",
        "\n",
        "bins = [1, 2, 3, 4, 5, 10000]\n",
        "\n",
        "hist, bin_edges = np.histogram(df['No: of Compartments'], bins)\n",
        "\n",
        "# Create plotly histogram\n",
        "fig = go.Figure()\n",
        "\n",
        "# Add histogram trace\n",
        "fig.add_trace(go.Bar(\n",
        "    x=[f\"{bins[i]} - {bins[i+1]}\" for i in range(len(bins) - 1)],\n",
        "    y=hist,\n",
        "    marker_color='rgb(72,158,72)',\n",
        "    opacity=0.7\n",
        "))\n",
        "\n",
        "\n",
        "# Update layout\n",
        "fig.update_layout(\n",
        "    title='Histogram of Organizations with No. of compartments',\n",
        "    xaxis=dict(title='No. of required compartments'),\n",
        "    yaxis=dict(title='No. of Models'),\n",
        "    barmode='overlay',\n",
        "    title_x=0.5,\n",
        "    title_y=0.95\n",
        ")\n",
        "\n",
        "# Update x-axis labels\n",
        "fig.update_xaxes(tickvals=[f\"{bins[i]} - {bins[i+1]}\" for i in range(len(bins) - 1)], ticktext=['1', '2', '3', '4', '5+'], showgrid=False)\n",
        "fig.update_yaxes(showgrid=False)\n",
        "fig.update_layout(font=dict(size=16))\n",
        "\n",
        "# Show plot\n",
        "fig.show()\n",
        "\n",
        "write_image(fig, 'Parameter 4c: Histogram with Organisations with No. of compartments.png')"
      ],
      "metadata": {
        "colab": {
          "base_uri": "https://localhost:8080/",
          "height": 542
        },
        "id": "zpdBXEuW_bes",
        "outputId": "6dd683cd-e1ad-458d-8802-a39b6e49ae84"
      },
      "id": "zpdBXEuW_bes",
      "execution_count": 15,
      "outputs": [
        {
          "output_type": "display_data",
          "data": {
            "text/html": [
              "<html>\n",
              "<head><meta charset=\"utf-8\" /></head>\n",
              "<body>\n",
              "    <div>            <script src=\"https://cdnjs.cloudflare.com/ajax/libs/mathjax/2.7.5/MathJax.js?config=TeX-AMS-MML_SVG\"></script><script type=\"text/javascript\">if (window.MathJax && window.MathJax.Hub && window.MathJax.Hub.Config) {window.MathJax.Hub.Config({SVG: {font: \"STIX-Web\"}});}</script>                <script type=\"text/javascript\">window.PlotlyConfig = {MathJaxConfig: 'local'};</script>\n",
              "        <script charset=\"utf-8\" src=\"https://cdn.plot.ly/plotly-2.24.1.min.js\"></script>                <div id=\"12150ad0-7fcf-4f20-98d4-fe04d072ef4f\" class=\"plotly-graph-div\" style=\"height:525px; width:100%;\"></div>            <script type=\"text/javascript\">                                    window.PLOTLYENV=window.PLOTLYENV || {};                                    if (document.getElementById(\"12150ad0-7fcf-4f20-98d4-fe04d072ef4f\")) {                    Plotly.newPlot(                        \"12150ad0-7fcf-4f20-98d4-fe04d072ef4f\",                        [{\"marker\":{\"color\":\"rgb(72,158,72)\"},\"opacity\":0.7,\"x\":[\"1 - 2\",\"2 - 3\",\"3 - 4\",\"4 - 5\",\"5 - 10000\"],\"y\":[193,38,14,4,6],\"type\":\"bar\"}],                        {\"template\":{\"data\":{\"histogram2dcontour\":[{\"type\":\"histogram2dcontour\",\"colorbar\":{\"outlinewidth\":0,\"ticks\":\"\"},\"colorscale\":[[0.0,\"#0d0887\"],[0.1111111111111111,\"#46039f\"],[0.2222222222222222,\"#7201a8\"],[0.3333333333333333,\"#9c179e\"],[0.4444444444444444,\"#bd3786\"],[0.5555555555555556,\"#d8576b\"],[0.6666666666666666,\"#ed7953\"],[0.7777777777777778,\"#fb9f3a\"],[0.8888888888888888,\"#fdca26\"],[1.0,\"#f0f921\"]]}],\"choropleth\":[{\"type\":\"choropleth\",\"colorbar\":{\"outlinewidth\":0,\"ticks\":\"\"}}],\"histogram2d\":[{\"type\":\"histogram2d\",\"colorbar\":{\"outlinewidth\":0,\"ticks\":\"\"},\"colorscale\":[[0.0,\"#0d0887\"],[0.1111111111111111,\"#46039f\"],[0.2222222222222222,\"#7201a8\"],[0.3333333333333333,\"#9c179e\"],[0.4444444444444444,\"#bd3786\"],[0.5555555555555556,\"#d8576b\"],[0.6666666666666666,\"#ed7953\"],[0.7777777777777778,\"#fb9f3a\"],[0.8888888888888888,\"#fdca26\"],[1.0,\"#f0f921\"]]}],\"heatmap\":[{\"type\":\"heatmap\",\"colorbar\":{\"outlinewidth\":0,\"ticks\":\"\"},\"colorscale\":[[0.0,\"#0d0887\"],[0.1111111111111111,\"#46039f\"],[0.2222222222222222,\"#7201a8\"],[0.3333333333333333,\"#9c179e\"],[0.4444444444444444,\"#bd3786\"],[0.5555555555555556,\"#d8576b\"],[0.6666666666666666,\"#ed7953\"],[0.7777777777777778,\"#fb9f3a\"],[0.8888888888888888,\"#fdca26\"],[1.0,\"#f0f921\"]]}],\"heatmapgl\":[{\"type\":\"heatmapgl\",\"colorbar\":{\"outlinewidth\":0,\"ticks\":\"\"},\"colorscale\":[[0.0,\"#0d0887\"],[0.1111111111111111,\"#46039f\"],[0.2222222222222222,\"#7201a8\"],[0.3333333333333333,\"#9c179e\"],[0.4444444444444444,\"#bd3786\"],[0.5555555555555556,\"#d8576b\"],[0.6666666666666666,\"#ed7953\"],[0.7777777777777778,\"#fb9f3a\"],[0.8888888888888888,\"#fdca26\"],[1.0,\"#f0f921\"]]}],\"contourcarpet\":[{\"type\":\"contourcarpet\",\"colorbar\":{\"outlinewidth\":0,\"ticks\":\"\"}}],\"contour\":[{\"type\":\"contour\",\"colorbar\":{\"outlinewidth\":0,\"ticks\":\"\"},\"colorscale\":[[0.0,\"#0d0887\"],[0.1111111111111111,\"#46039f\"],[0.2222222222222222,\"#7201a8\"],[0.3333333333333333,\"#9c179e\"],[0.4444444444444444,\"#bd3786\"],[0.5555555555555556,\"#d8576b\"],[0.6666666666666666,\"#ed7953\"],[0.7777777777777778,\"#fb9f3a\"],[0.8888888888888888,\"#fdca26\"],[1.0,\"#f0f921\"]]}],\"surface\":[{\"type\":\"surface\",\"colorbar\":{\"outlinewidth\":0,\"ticks\":\"\"},\"colorscale\":[[0.0,\"#0d0887\"],[0.1111111111111111,\"#46039f\"],[0.2222222222222222,\"#7201a8\"],[0.3333333333333333,\"#9c179e\"],[0.4444444444444444,\"#bd3786\"],[0.5555555555555556,\"#d8576b\"],[0.6666666666666666,\"#ed7953\"],[0.7777777777777778,\"#fb9f3a\"],[0.8888888888888888,\"#fdca26\"],[1.0,\"#f0f921\"]]}],\"mesh3d\":[{\"type\":\"mesh3d\",\"colorbar\":{\"outlinewidth\":0,\"ticks\":\"\"}}],\"scatter\":[{\"fillpattern\":{\"fillmode\":\"overlay\",\"size\":10,\"solidity\":0.2},\"type\":\"scatter\"}],\"parcoords\":[{\"type\":\"parcoords\",\"line\":{\"colorbar\":{\"outlinewidth\":0,\"ticks\":\"\"}}}],\"scatterpolargl\":[{\"type\":\"scatterpolargl\",\"marker\":{\"colorbar\":{\"outlinewidth\":0,\"ticks\":\"\"}}}],\"bar\":[{\"error_x\":{\"color\":\"#2a3f5f\"},\"error_y\":{\"color\":\"#2a3f5f\"},\"marker\":{\"line\":{\"color\":\"#E5ECF6\",\"width\":0.5},\"pattern\":{\"fillmode\":\"overlay\",\"size\":10,\"solidity\":0.2}},\"type\":\"bar\"}],\"scattergeo\":[{\"type\":\"scattergeo\",\"marker\":{\"colorbar\":{\"outlinewidth\":0,\"ticks\":\"\"}}}],\"scatterpolar\":[{\"type\":\"scatterpolar\",\"marker\":{\"colorbar\":{\"outlinewidth\":0,\"ticks\":\"\"}}}],\"histogram\":[{\"marker\":{\"pattern\":{\"fillmode\":\"overlay\",\"size\":10,\"solidity\":0.2}},\"type\":\"histogram\"}],\"scattergl\":[{\"type\":\"scattergl\",\"marker\":{\"colorbar\":{\"outlinewidth\":0,\"ticks\":\"\"}}}],\"scatter3d\":[{\"type\":\"scatter3d\",\"line\":{\"colorbar\":{\"outlinewidth\":0,\"ticks\":\"\"}},\"marker\":{\"colorbar\":{\"outlinewidth\":0,\"ticks\":\"\"}}}],\"scattermapbox\":[{\"type\":\"scattermapbox\",\"marker\":{\"colorbar\":{\"outlinewidth\":0,\"ticks\":\"\"}}}],\"scatterternary\":[{\"type\":\"scatterternary\",\"marker\":{\"colorbar\":{\"outlinewidth\":0,\"ticks\":\"\"}}}],\"scattercarpet\":[{\"type\":\"scattercarpet\",\"marker\":{\"colorbar\":{\"outlinewidth\":0,\"ticks\":\"\"}}}],\"carpet\":[{\"aaxis\":{\"endlinecolor\":\"#2a3f5f\",\"gridcolor\":\"white\",\"linecolor\":\"white\",\"minorgridcolor\":\"white\",\"startlinecolor\":\"#2a3f5f\"},\"baxis\":{\"endlinecolor\":\"#2a3f5f\",\"gridcolor\":\"white\",\"linecolor\":\"white\",\"minorgridcolor\":\"white\",\"startlinecolor\":\"#2a3f5f\"},\"type\":\"carpet\"}],\"table\":[{\"cells\":{\"fill\":{\"color\":\"#EBF0F8\"},\"line\":{\"color\":\"white\"}},\"header\":{\"fill\":{\"color\":\"#C8D4E3\"},\"line\":{\"color\":\"white\"}},\"type\":\"table\"}],\"barpolar\":[{\"marker\":{\"line\":{\"color\":\"#E5ECF6\",\"width\":0.5},\"pattern\":{\"fillmode\":\"overlay\",\"size\":10,\"solidity\":0.2}},\"type\":\"barpolar\"}],\"pie\":[{\"automargin\":true,\"type\":\"pie\"}]},\"layout\":{\"autotypenumbers\":\"strict\",\"colorway\":[\"#636efa\",\"#EF553B\",\"#00cc96\",\"#ab63fa\",\"#FFA15A\",\"#19d3f3\",\"#FF6692\",\"#B6E880\",\"#FF97FF\",\"#FECB52\"],\"font\":{\"color\":\"#2a3f5f\"},\"hovermode\":\"closest\",\"hoverlabel\":{\"align\":\"left\"},\"paper_bgcolor\":\"white\",\"plot_bgcolor\":\"#E5ECF6\",\"polar\":{\"bgcolor\":\"#E5ECF6\",\"angularaxis\":{\"gridcolor\":\"white\",\"linecolor\":\"white\",\"ticks\":\"\"},\"radialaxis\":{\"gridcolor\":\"white\",\"linecolor\":\"white\",\"ticks\":\"\"}},\"ternary\":{\"bgcolor\":\"#E5ECF6\",\"aaxis\":{\"gridcolor\":\"white\",\"linecolor\":\"white\",\"ticks\":\"\"},\"baxis\":{\"gridcolor\":\"white\",\"linecolor\":\"white\",\"ticks\":\"\"},\"caxis\":{\"gridcolor\":\"white\",\"linecolor\":\"white\",\"ticks\":\"\"}},\"coloraxis\":{\"colorbar\":{\"outlinewidth\":0,\"ticks\":\"\"}},\"colorscale\":{\"sequential\":[[0.0,\"#0d0887\"],[0.1111111111111111,\"#46039f\"],[0.2222222222222222,\"#7201a8\"],[0.3333333333333333,\"#9c179e\"],[0.4444444444444444,\"#bd3786\"],[0.5555555555555556,\"#d8576b\"],[0.6666666666666666,\"#ed7953\"],[0.7777777777777778,\"#fb9f3a\"],[0.8888888888888888,\"#fdca26\"],[1.0,\"#f0f921\"]],\"sequentialminus\":[[0.0,\"#0d0887\"],[0.1111111111111111,\"#46039f\"],[0.2222222222222222,\"#7201a8\"],[0.3333333333333333,\"#9c179e\"],[0.4444444444444444,\"#bd3786\"],[0.5555555555555556,\"#d8576b\"],[0.6666666666666666,\"#ed7953\"],[0.7777777777777778,\"#fb9f3a\"],[0.8888888888888888,\"#fdca26\"],[1.0,\"#f0f921\"]],\"diverging\":[[0,\"#8e0152\"],[0.1,\"#c51b7d\"],[0.2,\"#de77ae\"],[0.3,\"#f1b6da\"],[0.4,\"#fde0ef\"],[0.5,\"#f7f7f7\"],[0.6,\"#e6f5d0\"],[0.7,\"#b8e186\"],[0.8,\"#7fbc41\"],[0.9,\"#4d9221\"],[1,\"#276419\"]]},\"xaxis\":{\"gridcolor\":\"white\",\"linecolor\":\"white\",\"ticks\":\"\",\"title\":{\"standoff\":15},\"zerolinecolor\":\"white\",\"automargin\":true,\"zerolinewidth\":2},\"yaxis\":{\"gridcolor\":\"white\",\"linecolor\":\"white\",\"ticks\":\"\",\"title\":{\"standoff\":15},\"zerolinecolor\":\"white\",\"automargin\":true,\"zerolinewidth\":2},\"scene\":{\"xaxis\":{\"backgroundcolor\":\"#E5ECF6\",\"gridcolor\":\"white\",\"linecolor\":\"white\",\"showbackground\":true,\"ticks\":\"\",\"zerolinecolor\":\"white\",\"gridwidth\":2},\"yaxis\":{\"backgroundcolor\":\"#E5ECF6\",\"gridcolor\":\"white\",\"linecolor\":\"white\",\"showbackground\":true,\"ticks\":\"\",\"zerolinecolor\":\"white\",\"gridwidth\":2},\"zaxis\":{\"backgroundcolor\":\"#E5ECF6\",\"gridcolor\":\"white\",\"linecolor\":\"white\",\"showbackground\":true,\"ticks\":\"\",\"zerolinecolor\":\"white\",\"gridwidth\":2}},\"shapedefaults\":{\"line\":{\"color\":\"#2a3f5f\"}},\"annotationdefaults\":{\"arrowcolor\":\"#2a3f5f\",\"arrowhead\":0,\"arrowwidth\":1},\"geo\":{\"bgcolor\":\"white\",\"landcolor\":\"#E5ECF6\",\"subunitcolor\":\"white\",\"showland\":true,\"showlakes\":true,\"lakecolor\":\"white\"},\"title\":{\"x\":0.05},\"mapbox\":{\"style\":\"light\"}}},\"title\":{\"text\":\"Histogram of Organizations with No. of compartments\",\"x\":0.5,\"y\":0.95},\"xaxis\":{\"title\":{\"text\":\"No. of required compartments\"},\"tickvals\":[\"1 - 2\",\"2 - 3\",\"3 - 4\",\"4 - 5\",\"5 - 10000\"],\"ticktext\":[\"1\",\"2\",\"3\",\"4\",\"5+\"],\"showgrid\":false},\"yaxis\":{\"title\":{\"text\":\"No. of Models\"},\"showgrid\":false},\"barmode\":\"overlay\",\"font\":{\"size\":16}},                        {\"responsive\": true}                    ).then(function(){\n",
              "                            \n",
              "var gd = document.getElementById('12150ad0-7fcf-4f20-98d4-fe04d072ef4f');\n",
              "var x = new MutationObserver(function (mutations, observer) {{\n",
              "        var display = window.getComputedStyle(gd).display;\n",
              "        if (!display || display === 'none') {{\n",
              "            console.log([gd, 'removed!']);\n",
              "            Plotly.purge(gd);\n",
              "            observer.disconnect();\n",
              "        }}\n",
              "}});\n",
              "\n",
              "// Listen for the removal of the full notebook cells\n",
              "var notebookContainer = gd.closest('#notebook-container');\n",
              "if (notebookContainer) {{\n",
              "    x.observe(notebookContainer, {childList: true});\n",
              "}}\n",
              "\n",
              "// Listen for the clearing of the current output cell\n",
              "var outputEl = gd.closest('.output');\n",
              "if (outputEl) {{\n",
              "    x.observe(outputEl, {childList: true});\n",
              "}}\n",
              "\n",
              "                        })                };                            </script>        </div>\n",
              "</body>\n",
              "</html>"
            ]
          },
          "metadata": {}
        }
      ]
    },
    {
      "cell_type": "code",
      "source": [
        "import plotly.graph_objects as go\n",
        "import numpy as np\n",
        "\n",
        "bins = [1, 1.25, 1.5, 2, 3, 4, 5, 10, 50]\n",
        "\n",
        "hist, bin_edges = np.histogram(np.log10(df['No. of SORs']), bins)\n",
        "hist2, bin_edges = np.histogram(np.log10(df['No. of Dos']), bins)\n",
        "\n",
        "# Create plotly histogram\n",
        "fig = go.Figure()\n",
        "\n",
        "# Add histogram trace\n",
        "fig.add_trace(go.Bar(\n",
        "    x=[f\"{bins[i]} - {bins[i+1]}\" for i in range(len(bins) - 1)],\n",
        "    y=hist,\n",
        "    marker_color='blue',\n",
        "    opacity=0.7,\n",
        "    name='No. of SORs'\n",
        "))\n",
        "\n",
        "fig.add_trace(go.Bar(\n",
        "    x=[f\"{bins[i]} - {bins[i+1]}\" for i in range(len(bins) - 1)],\n",
        "    y=hist2,\n",
        "    marker_color='skyblue',\n",
        "    opacity=0.7,\n",
        "    name='No. of DOs'))\n",
        "\n",
        "# Update layout\n",
        "fig.update_layout(\n",
        "    title='Histogram with SORs vs DOs',\n",
        "    xaxis=dict(title='No. of SORs'),\n",
        "    yaxis=dict(title='Count'),\n",
        "    barmode='overlay'\n",
        ")\n",
        "\n",
        "# Show plot\n",
        "fig.show()"
      ],
      "metadata": {
        "id": "8zzKqeJPoo7m"
      },
      "id": "8zzKqeJPoo7m",
      "execution_count": null,
      "outputs": []
    },
    {
      "cell_type": "code",
      "execution_count": null,
      "id": "31a1e730",
      "metadata": {
        "id": "31a1e730"
      },
      "outputs": [],
      "source": [
        "import plotly.express as px\n",
        "fig = px.scatter(x=np.log10(df['No. of SORs']), y=np.log10(df['No. of Dos']))\n",
        "\n",
        "fig.update_layout(\n",
        "    title='SORs vs DOs Log10',\n",
        "    xaxis=dict(title='No. of SORs'),\n",
        "    yaxis=dict(title='No. of DOs')\n",
        ")\n",
        "\n",
        "fig.show()"
      ]
    },
    {
      "cell_type": "code",
      "execution_count": null,
      "id": "fdcfd08e",
      "metadata": {
        "id": "fdcfd08e"
      },
      "outputs": [],
      "source": [
        "###IGNORE GRAPH\n",
        "import plotly.graph_objects as go\n",
        "import numpy as np\n",
        "\n",
        "bins = [1, 2, 4, 7, 10, 15, 20, 30, 40, 50, 100, 1000, 10000]\n",
        "\n",
        "hist, bin_edges = np.histogram(df['No. of SORs'], bins)\n",
        "hist2, bin_edges = np.histogram(df['2a. No. of Reactions'], bins)\n",
        "hist3, bin_edges = np.histogram(df['2b. No. of Species'], bins)\n",
        "hist4, bin_edges = np.histogram(df['4a. No. of Genuine DOs'], bins)\n",
        "hist5, bin_edges = np.histogram(df['3a. No. of Organisations'], bins)\n",
        "# Create plotly histogram\n",
        "fig = go.Figure()\n",
        "\n",
        "# Add histogram trace\n",
        "fig.add_trace(go.Bar(\n",
        "    x=[f\"{bins[i]} - {bins[i+1]}\" for i in range(len(bins) - 1)],\n",
        "    y=hist,\n",
        "    marker_color='blue',\n",
        "    opacity=0.7,\n",
        "    name='No. of SORs'\n",
        "))\n",
        "\n",
        "fig.add_trace(go.Bar(\n",
        "    x=[f\"{bins[i]} - {bins[i+1]}\" for i in range(len(bins) - 1)],\n",
        "    y=hist2,\n",
        "    name='No. of Reactions'))\n",
        "\n",
        "fig.add_trace(go.Bar(\n",
        "    x=[f\"{bins[i]} - {bins[i+1]}\" for i in range(len(bins) - 1)],\n",
        "    y=hist3,\n",
        "    name='No. of Species'))\n",
        "\n",
        "fig.add_trace(go.Bar(\n",
        "    x=[f\"{bins[i]} - {bins[i+1]}\" for i in range(len(bins) - 1)],\n",
        "    y=hist4,\n",
        "    name='No. of Genuine DOs'))\n",
        "\n",
        "fig.add_trace(go.Bar(\n",
        "    x=[f\"{bins[i]} - {bins[i+1]}\" for i in range(len(bins) - 1)],\n",
        "    y=hist5,\n",
        "    name='No. of Compartments'))\n",
        "\n",
        "# Update layout\n",
        "fig.update_layout(\n",
        "    title='SORs vs Reactions vs Species vs Genuine DOs vs Organisations',\n",
        "    xaxis=dict(title='No. of SORs'),\n",
        "    yaxis=dict(title='Count')\n",
        ")\n",
        "\n",
        "# Show plot\n",
        "fig.show()"
      ]
    },
    {
      "cell_type": "code",
      "execution_count": 16,
      "id": "c8e2d44e",
      "metadata": {
        "colab": {
          "base_uri": "https://localhost:8080/"
        },
        "id": "c8e2d44e",
        "outputId": "43f09b45-e866-4692-d406-c68f10948b01"
      },
      "outputs": [
        {
          "output_type": "execute_result",
          "data": {
            "text/plain": [
              "Index([' ', 'No. of SORs', 'No. of Dos', '2a. No. of Reactions',\n",
              "       '2b. No. of Species', '2c. Reactions / Species',\n",
              "       '3a. No. of Organisations',\n",
              "       '3b. Avg number of reactions per Organization', '3c. Height',\n",
              "       '3e. Persistence', '3d. Width', '4a. No. of Genuine DOs',\n",
              "       '4b. No. of Compartmentalized organisations',\n",
              "       '4c. No. of Compartmentalizations', 'Time Complete',\n",
              "       'No: of Compartments', 'Type of modelling tech', 'Organisms', 'Year',\n",
              "       'Other Details', 'Part of cell cycle ', 'Time Complete exp'],\n",
              "      dtype='object')"
            ]
          },
          "metadata": {},
          "execution_count": 16
        }
      ],
      "source": [
        "col"
      ]
    },
    {
      "cell_type": "code",
      "execution_count": null,
      "id": "40780095",
      "metadata": {
        "id": "40780095"
      },
      "outputs": [],
      "source": [
        "#Parameters 2\n",
        "import plotly.express as px\n",
        "fig = px.scatter(x=np.log10(df['2b. No. of Species']), y=np.log10(df['2a. No. of Reactions']))\n",
        "\n",
        "fig.update_layout(\n",
        "    title='Number of Reactions vs Species',\n",
        "    xaxis=dict(title='No. of Species'),\n",
        "    yaxis=dict(title='No. of Reactions'),\n",
        "    title_x=0.5,\n",
        "    title_y=0.95\n",
        ")\n",
        "\n",
        "\n",
        "fig.update_xaxes(tickvals=[0, 1, 2], ticktext=[f'$10^{power}$' for power in np.arange(0,3)], showgrid=False)\n",
        "fig.update_yaxes(tickvals=[1, 2, 3], ticktext=[f'$10^{power}$' for power in np.arange(1,3)], showgrid=False)\n",
        "\n",
        "\n",
        "fig.update_layout(font=dict(size=16))\n",
        "\n",
        "fig.show()\n",
        "\n",
        "write_image(fig, 'Parameter 2: Reactions vs Species.png')"
      ]
    },
    {
      "cell_type": "code",
      "source": [
        "#Parameter 3a\n",
        "import plotly.graph_objects as go\n",
        "import numpy as np\n",
        "\n",
        "bins = [1, 2, 3, 4, 5, 10, 100, 10000]\n",
        "\n",
        "hist, bin_edges = np.histogram(df['3a. No. of Organisations'], bins)\n",
        "\n",
        "# Create plotly histogram\n",
        "fig = go.Figure()\n",
        "\n",
        "# Add histogram trace\n",
        "fig.add_trace(go.Bar(\n",
        "    x=[f\"{bins[i]} - {bins[i+1]}\" for i in range(len(bins) - 1)],\n",
        "    y=hist,\n",
        "    marker_color='blue',\n",
        "    opacity=0.7\n",
        "))\n",
        "\n",
        "\n",
        "# Update layout\n",
        "fig.update_layout(\n",
        "    title='Histogram of the count of models along with number of organizations',\n",
        "    xaxis=dict(title='No. of Organizations'),\n",
        "    yaxis=dict(title='No. of Models'),\n",
        "    barmode='overlay',\n",
        "    title_x=0.5,\n",
        "    title_y=0.95\n",
        ")\n",
        "\n",
        "# Update x-axis labels\n",
        "fig.update_xaxes(tickvals=[f\"{bins[i]} - {bins[i+1]}\" for i in range(len(bins) - 1)], ticktext=['1', '2', '3', '4', '5-9', '10-99', '100+'], showgrid=False)\n",
        "fig.update_yaxes(showgrid=False)\n",
        "\n",
        "fig.update_layout(font=dict(size=16))\n",
        "\n",
        "# Show plot\n",
        "fig.show()\n",
        "\n",
        "write_image(fig, 'Parameter 3a: Histogram of the count of models along with number of organizations.png')"
      ],
      "metadata": {
        "colab": {
          "base_uri": "https://localhost:8080/",
          "height": 542
        },
        "id": "6UMKNit5ByZP",
        "outputId": "6c80d1d3-1336-49e5-e15c-a39641604647"
      },
      "id": "6UMKNit5ByZP",
      "execution_count": null,
      "outputs": [
        {
          "output_type": "display_data",
          "data": {
            "text/html": [
              "<html>\n",
              "<head><meta charset=\"utf-8\" /></head>\n",
              "<body>\n",
              "    <div>            <script src=\"https://cdnjs.cloudflare.com/ajax/libs/mathjax/2.7.5/MathJax.js?config=TeX-AMS-MML_SVG\"></script><script type=\"text/javascript\">if (window.MathJax && window.MathJax.Hub && window.MathJax.Hub.Config) {window.MathJax.Hub.Config({SVG: {font: \"STIX-Web\"}});}</script>                <script type=\"text/javascript\">window.PlotlyConfig = {MathJaxConfig: 'local'};</script>\n",
              "        <script charset=\"utf-8\" src=\"https://cdn.plot.ly/plotly-2.24.1.min.js\"></script>                <div id=\"c37e565c-32f8-4f97-8e5f-46b6e70bcd5d\" class=\"plotly-graph-div\" style=\"height:525px; width:100%;\"></div>            <script type=\"text/javascript\">                                    window.PLOTLYENV=window.PLOTLYENV || {};                                    if (document.getElementById(\"c37e565c-32f8-4f97-8e5f-46b6e70bcd5d\")) {                    Plotly.newPlot(                        \"c37e565c-32f8-4f97-8e5f-46b6e70bcd5d\",                        [{\"marker\":{\"color\":\"blue\"},\"opacity\":0.7,\"x\":[\"1 - 2\",\"2 - 3\",\"3 - 4\",\"4 - 5\",\"5 - 10\",\"10 - 100\",\"100 - 10000\"],\"y\":[10,78,14,5,27,56,35],\"type\":\"bar\"}],                        {\"template\":{\"data\":{\"histogram2dcontour\":[{\"type\":\"histogram2dcontour\",\"colorbar\":{\"outlinewidth\":0,\"ticks\":\"\"},\"colorscale\":[[0.0,\"#0d0887\"],[0.1111111111111111,\"#46039f\"],[0.2222222222222222,\"#7201a8\"],[0.3333333333333333,\"#9c179e\"],[0.4444444444444444,\"#bd3786\"],[0.5555555555555556,\"#d8576b\"],[0.6666666666666666,\"#ed7953\"],[0.7777777777777778,\"#fb9f3a\"],[0.8888888888888888,\"#fdca26\"],[1.0,\"#f0f921\"]]}],\"choropleth\":[{\"type\":\"choropleth\",\"colorbar\":{\"outlinewidth\":0,\"ticks\":\"\"}}],\"histogram2d\":[{\"type\":\"histogram2d\",\"colorbar\":{\"outlinewidth\":0,\"ticks\":\"\"},\"colorscale\":[[0.0,\"#0d0887\"],[0.1111111111111111,\"#46039f\"],[0.2222222222222222,\"#7201a8\"],[0.3333333333333333,\"#9c179e\"],[0.4444444444444444,\"#bd3786\"],[0.5555555555555556,\"#d8576b\"],[0.6666666666666666,\"#ed7953\"],[0.7777777777777778,\"#fb9f3a\"],[0.8888888888888888,\"#fdca26\"],[1.0,\"#f0f921\"]]}],\"heatmap\":[{\"type\":\"heatmap\",\"colorbar\":{\"outlinewidth\":0,\"ticks\":\"\"},\"colorscale\":[[0.0,\"#0d0887\"],[0.1111111111111111,\"#46039f\"],[0.2222222222222222,\"#7201a8\"],[0.3333333333333333,\"#9c179e\"],[0.4444444444444444,\"#bd3786\"],[0.5555555555555556,\"#d8576b\"],[0.6666666666666666,\"#ed7953\"],[0.7777777777777778,\"#fb9f3a\"],[0.8888888888888888,\"#fdca26\"],[1.0,\"#f0f921\"]]}],\"heatmapgl\":[{\"type\":\"heatmapgl\",\"colorbar\":{\"outlinewidth\":0,\"ticks\":\"\"},\"colorscale\":[[0.0,\"#0d0887\"],[0.1111111111111111,\"#46039f\"],[0.2222222222222222,\"#7201a8\"],[0.3333333333333333,\"#9c179e\"],[0.4444444444444444,\"#bd3786\"],[0.5555555555555556,\"#d8576b\"],[0.6666666666666666,\"#ed7953\"],[0.7777777777777778,\"#fb9f3a\"],[0.8888888888888888,\"#fdca26\"],[1.0,\"#f0f921\"]]}],\"contourcarpet\":[{\"type\":\"contourcarpet\",\"colorbar\":{\"outlinewidth\":0,\"ticks\":\"\"}}],\"contour\":[{\"type\":\"contour\",\"colorbar\":{\"outlinewidth\":0,\"ticks\":\"\"},\"colorscale\":[[0.0,\"#0d0887\"],[0.1111111111111111,\"#46039f\"],[0.2222222222222222,\"#7201a8\"],[0.3333333333333333,\"#9c179e\"],[0.4444444444444444,\"#bd3786\"],[0.5555555555555556,\"#d8576b\"],[0.6666666666666666,\"#ed7953\"],[0.7777777777777778,\"#fb9f3a\"],[0.8888888888888888,\"#fdca26\"],[1.0,\"#f0f921\"]]}],\"surface\":[{\"type\":\"surface\",\"colorbar\":{\"outlinewidth\":0,\"ticks\":\"\"},\"colorscale\":[[0.0,\"#0d0887\"],[0.1111111111111111,\"#46039f\"],[0.2222222222222222,\"#7201a8\"],[0.3333333333333333,\"#9c179e\"],[0.4444444444444444,\"#bd3786\"],[0.5555555555555556,\"#d8576b\"],[0.6666666666666666,\"#ed7953\"],[0.7777777777777778,\"#fb9f3a\"],[0.8888888888888888,\"#fdca26\"],[1.0,\"#f0f921\"]]}],\"mesh3d\":[{\"type\":\"mesh3d\",\"colorbar\":{\"outlinewidth\":0,\"ticks\":\"\"}}],\"scatter\":[{\"fillpattern\":{\"fillmode\":\"overlay\",\"size\":10,\"solidity\":0.2},\"type\":\"scatter\"}],\"parcoords\":[{\"type\":\"parcoords\",\"line\":{\"colorbar\":{\"outlinewidth\":0,\"ticks\":\"\"}}}],\"scatterpolargl\":[{\"type\":\"scatterpolargl\",\"marker\":{\"colorbar\":{\"outlinewidth\":0,\"ticks\":\"\"}}}],\"bar\":[{\"error_x\":{\"color\":\"#2a3f5f\"},\"error_y\":{\"color\":\"#2a3f5f\"},\"marker\":{\"line\":{\"color\":\"#E5ECF6\",\"width\":0.5},\"pattern\":{\"fillmode\":\"overlay\",\"size\":10,\"solidity\":0.2}},\"type\":\"bar\"}],\"scattergeo\":[{\"type\":\"scattergeo\",\"marker\":{\"colorbar\":{\"outlinewidth\":0,\"ticks\":\"\"}}}],\"scatterpolar\":[{\"type\":\"scatterpolar\",\"marker\":{\"colorbar\":{\"outlinewidth\":0,\"ticks\":\"\"}}}],\"histogram\":[{\"marker\":{\"pattern\":{\"fillmode\":\"overlay\",\"size\":10,\"solidity\":0.2}},\"type\":\"histogram\"}],\"scattergl\":[{\"type\":\"scattergl\",\"marker\":{\"colorbar\":{\"outlinewidth\":0,\"ticks\":\"\"}}}],\"scatter3d\":[{\"type\":\"scatter3d\",\"line\":{\"colorbar\":{\"outlinewidth\":0,\"ticks\":\"\"}},\"marker\":{\"colorbar\":{\"outlinewidth\":0,\"ticks\":\"\"}}}],\"scattermapbox\":[{\"type\":\"scattermapbox\",\"marker\":{\"colorbar\":{\"outlinewidth\":0,\"ticks\":\"\"}}}],\"scatterternary\":[{\"type\":\"scatterternary\",\"marker\":{\"colorbar\":{\"outlinewidth\":0,\"ticks\":\"\"}}}],\"scattercarpet\":[{\"type\":\"scattercarpet\",\"marker\":{\"colorbar\":{\"outlinewidth\":0,\"ticks\":\"\"}}}],\"carpet\":[{\"aaxis\":{\"endlinecolor\":\"#2a3f5f\",\"gridcolor\":\"white\",\"linecolor\":\"white\",\"minorgridcolor\":\"white\",\"startlinecolor\":\"#2a3f5f\"},\"baxis\":{\"endlinecolor\":\"#2a3f5f\",\"gridcolor\":\"white\",\"linecolor\":\"white\",\"minorgridcolor\":\"white\",\"startlinecolor\":\"#2a3f5f\"},\"type\":\"carpet\"}],\"table\":[{\"cells\":{\"fill\":{\"color\":\"#EBF0F8\"},\"line\":{\"color\":\"white\"}},\"header\":{\"fill\":{\"color\":\"#C8D4E3\"},\"line\":{\"color\":\"white\"}},\"type\":\"table\"}],\"barpolar\":[{\"marker\":{\"line\":{\"color\":\"#E5ECF6\",\"width\":0.5},\"pattern\":{\"fillmode\":\"overlay\",\"size\":10,\"solidity\":0.2}},\"type\":\"barpolar\"}],\"pie\":[{\"automargin\":true,\"type\":\"pie\"}]},\"layout\":{\"autotypenumbers\":\"strict\",\"colorway\":[\"#636efa\",\"#EF553B\",\"#00cc96\",\"#ab63fa\",\"#FFA15A\",\"#19d3f3\",\"#FF6692\",\"#B6E880\",\"#FF97FF\",\"#FECB52\"],\"font\":{\"color\":\"#2a3f5f\"},\"hovermode\":\"closest\",\"hoverlabel\":{\"align\":\"left\"},\"paper_bgcolor\":\"white\",\"plot_bgcolor\":\"#E5ECF6\",\"polar\":{\"bgcolor\":\"#E5ECF6\",\"angularaxis\":{\"gridcolor\":\"white\",\"linecolor\":\"white\",\"ticks\":\"\"},\"radialaxis\":{\"gridcolor\":\"white\",\"linecolor\":\"white\",\"ticks\":\"\"}},\"ternary\":{\"bgcolor\":\"#E5ECF6\",\"aaxis\":{\"gridcolor\":\"white\",\"linecolor\":\"white\",\"ticks\":\"\"},\"baxis\":{\"gridcolor\":\"white\",\"linecolor\":\"white\",\"ticks\":\"\"},\"caxis\":{\"gridcolor\":\"white\",\"linecolor\":\"white\",\"ticks\":\"\"}},\"coloraxis\":{\"colorbar\":{\"outlinewidth\":0,\"ticks\":\"\"}},\"colorscale\":{\"sequential\":[[0.0,\"#0d0887\"],[0.1111111111111111,\"#46039f\"],[0.2222222222222222,\"#7201a8\"],[0.3333333333333333,\"#9c179e\"],[0.4444444444444444,\"#bd3786\"],[0.5555555555555556,\"#d8576b\"],[0.6666666666666666,\"#ed7953\"],[0.7777777777777778,\"#fb9f3a\"],[0.8888888888888888,\"#fdca26\"],[1.0,\"#f0f921\"]],\"sequentialminus\":[[0.0,\"#0d0887\"],[0.1111111111111111,\"#46039f\"],[0.2222222222222222,\"#7201a8\"],[0.3333333333333333,\"#9c179e\"],[0.4444444444444444,\"#bd3786\"],[0.5555555555555556,\"#d8576b\"],[0.6666666666666666,\"#ed7953\"],[0.7777777777777778,\"#fb9f3a\"],[0.8888888888888888,\"#fdca26\"],[1.0,\"#f0f921\"]],\"diverging\":[[0,\"#8e0152\"],[0.1,\"#c51b7d\"],[0.2,\"#de77ae\"],[0.3,\"#f1b6da\"],[0.4,\"#fde0ef\"],[0.5,\"#f7f7f7\"],[0.6,\"#e6f5d0\"],[0.7,\"#b8e186\"],[0.8,\"#7fbc41\"],[0.9,\"#4d9221\"],[1,\"#276419\"]]},\"xaxis\":{\"gridcolor\":\"white\",\"linecolor\":\"white\",\"ticks\":\"\",\"title\":{\"standoff\":15},\"zerolinecolor\":\"white\",\"automargin\":true,\"zerolinewidth\":2},\"yaxis\":{\"gridcolor\":\"white\",\"linecolor\":\"white\",\"ticks\":\"\",\"title\":{\"standoff\":15},\"zerolinecolor\":\"white\",\"automargin\":true,\"zerolinewidth\":2},\"scene\":{\"xaxis\":{\"backgroundcolor\":\"#E5ECF6\",\"gridcolor\":\"white\",\"linecolor\":\"white\",\"showbackground\":true,\"ticks\":\"\",\"zerolinecolor\":\"white\",\"gridwidth\":2},\"yaxis\":{\"backgroundcolor\":\"#E5ECF6\",\"gridcolor\":\"white\",\"linecolor\":\"white\",\"showbackground\":true,\"ticks\":\"\",\"zerolinecolor\":\"white\",\"gridwidth\":2},\"zaxis\":{\"backgroundcolor\":\"#E5ECF6\",\"gridcolor\":\"white\",\"linecolor\":\"white\",\"showbackground\":true,\"ticks\":\"\",\"zerolinecolor\":\"white\",\"gridwidth\":2}},\"shapedefaults\":{\"line\":{\"color\":\"#2a3f5f\"}},\"annotationdefaults\":{\"arrowcolor\":\"#2a3f5f\",\"arrowhead\":0,\"arrowwidth\":1},\"geo\":{\"bgcolor\":\"white\",\"landcolor\":\"#E5ECF6\",\"subunitcolor\":\"white\",\"showland\":true,\"showlakes\":true,\"lakecolor\":\"white\"},\"title\":{\"x\":0.05},\"mapbox\":{\"style\":\"light\"}}},\"title\":{\"text\":\"Histogram of the count of models along with number of organizations\",\"x\":0.5,\"y\":0.95},\"xaxis\":{\"title\":{\"text\":\"No. of Organizations\"},\"tickvals\":[\"1 - 2\",\"2 - 3\",\"3 - 4\",\"4 - 5\",\"5 - 10\",\"10 - 100\",\"100 - 10000\"],\"ticktext\":[\"1\",\"2\",\"3\",\"4\",\"5-9\",\"10-99\",\"100+\"],\"showgrid\":false},\"yaxis\":{\"title\":{\"text\":\"No. of Models\"},\"showgrid\":false},\"barmode\":\"overlay\",\"font\":{\"size\":16}},                        {\"responsive\": true}                    ).then(function(){\n",
              "                            \n",
              "var gd = document.getElementById('c37e565c-32f8-4f97-8e5f-46b6e70bcd5d');\n",
              "var x = new MutationObserver(function (mutations, observer) {{\n",
              "        var display = window.getComputedStyle(gd).display;\n",
              "        if (!display || display === 'none') {{\n",
              "            console.log([gd, 'removed!']);\n",
              "            Plotly.purge(gd);\n",
              "            observer.disconnect();\n",
              "        }}\n",
              "}});\n",
              "\n",
              "// Listen for the removal of the full notebook cells\n",
              "var notebookContainer = gd.closest('#notebook-container');\n",
              "if (notebookContainer) {{\n",
              "    x.observe(notebookContainer, {childList: true});\n",
              "}}\n",
              "\n",
              "// Listen for the clearing of the current output cell\n",
              "var outputEl = gd.closest('.output');\n",
              "if (outputEl) {{\n",
              "    x.observe(outputEl, {childList: true});\n",
              "}}\n",
              "\n",
              "                        })                };                            </script>        </div>\n",
              "</body>\n",
              "</html>"
            ]
          },
          "metadata": {}
        }
      ]
    },
    {
      "cell_type": "code",
      "source": [
        "df.columns"
      ],
      "metadata": {
        "colab": {
          "base_uri": "https://localhost:8080/"
        },
        "id": "xl0aVYcADOia",
        "outputId": "00b205ef-082a-4dce-e017-6ef0181bbab3"
      },
      "id": "xl0aVYcADOia",
      "execution_count": null,
      "outputs": [
        {
          "output_type": "execute_result",
          "data": {
            "text/plain": [
              "Index(['Unnamed: 0', 'No. of SORs', 'No. of Dos', '2a. No. of Reactions',\n",
              "       '2b. No. of Species', '2c. Reactions / Species',\n",
              "       '3a. No. of Organisations',\n",
              "       '3b. Avg number of reactions per Organization', '3c. Height',\n",
              "       '3e. Persistence', '3d. Width', '4a. No. of Genuine DOs',\n",
              "       '4b. No. of Compartmentalized organisations',\n",
              "       '4c. No. of Compartmentalizations', 'Time Complete',\n",
              "       'No: of Compartments', 'Type of modelling tech', 'Organisms', 'Year',\n",
              "       'Other Details', 'Part of cell cycle ', 'Time Complete exp',\n",
              "       'Time Complete Divided'],\n",
              "      dtype='object')"
            ]
          },
          "metadata": {},
          "execution_count": 18
        }
      ]
    },
    {
      "cell_type": "code",
      "source": [
        "#Parameters 3b\n",
        "import plotly.express as px\n",
        "fig = px.scatter(x=np.log10(df['No. of SORs']), y=np.log10(df['2a. No. of Reactions']))\n",
        "\n",
        "fig.update_layout(\n",
        "    title='Organizations vs No. of Reactions',\n",
        "    xaxis=dict(title='No. of Organizations'),\n",
        "    yaxis=dict(title='No. of Reactions'),\n",
        "    title_x=0.5,\n",
        "    title_y=0.95\n",
        ")\n",
        "\n",
        "fig.update_xaxes(tickvals=[0, 1, 2, 3, 4, 5], ticktext=[f'$10^{power}$' for power in np.arange(0,5)], showgrid=False)\n",
        "fig.update_yaxes(tickvals=[0, 1, 2, 3], ticktext=[f'$10^{power}$' for power in np.arange(0,3)], showgrid=False)\n",
        "\n",
        "fig.update_layout(font=dict(size=16))\n",
        "\n",
        "fig.show()\n",
        "\n",
        "write_image(fig, 'Parameter 3b: Organizations vs No. of Reactions.png')"
      ],
      "metadata": {
        "colab": {
          "base_uri": "https://localhost:8080/",
          "height": 542
        },
        "id": "S4Phr3QbDHNr",
        "outputId": "df6b709f-713c-4aad-b93c-ff19e4f5940d"
      },
      "id": "S4Phr3QbDHNr",
      "execution_count": null,
      "outputs": [
        {
          "output_type": "display_data",
          "data": {
            "text/html": [
              "<html>\n",
              "<head><meta charset=\"utf-8\" /></head>\n",
              "<body>\n",
              "    <div>            <script src=\"https://cdnjs.cloudflare.com/ajax/libs/mathjax/2.7.5/MathJax.js?config=TeX-AMS-MML_SVG\"></script><script type=\"text/javascript\">if (window.MathJax && window.MathJax.Hub && window.MathJax.Hub.Config) {window.MathJax.Hub.Config({SVG: {font: \"STIX-Web\"}});}</script>                <script type=\"text/javascript\">window.PlotlyConfig = {MathJaxConfig: 'local'};</script>\n",
              "        <script charset=\"utf-8\" src=\"https://cdn.plot.ly/plotly-2.24.1.min.js\"></script>                <div id=\"bdccc88f-d842-4490-9bf3-fa0d467b3b1f\" class=\"plotly-graph-div\" style=\"height:525px; width:100%;\"></div>            <script type=\"text/javascript\">                                    window.PLOTLYENV=window.PLOTLYENV || {};                                    if (document.getElementById(\"bdccc88f-d842-4490-9bf3-fa0d467b3b1f\")) {                    Plotly.newPlot(                        \"bdccc88f-d842-4490-9bf3-fa0d467b3b1f\",                        [{\"hovertemplate\":\"x=%{x}\\u003cbr\\u003ey=%{y}\\u003cextra\\u003e\\u003c\\u002fextra\\u003e\",\"legendgroup\":\"\",\"marker\":{\"color\":\"#636efa\",\"symbol\":\"circle\"},\"mode\":\"markers\",\"name\":\"\",\"orientation\":\"v\",\"showlegend\":false,\"x\":[0.0,0.6020599913279624,0.6989700043360189,0.3010299956639812,1.505149978319906,0.0,0.0,0.47712125471966244,0.3010299956639812,0.0,0.0,0.3010299956639812,0.47712125471966244,0.3010299956639812,0.6020599913279624,0.3010299956639812,0.47712125471966244,0.3010299956639812,1.3222192947339193,0.0,1.2041199826559248,0.0,0.3010299956639812,1.255272505103306,0.0,1.6901960800285136,3.8687619582120503,0.0,0.3010299956639812,0.0,0.3010299956639812,0.0,1.2041199826559248,0.0,1.9731278535996986,0.0,0.0,0.3010299956639812,0.3010299956639812,0.0,0.0,0.3010299956639812,0.0,0.0,3.6884198220027105,0.3010299956639812,0.0,0.0,0.0,0.0,0.0,1.462397997898956,1.462397997898956,0.0,1.2041199826559248,0.0,0.0,0.3010299956639812,0.3010299956639812,0.47712125471966244,0.47712125471966244,0.0,0.0,0.0,0.0,0.0,0.3010299956639812,0.6989700043360189,0.0,0.9030899869919435,1.792391689498254,0.8450980400142568,0.3010299956639812,0.3010299956639812,0.0,0.0,0.0,0.0,0.9030899869919435,0.0,0.9030899869919435,0.6020599913279624,0.0,0.0,0.0,0.0,0.0,0.0,0.0,0.0,0.3010299956639812,2.093421685162235,1.0791812460476249,2.4082399653118496,1.806179973983887,0.0,1.3222192947339193,0.0,0.0,0.0,1.1139433523068367,0.9030899869919435,0.9030899869919435,1.2041199826559248,4.3044905277734875,0.0,0.47712125471966244,1.806179973983887,2.3521825181113627,0.0,0.0,0.47712125471966244,0.47712125471966244,0.47712125471966244,0.47712125471966244,0.3010299956639812,0.0,0.0,0.0,1.505149978319906,0.6989700043360189,0.3010299956639812,0.0,0.0,0.9542425094393249,1.2787536009528289,0.3010299956639812,0.0,0.0,0.0,3.9133899436317554,0.0,1.2041199826559248,0.0,0.0,0.0,0.0,1.2304489213782739,0.6020599913279624,1.2304489213782739,1.2304489213782739,0.3010299956639812,0.0,0.0,0.0,0.0,0.0,0.0,0.3010299956639812,1.6812412373755872,1.2041199826559248,0.0,0.0,0.0,0.0,0.0,0.0,0.0,0.0,0.0,0.0,0.0,0.0,0.0,0.0,0.0,0.0,0.0,0.0,0.0,1.380211241711606,0.9030899869919435,0.0,0.0,0.0,0.0,0.0,0.0,0.0,0.0,0.0,0.0,0.0,0.0,0.0,0.0,0.0,0.0,1.2041199826559248,0.0,0.0,0.0,0.0,0.0,0.0,0.0,0.0,0.0,0.0,0.0,0.3010299956639812,0.0,0.0,0.6020599913279624,0.0,0.0,0.0,3.7371926427047373,3.612359947967774,0.0,1.2041199826559248,0.6020599913279624,1.7481880270062005,0.0,0.0,1.2041199826559248,1.2041199826559248,1.2041199826559248,1.2041199826559248,1.2041199826559248,1.2041199826559248,1.2041199826559248,1.2041199826559248,1.2041199826559248,1.2041199826559248,1.2041199826559248,1.2041199826559248,1.2041199826559248,1.2041199826559248,1.2041199826559248,1.2041199826559248,1.2041199826559248,1.2041199826559248,1.2041199826559248,0.6989700043360189,0.6989700043360189,0.6989700043360189,1.2041199826559248,1.2041199826559248,0.0,0.0,1.380211241711606,0.6020599913279624,0.0,0.0,1.2041199826559248,3.3113299523037933,0.6020599913279624,0.3010299956639812,0.3010299956639812,0.0,0.3010299956639812,0.0,0.0,0.0,0.0,0.0,0.0,0.0,0.0,2.4082399653118496,0.0,0.3010299956639812,0.0,0.47712125471966244,0.0,0.0,0.0,0.3010299956639812,0.47712125471966244,0.0,0.3010299956639812,0.0,0.9542425094393249],\"xaxis\":\"x\",\"y\":[0.8450980400142568,0.8450980400142568,0.9542425094393249,0.47712125471966244,1.5314789170422551,1.1139433523068367,1.0791812460476249,1.4771212547196624,1.0,1.6720978579357175,1.5314789170422551,0.6020599913279624,1.2041199826559248,0.6020599913279624,1.4313637641589874,0.8450980400142568,1.505149978319906,0.6020599913279624,1.2304489213782739,1.505149978319906,1.9731278535996986,1.2041199826559248,0.9030899869919435,1.4771212547196624,1.792391689498254,1.6812412373755872,1.6334684555795866,1.6127838567197355,1.3222192947339193,1.146128035678238,1.0,1.9731278535996986,1.3617278360175928,1.2304489213782739,2.1398790864012365,1.4771212547196624,1.2787536009528289,1.0,1.3424226808222062,0.47712125471966244,0.7781512503836436,0.6020599913279624,0.8450980400142568,0.8450980400142568,1.8692317197309762,1.1139433523068367,1.0,1.4313637641589874,1.0,1.255272505103306,1.3010299956639813,1.1139433523068367,1.1139433523068367,1.3010299956639813,1.1139433523068367,0.7781512503836436,1.1760912590556813,1.0791812460476249,1.2304489213782739,1.414973347970818,1.3424226808222062,1.3424226808222062,1.146128035678238,1.146128035678238,1.0791812460476249,1.3617278360175928,0.6020599913279624,1.7853298350107671,1.591064607026499,1.8573324964312685,1.968482948553935,1.568201724066995,0.6020599913279624,2.499687082618404,1.414973347970818,1.7075701760979363,1.0,1.2304489213782739,1.5797835966168101,1.4771212547196624,1.146128035678238,1.041392685158225,0.6020599913279624,0.6020599913279624,0.6020599913279624,0.6020599913279624,0.6020599913279624,0.8450980400142568,1.3222192947339193,0.9030899869919435,1.505149978319906,1.6901960800285136,1.7323937598229686,1.2787536009528289,1.7403626894942439,2.012837224705172,1.255272505103306,1.7558748556724915,1.3010299956639813,0.9030899869919435,1.3222192947339193,1.0,1.0,2.123851640967086,2.3010299956639813,1.7160033436347992,1.3979400086720377,1.591064607026499,1.6434526764861874,1.8512583487190752,1.6434526764861874,0.9542425094393249,0.9542425094393249,0.8450980400142568,0.8450980400142568,1.4913616938342726,0.3010299956639812,1.8512583487190752,0.8450980400142568,1.6127838567197355,1.462397997898956,1.6434526764861874,1.0,1.146128035678238,1.5440680443502757,1.9030899869919435,1.4471580313422192,0.7781512503836436,1.6020599913279625,1.0,1.6901960800285136,1.0,2.12057393120585,0.9542425094393249,1.3979400086720377,1.4771212547196624,1.4771212547196624,1.8512583487190752,1.7558748556724915,1.8512583487190752,1.8512583487190752,1.5185139398778875,1.7853298350107671,2.103803720955957,1.462397997898956,0.9542425094393249,1.3979400086720377,1.0,1.863322860120456,1.5314789170422551,1.6020599913279625,1.7558748556724915,0.6989700043360189,0.8450980400142568,2.03342375548695,0.7781512503836436,0.8450980400142568,0.9542425094393249,0.8450980400142568,0.9030899869919435,0.9030899869919435,1.462397997898956,0.9542425094393249,0.6989700043360189,0.8450980400142568,1.255272505103306,1.0791812460476249,1.4471580313422192,1.3010299956639813,1.3222192947339193,1.462397997898956,1.5797835966168101,1.1139433523068367,0.9030899869919435,0.9030899869919435,0.9542425094393249,0.8450980400142568,0.8450980400142568,0.47712125471966244,0.8450980400142568,0.47712125471966244,0.6020599913279624,0.47712125471966244,1.2787536009528289,0.6020599913279624,0.3010299956639812,0.7781512503836436,0.9030899869919435,2.103803720955957,1.0791812460476249,1.1760912590556813,1.919078092376074,0.7781512503836436,1.1760912590556813,1.5563025007672873,1.7160033436347992,1.919078092376074,0.8450980400142568,1.0,0.6020599913279624,0.9542425094393249,0.47712125471966244,0.7781512503836436,1.591064607026499,1.3010299956639813,1.0791812460476249,1.5563025007672873,2.3979400086720375,2.3483048630481607,2.130333768495006,1.380211241711606,1.0791812460476249,1.5563025007672873,1.0791812460476249,1.792391689498254,1.4913616938342726,1.4913616938342726,1.5185139398778875,1.5185139398778875,1.5440680443502757,1.5440680443502757,1.591064607026499,1.6020599913279625,1.6232492903979006,1.6434526764861874,1.6434526764861874,1.6434526764861874,1.6532125137753437,1.6532125137753437,1.662757831681574,1.662757831681574,1.6720978579357175,1.6720978579357175,1.6720978579357175,1.255272505103306,1.255272505103306,1.255272505103306,1.3424226808222062,1.3424226808222062,1.0791812460476249,2.383815365980431,1.462397997898956,1.380211241711606,1.2041199826559248,1.380211241711606,1.3222192947339193,2.161368002234975,1.6334684555795866,1.3222192947339193,1.6532125137753437,0.9030899869919435,1.146128035678238,1.2304489213782739,1.1760912590556813,1.041392685158225,1.1139433523068367,0.7781512503836436,1.414973347970818,1.5440680443502757,2.437750562820388,1.6020599913279625,2.399673721481038,1.5314789170422551,1.2304489213782739,0.7781512503836436,0.3010299956639812,0.6020599913279624,0.6020599913279624,1.8750612633917,1.919078092376074,0.6020599913279624,1.146128035678238,0.7781512503836436,1.4471580313422192],\"yaxis\":\"y\",\"type\":\"scatter\"}],                        {\"template\":{\"data\":{\"histogram2dcontour\":[{\"type\":\"histogram2dcontour\",\"colorbar\":{\"outlinewidth\":0,\"ticks\":\"\"},\"colorscale\":[[0.0,\"#0d0887\"],[0.1111111111111111,\"#46039f\"],[0.2222222222222222,\"#7201a8\"],[0.3333333333333333,\"#9c179e\"],[0.4444444444444444,\"#bd3786\"],[0.5555555555555556,\"#d8576b\"],[0.6666666666666666,\"#ed7953\"],[0.7777777777777778,\"#fb9f3a\"],[0.8888888888888888,\"#fdca26\"],[1.0,\"#f0f921\"]]}],\"choropleth\":[{\"type\":\"choropleth\",\"colorbar\":{\"outlinewidth\":0,\"ticks\":\"\"}}],\"histogram2d\":[{\"type\":\"histogram2d\",\"colorbar\":{\"outlinewidth\":0,\"ticks\":\"\"},\"colorscale\":[[0.0,\"#0d0887\"],[0.1111111111111111,\"#46039f\"],[0.2222222222222222,\"#7201a8\"],[0.3333333333333333,\"#9c179e\"],[0.4444444444444444,\"#bd3786\"],[0.5555555555555556,\"#d8576b\"],[0.6666666666666666,\"#ed7953\"],[0.7777777777777778,\"#fb9f3a\"],[0.8888888888888888,\"#fdca26\"],[1.0,\"#f0f921\"]]}],\"heatmap\":[{\"type\":\"heatmap\",\"colorbar\":{\"outlinewidth\":0,\"ticks\":\"\"},\"colorscale\":[[0.0,\"#0d0887\"],[0.1111111111111111,\"#46039f\"],[0.2222222222222222,\"#7201a8\"],[0.3333333333333333,\"#9c179e\"],[0.4444444444444444,\"#bd3786\"],[0.5555555555555556,\"#d8576b\"],[0.6666666666666666,\"#ed7953\"],[0.7777777777777778,\"#fb9f3a\"],[0.8888888888888888,\"#fdca26\"],[1.0,\"#f0f921\"]]}],\"heatmapgl\":[{\"type\":\"heatmapgl\",\"colorbar\":{\"outlinewidth\":0,\"ticks\":\"\"},\"colorscale\":[[0.0,\"#0d0887\"],[0.1111111111111111,\"#46039f\"],[0.2222222222222222,\"#7201a8\"],[0.3333333333333333,\"#9c179e\"],[0.4444444444444444,\"#bd3786\"],[0.5555555555555556,\"#d8576b\"],[0.6666666666666666,\"#ed7953\"],[0.7777777777777778,\"#fb9f3a\"],[0.8888888888888888,\"#fdca26\"],[1.0,\"#f0f921\"]]}],\"contourcarpet\":[{\"type\":\"contourcarpet\",\"colorbar\":{\"outlinewidth\":0,\"ticks\":\"\"}}],\"contour\":[{\"type\":\"contour\",\"colorbar\":{\"outlinewidth\":0,\"ticks\":\"\"},\"colorscale\":[[0.0,\"#0d0887\"],[0.1111111111111111,\"#46039f\"],[0.2222222222222222,\"#7201a8\"],[0.3333333333333333,\"#9c179e\"],[0.4444444444444444,\"#bd3786\"],[0.5555555555555556,\"#d8576b\"],[0.6666666666666666,\"#ed7953\"],[0.7777777777777778,\"#fb9f3a\"],[0.8888888888888888,\"#fdca26\"],[1.0,\"#f0f921\"]]}],\"surface\":[{\"type\":\"surface\",\"colorbar\":{\"outlinewidth\":0,\"ticks\":\"\"},\"colorscale\":[[0.0,\"#0d0887\"],[0.1111111111111111,\"#46039f\"],[0.2222222222222222,\"#7201a8\"],[0.3333333333333333,\"#9c179e\"],[0.4444444444444444,\"#bd3786\"],[0.5555555555555556,\"#d8576b\"],[0.6666666666666666,\"#ed7953\"],[0.7777777777777778,\"#fb9f3a\"],[0.8888888888888888,\"#fdca26\"],[1.0,\"#f0f921\"]]}],\"mesh3d\":[{\"type\":\"mesh3d\",\"colorbar\":{\"outlinewidth\":0,\"ticks\":\"\"}}],\"scatter\":[{\"fillpattern\":{\"fillmode\":\"overlay\",\"size\":10,\"solidity\":0.2},\"type\":\"scatter\"}],\"parcoords\":[{\"type\":\"parcoords\",\"line\":{\"colorbar\":{\"outlinewidth\":0,\"ticks\":\"\"}}}],\"scatterpolargl\":[{\"type\":\"scatterpolargl\",\"marker\":{\"colorbar\":{\"outlinewidth\":0,\"ticks\":\"\"}}}],\"bar\":[{\"error_x\":{\"color\":\"#2a3f5f\"},\"error_y\":{\"color\":\"#2a3f5f\"},\"marker\":{\"line\":{\"color\":\"#E5ECF6\",\"width\":0.5},\"pattern\":{\"fillmode\":\"overlay\",\"size\":10,\"solidity\":0.2}},\"type\":\"bar\"}],\"scattergeo\":[{\"type\":\"scattergeo\",\"marker\":{\"colorbar\":{\"outlinewidth\":0,\"ticks\":\"\"}}}],\"scatterpolar\":[{\"type\":\"scatterpolar\",\"marker\":{\"colorbar\":{\"outlinewidth\":0,\"ticks\":\"\"}}}],\"histogram\":[{\"marker\":{\"pattern\":{\"fillmode\":\"overlay\",\"size\":10,\"solidity\":0.2}},\"type\":\"histogram\"}],\"scattergl\":[{\"type\":\"scattergl\",\"marker\":{\"colorbar\":{\"outlinewidth\":0,\"ticks\":\"\"}}}],\"scatter3d\":[{\"type\":\"scatter3d\",\"line\":{\"colorbar\":{\"outlinewidth\":0,\"ticks\":\"\"}},\"marker\":{\"colorbar\":{\"outlinewidth\":0,\"ticks\":\"\"}}}],\"scattermapbox\":[{\"type\":\"scattermapbox\",\"marker\":{\"colorbar\":{\"outlinewidth\":0,\"ticks\":\"\"}}}],\"scatterternary\":[{\"type\":\"scatterternary\",\"marker\":{\"colorbar\":{\"outlinewidth\":0,\"ticks\":\"\"}}}],\"scattercarpet\":[{\"type\":\"scattercarpet\",\"marker\":{\"colorbar\":{\"outlinewidth\":0,\"ticks\":\"\"}}}],\"carpet\":[{\"aaxis\":{\"endlinecolor\":\"#2a3f5f\",\"gridcolor\":\"white\",\"linecolor\":\"white\",\"minorgridcolor\":\"white\",\"startlinecolor\":\"#2a3f5f\"},\"baxis\":{\"endlinecolor\":\"#2a3f5f\",\"gridcolor\":\"white\",\"linecolor\":\"white\",\"minorgridcolor\":\"white\",\"startlinecolor\":\"#2a3f5f\"},\"type\":\"carpet\"}],\"table\":[{\"cells\":{\"fill\":{\"color\":\"#EBF0F8\"},\"line\":{\"color\":\"white\"}},\"header\":{\"fill\":{\"color\":\"#C8D4E3\"},\"line\":{\"color\":\"white\"}},\"type\":\"table\"}],\"barpolar\":[{\"marker\":{\"line\":{\"color\":\"#E5ECF6\",\"width\":0.5},\"pattern\":{\"fillmode\":\"overlay\",\"size\":10,\"solidity\":0.2}},\"type\":\"barpolar\"}],\"pie\":[{\"automargin\":true,\"type\":\"pie\"}]},\"layout\":{\"autotypenumbers\":\"strict\",\"colorway\":[\"#636efa\",\"#EF553B\",\"#00cc96\",\"#ab63fa\",\"#FFA15A\",\"#19d3f3\",\"#FF6692\",\"#B6E880\",\"#FF97FF\",\"#FECB52\"],\"font\":{\"color\":\"#2a3f5f\"},\"hovermode\":\"closest\",\"hoverlabel\":{\"align\":\"left\"},\"paper_bgcolor\":\"white\",\"plot_bgcolor\":\"#E5ECF6\",\"polar\":{\"bgcolor\":\"#E5ECF6\",\"angularaxis\":{\"gridcolor\":\"white\",\"linecolor\":\"white\",\"ticks\":\"\"},\"radialaxis\":{\"gridcolor\":\"white\",\"linecolor\":\"white\",\"ticks\":\"\"}},\"ternary\":{\"bgcolor\":\"#E5ECF6\",\"aaxis\":{\"gridcolor\":\"white\",\"linecolor\":\"white\",\"ticks\":\"\"},\"baxis\":{\"gridcolor\":\"white\",\"linecolor\":\"white\",\"ticks\":\"\"},\"caxis\":{\"gridcolor\":\"white\",\"linecolor\":\"white\",\"ticks\":\"\"}},\"coloraxis\":{\"colorbar\":{\"outlinewidth\":0,\"ticks\":\"\"}},\"colorscale\":{\"sequential\":[[0.0,\"#0d0887\"],[0.1111111111111111,\"#46039f\"],[0.2222222222222222,\"#7201a8\"],[0.3333333333333333,\"#9c179e\"],[0.4444444444444444,\"#bd3786\"],[0.5555555555555556,\"#d8576b\"],[0.6666666666666666,\"#ed7953\"],[0.7777777777777778,\"#fb9f3a\"],[0.8888888888888888,\"#fdca26\"],[1.0,\"#f0f921\"]],\"sequentialminus\":[[0.0,\"#0d0887\"],[0.1111111111111111,\"#46039f\"],[0.2222222222222222,\"#7201a8\"],[0.3333333333333333,\"#9c179e\"],[0.4444444444444444,\"#bd3786\"],[0.5555555555555556,\"#d8576b\"],[0.6666666666666666,\"#ed7953\"],[0.7777777777777778,\"#fb9f3a\"],[0.8888888888888888,\"#fdca26\"],[1.0,\"#f0f921\"]],\"diverging\":[[0,\"#8e0152\"],[0.1,\"#c51b7d\"],[0.2,\"#de77ae\"],[0.3,\"#f1b6da\"],[0.4,\"#fde0ef\"],[0.5,\"#f7f7f7\"],[0.6,\"#e6f5d0\"],[0.7,\"#b8e186\"],[0.8,\"#7fbc41\"],[0.9,\"#4d9221\"],[1,\"#276419\"]]},\"xaxis\":{\"gridcolor\":\"white\",\"linecolor\":\"white\",\"ticks\":\"\",\"title\":{\"standoff\":15},\"zerolinecolor\":\"white\",\"automargin\":true,\"zerolinewidth\":2},\"yaxis\":{\"gridcolor\":\"white\",\"linecolor\":\"white\",\"ticks\":\"\",\"title\":{\"standoff\":15},\"zerolinecolor\":\"white\",\"automargin\":true,\"zerolinewidth\":2},\"scene\":{\"xaxis\":{\"backgroundcolor\":\"#E5ECF6\",\"gridcolor\":\"white\",\"linecolor\":\"white\",\"showbackground\":true,\"ticks\":\"\",\"zerolinecolor\":\"white\",\"gridwidth\":2},\"yaxis\":{\"backgroundcolor\":\"#E5ECF6\",\"gridcolor\":\"white\",\"linecolor\":\"white\",\"showbackground\":true,\"ticks\":\"\",\"zerolinecolor\":\"white\",\"gridwidth\":2},\"zaxis\":{\"backgroundcolor\":\"#E5ECF6\",\"gridcolor\":\"white\",\"linecolor\":\"white\",\"showbackground\":true,\"ticks\":\"\",\"zerolinecolor\":\"white\",\"gridwidth\":2}},\"shapedefaults\":{\"line\":{\"color\":\"#2a3f5f\"}},\"annotationdefaults\":{\"arrowcolor\":\"#2a3f5f\",\"arrowhead\":0,\"arrowwidth\":1},\"geo\":{\"bgcolor\":\"white\",\"landcolor\":\"#E5ECF6\",\"subunitcolor\":\"white\",\"showland\":true,\"showlakes\":true,\"lakecolor\":\"white\"},\"title\":{\"x\":0.05},\"mapbox\":{\"style\":\"light\"}}},\"xaxis\":{\"anchor\":\"y\",\"domain\":[0.0,1.0],\"title\":{\"text\":\"No. of Organizations\"},\"tickvals\":[0,1,2,3,4,5],\"ticktext\":[\"$10^0$\",\"$10^1$\",\"$10^2$\",\"$10^3$\",\"$10^4$\"],\"showgrid\":false},\"yaxis\":{\"anchor\":\"x\",\"domain\":[0.0,1.0],\"title\":{\"text\":\"No. of Reactions\"},\"tickvals\":[0,1,2,3],\"ticktext\":[\"$10^0$\",\"$10^1$\",\"$10^2$\"],\"showgrid\":false},\"legend\":{\"tracegroupgap\":0},\"margin\":{\"t\":60},\"title\":{\"text\":\"Organizations vs No. of Reactions\",\"x\":0.5,\"y\":0.95},\"font\":{\"size\":16}},                        {\"responsive\": true}                    ).then(function(){\n",
              "                            \n",
              "var gd = document.getElementById('bdccc88f-d842-4490-9bf3-fa0d467b3b1f');\n",
              "var x = new MutationObserver(function (mutations, observer) {{\n",
              "        var display = window.getComputedStyle(gd).display;\n",
              "        if (!display || display === 'none') {{\n",
              "            console.log([gd, 'removed!']);\n",
              "            Plotly.purge(gd);\n",
              "            observer.disconnect();\n",
              "        }}\n",
              "}});\n",
              "\n",
              "// Listen for the removal of the full notebook cells\n",
              "var notebookContainer = gd.closest('#notebook-container');\n",
              "if (notebookContainer) {{\n",
              "    x.observe(notebookContainer, {childList: true});\n",
              "}}\n",
              "\n",
              "// Listen for the clearing of the current output cell\n",
              "var outputEl = gd.closest('.output');\n",
              "if (outputEl) {{\n",
              "    x.observe(outputEl, {childList: true});\n",
              "}}\n",
              "\n",
              "                        })                };                            </script>        </div>\n",
              "</body>\n",
              "</html>"
            ]
          },
          "metadata": {}
        }
      ]
    },
    {
      "cell_type": "code",
      "source": [
        "f'$10^{16}$'"
      ],
      "metadata": {
        "colab": {
          "base_uri": "https://localhost:8080/",
          "height": 35
        },
        "id": "AqlW6-MlWssZ",
        "outputId": "90cccf28-923c-4292-c116-5baf9fedbc91"
      },
      "id": "AqlW6-MlWssZ",
      "execution_count": null,
      "outputs": [
        {
          "output_type": "execute_result",
          "data": {
            "text/plain": [
              "'$10^16$'"
            ],
            "application/vnd.google.colaboratory.intrinsic+json": {
              "type": "string"
            }
          },
          "metadata": {},
          "execution_count": 93
        }
      ]
    },
    {
      "cell_type": "code",
      "source": [
        "import plotly.graph_objs as go\n",
        "import numpy as np\n",
        "\n",
        "# Calculate counts for each data point\n",
        "unique_points, counts = np.unique(list(zip(df['3c. Height'], df['3d. Width'])), axis=0, return_counts=True)\n",
        "\n",
        "y = df['3d. Width']\n",
        "y = [i for i in y if i!=56]\n",
        "\n",
        "# Create scatter plot\n",
        "scatter = go.Scatter(\n",
        "    x=df['3c. Height'],\n",
        "    y=y,\n",
        "    mode='markers',\n",
        "    marker=dict(\n",
        "        size=10,\n",
        "        color=counts,\n",
        "        opacity=0.7,\n",
        "        colorbar=dict(title='Count')\n",
        "    )\n",
        ")\n",
        "\n",
        "# Create layout\n",
        "layout = go.Layout(\n",
        "    title='Scatter Plot with Clipped Counts as Marker Color',\n",
        "    xaxis=dict(title='X-axis'),\n",
        "    yaxis=dict(title='Y-axis')\n",
        ")\n",
        "fig = go.Figure(data=[scatter], layout=layout)\n",
        "\n",
        "fig.update_layout(\n",
        "    title='Height vs Width of lattice of models',\n",
        "    xaxis=dict(title='Height'),\n",
        "    yaxis=dict(title='Width'),\n",
        "    title_x=0.5,\n",
        "    title_y=0.95\n",
        ")\n",
        "\n",
        "fig.update_layout(font=dict(size=16))\n",
        "\n",
        "# Create figure\n",
        "fig.show()\n",
        "#write_image(fig, 'Parameter 3c&d: Height vs Width Scatter.png')"
      ],
      "metadata": {
        "colab": {
          "base_uri": "https://localhost:8080/",
          "height": 542
        },
        "id": "2OSrT3kcPCAm",
        "outputId": "6c3ba936-cb5d-41f4-861a-cf35ff28319e"
      },
      "id": "2OSrT3kcPCAm",
      "execution_count": null,
      "outputs": [
        {
          "output_type": "display_data",
          "data": {
            "text/html": [
              "<html>\n",
              "<head><meta charset=\"utf-8\" /></head>\n",
              "<body>\n",
              "    <div>            <script src=\"https://cdnjs.cloudflare.com/ajax/libs/mathjax/2.7.5/MathJax.js?config=TeX-AMS-MML_SVG\"></script><script type=\"text/javascript\">if (window.MathJax && window.MathJax.Hub && window.MathJax.Hub.Config) {window.MathJax.Hub.Config({SVG: {font: \"STIX-Web\"}});}</script>                <script type=\"text/javascript\">window.PlotlyConfig = {MathJaxConfig: 'local'};</script>\n",
              "        <script charset=\"utf-8\" src=\"https://cdn.plot.ly/plotly-2.24.1.min.js\"></script>                <div id=\"f768fc2f-3153-46f6-9618-633e439a4276\" class=\"plotly-graph-div\" style=\"height:525px; width:100%;\"></div>            <script type=\"text/javascript\">                                    window.PLOTLYENV=window.PLOTLYENV || {};                                    if (document.getElementById(\"f768fc2f-3153-46f6-9618-633e439a4276\")) {                    Plotly.newPlot(                        \"f768fc2f-3153-46f6-9618-633e439a4276\",                        [{\"marker\":{\"color\":[64,148,19,1,4,2,1,4,2,2,1,3,1,3,1,1,1,2,1,1,2,1,1,1,1,1,1,1,1,2],\"colorbar\":{\"title\":{\"text\":\"Count\"}},\"opacity\":0.7,\"size\":10},\"mode\":\"markers\",\"x\":[0,3,3,1,6,1,1,0,1,1,0,1,2,1,3,1,2,1,6,1,5,1,2,6,1,0,0,1,0,1,2,0,5,1,9,1,1,1,1,1,1,1,1,1,0,1,1,1,1,1,1,8,8,1,5,1,1,1,2,2,2,1,1,1,1,0,1,4,1,8,0,8,1,1,1,1,1,1,4,1,0,2,0,0,0,0,0,0,0,0,1,0,0,0,0,1,7,0,1,1,6,7,7,6,0,0,2,0,13,0,1,2,2,2,2,2,0,1,1,0,4,0,1,1,7,8,2,1,1,0,0,0,6,1,1,1,1,1,3,0,0,2,0,0,1,1,1,1,2,0,0,1,1,1,1,1,1,1,1,1,1,1,1,1,1,1,1,1,1,1,6,4,1,1,1,1,1,1,1,1,1,1,1,1,1,1,1,1,4,1,1,1,1,1,1,1,1,1,1,1,2,1,1,1,1,1,1,0,0,0,9,3,7,1,0,0,0,0,0,0,0,0,0,0,0,0,0,0,0,0,0,0,0,0,4,4,4,15,15,1,1,5,3,1,1,7,0,3,2,2,1,1,1,1,1,1,1,1,1,1,1,1,1,1,1,1,1,1,1,1,1,1,1,1],\"y\":[1,2,2,1,8,1,1,1,1,1,1,1,1,1,1,1,1,1,5,1,6,1,1,6,1,1,1,1,1,1,1,1,6,1,22,1,1,1,1,1,1,1,1,1,1,1,1,1,1,1,1,1,6,1,6,1,1,1,1,1,1,1,1,1,1,1,1,2,1,1,10,1,1,1,1,1,1,3,1,1,2,1,1,1,1,1,1,1,1,1,1,1,1,1,1,5,1,1,1,4,20,20,5,1,1,1,1,22,1,1,1,1,1,1,1,1,1,1,1,2,1,1,1,3,3,1,1,1,1,1,1,5,1,1,1,1,1,3,1,1,1,1,1,1,1,1,1,1,1,1,1,1,1,1,1,1,1,1,1,1,1,1,1,1,1,1,1,1,1,7,3,1,1,1,1,1,1,1,1,1,1,1,1,1,1,1,1,1,1,1,1,1,1,1,1,1,1,1,1,1,1,1,1,1,1,1,1,1,1,1,1,1,1,1,1,1,1,1,1,1,1,1,1,1,1,1,1,1,1,1,1,1,1,1,1,1,1,1,1,1,1,1,1,1,1,1,1,1,1,1,1,1,1,1,1,1,1,1,1,1,1,1,1,1,1,1,1,1,1,1,1,1,1],\"type\":\"scatter\"}],                        {\"title\":{\"text\":\"Height vs Width of lattice of models\",\"x\":0.5,\"y\":0.95},\"xaxis\":{\"title\":{\"text\":\"Height\"}},\"yaxis\":{\"title\":{\"text\":\"Width\"}},\"template\":{\"data\":{\"histogram2dcontour\":[{\"type\":\"histogram2dcontour\",\"colorbar\":{\"outlinewidth\":0,\"ticks\":\"\"},\"colorscale\":[[0.0,\"#0d0887\"],[0.1111111111111111,\"#46039f\"],[0.2222222222222222,\"#7201a8\"],[0.3333333333333333,\"#9c179e\"],[0.4444444444444444,\"#bd3786\"],[0.5555555555555556,\"#d8576b\"],[0.6666666666666666,\"#ed7953\"],[0.7777777777777778,\"#fb9f3a\"],[0.8888888888888888,\"#fdca26\"],[1.0,\"#f0f921\"]]}],\"choropleth\":[{\"type\":\"choropleth\",\"colorbar\":{\"outlinewidth\":0,\"ticks\":\"\"}}],\"histogram2d\":[{\"type\":\"histogram2d\",\"colorbar\":{\"outlinewidth\":0,\"ticks\":\"\"},\"colorscale\":[[0.0,\"#0d0887\"],[0.1111111111111111,\"#46039f\"],[0.2222222222222222,\"#7201a8\"],[0.3333333333333333,\"#9c179e\"],[0.4444444444444444,\"#bd3786\"],[0.5555555555555556,\"#d8576b\"],[0.6666666666666666,\"#ed7953\"],[0.7777777777777778,\"#fb9f3a\"],[0.8888888888888888,\"#fdca26\"],[1.0,\"#f0f921\"]]}],\"heatmap\":[{\"type\":\"heatmap\",\"colorbar\":{\"outlinewidth\":0,\"ticks\":\"\"},\"colorscale\":[[0.0,\"#0d0887\"],[0.1111111111111111,\"#46039f\"],[0.2222222222222222,\"#7201a8\"],[0.3333333333333333,\"#9c179e\"],[0.4444444444444444,\"#bd3786\"],[0.5555555555555556,\"#d8576b\"],[0.6666666666666666,\"#ed7953\"],[0.7777777777777778,\"#fb9f3a\"],[0.8888888888888888,\"#fdca26\"],[1.0,\"#f0f921\"]]}],\"heatmapgl\":[{\"type\":\"heatmapgl\",\"colorbar\":{\"outlinewidth\":0,\"ticks\":\"\"},\"colorscale\":[[0.0,\"#0d0887\"],[0.1111111111111111,\"#46039f\"],[0.2222222222222222,\"#7201a8\"],[0.3333333333333333,\"#9c179e\"],[0.4444444444444444,\"#bd3786\"],[0.5555555555555556,\"#d8576b\"],[0.6666666666666666,\"#ed7953\"],[0.7777777777777778,\"#fb9f3a\"],[0.8888888888888888,\"#fdca26\"],[1.0,\"#f0f921\"]]}],\"contourcarpet\":[{\"type\":\"contourcarpet\",\"colorbar\":{\"outlinewidth\":0,\"ticks\":\"\"}}],\"contour\":[{\"type\":\"contour\",\"colorbar\":{\"outlinewidth\":0,\"ticks\":\"\"},\"colorscale\":[[0.0,\"#0d0887\"],[0.1111111111111111,\"#46039f\"],[0.2222222222222222,\"#7201a8\"],[0.3333333333333333,\"#9c179e\"],[0.4444444444444444,\"#bd3786\"],[0.5555555555555556,\"#d8576b\"],[0.6666666666666666,\"#ed7953\"],[0.7777777777777778,\"#fb9f3a\"],[0.8888888888888888,\"#fdca26\"],[1.0,\"#f0f921\"]]}],\"surface\":[{\"type\":\"surface\",\"colorbar\":{\"outlinewidth\":0,\"ticks\":\"\"},\"colorscale\":[[0.0,\"#0d0887\"],[0.1111111111111111,\"#46039f\"],[0.2222222222222222,\"#7201a8\"],[0.3333333333333333,\"#9c179e\"],[0.4444444444444444,\"#bd3786\"],[0.5555555555555556,\"#d8576b\"],[0.6666666666666666,\"#ed7953\"],[0.7777777777777778,\"#fb9f3a\"],[0.8888888888888888,\"#fdca26\"],[1.0,\"#f0f921\"]]}],\"mesh3d\":[{\"type\":\"mesh3d\",\"colorbar\":{\"outlinewidth\":0,\"ticks\":\"\"}}],\"scatter\":[{\"fillpattern\":{\"fillmode\":\"overlay\",\"size\":10,\"solidity\":0.2},\"type\":\"scatter\"}],\"parcoords\":[{\"type\":\"parcoords\",\"line\":{\"colorbar\":{\"outlinewidth\":0,\"ticks\":\"\"}}}],\"scatterpolargl\":[{\"type\":\"scatterpolargl\",\"marker\":{\"colorbar\":{\"outlinewidth\":0,\"ticks\":\"\"}}}],\"bar\":[{\"error_x\":{\"color\":\"#2a3f5f\"},\"error_y\":{\"color\":\"#2a3f5f\"},\"marker\":{\"line\":{\"color\":\"#E5ECF6\",\"width\":0.5},\"pattern\":{\"fillmode\":\"overlay\",\"size\":10,\"solidity\":0.2}},\"type\":\"bar\"}],\"scattergeo\":[{\"type\":\"scattergeo\",\"marker\":{\"colorbar\":{\"outlinewidth\":0,\"ticks\":\"\"}}}],\"scatterpolar\":[{\"type\":\"scatterpolar\",\"marker\":{\"colorbar\":{\"outlinewidth\":0,\"ticks\":\"\"}}}],\"histogram\":[{\"marker\":{\"pattern\":{\"fillmode\":\"overlay\",\"size\":10,\"solidity\":0.2}},\"type\":\"histogram\"}],\"scattergl\":[{\"type\":\"scattergl\",\"marker\":{\"colorbar\":{\"outlinewidth\":0,\"ticks\":\"\"}}}],\"scatter3d\":[{\"type\":\"scatter3d\",\"line\":{\"colorbar\":{\"outlinewidth\":0,\"ticks\":\"\"}},\"marker\":{\"colorbar\":{\"outlinewidth\":0,\"ticks\":\"\"}}}],\"scattermapbox\":[{\"type\":\"scattermapbox\",\"marker\":{\"colorbar\":{\"outlinewidth\":0,\"ticks\":\"\"}}}],\"scatterternary\":[{\"type\":\"scatterternary\",\"marker\":{\"colorbar\":{\"outlinewidth\":0,\"ticks\":\"\"}}}],\"scattercarpet\":[{\"type\":\"scattercarpet\",\"marker\":{\"colorbar\":{\"outlinewidth\":0,\"ticks\":\"\"}}}],\"carpet\":[{\"aaxis\":{\"endlinecolor\":\"#2a3f5f\",\"gridcolor\":\"white\",\"linecolor\":\"white\",\"minorgridcolor\":\"white\",\"startlinecolor\":\"#2a3f5f\"},\"baxis\":{\"endlinecolor\":\"#2a3f5f\",\"gridcolor\":\"white\",\"linecolor\":\"white\",\"minorgridcolor\":\"white\",\"startlinecolor\":\"#2a3f5f\"},\"type\":\"carpet\"}],\"table\":[{\"cells\":{\"fill\":{\"color\":\"#EBF0F8\"},\"line\":{\"color\":\"white\"}},\"header\":{\"fill\":{\"color\":\"#C8D4E3\"},\"line\":{\"color\":\"white\"}},\"type\":\"table\"}],\"barpolar\":[{\"marker\":{\"line\":{\"color\":\"#E5ECF6\",\"width\":0.5},\"pattern\":{\"fillmode\":\"overlay\",\"size\":10,\"solidity\":0.2}},\"type\":\"barpolar\"}],\"pie\":[{\"automargin\":true,\"type\":\"pie\"}]},\"layout\":{\"autotypenumbers\":\"strict\",\"colorway\":[\"#636efa\",\"#EF553B\",\"#00cc96\",\"#ab63fa\",\"#FFA15A\",\"#19d3f3\",\"#FF6692\",\"#B6E880\",\"#FF97FF\",\"#FECB52\"],\"font\":{\"color\":\"#2a3f5f\"},\"hovermode\":\"closest\",\"hoverlabel\":{\"align\":\"left\"},\"paper_bgcolor\":\"white\",\"plot_bgcolor\":\"#E5ECF6\",\"polar\":{\"bgcolor\":\"#E5ECF6\",\"angularaxis\":{\"gridcolor\":\"white\",\"linecolor\":\"white\",\"ticks\":\"\"},\"radialaxis\":{\"gridcolor\":\"white\",\"linecolor\":\"white\",\"ticks\":\"\"}},\"ternary\":{\"bgcolor\":\"#E5ECF6\",\"aaxis\":{\"gridcolor\":\"white\",\"linecolor\":\"white\",\"ticks\":\"\"},\"baxis\":{\"gridcolor\":\"white\",\"linecolor\":\"white\",\"ticks\":\"\"},\"caxis\":{\"gridcolor\":\"white\",\"linecolor\":\"white\",\"ticks\":\"\"}},\"coloraxis\":{\"colorbar\":{\"outlinewidth\":0,\"ticks\":\"\"}},\"colorscale\":{\"sequential\":[[0.0,\"#0d0887\"],[0.1111111111111111,\"#46039f\"],[0.2222222222222222,\"#7201a8\"],[0.3333333333333333,\"#9c179e\"],[0.4444444444444444,\"#bd3786\"],[0.5555555555555556,\"#d8576b\"],[0.6666666666666666,\"#ed7953\"],[0.7777777777777778,\"#fb9f3a\"],[0.8888888888888888,\"#fdca26\"],[1.0,\"#f0f921\"]],\"sequentialminus\":[[0.0,\"#0d0887\"],[0.1111111111111111,\"#46039f\"],[0.2222222222222222,\"#7201a8\"],[0.3333333333333333,\"#9c179e\"],[0.4444444444444444,\"#bd3786\"],[0.5555555555555556,\"#d8576b\"],[0.6666666666666666,\"#ed7953\"],[0.7777777777777778,\"#fb9f3a\"],[0.8888888888888888,\"#fdca26\"],[1.0,\"#f0f921\"]],\"diverging\":[[0,\"#8e0152\"],[0.1,\"#c51b7d\"],[0.2,\"#de77ae\"],[0.3,\"#f1b6da\"],[0.4,\"#fde0ef\"],[0.5,\"#f7f7f7\"],[0.6,\"#e6f5d0\"],[0.7,\"#b8e186\"],[0.8,\"#7fbc41\"],[0.9,\"#4d9221\"],[1,\"#276419\"]]},\"xaxis\":{\"gridcolor\":\"white\",\"linecolor\":\"white\",\"ticks\":\"\",\"title\":{\"standoff\":15},\"zerolinecolor\":\"white\",\"automargin\":true,\"zerolinewidth\":2},\"yaxis\":{\"gridcolor\":\"white\",\"linecolor\":\"white\",\"ticks\":\"\",\"title\":{\"standoff\":15},\"zerolinecolor\":\"white\",\"automargin\":true,\"zerolinewidth\":2},\"scene\":{\"xaxis\":{\"backgroundcolor\":\"#E5ECF6\",\"gridcolor\":\"white\",\"linecolor\":\"white\",\"showbackground\":true,\"ticks\":\"\",\"zerolinecolor\":\"white\",\"gridwidth\":2},\"yaxis\":{\"backgroundcolor\":\"#E5ECF6\",\"gridcolor\":\"white\",\"linecolor\":\"white\",\"showbackground\":true,\"ticks\":\"\",\"zerolinecolor\":\"white\",\"gridwidth\":2},\"zaxis\":{\"backgroundcolor\":\"#E5ECF6\",\"gridcolor\":\"white\",\"linecolor\":\"white\",\"showbackground\":true,\"ticks\":\"\",\"zerolinecolor\":\"white\",\"gridwidth\":2}},\"shapedefaults\":{\"line\":{\"color\":\"#2a3f5f\"}},\"annotationdefaults\":{\"arrowcolor\":\"#2a3f5f\",\"arrowhead\":0,\"arrowwidth\":1},\"geo\":{\"bgcolor\":\"white\",\"landcolor\":\"#E5ECF6\",\"subunitcolor\":\"white\",\"showland\":true,\"showlakes\":true,\"lakecolor\":\"white\"},\"title\":{\"x\":0.05},\"mapbox\":{\"style\":\"light\"}}},\"font\":{\"size\":16}},                        {\"responsive\": true}                    ).then(function(){\n",
              "                            \n",
              "var gd = document.getElementById('f768fc2f-3153-46f6-9618-633e439a4276');\n",
              "var x = new MutationObserver(function (mutations, observer) {{\n",
              "        var display = window.getComputedStyle(gd).display;\n",
              "        if (!display || display === 'none') {{\n",
              "            console.log([gd, 'removed!']);\n",
              "            Plotly.purge(gd);\n",
              "            observer.disconnect();\n",
              "        }}\n",
              "}});\n",
              "\n",
              "// Listen for the removal of the full notebook cells\n",
              "var notebookContainer = gd.closest('#notebook-container');\n",
              "if (notebookContainer) {{\n",
              "    x.observe(notebookContainer, {childList: true});\n",
              "}}\n",
              "\n",
              "// Listen for the clearing of the current output cell\n",
              "var outputEl = gd.closest('.output');\n",
              "if (outputEl) {{\n",
              "    x.observe(outputEl, {childList: true});\n",
              "}}\n",
              "\n",
              "                        })                };                            </script>        </div>\n",
              "</body>\n",
              "</html>"
            ]
          },
          "metadata": {}
        }
      ]
    },
    {
      "cell_type": "code",
      "source": [
        "x = df['3c. Height']\n",
        "y = df['3d. Width']\n",
        "\n",
        "print(df[df['3d. Width'] == 56].index)\n",
        "\n",
        "x = df['3c. Height'].drop(69)\n",
        "y = df['3d. Width'].drop(69)"
      ],
      "metadata": {
        "colab": {
          "base_uri": "https://localhost:8080/"
        },
        "id": "uhdJDV7GMeAu",
        "outputId": "197b8e26-32a3-441f-d661-1f8aa5fe01f7"
      },
      "id": "uhdJDV7GMeAu",
      "execution_count": null,
      "outputs": [
        {
          "output_type": "stream",
          "name": "stdout",
          "text": [
            "Index([69], dtype='int64')\n"
          ]
        }
      ]
    },
    {
      "cell_type": "code",
      "source": [
        "import plotly.graph_objects as go\n",
        "import numpy as np\n",
        "\n",
        "\n",
        "xedges = np.array([0,1,2,3,4,5,6,7,8,9,10,11,12,13,14,15])\n",
        "yedges = np.array([0,1,2,3,4,5,6,7,8,9,10,11,12,13,14,15,16,17,18,19,20,21])\n",
        "\n",
        "hist, xedges, yedges = np.histogram2d(x, y, bins=[xedges, yedges])\n",
        "hist = hist.astype(int)\n",
        "# Compute logarithmic values for color intensity\n",
        "log_hist = np.log1p(hist)  # Use log1p to avoid log(0) issues\n",
        "\n",
        "# Create the heatmap\n",
        "fig = go.Figure(data=go.Heatmap(\n",
        "    x=xedges,\n",
        "    y=yedges,\n",
        "    z=hist.T,  # Transpose the histogram for correct orientation\n",
        "    colorscale='Viridis',  # Choose your desired colorscale\n",
        "))\n",
        "\n",
        "fig.update_layout(\n",
        "    title='Height vs Width of lattice of models',\n",
        "    xaxis=dict(title='Height'),\n",
        "    yaxis=dict(title='Width'),\n",
        "    title_x=0.5,\n",
        "    title_y=0.95,\n",
        "    height=800   # Set the height of the graph\n",
        ")\n",
        "\n",
        "# Add annotations to display the counts inside the plot\n",
        "annotations = []\n",
        "for i in range(len(xedges)-1):\n",
        "    for j in range(len(yedges)-1):\n",
        "        annotations.append(\n",
        "            dict(\n",
        "                x=(xedges[i] + xedges[i+1]) / 2 ,\n",
        "                y=(yedges[j] + yedges[j+1]) / 2 ,\n",
        "                text=str(hist[i, j]),\n",
        "                showarrow=False,\n",
        "                font=dict(color='black' if log_hist[i, j] >= 0 else 'black')\n",
        "            )\n",
        "        )\n",
        "\n",
        "fig.update_layout(annotations=annotations)\n",
        "\n",
        "fig.update_layout(xaxis=dict(\n",
        "    tickvals=(xedges[:-1] + xedges[1:]) / 2,  # Specify the positions of the x-axis ticks at bin centers\n",
        "    ticktext=xedges\n",
        "))\n",
        "fig.update_layout(yaxis=dict(\n",
        "    tickvals=(yedges[:-1] + yedges[1:]) / 2,  # Specify the positions of the y-axis ticks at bin centers\n",
        "    ticktext=yedges\n",
        "))\n",
        "\n",
        "fig.update_traces(colorscale=[[0, 'rgba(255,255,255,255)'], [1, 'rgba(68,70,251,255)']] , zmin=0, zmax=25)\n",
        "\n",
        "fig.update_layout(font=dict(size=16))\n",
        "\n",
        "# Show plot\n",
        "fig.show()\n",
        "\n",
        "write_image(fig, 'Parameter 3c&d: Height vs Width Heatmap.png')"
      ],
      "metadata": {
        "colab": {
          "base_uri": "https://localhost:8080/",
          "height": 817
        },
        "collapsed": true,
        "id": "r2Dgi5xoe07m",
        "outputId": "6584d72b-5b71-40fb-a161-c953f71aee61"
      },
      "id": "r2Dgi5xoe07m",
      "execution_count": 23,
      "outputs": [
        {
          "output_type": "display_data",
          "data": {
            "text/html": [
              "<html>\n",
              "<head><meta charset=\"utf-8\" /></head>\n",
              "<body>\n",
              "    <div>            <script src=\"https://cdnjs.cloudflare.com/ajax/libs/mathjax/2.7.5/MathJax.js?config=TeX-AMS-MML_SVG\"></script><script type=\"text/javascript\">if (window.MathJax && window.MathJax.Hub && window.MathJax.Hub.Config) {window.MathJax.Hub.Config({SVG: {font: \"STIX-Web\"}});}</script>                <script type=\"text/javascript\">window.PlotlyConfig = {MathJaxConfig: 'local'};</script>\n",
              "        <script charset=\"utf-8\" src=\"https://cdn.plot.ly/plotly-2.24.1.min.js\"></script>                <div id=\"07b16199-5180-4105-9a7f-a2eec755085a\" class=\"plotly-graph-div\" style=\"height:800px; width:100%;\"></div>            <script type=\"text/javascript\">                                    window.PLOTLYENV=window.PLOTLYENV || {};                                    if (document.getElementById(\"07b16199-5180-4105-9a7f-a2eec755085a\")) {                    Plotly.newPlot(                        \"07b16199-5180-4105-9a7f-a2eec755085a\",                        [{\"colorscale\":[[0,\"rgba(255,255,255,255)\"],[1,\"rgba(68,70,251,255)\"]],\"x\":[0,1,2,3,4,5,6,7,8,9,10,11,12,13,14,15],\"y\":[0,1,2,3,4,5,6,7,8,9,10,11,12,13,14,15,16,17,18,19,20,21],\"z\":[[64,0,0,0,0,0,0,0,0,0,0,0,0,0,0],[0,148,19,4,4,1,0,2,1,1,0,0,0,0,2],[0,0,1,2,2,0,0,0,0,0,0,0,0,0,0],[0,0,0,1,2,0,0,1,1,0,0,0,0,0,0],[0,0,0,0,0,0,1,0,0,0,0,0,0,0,0],[0,0,0,0,0,0,3,1,0,0,0,0,0,0,0],[0,0,0,0,0,3,1,0,1,0,0,0,0,0,0],[0,0,0,0,0,0,1,0,0,0,0,0,0,0,0],[0,0,0,0,0,0,1,0,0,0,0,0,0,0,0],[0,0,0,0,0,0,0,0,0,0,0,0,0,0,0],[0,0,0,0,0,0,0,0,1,0,0,0,0,0,0],[0,0,0,0,0,0,0,0,0,0,0,0,0,0,0],[0,0,0,0,0,0,0,0,0,0,0,0,0,0,0],[0,0,0,0,0,0,0,0,0,0,0,0,0,0,0],[0,0,0,0,0,0,0,0,0,0,0,0,0,0,0],[0,0,0,0,0,0,0,0,0,0,0,0,0,0,0],[0,0,0,0,0,0,0,0,0,0,0,0,0,0,0],[0,0,0,0,0,0,0,0,0,0,0,0,0,0,0],[0,0,0,0,0,0,0,0,0,0,0,0,0,0,0],[0,0,0,0,0,0,0,0,0,0,0,0,0,0,0],[0,0,0,0,0,0,0,2,0,0,0,0,0,0,0]],\"type\":\"heatmap\",\"zmax\":25,\"zmin\":0}],                        {\"template\":{\"data\":{\"histogram2dcontour\":[{\"type\":\"histogram2dcontour\",\"colorbar\":{\"outlinewidth\":0,\"ticks\":\"\"},\"colorscale\":[[0.0,\"#0d0887\"],[0.1111111111111111,\"#46039f\"],[0.2222222222222222,\"#7201a8\"],[0.3333333333333333,\"#9c179e\"],[0.4444444444444444,\"#bd3786\"],[0.5555555555555556,\"#d8576b\"],[0.6666666666666666,\"#ed7953\"],[0.7777777777777778,\"#fb9f3a\"],[0.8888888888888888,\"#fdca26\"],[1.0,\"#f0f921\"]]}],\"choropleth\":[{\"type\":\"choropleth\",\"colorbar\":{\"outlinewidth\":0,\"ticks\":\"\"}}],\"histogram2d\":[{\"type\":\"histogram2d\",\"colorbar\":{\"outlinewidth\":0,\"ticks\":\"\"},\"colorscale\":[[0.0,\"#0d0887\"],[0.1111111111111111,\"#46039f\"],[0.2222222222222222,\"#7201a8\"],[0.3333333333333333,\"#9c179e\"],[0.4444444444444444,\"#bd3786\"],[0.5555555555555556,\"#d8576b\"],[0.6666666666666666,\"#ed7953\"],[0.7777777777777778,\"#fb9f3a\"],[0.8888888888888888,\"#fdca26\"],[1.0,\"#f0f921\"]]}],\"heatmap\":[{\"type\":\"heatmap\",\"colorbar\":{\"outlinewidth\":0,\"ticks\":\"\"},\"colorscale\":[[0.0,\"#0d0887\"],[0.1111111111111111,\"#46039f\"],[0.2222222222222222,\"#7201a8\"],[0.3333333333333333,\"#9c179e\"],[0.4444444444444444,\"#bd3786\"],[0.5555555555555556,\"#d8576b\"],[0.6666666666666666,\"#ed7953\"],[0.7777777777777778,\"#fb9f3a\"],[0.8888888888888888,\"#fdca26\"],[1.0,\"#f0f921\"]]}],\"heatmapgl\":[{\"type\":\"heatmapgl\",\"colorbar\":{\"outlinewidth\":0,\"ticks\":\"\"},\"colorscale\":[[0.0,\"#0d0887\"],[0.1111111111111111,\"#46039f\"],[0.2222222222222222,\"#7201a8\"],[0.3333333333333333,\"#9c179e\"],[0.4444444444444444,\"#bd3786\"],[0.5555555555555556,\"#d8576b\"],[0.6666666666666666,\"#ed7953\"],[0.7777777777777778,\"#fb9f3a\"],[0.8888888888888888,\"#fdca26\"],[1.0,\"#f0f921\"]]}],\"contourcarpet\":[{\"type\":\"contourcarpet\",\"colorbar\":{\"outlinewidth\":0,\"ticks\":\"\"}}],\"contour\":[{\"type\":\"contour\",\"colorbar\":{\"outlinewidth\":0,\"ticks\":\"\"},\"colorscale\":[[0.0,\"#0d0887\"],[0.1111111111111111,\"#46039f\"],[0.2222222222222222,\"#7201a8\"],[0.3333333333333333,\"#9c179e\"],[0.4444444444444444,\"#bd3786\"],[0.5555555555555556,\"#d8576b\"],[0.6666666666666666,\"#ed7953\"],[0.7777777777777778,\"#fb9f3a\"],[0.8888888888888888,\"#fdca26\"],[1.0,\"#f0f921\"]]}],\"surface\":[{\"type\":\"surface\",\"colorbar\":{\"outlinewidth\":0,\"ticks\":\"\"},\"colorscale\":[[0.0,\"#0d0887\"],[0.1111111111111111,\"#46039f\"],[0.2222222222222222,\"#7201a8\"],[0.3333333333333333,\"#9c179e\"],[0.4444444444444444,\"#bd3786\"],[0.5555555555555556,\"#d8576b\"],[0.6666666666666666,\"#ed7953\"],[0.7777777777777778,\"#fb9f3a\"],[0.8888888888888888,\"#fdca26\"],[1.0,\"#f0f921\"]]}],\"mesh3d\":[{\"type\":\"mesh3d\",\"colorbar\":{\"outlinewidth\":0,\"ticks\":\"\"}}],\"scatter\":[{\"fillpattern\":{\"fillmode\":\"overlay\",\"size\":10,\"solidity\":0.2},\"type\":\"scatter\"}],\"parcoords\":[{\"type\":\"parcoords\",\"line\":{\"colorbar\":{\"outlinewidth\":0,\"ticks\":\"\"}}}],\"scatterpolargl\":[{\"type\":\"scatterpolargl\",\"marker\":{\"colorbar\":{\"outlinewidth\":0,\"ticks\":\"\"}}}],\"bar\":[{\"error_x\":{\"color\":\"#2a3f5f\"},\"error_y\":{\"color\":\"#2a3f5f\"},\"marker\":{\"line\":{\"color\":\"#E5ECF6\",\"width\":0.5},\"pattern\":{\"fillmode\":\"overlay\",\"size\":10,\"solidity\":0.2}},\"type\":\"bar\"}],\"scattergeo\":[{\"type\":\"scattergeo\",\"marker\":{\"colorbar\":{\"outlinewidth\":0,\"ticks\":\"\"}}}],\"scatterpolar\":[{\"type\":\"scatterpolar\",\"marker\":{\"colorbar\":{\"outlinewidth\":0,\"ticks\":\"\"}}}],\"histogram\":[{\"marker\":{\"pattern\":{\"fillmode\":\"overlay\",\"size\":10,\"solidity\":0.2}},\"type\":\"histogram\"}],\"scattergl\":[{\"type\":\"scattergl\",\"marker\":{\"colorbar\":{\"outlinewidth\":0,\"ticks\":\"\"}}}],\"scatter3d\":[{\"type\":\"scatter3d\",\"line\":{\"colorbar\":{\"outlinewidth\":0,\"ticks\":\"\"}},\"marker\":{\"colorbar\":{\"outlinewidth\":0,\"ticks\":\"\"}}}],\"scattermapbox\":[{\"type\":\"scattermapbox\",\"marker\":{\"colorbar\":{\"outlinewidth\":0,\"ticks\":\"\"}}}],\"scatterternary\":[{\"type\":\"scatterternary\",\"marker\":{\"colorbar\":{\"outlinewidth\":0,\"ticks\":\"\"}}}],\"scattercarpet\":[{\"type\":\"scattercarpet\",\"marker\":{\"colorbar\":{\"outlinewidth\":0,\"ticks\":\"\"}}}],\"carpet\":[{\"aaxis\":{\"endlinecolor\":\"#2a3f5f\",\"gridcolor\":\"white\",\"linecolor\":\"white\",\"minorgridcolor\":\"white\",\"startlinecolor\":\"#2a3f5f\"},\"baxis\":{\"endlinecolor\":\"#2a3f5f\",\"gridcolor\":\"white\",\"linecolor\":\"white\",\"minorgridcolor\":\"white\",\"startlinecolor\":\"#2a3f5f\"},\"type\":\"carpet\"}],\"table\":[{\"cells\":{\"fill\":{\"color\":\"#EBF0F8\"},\"line\":{\"color\":\"white\"}},\"header\":{\"fill\":{\"color\":\"#C8D4E3\"},\"line\":{\"color\":\"white\"}},\"type\":\"table\"}],\"barpolar\":[{\"marker\":{\"line\":{\"color\":\"#E5ECF6\",\"width\":0.5},\"pattern\":{\"fillmode\":\"overlay\",\"size\":10,\"solidity\":0.2}},\"type\":\"barpolar\"}],\"pie\":[{\"automargin\":true,\"type\":\"pie\"}]},\"layout\":{\"autotypenumbers\":\"strict\",\"colorway\":[\"#636efa\",\"#EF553B\",\"#00cc96\",\"#ab63fa\",\"#FFA15A\",\"#19d3f3\",\"#FF6692\",\"#B6E880\",\"#FF97FF\",\"#FECB52\"],\"font\":{\"color\":\"#2a3f5f\"},\"hovermode\":\"closest\",\"hoverlabel\":{\"align\":\"left\"},\"paper_bgcolor\":\"white\",\"plot_bgcolor\":\"#E5ECF6\",\"polar\":{\"bgcolor\":\"#E5ECF6\",\"angularaxis\":{\"gridcolor\":\"white\",\"linecolor\":\"white\",\"ticks\":\"\"},\"radialaxis\":{\"gridcolor\":\"white\",\"linecolor\":\"white\",\"ticks\":\"\"}},\"ternary\":{\"bgcolor\":\"#E5ECF6\",\"aaxis\":{\"gridcolor\":\"white\",\"linecolor\":\"white\",\"ticks\":\"\"},\"baxis\":{\"gridcolor\":\"white\",\"linecolor\":\"white\",\"ticks\":\"\"},\"caxis\":{\"gridcolor\":\"white\",\"linecolor\":\"white\",\"ticks\":\"\"}},\"coloraxis\":{\"colorbar\":{\"outlinewidth\":0,\"ticks\":\"\"}},\"colorscale\":{\"sequential\":[[0.0,\"#0d0887\"],[0.1111111111111111,\"#46039f\"],[0.2222222222222222,\"#7201a8\"],[0.3333333333333333,\"#9c179e\"],[0.4444444444444444,\"#bd3786\"],[0.5555555555555556,\"#d8576b\"],[0.6666666666666666,\"#ed7953\"],[0.7777777777777778,\"#fb9f3a\"],[0.8888888888888888,\"#fdca26\"],[1.0,\"#f0f921\"]],\"sequentialminus\":[[0.0,\"#0d0887\"],[0.1111111111111111,\"#46039f\"],[0.2222222222222222,\"#7201a8\"],[0.3333333333333333,\"#9c179e\"],[0.4444444444444444,\"#bd3786\"],[0.5555555555555556,\"#d8576b\"],[0.6666666666666666,\"#ed7953\"],[0.7777777777777778,\"#fb9f3a\"],[0.8888888888888888,\"#fdca26\"],[1.0,\"#f0f921\"]],\"diverging\":[[0,\"#8e0152\"],[0.1,\"#c51b7d\"],[0.2,\"#de77ae\"],[0.3,\"#f1b6da\"],[0.4,\"#fde0ef\"],[0.5,\"#f7f7f7\"],[0.6,\"#e6f5d0\"],[0.7,\"#b8e186\"],[0.8,\"#7fbc41\"],[0.9,\"#4d9221\"],[1,\"#276419\"]]},\"xaxis\":{\"gridcolor\":\"white\",\"linecolor\":\"white\",\"ticks\":\"\",\"title\":{\"standoff\":15},\"zerolinecolor\":\"white\",\"automargin\":true,\"zerolinewidth\":2},\"yaxis\":{\"gridcolor\":\"white\",\"linecolor\":\"white\",\"ticks\":\"\",\"title\":{\"standoff\":15},\"zerolinecolor\":\"white\",\"automargin\":true,\"zerolinewidth\":2},\"scene\":{\"xaxis\":{\"backgroundcolor\":\"#E5ECF6\",\"gridcolor\":\"white\",\"linecolor\":\"white\",\"showbackground\":true,\"ticks\":\"\",\"zerolinecolor\":\"white\",\"gridwidth\":2},\"yaxis\":{\"backgroundcolor\":\"#E5ECF6\",\"gridcolor\":\"white\",\"linecolor\":\"white\",\"showbackground\":true,\"ticks\":\"\",\"zerolinecolor\":\"white\",\"gridwidth\":2},\"zaxis\":{\"backgroundcolor\":\"#E5ECF6\",\"gridcolor\":\"white\",\"linecolor\":\"white\",\"showbackground\":true,\"ticks\":\"\",\"zerolinecolor\":\"white\",\"gridwidth\":2}},\"shapedefaults\":{\"line\":{\"color\":\"#2a3f5f\"}},\"annotationdefaults\":{\"arrowcolor\":\"#2a3f5f\",\"arrowhead\":0,\"arrowwidth\":1},\"geo\":{\"bgcolor\":\"white\",\"landcolor\":\"#E5ECF6\",\"subunitcolor\":\"white\",\"showland\":true,\"showlakes\":true,\"lakecolor\":\"white\"},\"title\":{\"x\":0.05},\"mapbox\":{\"style\":\"light\"}}},\"title\":{\"text\":\"Height vs Width of lattice of models\",\"x\":0.5,\"y\":0.95},\"xaxis\":{\"title\":{\"text\":\"Height\"},\"tickvals\":[0.5,1.5,2.5,3.5,4.5,5.5,6.5,7.5,8.5,9.5,10.5,11.5,12.5,13.5,14.5],\"ticktext\":[0,1,2,3,4,5,6,7,8,9,10,11,12,13,14,15]},\"yaxis\":{\"title\":{\"text\":\"Width\"},\"tickvals\":[0.5,1.5,2.5,3.5,4.5,5.5,6.5,7.5,8.5,9.5,10.5,11.5,12.5,13.5,14.5,15.5,16.5,17.5,18.5,19.5,20.5],\"ticktext\":[0,1,2,3,4,5,6,7,8,9,10,11,12,13,14,15,16,17,18,19,20,21]},\"height\":800,\"annotations\":[{\"font\":{\"color\":\"black\"},\"showarrow\":false,\"text\":\"64\",\"x\":0.5,\"y\":0.5},{\"font\":{\"color\":\"black\"},\"showarrow\":false,\"text\":\"0\",\"x\":0.5,\"y\":1.5},{\"font\":{\"color\":\"black\"},\"showarrow\":false,\"text\":\"0\",\"x\":0.5,\"y\":2.5},{\"font\":{\"color\":\"black\"},\"showarrow\":false,\"text\":\"0\",\"x\":0.5,\"y\":3.5},{\"font\":{\"color\":\"black\"},\"showarrow\":false,\"text\":\"0\",\"x\":0.5,\"y\":4.5},{\"font\":{\"color\":\"black\"},\"showarrow\":false,\"text\":\"0\",\"x\":0.5,\"y\":5.5},{\"font\":{\"color\":\"black\"},\"showarrow\":false,\"text\":\"0\",\"x\":0.5,\"y\":6.5},{\"font\":{\"color\":\"black\"},\"showarrow\":false,\"text\":\"0\",\"x\":0.5,\"y\":7.5},{\"font\":{\"color\":\"black\"},\"showarrow\":false,\"text\":\"0\",\"x\":0.5,\"y\":8.5},{\"font\":{\"color\":\"black\"},\"showarrow\":false,\"text\":\"0\",\"x\":0.5,\"y\":9.5},{\"font\":{\"color\":\"black\"},\"showarrow\":false,\"text\":\"0\",\"x\":0.5,\"y\":10.5},{\"font\":{\"color\":\"black\"},\"showarrow\":false,\"text\":\"0\",\"x\":0.5,\"y\":11.5},{\"font\":{\"color\":\"black\"},\"showarrow\":false,\"text\":\"0\",\"x\":0.5,\"y\":12.5},{\"font\":{\"color\":\"black\"},\"showarrow\":false,\"text\":\"0\",\"x\":0.5,\"y\":13.5},{\"font\":{\"color\":\"black\"},\"showarrow\":false,\"text\":\"0\",\"x\":0.5,\"y\":14.5},{\"font\":{\"color\":\"black\"},\"showarrow\":false,\"text\":\"0\",\"x\":0.5,\"y\":15.5},{\"font\":{\"color\":\"black\"},\"showarrow\":false,\"text\":\"0\",\"x\":0.5,\"y\":16.5},{\"font\":{\"color\":\"black\"},\"showarrow\":false,\"text\":\"0\",\"x\":0.5,\"y\":17.5},{\"font\":{\"color\":\"black\"},\"showarrow\":false,\"text\":\"0\",\"x\":0.5,\"y\":18.5},{\"font\":{\"color\":\"black\"},\"showarrow\":false,\"text\":\"0\",\"x\":0.5,\"y\":19.5},{\"font\":{\"color\":\"black\"},\"showarrow\":false,\"text\":\"0\",\"x\":0.5,\"y\":20.5},{\"font\":{\"color\":\"black\"},\"showarrow\":false,\"text\":\"0\",\"x\":1.5,\"y\":0.5},{\"font\":{\"color\":\"black\"},\"showarrow\":false,\"text\":\"148\",\"x\":1.5,\"y\":1.5},{\"font\":{\"color\":\"black\"},\"showarrow\":false,\"text\":\"0\",\"x\":1.5,\"y\":2.5},{\"font\":{\"color\":\"black\"},\"showarrow\":false,\"text\":\"0\",\"x\":1.5,\"y\":3.5},{\"font\":{\"color\":\"black\"},\"showarrow\":false,\"text\":\"0\",\"x\":1.5,\"y\":4.5},{\"font\":{\"color\":\"black\"},\"showarrow\":false,\"text\":\"0\",\"x\":1.5,\"y\":5.5},{\"font\":{\"color\":\"black\"},\"showarrow\":false,\"text\":\"0\",\"x\":1.5,\"y\":6.5},{\"font\":{\"color\":\"black\"},\"showarrow\":false,\"text\":\"0\",\"x\":1.5,\"y\":7.5},{\"font\":{\"color\":\"black\"},\"showarrow\":false,\"text\":\"0\",\"x\":1.5,\"y\":8.5},{\"font\":{\"color\":\"black\"},\"showarrow\":false,\"text\":\"0\",\"x\":1.5,\"y\":9.5},{\"font\":{\"color\":\"black\"},\"showarrow\":false,\"text\":\"0\",\"x\":1.5,\"y\":10.5},{\"font\":{\"color\":\"black\"},\"showarrow\":false,\"text\":\"0\",\"x\":1.5,\"y\":11.5},{\"font\":{\"color\":\"black\"},\"showarrow\":false,\"text\":\"0\",\"x\":1.5,\"y\":12.5},{\"font\":{\"color\":\"black\"},\"showarrow\":false,\"text\":\"0\",\"x\":1.5,\"y\":13.5},{\"font\":{\"color\":\"black\"},\"showarrow\":false,\"text\":\"0\",\"x\":1.5,\"y\":14.5},{\"font\":{\"color\":\"black\"},\"showarrow\":false,\"text\":\"0\",\"x\":1.5,\"y\":15.5},{\"font\":{\"color\":\"black\"},\"showarrow\":false,\"text\":\"0\",\"x\":1.5,\"y\":16.5},{\"font\":{\"color\":\"black\"},\"showarrow\":false,\"text\":\"0\",\"x\":1.5,\"y\":17.5},{\"font\":{\"color\":\"black\"},\"showarrow\":false,\"text\":\"0\",\"x\":1.5,\"y\":18.5},{\"font\":{\"color\":\"black\"},\"showarrow\":false,\"text\":\"0\",\"x\":1.5,\"y\":19.5},{\"font\":{\"color\":\"black\"},\"showarrow\":false,\"text\":\"0\",\"x\":1.5,\"y\":20.5},{\"font\":{\"color\":\"black\"},\"showarrow\":false,\"text\":\"0\",\"x\":2.5,\"y\":0.5},{\"font\":{\"color\":\"black\"},\"showarrow\":false,\"text\":\"19\",\"x\":2.5,\"y\":1.5},{\"font\":{\"color\":\"black\"},\"showarrow\":false,\"text\":\"1\",\"x\":2.5,\"y\":2.5},{\"font\":{\"color\":\"black\"},\"showarrow\":false,\"text\":\"0\",\"x\":2.5,\"y\":3.5},{\"font\":{\"color\":\"black\"},\"showarrow\":false,\"text\":\"0\",\"x\":2.5,\"y\":4.5},{\"font\":{\"color\":\"black\"},\"showarrow\":false,\"text\":\"0\",\"x\":2.5,\"y\":5.5},{\"font\":{\"color\":\"black\"},\"showarrow\":false,\"text\":\"0\",\"x\":2.5,\"y\":6.5},{\"font\":{\"color\":\"black\"},\"showarrow\":false,\"text\":\"0\",\"x\":2.5,\"y\":7.5},{\"font\":{\"color\":\"black\"},\"showarrow\":false,\"text\":\"0\",\"x\":2.5,\"y\":8.5},{\"font\":{\"color\":\"black\"},\"showarrow\":false,\"text\":\"0\",\"x\":2.5,\"y\":9.5},{\"font\":{\"color\":\"black\"},\"showarrow\":false,\"text\":\"0\",\"x\":2.5,\"y\":10.5},{\"font\":{\"color\":\"black\"},\"showarrow\":false,\"text\":\"0\",\"x\":2.5,\"y\":11.5},{\"font\":{\"color\":\"black\"},\"showarrow\":false,\"text\":\"0\",\"x\":2.5,\"y\":12.5},{\"font\":{\"color\":\"black\"},\"showarrow\":false,\"text\":\"0\",\"x\":2.5,\"y\":13.5},{\"font\":{\"color\":\"black\"},\"showarrow\":false,\"text\":\"0\",\"x\":2.5,\"y\":14.5},{\"font\":{\"color\":\"black\"},\"showarrow\":false,\"text\":\"0\",\"x\":2.5,\"y\":15.5},{\"font\":{\"color\":\"black\"},\"showarrow\":false,\"text\":\"0\",\"x\":2.5,\"y\":16.5},{\"font\":{\"color\":\"black\"},\"showarrow\":false,\"text\":\"0\",\"x\":2.5,\"y\":17.5},{\"font\":{\"color\":\"black\"},\"showarrow\":false,\"text\":\"0\",\"x\":2.5,\"y\":18.5},{\"font\":{\"color\":\"black\"},\"showarrow\":false,\"text\":\"0\",\"x\":2.5,\"y\":19.5},{\"font\":{\"color\":\"black\"},\"showarrow\":false,\"text\":\"0\",\"x\":2.5,\"y\":20.5},{\"font\":{\"color\":\"black\"},\"showarrow\":false,\"text\":\"0\",\"x\":3.5,\"y\":0.5},{\"font\":{\"color\":\"black\"},\"showarrow\":false,\"text\":\"4\",\"x\":3.5,\"y\":1.5},{\"font\":{\"color\":\"black\"},\"showarrow\":false,\"text\":\"2\",\"x\":3.5,\"y\":2.5},{\"font\":{\"color\":\"black\"},\"showarrow\":false,\"text\":\"1\",\"x\":3.5,\"y\":3.5},{\"font\":{\"color\":\"black\"},\"showarrow\":false,\"text\":\"0\",\"x\":3.5,\"y\":4.5},{\"font\":{\"color\":\"black\"},\"showarrow\":false,\"text\":\"0\",\"x\":3.5,\"y\":5.5},{\"font\":{\"color\":\"black\"},\"showarrow\":false,\"text\":\"0\",\"x\":3.5,\"y\":6.5},{\"font\":{\"color\":\"black\"},\"showarrow\":false,\"text\":\"0\",\"x\":3.5,\"y\":7.5},{\"font\":{\"color\":\"black\"},\"showarrow\":false,\"text\":\"0\",\"x\":3.5,\"y\":8.5},{\"font\":{\"color\":\"black\"},\"showarrow\":false,\"text\":\"0\",\"x\":3.5,\"y\":9.5},{\"font\":{\"color\":\"black\"},\"showarrow\":false,\"text\":\"0\",\"x\":3.5,\"y\":10.5},{\"font\":{\"color\":\"black\"},\"showarrow\":false,\"text\":\"0\",\"x\":3.5,\"y\":11.5},{\"font\":{\"color\":\"black\"},\"showarrow\":false,\"text\":\"0\",\"x\":3.5,\"y\":12.5},{\"font\":{\"color\":\"black\"},\"showarrow\":false,\"text\":\"0\",\"x\":3.5,\"y\":13.5},{\"font\":{\"color\":\"black\"},\"showarrow\":false,\"text\":\"0\",\"x\":3.5,\"y\":14.5},{\"font\":{\"color\":\"black\"},\"showarrow\":false,\"text\":\"0\",\"x\":3.5,\"y\":15.5},{\"font\":{\"color\":\"black\"},\"showarrow\":false,\"text\":\"0\",\"x\":3.5,\"y\":16.5},{\"font\":{\"color\":\"black\"},\"showarrow\":false,\"text\":\"0\",\"x\":3.5,\"y\":17.5},{\"font\":{\"color\":\"black\"},\"showarrow\":false,\"text\":\"0\",\"x\":3.5,\"y\":18.5},{\"font\":{\"color\":\"black\"},\"showarrow\":false,\"text\":\"0\",\"x\":3.5,\"y\":19.5},{\"font\":{\"color\":\"black\"},\"showarrow\":false,\"text\":\"0\",\"x\":3.5,\"y\":20.5},{\"font\":{\"color\":\"black\"},\"showarrow\":false,\"text\":\"0\",\"x\":4.5,\"y\":0.5},{\"font\":{\"color\":\"black\"},\"showarrow\":false,\"text\":\"4\",\"x\":4.5,\"y\":1.5},{\"font\":{\"color\":\"black\"},\"showarrow\":false,\"text\":\"2\",\"x\":4.5,\"y\":2.5},{\"font\":{\"color\":\"black\"},\"showarrow\":false,\"text\":\"2\",\"x\":4.5,\"y\":3.5},{\"font\":{\"color\":\"black\"},\"showarrow\":false,\"text\":\"0\",\"x\":4.5,\"y\":4.5},{\"font\":{\"color\":\"black\"},\"showarrow\":false,\"text\":\"0\",\"x\":4.5,\"y\":5.5},{\"font\":{\"color\":\"black\"},\"showarrow\":false,\"text\":\"0\",\"x\":4.5,\"y\":6.5},{\"font\":{\"color\":\"black\"},\"showarrow\":false,\"text\":\"0\",\"x\":4.5,\"y\":7.5},{\"font\":{\"color\":\"black\"},\"showarrow\":false,\"text\":\"0\",\"x\":4.5,\"y\":8.5},{\"font\":{\"color\":\"black\"},\"showarrow\":false,\"text\":\"0\",\"x\":4.5,\"y\":9.5},{\"font\":{\"color\":\"black\"},\"showarrow\":false,\"text\":\"0\",\"x\":4.5,\"y\":10.5},{\"font\":{\"color\":\"black\"},\"showarrow\":false,\"text\":\"0\",\"x\":4.5,\"y\":11.5},{\"font\":{\"color\":\"black\"},\"showarrow\":false,\"text\":\"0\",\"x\":4.5,\"y\":12.5},{\"font\":{\"color\":\"black\"},\"showarrow\":false,\"text\":\"0\",\"x\":4.5,\"y\":13.5},{\"font\":{\"color\":\"black\"},\"showarrow\":false,\"text\":\"0\",\"x\":4.5,\"y\":14.5},{\"font\":{\"color\":\"black\"},\"showarrow\":false,\"text\":\"0\",\"x\":4.5,\"y\":15.5},{\"font\":{\"color\":\"black\"},\"showarrow\":false,\"text\":\"0\",\"x\":4.5,\"y\":16.5},{\"font\":{\"color\":\"black\"},\"showarrow\":false,\"text\":\"0\",\"x\":4.5,\"y\":17.5},{\"font\":{\"color\":\"black\"},\"showarrow\":false,\"text\":\"0\",\"x\":4.5,\"y\":18.5},{\"font\":{\"color\":\"black\"},\"showarrow\":false,\"text\":\"0\",\"x\":4.5,\"y\":19.5},{\"font\":{\"color\":\"black\"},\"showarrow\":false,\"text\":\"0\",\"x\":4.5,\"y\":20.5},{\"font\":{\"color\":\"black\"},\"showarrow\":false,\"text\":\"0\",\"x\":5.5,\"y\":0.5},{\"font\":{\"color\":\"black\"},\"showarrow\":false,\"text\":\"1\",\"x\":5.5,\"y\":1.5},{\"font\":{\"color\":\"black\"},\"showarrow\":false,\"text\":\"0\",\"x\":5.5,\"y\":2.5},{\"font\":{\"color\":\"black\"},\"showarrow\":false,\"text\":\"0\",\"x\":5.5,\"y\":3.5},{\"font\":{\"color\":\"black\"},\"showarrow\":false,\"text\":\"0\",\"x\":5.5,\"y\":4.5},{\"font\":{\"color\":\"black\"},\"showarrow\":false,\"text\":\"0\",\"x\":5.5,\"y\":5.5},{\"font\":{\"color\":\"black\"},\"showarrow\":false,\"text\":\"3\",\"x\":5.5,\"y\":6.5},{\"font\":{\"color\":\"black\"},\"showarrow\":false,\"text\":\"0\",\"x\":5.5,\"y\":7.5},{\"font\":{\"color\":\"black\"},\"showarrow\":false,\"text\":\"0\",\"x\":5.5,\"y\":8.5},{\"font\":{\"color\":\"black\"},\"showarrow\":false,\"text\":\"0\",\"x\":5.5,\"y\":9.5},{\"font\":{\"color\":\"black\"},\"showarrow\":false,\"text\":\"0\",\"x\":5.5,\"y\":10.5},{\"font\":{\"color\":\"black\"},\"showarrow\":false,\"text\":\"0\",\"x\":5.5,\"y\":11.5},{\"font\":{\"color\":\"black\"},\"showarrow\":false,\"text\":\"0\",\"x\":5.5,\"y\":12.5},{\"font\":{\"color\":\"black\"},\"showarrow\":false,\"text\":\"0\",\"x\":5.5,\"y\":13.5},{\"font\":{\"color\":\"black\"},\"showarrow\":false,\"text\":\"0\",\"x\":5.5,\"y\":14.5},{\"font\":{\"color\":\"black\"},\"showarrow\":false,\"text\":\"0\",\"x\":5.5,\"y\":15.5},{\"font\":{\"color\":\"black\"},\"showarrow\":false,\"text\":\"0\",\"x\":5.5,\"y\":16.5},{\"font\":{\"color\":\"black\"},\"showarrow\":false,\"text\":\"0\",\"x\":5.5,\"y\":17.5},{\"font\":{\"color\":\"black\"},\"showarrow\":false,\"text\":\"0\",\"x\":5.5,\"y\":18.5},{\"font\":{\"color\":\"black\"},\"showarrow\":false,\"text\":\"0\",\"x\":5.5,\"y\":19.5},{\"font\":{\"color\":\"black\"},\"showarrow\":false,\"text\":\"0\",\"x\":5.5,\"y\":20.5},{\"font\":{\"color\":\"black\"},\"showarrow\":false,\"text\":\"0\",\"x\":6.5,\"y\":0.5},{\"font\":{\"color\":\"black\"},\"showarrow\":false,\"text\":\"0\",\"x\":6.5,\"y\":1.5},{\"font\":{\"color\":\"black\"},\"showarrow\":false,\"text\":\"0\",\"x\":6.5,\"y\":2.5},{\"font\":{\"color\":\"black\"},\"showarrow\":false,\"text\":\"0\",\"x\":6.5,\"y\":3.5},{\"font\":{\"color\":\"black\"},\"showarrow\":false,\"text\":\"1\",\"x\":6.5,\"y\":4.5},{\"font\":{\"color\":\"black\"},\"showarrow\":false,\"text\":\"3\",\"x\":6.5,\"y\":5.5},{\"font\":{\"color\":\"black\"},\"showarrow\":false,\"text\":\"1\",\"x\":6.5,\"y\":6.5},{\"font\":{\"color\":\"black\"},\"showarrow\":false,\"text\":\"1\",\"x\":6.5,\"y\":7.5},{\"font\":{\"color\":\"black\"},\"showarrow\":false,\"text\":\"1\",\"x\":6.5,\"y\":8.5},{\"font\":{\"color\":\"black\"},\"showarrow\":false,\"text\":\"0\",\"x\":6.5,\"y\":9.5},{\"font\":{\"color\":\"black\"},\"showarrow\":false,\"text\":\"0\",\"x\":6.5,\"y\":10.5},{\"font\":{\"color\":\"black\"},\"showarrow\":false,\"text\":\"0\",\"x\":6.5,\"y\":11.5},{\"font\":{\"color\":\"black\"},\"showarrow\":false,\"text\":\"0\",\"x\":6.5,\"y\":12.5},{\"font\":{\"color\":\"black\"},\"showarrow\":false,\"text\":\"0\",\"x\":6.5,\"y\":13.5},{\"font\":{\"color\":\"black\"},\"showarrow\":false,\"text\":\"0\",\"x\":6.5,\"y\":14.5},{\"font\":{\"color\":\"black\"},\"showarrow\":false,\"text\":\"0\",\"x\":6.5,\"y\":15.5},{\"font\":{\"color\":\"black\"},\"showarrow\":false,\"text\":\"0\",\"x\":6.5,\"y\":16.5},{\"font\":{\"color\":\"black\"},\"showarrow\":false,\"text\":\"0\",\"x\":6.5,\"y\":17.5},{\"font\":{\"color\":\"black\"},\"showarrow\":false,\"text\":\"0\",\"x\":6.5,\"y\":18.5},{\"font\":{\"color\":\"black\"},\"showarrow\":false,\"text\":\"0\",\"x\":6.5,\"y\":19.5},{\"font\":{\"color\":\"black\"},\"showarrow\":false,\"text\":\"0\",\"x\":6.5,\"y\":20.5},{\"font\":{\"color\":\"black\"},\"showarrow\":false,\"text\":\"0\",\"x\":7.5,\"y\":0.5},{\"font\":{\"color\":\"black\"},\"showarrow\":false,\"text\":\"2\",\"x\":7.5,\"y\":1.5},{\"font\":{\"color\":\"black\"},\"showarrow\":false,\"text\":\"0\",\"x\":7.5,\"y\":2.5},{\"font\":{\"color\":\"black\"},\"showarrow\":false,\"text\":\"1\",\"x\":7.5,\"y\":3.5},{\"font\":{\"color\":\"black\"},\"showarrow\":false,\"text\":\"0\",\"x\":7.5,\"y\":4.5},{\"font\":{\"color\":\"black\"},\"showarrow\":false,\"text\":\"1\",\"x\":7.5,\"y\":5.5},{\"font\":{\"color\":\"black\"},\"showarrow\":false,\"text\":\"0\",\"x\":7.5,\"y\":6.5},{\"font\":{\"color\":\"black\"},\"showarrow\":false,\"text\":\"0\",\"x\":7.5,\"y\":7.5},{\"font\":{\"color\":\"black\"},\"showarrow\":false,\"text\":\"0\",\"x\":7.5,\"y\":8.5},{\"font\":{\"color\":\"black\"},\"showarrow\":false,\"text\":\"0\",\"x\":7.5,\"y\":9.5},{\"font\":{\"color\":\"black\"},\"showarrow\":false,\"text\":\"0\",\"x\":7.5,\"y\":10.5},{\"font\":{\"color\":\"black\"},\"showarrow\":false,\"text\":\"0\",\"x\":7.5,\"y\":11.5},{\"font\":{\"color\":\"black\"},\"showarrow\":false,\"text\":\"0\",\"x\":7.5,\"y\":12.5},{\"font\":{\"color\":\"black\"},\"showarrow\":false,\"text\":\"0\",\"x\":7.5,\"y\":13.5},{\"font\":{\"color\":\"black\"},\"showarrow\":false,\"text\":\"0\",\"x\":7.5,\"y\":14.5},{\"font\":{\"color\":\"black\"},\"showarrow\":false,\"text\":\"0\",\"x\":7.5,\"y\":15.5},{\"font\":{\"color\":\"black\"},\"showarrow\":false,\"text\":\"0\",\"x\":7.5,\"y\":16.5},{\"font\":{\"color\":\"black\"},\"showarrow\":false,\"text\":\"0\",\"x\":7.5,\"y\":17.5},{\"font\":{\"color\":\"black\"},\"showarrow\":false,\"text\":\"0\",\"x\":7.5,\"y\":18.5},{\"font\":{\"color\":\"black\"},\"showarrow\":false,\"text\":\"0\",\"x\":7.5,\"y\":19.5},{\"font\":{\"color\":\"black\"},\"showarrow\":false,\"text\":\"2\",\"x\":7.5,\"y\":20.5},{\"font\":{\"color\":\"black\"},\"showarrow\":false,\"text\":\"0\",\"x\":8.5,\"y\":0.5},{\"font\":{\"color\":\"black\"},\"showarrow\":false,\"text\":\"1\",\"x\":8.5,\"y\":1.5},{\"font\":{\"color\":\"black\"},\"showarrow\":false,\"text\":\"0\",\"x\":8.5,\"y\":2.5},{\"font\":{\"color\":\"black\"},\"showarrow\":false,\"text\":\"1\",\"x\":8.5,\"y\":3.5},{\"font\":{\"color\":\"black\"},\"showarrow\":false,\"text\":\"0\",\"x\":8.5,\"y\":4.5},{\"font\":{\"color\":\"black\"},\"showarrow\":false,\"text\":\"0\",\"x\":8.5,\"y\":5.5},{\"font\":{\"color\":\"black\"},\"showarrow\":false,\"text\":\"1\",\"x\":8.5,\"y\":6.5},{\"font\":{\"color\":\"black\"},\"showarrow\":false,\"text\":\"0\",\"x\":8.5,\"y\":7.5},{\"font\":{\"color\":\"black\"},\"showarrow\":false,\"text\":\"0\",\"x\":8.5,\"y\":8.5},{\"font\":{\"color\":\"black\"},\"showarrow\":false,\"text\":\"0\",\"x\":8.5,\"y\":9.5},{\"font\":{\"color\":\"black\"},\"showarrow\":false,\"text\":\"1\",\"x\":8.5,\"y\":10.5},{\"font\":{\"color\":\"black\"},\"showarrow\":false,\"text\":\"0\",\"x\":8.5,\"y\":11.5},{\"font\":{\"color\":\"black\"},\"showarrow\":false,\"text\":\"0\",\"x\":8.5,\"y\":12.5},{\"font\":{\"color\":\"black\"},\"showarrow\":false,\"text\":\"0\",\"x\":8.5,\"y\":13.5},{\"font\":{\"color\":\"black\"},\"showarrow\":false,\"text\":\"0\",\"x\":8.5,\"y\":14.5},{\"font\":{\"color\":\"black\"},\"showarrow\":false,\"text\":\"0\",\"x\":8.5,\"y\":15.5},{\"font\":{\"color\":\"black\"},\"showarrow\":false,\"text\":\"0\",\"x\":8.5,\"y\":16.5},{\"font\":{\"color\":\"black\"},\"showarrow\":false,\"text\":\"0\",\"x\":8.5,\"y\":17.5},{\"font\":{\"color\":\"black\"},\"showarrow\":false,\"text\":\"0\",\"x\":8.5,\"y\":18.5},{\"font\":{\"color\":\"black\"},\"showarrow\":false,\"text\":\"0\",\"x\":8.5,\"y\":19.5},{\"font\":{\"color\":\"black\"},\"showarrow\":false,\"text\":\"0\",\"x\":8.5,\"y\":20.5},{\"font\":{\"color\":\"black\"},\"showarrow\":false,\"text\":\"0\",\"x\":9.5,\"y\":0.5},{\"font\":{\"color\":\"black\"},\"showarrow\":false,\"text\":\"1\",\"x\":9.5,\"y\":1.5},{\"font\":{\"color\":\"black\"},\"showarrow\":false,\"text\":\"0\",\"x\":9.5,\"y\":2.5},{\"font\":{\"color\":\"black\"},\"showarrow\":false,\"text\":\"0\",\"x\":9.5,\"y\":3.5},{\"font\":{\"color\":\"black\"},\"showarrow\":false,\"text\":\"0\",\"x\":9.5,\"y\":4.5},{\"font\":{\"color\":\"black\"},\"showarrow\":false,\"text\":\"0\",\"x\":9.5,\"y\":5.5},{\"font\":{\"color\":\"black\"},\"showarrow\":false,\"text\":\"0\",\"x\":9.5,\"y\":6.5},{\"font\":{\"color\":\"black\"},\"showarrow\":false,\"text\":\"0\",\"x\":9.5,\"y\":7.5},{\"font\":{\"color\":\"black\"},\"showarrow\":false,\"text\":\"0\",\"x\":9.5,\"y\":8.5},{\"font\":{\"color\":\"black\"},\"showarrow\":false,\"text\":\"0\",\"x\":9.5,\"y\":9.5},{\"font\":{\"color\":\"black\"},\"showarrow\":false,\"text\":\"0\",\"x\":9.5,\"y\":10.5},{\"font\":{\"color\":\"black\"},\"showarrow\":false,\"text\":\"0\",\"x\":9.5,\"y\":11.5},{\"font\":{\"color\":\"black\"},\"showarrow\":false,\"text\":\"0\",\"x\":9.5,\"y\":12.5},{\"font\":{\"color\":\"black\"},\"showarrow\":false,\"text\":\"0\",\"x\":9.5,\"y\":13.5},{\"font\":{\"color\":\"black\"},\"showarrow\":false,\"text\":\"0\",\"x\":9.5,\"y\":14.5},{\"font\":{\"color\":\"black\"},\"showarrow\":false,\"text\":\"0\",\"x\":9.5,\"y\":15.5},{\"font\":{\"color\":\"black\"},\"showarrow\":false,\"text\":\"0\",\"x\":9.5,\"y\":16.5},{\"font\":{\"color\":\"black\"},\"showarrow\":false,\"text\":\"0\",\"x\":9.5,\"y\":17.5},{\"font\":{\"color\":\"black\"},\"showarrow\":false,\"text\":\"0\",\"x\":9.5,\"y\":18.5},{\"font\":{\"color\":\"black\"},\"showarrow\":false,\"text\":\"0\",\"x\":9.5,\"y\":19.5},{\"font\":{\"color\":\"black\"},\"showarrow\":false,\"text\":\"0\",\"x\":9.5,\"y\":20.5},{\"font\":{\"color\":\"black\"},\"showarrow\":false,\"text\":\"0\",\"x\":10.5,\"y\":0.5},{\"font\":{\"color\":\"black\"},\"showarrow\":false,\"text\":\"0\",\"x\":10.5,\"y\":1.5},{\"font\":{\"color\":\"black\"},\"showarrow\":false,\"text\":\"0\",\"x\":10.5,\"y\":2.5},{\"font\":{\"color\":\"black\"},\"showarrow\":false,\"text\":\"0\",\"x\":10.5,\"y\":3.5},{\"font\":{\"color\":\"black\"},\"showarrow\":false,\"text\":\"0\",\"x\":10.5,\"y\":4.5},{\"font\":{\"color\":\"black\"},\"showarrow\":false,\"text\":\"0\",\"x\":10.5,\"y\":5.5},{\"font\":{\"color\":\"black\"},\"showarrow\":false,\"text\":\"0\",\"x\":10.5,\"y\":6.5},{\"font\":{\"color\":\"black\"},\"showarrow\":false,\"text\":\"0\",\"x\":10.5,\"y\":7.5},{\"font\":{\"color\":\"black\"},\"showarrow\":false,\"text\":\"0\",\"x\":10.5,\"y\":8.5},{\"font\":{\"color\":\"black\"},\"showarrow\":false,\"text\":\"0\",\"x\":10.5,\"y\":9.5},{\"font\":{\"color\":\"black\"},\"showarrow\":false,\"text\":\"0\",\"x\":10.5,\"y\":10.5},{\"font\":{\"color\":\"black\"},\"showarrow\":false,\"text\":\"0\",\"x\":10.5,\"y\":11.5},{\"font\":{\"color\":\"black\"},\"showarrow\":false,\"text\":\"0\",\"x\":10.5,\"y\":12.5},{\"font\":{\"color\":\"black\"},\"showarrow\":false,\"text\":\"0\",\"x\":10.5,\"y\":13.5},{\"font\":{\"color\":\"black\"},\"showarrow\":false,\"text\":\"0\",\"x\":10.5,\"y\":14.5},{\"font\":{\"color\":\"black\"},\"showarrow\":false,\"text\":\"0\",\"x\":10.5,\"y\":15.5},{\"font\":{\"color\":\"black\"},\"showarrow\":false,\"text\":\"0\",\"x\":10.5,\"y\":16.5},{\"font\":{\"color\":\"black\"},\"showarrow\":false,\"text\":\"0\",\"x\":10.5,\"y\":17.5},{\"font\":{\"color\":\"black\"},\"showarrow\":false,\"text\":\"0\",\"x\":10.5,\"y\":18.5},{\"font\":{\"color\":\"black\"},\"showarrow\":false,\"text\":\"0\",\"x\":10.5,\"y\":19.5},{\"font\":{\"color\":\"black\"},\"showarrow\":false,\"text\":\"0\",\"x\":10.5,\"y\":20.5},{\"font\":{\"color\":\"black\"},\"showarrow\":false,\"text\":\"0\",\"x\":11.5,\"y\":0.5},{\"font\":{\"color\":\"black\"},\"showarrow\":false,\"text\":\"0\",\"x\":11.5,\"y\":1.5},{\"font\":{\"color\":\"black\"},\"showarrow\":false,\"text\":\"0\",\"x\":11.5,\"y\":2.5},{\"font\":{\"color\":\"black\"},\"showarrow\":false,\"text\":\"0\",\"x\":11.5,\"y\":3.5},{\"font\":{\"color\":\"black\"},\"showarrow\":false,\"text\":\"0\",\"x\":11.5,\"y\":4.5},{\"font\":{\"color\":\"black\"},\"showarrow\":false,\"text\":\"0\",\"x\":11.5,\"y\":5.5},{\"font\":{\"color\":\"black\"},\"showarrow\":false,\"text\":\"0\",\"x\":11.5,\"y\":6.5},{\"font\":{\"color\":\"black\"},\"showarrow\":false,\"text\":\"0\",\"x\":11.5,\"y\":7.5},{\"font\":{\"color\":\"black\"},\"showarrow\":false,\"text\":\"0\",\"x\":11.5,\"y\":8.5},{\"font\":{\"color\":\"black\"},\"showarrow\":false,\"text\":\"0\",\"x\":11.5,\"y\":9.5},{\"font\":{\"color\":\"black\"},\"showarrow\":false,\"text\":\"0\",\"x\":11.5,\"y\":10.5},{\"font\":{\"color\":\"black\"},\"showarrow\":false,\"text\":\"0\",\"x\":11.5,\"y\":11.5},{\"font\":{\"color\":\"black\"},\"showarrow\":false,\"text\":\"0\",\"x\":11.5,\"y\":12.5},{\"font\":{\"color\":\"black\"},\"showarrow\":false,\"text\":\"0\",\"x\":11.5,\"y\":13.5},{\"font\":{\"color\":\"black\"},\"showarrow\":false,\"text\":\"0\",\"x\":11.5,\"y\":14.5},{\"font\":{\"color\":\"black\"},\"showarrow\":false,\"text\":\"0\",\"x\":11.5,\"y\":15.5},{\"font\":{\"color\":\"black\"},\"showarrow\":false,\"text\":\"0\",\"x\":11.5,\"y\":16.5},{\"font\":{\"color\":\"black\"},\"showarrow\":false,\"text\":\"0\",\"x\":11.5,\"y\":17.5},{\"font\":{\"color\":\"black\"},\"showarrow\":false,\"text\":\"0\",\"x\":11.5,\"y\":18.5},{\"font\":{\"color\":\"black\"},\"showarrow\":false,\"text\":\"0\",\"x\":11.5,\"y\":19.5},{\"font\":{\"color\":\"black\"},\"showarrow\":false,\"text\":\"0\",\"x\":11.5,\"y\":20.5},{\"font\":{\"color\":\"black\"},\"showarrow\":false,\"text\":\"0\",\"x\":12.5,\"y\":0.5},{\"font\":{\"color\":\"black\"},\"showarrow\":false,\"text\":\"0\",\"x\":12.5,\"y\":1.5},{\"font\":{\"color\":\"black\"},\"showarrow\":false,\"text\":\"0\",\"x\":12.5,\"y\":2.5},{\"font\":{\"color\":\"black\"},\"showarrow\":false,\"text\":\"0\",\"x\":12.5,\"y\":3.5},{\"font\":{\"color\":\"black\"},\"showarrow\":false,\"text\":\"0\",\"x\":12.5,\"y\":4.5},{\"font\":{\"color\":\"black\"},\"showarrow\":false,\"text\":\"0\",\"x\":12.5,\"y\":5.5},{\"font\":{\"color\":\"black\"},\"showarrow\":false,\"text\":\"0\",\"x\":12.5,\"y\":6.5},{\"font\":{\"color\":\"black\"},\"showarrow\":false,\"text\":\"0\",\"x\":12.5,\"y\":7.5},{\"font\":{\"color\":\"black\"},\"showarrow\":false,\"text\":\"0\",\"x\":12.5,\"y\":8.5},{\"font\":{\"color\":\"black\"},\"showarrow\":false,\"text\":\"0\",\"x\":12.5,\"y\":9.5},{\"font\":{\"color\":\"black\"},\"showarrow\":false,\"text\":\"0\",\"x\":12.5,\"y\":10.5},{\"font\":{\"color\":\"black\"},\"showarrow\":false,\"text\":\"0\",\"x\":12.5,\"y\":11.5},{\"font\":{\"color\":\"black\"},\"showarrow\":false,\"text\":\"0\",\"x\":12.5,\"y\":12.5},{\"font\":{\"color\":\"black\"},\"showarrow\":false,\"text\":\"0\",\"x\":12.5,\"y\":13.5},{\"font\":{\"color\":\"black\"},\"showarrow\":false,\"text\":\"0\",\"x\":12.5,\"y\":14.5},{\"font\":{\"color\":\"black\"},\"showarrow\":false,\"text\":\"0\",\"x\":12.5,\"y\":15.5},{\"font\":{\"color\":\"black\"},\"showarrow\":false,\"text\":\"0\",\"x\":12.5,\"y\":16.5},{\"font\":{\"color\":\"black\"},\"showarrow\":false,\"text\":\"0\",\"x\":12.5,\"y\":17.5},{\"font\":{\"color\":\"black\"},\"showarrow\":false,\"text\":\"0\",\"x\":12.5,\"y\":18.5},{\"font\":{\"color\":\"black\"},\"showarrow\":false,\"text\":\"0\",\"x\":12.5,\"y\":19.5},{\"font\":{\"color\":\"black\"},\"showarrow\":false,\"text\":\"0\",\"x\":12.5,\"y\":20.5},{\"font\":{\"color\":\"black\"},\"showarrow\":false,\"text\":\"0\",\"x\":13.5,\"y\":0.5},{\"font\":{\"color\":\"black\"},\"showarrow\":false,\"text\":\"0\",\"x\":13.5,\"y\":1.5},{\"font\":{\"color\":\"black\"},\"showarrow\":false,\"text\":\"0\",\"x\":13.5,\"y\":2.5},{\"font\":{\"color\":\"black\"},\"showarrow\":false,\"text\":\"0\",\"x\":13.5,\"y\":3.5},{\"font\":{\"color\":\"black\"},\"showarrow\":false,\"text\":\"0\",\"x\":13.5,\"y\":4.5},{\"font\":{\"color\":\"black\"},\"showarrow\":false,\"text\":\"0\",\"x\":13.5,\"y\":5.5},{\"font\":{\"color\":\"black\"},\"showarrow\":false,\"text\":\"0\",\"x\":13.5,\"y\":6.5},{\"font\":{\"color\":\"black\"},\"showarrow\":false,\"text\":\"0\",\"x\":13.5,\"y\":7.5},{\"font\":{\"color\":\"black\"},\"showarrow\":false,\"text\":\"0\",\"x\":13.5,\"y\":8.5},{\"font\":{\"color\":\"black\"},\"showarrow\":false,\"text\":\"0\",\"x\":13.5,\"y\":9.5},{\"font\":{\"color\":\"black\"},\"showarrow\":false,\"text\":\"0\",\"x\":13.5,\"y\":10.5},{\"font\":{\"color\":\"black\"},\"showarrow\":false,\"text\":\"0\",\"x\":13.5,\"y\":11.5},{\"font\":{\"color\":\"black\"},\"showarrow\":false,\"text\":\"0\",\"x\":13.5,\"y\":12.5},{\"font\":{\"color\":\"black\"},\"showarrow\":false,\"text\":\"0\",\"x\":13.5,\"y\":13.5},{\"font\":{\"color\":\"black\"},\"showarrow\":false,\"text\":\"0\",\"x\":13.5,\"y\":14.5},{\"font\":{\"color\":\"black\"},\"showarrow\":false,\"text\":\"0\",\"x\":13.5,\"y\":15.5},{\"font\":{\"color\":\"black\"},\"showarrow\":false,\"text\":\"0\",\"x\":13.5,\"y\":16.5},{\"font\":{\"color\":\"black\"},\"showarrow\":false,\"text\":\"0\",\"x\":13.5,\"y\":17.5},{\"font\":{\"color\":\"black\"},\"showarrow\":false,\"text\":\"0\",\"x\":13.5,\"y\":18.5},{\"font\":{\"color\":\"black\"},\"showarrow\":false,\"text\":\"0\",\"x\":13.5,\"y\":19.5},{\"font\":{\"color\":\"black\"},\"showarrow\":false,\"text\":\"0\",\"x\":13.5,\"y\":20.5},{\"font\":{\"color\":\"black\"},\"showarrow\":false,\"text\":\"0\",\"x\":14.5,\"y\":0.5},{\"font\":{\"color\":\"black\"},\"showarrow\":false,\"text\":\"2\",\"x\":14.5,\"y\":1.5},{\"font\":{\"color\":\"black\"},\"showarrow\":false,\"text\":\"0\",\"x\":14.5,\"y\":2.5},{\"font\":{\"color\":\"black\"},\"showarrow\":false,\"text\":\"0\",\"x\":14.5,\"y\":3.5},{\"font\":{\"color\":\"black\"},\"showarrow\":false,\"text\":\"0\",\"x\":14.5,\"y\":4.5},{\"font\":{\"color\":\"black\"},\"showarrow\":false,\"text\":\"0\",\"x\":14.5,\"y\":5.5},{\"font\":{\"color\":\"black\"},\"showarrow\":false,\"text\":\"0\",\"x\":14.5,\"y\":6.5},{\"font\":{\"color\":\"black\"},\"showarrow\":false,\"text\":\"0\",\"x\":14.5,\"y\":7.5},{\"font\":{\"color\":\"black\"},\"showarrow\":false,\"text\":\"0\",\"x\":14.5,\"y\":8.5},{\"font\":{\"color\":\"black\"},\"showarrow\":false,\"text\":\"0\",\"x\":14.5,\"y\":9.5},{\"font\":{\"color\":\"black\"},\"showarrow\":false,\"text\":\"0\",\"x\":14.5,\"y\":10.5},{\"font\":{\"color\":\"black\"},\"showarrow\":false,\"text\":\"0\",\"x\":14.5,\"y\":11.5},{\"font\":{\"color\":\"black\"},\"showarrow\":false,\"text\":\"0\",\"x\":14.5,\"y\":12.5},{\"font\":{\"color\":\"black\"},\"showarrow\":false,\"text\":\"0\",\"x\":14.5,\"y\":13.5},{\"font\":{\"color\":\"black\"},\"showarrow\":false,\"text\":\"0\",\"x\":14.5,\"y\":14.5},{\"font\":{\"color\":\"black\"},\"showarrow\":false,\"text\":\"0\",\"x\":14.5,\"y\":15.5},{\"font\":{\"color\":\"black\"},\"showarrow\":false,\"text\":\"0\",\"x\":14.5,\"y\":16.5},{\"font\":{\"color\":\"black\"},\"showarrow\":false,\"text\":\"0\",\"x\":14.5,\"y\":17.5},{\"font\":{\"color\":\"black\"},\"showarrow\":false,\"text\":\"0\",\"x\":14.5,\"y\":18.5},{\"font\":{\"color\":\"black\"},\"showarrow\":false,\"text\":\"0\",\"x\":14.5,\"y\":19.5},{\"font\":{\"color\":\"black\"},\"showarrow\":false,\"text\":\"0\",\"x\":14.5,\"y\":20.5}],\"font\":{\"size\":16}},                        {\"responsive\": true}                    ).then(function(){\n",
              "                            \n",
              "var gd = document.getElementById('07b16199-5180-4105-9a7f-a2eec755085a');\n",
              "var x = new MutationObserver(function (mutations, observer) {{\n",
              "        var display = window.getComputedStyle(gd).display;\n",
              "        if (!display || display === 'none') {{\n",
              "            console.log([gd, 'removed!']);\n",
              "            Plotly.purge(gd);\n",
              "            observer.disconnect();\n",
              "        }}\n",
              "}});\n",
              "\n",
              "// Listen for the removal of the full notebook cells\n",
              "var notebookContainer = gd.closest('#notebook-container');\n",
              "if (notebookContainer) {{\n",
              "    x.observe(notebookContainer, {childList: true});\n",
              "}}\n",
              "\n",
              "// Listen for the clearing of the current output cell\n",
              "var outputEl = gd.closest('.output');\n",
              "if (outputEl) {{\n",
              "    x.observe(outputEl, {childList: true});\n",
              "}}\n",
              "\n",
              "                        })                };                            </script>        </div>\n",
              "</body>\n",
              "</html>"
            ]
          },
          "metadata": {}
        }
      ]
    },
    {
      "cell_type": "code",
      "source": [
        "import numpy as np\n",
        "\n",
        "# Example arrays\n",
        "array1 = x\n",
        "array2 = y\n",
        "\n",
        "# Get unique values in both arrays\n",
        "unique_values = np.union1d(array1, array2)\n",
        "\n",
        "# Initialize the 2D matrix to store the counts\n",
        "count_matrix = np.zeros((len(unique_values), len(unique_values)), dtype=int)\n",
        "\n",
        "# Count occurrences\n",
        "for i, val1 in enumerate(unique_values):\n",
        "    for j, val2 in enumerate(unique_values):\n",
        "        count_matrix[i, j] = np.sum((array1 == val1) & (array2 == val2))\n",
        "\n",
        "# Print the 2D matrix\n",
        "print(\"Count matrix:\")\n",
        "print(count_matrix)"
      ],
      "metadata": {
        "colab": {
          "base_uri": "https://localhost:8080/"
        },
        "id": "YWzoUOvtd-lk",
        "outputId": "aa6b52a3-6ac6-486b-9432-44542b286caa"
      },
      "id": "YWzoUOvtd-lk",
      "execution_count": null,
      "outputs": [
        {
          "output_type": "stream",
          "name": "stdout",
          "text": [
            "Count matrix:\n",
            "[[ 46  13   2   0   0   1   0   0   0   0   1   0   0   0   1   0]\n",
            " [  6 135   0   3   1   1   0   1   0   0   0   0   0   0   0   0]\n",
            " [  5  15   0   0   0   0   0   0   0   0   0   0   0   0   0   0]\n",
            " [  1   4   2   0   0   0   0   0   0   0   0   0   0   0   0   0]\n",
            " [  1   6   1   0   0   0   0   0   0   0   0   0   0   0   0   0]\n",
            " [  0   1   0   0   0   0   3   0   0   0   0   0   0   0   0   0]\n",
            " [  1   1   0   1   0   1   1   0   1   0   0   0   0   1   0   0]\n",
            " [  2   1   0   1   0   1   0   0   0   0   0   0   0   1   0   0]\n",
            " [  0   3   0   0   0   0   1   0   0   0   0   0   0   0   0   0]\n",
            " [  0   1   0   0   0   0   0   0   0   0   0   0   0   0   1   0]\n",
            " [  0   0   0   0   0   0   0   0   0   0   0   0   0   0   0   0]\n",
            " [  1   0   0   0   0   0   0   0   0   0   0   0   0   0   0   0]\n",
            " [  0   2   0   0   0   0   0   0   0   0   0   0   0   0   0   0]\n",
            " [  0   0   0   0   0   0   0   0   0   0   0   0   0   0   0   0]\n",
            " [  0   0   0   0   0   0   0   0   0   0   0   0   0   0   0   0]\n",
            " [  0   0   0   0   0   0   0   0   0   0   0   0   0   0   0   0]]\n"
          ]
        }
      ]
    },
    {
      "cell_type": "code",
      "source": [
        "unique_values"
      ],
      "metadata": {
        "colab": {
          "base_uri": "https://localhost:8080/"
        },
        "id": "pfXtcL6iecvR",
        "outputId": "5414cba6-5cea-4d83-f395-757c519951db"
      },
      "id": "pfXtcL6iecvR",
      "execution_count": null,
      "outputs": [
        {
          "output_type": "execute_result",
          "data": {
            "text/plain": [
              "array([ 0.,  1.,  2.,  3.,  4.,  5.,  6.,  7.,  8.,  9., 10., 13., 15.,\n",
              "       20., 22., nan])"
            ]
          },
          "metadata": {},
          "execution_count": 26
        }
      ]
    },
    {
      "cell_type": "code",
      "source": [
        "(xedges[:-1] + xedges[1:]) / 2"
      ],
      "metadata": {
        "colab": {
          "base_uri": "https://localhost:8080/"
        },
        "id": "Ee-TKrUIOz2l",
        "outputId": "d96bfb1d-ad9a-4d88-a9ef-4dbe7a14f4c6"
      },
      "id": "Ee-TKrUIOz2l",
      "execution_count": null,
      "outputs": [
        {
          "output_type": "execute_result",
          "data": {
            "text/plain": [
              "array([ 0.5,  1.5,  2.5,  3.5,  4.5,  5.5,  6.5,  7.5,  8.5,  9.5, 10.5,\n",
              "       11.5, 12.5, 13.5, 14.5])"
            ]
          },
          "metadata": {},
          "execution_count": 34
        }
      ]
    },
    {
      "cell_type": "code",
      "source": [
        "xedges"
      ],
      "metadata": {
        "colab": {
          "base_uri": "https://localhost:8080/"
        },
        "id": "AYH-3tFPNiY3",
        "outputId": "a7123743-b172-42eb-a88d-8951809fc061"
      },
      "id": "AYH-3tFPNiY3",
      "execution_count": null,
      "outputs": [
        {
          "output_type": "execute_result",
          "data": {
            "text/plain": [
              "array([ 0,  1,  2,  3,  4,  5,  6,  7,  8,  9, 10, 11, 12, 13, 14, 15])"
            ]
          },
          "metadata": {},
          "execution_count": 15
        }
      ]
    },
    {
      "cell_type": "code",
      "source": [
        "counts"
      ],
      "metadata": {
        "colab": {
          "base_uri": "https://localhost:8080/"
        },
        "id": "7Yg_oiK0WMks",
        "outputId": "691afd60-0a95-47e4-f835-1d13a0745bec"
      },
      "id": "7Yg_oiK0WMks",
      "execution_count": null,
      "outputs": [
        {
          "output_type": "execute_result",
          "data": {
            "text/plain": [
              "array([ 59,   2,   1,   1,   1, 141,   3,   1,   1,   1,  20,   5,   2,\n",
              "         7,   1,   1,   3,   2,   1,   1,   1,   1,   1,   3,   1,   1,\n",
              "         1,   4,   1,   1,   1,   1,   2])"
            ]
          },
          "metadata": {},
          "execution_count": 52
        }
      ]
    },
    {
      "cell_type": "code",
      "source": [
        "#Parameters 3c&d\n",
        "import plotly.express as px\n",
        "fig = px.scatter(x=df['3c. Height'], y=df['3d. Width'])\n",
        "\n",
        "fig.update_layout(\n",
        "    title='Height vs Width of lattice of models',\n",
        "    xaxis=dict(title='Height'),\n",
        "    yaxis=dict(title='Width'),\n",
        "    title_x=0.5,\n",
        "    title_y=0.95\n",
        ")\n",
        "\n",
        "#fig.update_xaxes(tickvals=[0, 1, 2], ticktext=[f'$10^{power}$' for power in np.arange(0,2)], showgrid=False)\n",
        "#fig.update_yaxes(tickvals=[0, 1, 2], ticktext=[f'$10^{power}$' for power in np.arange(0,2)], showgrid=False)\n",
        "#fig.update_layout(font=dict(size=16))\n",
        "\n",
        "fig.update_layout(font=dict(size=16))\n",
        "\n",
        "fig.show()\n",
        "\n",
        "#STILL HAVE TO PLOT\n",
        "#write_image(fig, 'Parameter 3c&d: Height vs Width.png')"
      ],
      "metadata": {
        "colab": {
          "base_uri": "https://localhost:8080/",
          "height": 542
        },
        "id": "Vxaf2BbKELew",
        "outputId": "545a0015-236b-4426-9a09-8615690dfefc"
      },
      "id": "Vxaf2BbKELew",
      "execution_count": null,
      "outputs": [
        {
          "output_type": "display_data",
          "data": {
            "text/html": [
              "<html>\n",
              "<head><meta charset=\"utf-8\" /></head>\n",
              "<body>\n",
              "    <div>            <script src=\"https://cdnjs.cloudflare.com/ajax/libs/mathjax/2.7.5/MathJax.js?config=TeX-AMS-MML_SVG\"></script><script type=\"text/javascript\">if (window.MathJax && window.MathJax.Hub && window.MathJax.Hub.Config) {window.MathJax.Hub.Config({SVG: {font: \"STIX-Web\"}});}</script>                <script type=\"text/javascript\">window.PlotlyConfig = {MathJaxConfig: 'local'};</script>\n",
              "        <script charset=\"utf-8\" src=\"https://cdn.plot.ly/plotly-2.24.1.min.js\"></script>                <div id=\"6407c386-a380-431b-a1ec-8bb3b3e1dc9f\" class=\"plotly-graph-div\" style=\"height:525px; width:100%;\"></div>            <script type=\"text/javascript\">                                    window.PLOTLYENV=window.PLOTLYENV || {};                                    if (document.getElementById(\"6407c386-a380-431b-a1ec-8bb3b3e1dc9f\")) {                    Plotly.newPlot(                        \"6407c386-a380-431b-a1ec-8bb3b3e1dc9f\",                        [{\"hovertemplate\":\"x=%{x}\\u003cbr\\u003ey=%{y}\\u003cextra\\u003e\\u003c\\u002fextra\\u003e\",\"legendgroup\":\"\",\"marker\":{\"color\":\"#636efa\",\"symbol\":\"circle\"},\"mode\":\"markers\",\"name\":\"\",\"orientation\":\"v\",\"showlegend\":false,\"x\":[0,3,3,1,6,1,1,0,1,1,0,1,2,1,3,1,2,1,6,1,5,1,2,6,1,0,0,1,0,1,2,0,5,1,9,1,1,1,1,1,1,1,1,1,0,1,1,1,1,1,1,8,8,1,5,1,1,1,2,2,2,1,1,1,1,0,1,4,1,8,0,8,1,1,1,1,1,1,4,1,0,2,0,0,0,0,0,0,0,0,1,0,0,0,0,1,7,0,1,1,6,7,7,6,0,0,2,0,13,0,1,2,2,2,2,2,0,1,1,0,4,0,1,1,7,8,2,1,1,0,0,0,6,1,1,1,1,1,3,0,0,2,0,0,1,1,1,1,2,0,0,1,1,1,1,1,1,1,1,1,1,1,1,1,1,1,1,1,1,1,6,4,1,1,1,1,1,1,1,1,1,1,1,1,1,1,1,1,4,1,1,1,1,1,1,1,1,1,1,1,2,1,1,1,1,1,1,0,0,0,9,3,7,1,0,0,0,0,0,0,0,0,0,0,0,0,0,0,0,0,0,0,0,0,4,4,4,15,15,1,1,5,3,1,1,7,0,3,2,2,1,1,1,1,1,1,1,1,1,1,1,1,1,1,1,1,1,1,1,1,1,1,1,1],\"xaxis\":\"x\",\"y\":[1,2,2,1,8,1,1,1,1,1,1,1,1,1,1,1,1,1,5,1,6,1,1,6,1,1,1,1,1,1,1,1,6,1,22,1,1,1,1,1,1,1,1,1,1,1,1,1,1,1,1,1,6,1,6,1,1,1,1,1,1,1,1,1,1,1,1,2,1,56,1,10,1,1,1,1,1,1,3,1,1,2,1,1,1,1,1,1,1,1,1,1,1,1,1,1,5,1,1,1,4,20,20,5,1,1,1,1,22,1,1,1,1,1,1,1,1,1,1,1,2,1,1,1,3,3,1,1,1,1,1,1,5,1,1,1,1,1,3,1,1,1,1,1,1,1,1,1,1,1,1,1,1,1,1,1,1,1,1,1,1,1,1,1,1,1,1,1,1,1,7,3,1,1,1,1,1,1,1,1,1,1,1,1,1,1,1,1,1,1,1,1,1,1,1,1,1,1,1,1,1,1,1,1,1,1,1,1,1,1,1,1,1,1,1,1,1,1,1,1,1,1,1,1,1,1,1,1,1,1,1,1,1,1,1,1,1,1,1,1,1,1,1,1,1,1,1,1,1,1,1,1,1,1,1,1,1,1,1,1,1,1,1,1,1,1,1,1,1,1,1,1,1,1],\"yaxis\":\"y\",\"type\":\"scatter\"}],                        {\"template\":{\"data\":{\"histogram2dcontour\":[{\"type\":\"histogram2dcontour\",\"colorbar\":{\"outlinewidth\":0,\"ticks\":\"\"},\"colorscale\":[[0.0,\"#0d0887\"],[0.1111111111111111,\"#46039f\"],[0.2222222222222222,\"#7201a8\"],[0.3333333333333333,\"#9c179e\"],[0.4444444444444444,\"#bd3786\"],[0.5555555555555556,\"#d8576b\"],[0.6666666666666666,\"#ed7953\"],[0.7777777777777778,\"#fb9f3a\"],[0.8888888888888888,\"#fdca26\"],[1.0,\"#f0f921\"]]}],\"choropleth\":[{\"type\":\"choropleth\",\"colorbar\":{\"outlinewidth\":0,\"ticks\":\"\"}}],\"histogram2d\":[{\"type\":\"histogram2d\",\"colorbar\":{\"outlinewidth\":0,\"ticks\":\"\"},\"colorscale\":[[0.0,\"#0d0887\"],[0.1111111111111111,\"#46039f\"],[0.2222222222222222,\"#7201a8\"],[0.3333333333333333,\"#9c179e\"],[0.4444444444444444,\"#bd3786\"],[0.5555555555555556,\"#d8576b\"],[0.6666666666666666,\"#ed7953\"],[0.7777777777777778,\"#fb9f3a\"],[0.8888888888888888,\"#fdca26\"],[1.0,\"#f0f921\"]]}],\"heatmap\":[{\"type\":\"heatmap\",\"colorbar\":{\"outlinewidth\":0,\"ticks\":\"\"},\"colorscale\":[[0.0,\"#0d0887\"],[0.1111111111111111,\"#46039f\"],[0.2222222222222222,\"#7201a8\"],[0.3333333333333333,\"#9c179e\"],[0.4444444444444444,\"#bd3786\"],[0.5555555555555556,\"#d8576b\"],[0.6666666666666666,\"#ed7953\"],[0.7777777777777778,\"#fb9f3a\"],[0.8888888888888888,\"#fdca26\"],[1.0,\"#f0f921\"]]}],\"heatmapgl\":[{\"type\":\"heatmapgl\",\"colorbar\":{\"outlinewidth\":0,\"ticks\":\"\"},\"colorscale\":[[0.0,\"#0d0887\"],[0.1111111111111111,\"#46039f\"],[0.2222222222222222,\"#7201a8\"],[0.3333333333333333,\"#9c179e\"],[0.4444444444444444,\"#bd3786\"],[0.5555555555555556,\"#d8576b\"],[0.6666666666666666,\"#ed7953\"],[0.7777777777777778,\"#fb9f3a\"],[0.8888888888888888,\"#fdca26\"],[1.0,\"#f0f921\"]]}],\"contourcarpet\":[{\"type\":\"contourcarpet\",\"colorbar\":{\"outlinewidth\":0,\"ticks\":\"\"}}],\"contour\":[{\"type\":\"contour\",\"colorbar\":{\"outlinewidth\":0,\"ticks\":\"\"},\"colorscale\":[[0.0,\"#0d0887\"],[0.1111111111111111,\"#46039f\"],[0.2222222222222222,\"#7201a8\"],[0.3333333333333333,\"#9c179e\"],[0.4444444444444444,\"#bd3786\"],[0.5555555555555556,\"#d8576b\"],[0.6666666666666666,\"#ed7953\"],[0.7777777777777778,\"#fb9f3a\"],[0.8888888888888888,\"#fdca26\"],[1.0,\"#f0f921\"]]}],\"surface\":[{\"type\":\"surface\",\"colorbar\":{\"outlinewidth\":0,\"ticks\":\"\"},\"colorscale\":[[0.0,\"#0d0887\"],[0.1111111111111111,\"#46039f\"],[0.2222222222222222,\"#7201a8\"],[0.3333333333333333,\"#9c179e\"],[0.4444444444444444,\"#bd3786\"],[0.5555555555555556,\"#d8576b\"],[0.6666666666666666,\"#ed7953\"],[0.7777777777777778,\"#fb9f3a\"],[0.8888888888888888,\"#fdca26\"],[1.0,\"#f0f921\"]]}],\"mesh3d\":[{\"type\":\"mesh3d\",\"colorbar\":{\"outlinewidth\":0,\"ticks\":\"\"}}],\"scatter\":[{\"fillpattern\":{\"fillmode\":\"overlay\",\"size\":10,\"solidity\":0.2},\"type\":\"scatter\"}],\"parcoords\":[{\"type\":\"parcoords\",\"line\":{\"colorbar\":{\"outlinewidth\":0,\"ticks\":\"\"}}}],\"scatterpolargl\":[{\"type\":\"scatterpolargl\",\"marker\":{\"colorbar\":{\"outlinewidth\":0,\"ticks\":\"\"}}}],\"bar\":[{\"error_x\":{\"color\":\"#2a3f5f\"},\"error_y\":{\"color\":\"#2a3f5f\"},\"marker\":{\"line\":{\"color\":\"#E5ECF6\",\"width\":0.5},\"pattern\":{\"fillmode\":\"overlay\",\"size\":10,\"solidity\":0.2}},\"type\":\"bar\"}],\"scattergeo\":[{\"type\":\"scattergeo\",\"marker\":{\"colorbar\":{\"outlinewidth\":0,\"ticks\":\"\"}}}],\"scatterpolar\":[{\"type\":\"scatterpolar\",\"marker\":{\"colorbar\":{\"outlinewidth\":0,\"ticks\":\"\"}}}],\"histogram\":[{\"marker\":{\"pattern\":{\"fillmode\":\"overlay\",\"size\":10,\"solidity\":0.2}},\"type\":\"histogram\"}],\"scattergl\":[{\"type\":\"scattergl\",\"marker\":{\"colorbar\":{\"outlinewidth\":0,\"ticks\":\"\"}}}],\"scatter3d\":[{\"type\":\"scatter3d\",\"line\":{\"colorbar\":{\"outlinewidth\":0,\"ticks\":\"\"}},\"marker\":{\"colorbar\":{\"outlinewidth\":0,\"ticks\":\"\"}}}],\"scattermapbox\":[{\"type\":\"scattermapbox\",\"marker\":{\"colorbar\":{\"outlinewidth\":0,\"ticks\":\"\"}}}],\"scatterternary\":[{\"type\":\"scatterternary\",\"marker\":{\"colorbar\":{\"outlinewidth\":0,\"ticks\":\"\"}}}],\"scattercarpet\":[{\"type\":\"scattercarpet\",\"marker\":{\"colorbar\":{\"outlinewidth\":0,\"ticks\":\"\"}}}],\"carpet\":[{\"aaxis\":{\"endlinecolor\":\"#2a3f5f\",\"gridcolor\":\"white\",\"linecolor\":\"white\",\"minorgridcolor\":\"white\",\"startlinecolor\":\"#2a3f5f\"},\"baxis\":{\"endlinecolor\":\"#2a3f5f\",\"gridcolor\":\"white\",\"linecolor\":\"white\",\"minorgridcolor\":\"white\",\"startlinecolor\":\"#2a3f5f\"},\"type\":\"carpet\"}],\"table\":[{\"cells\":{\"fill\":{\"color\":\"#EBF0F8\"},\"line\":{\"color\":\"white\"}},\"header\":{\"fill\":{\"color\":\"#C8D4E3\"},\"line\":{\"color\":\"white\"}},\"type\":\"table\"}],\"barpolar\":[{\"marker\":{\"line\":{\"color\":\"#E5ECF6\",\"width\":0.5},\"pattern\":{\"fillmode\":\"overlay\",\"size\":10,\"solidity\":0.2}},\"type\":\"barpolar\"}],\"pie\":[{\"automargin\":true,\"type\":\"pie\"}]},\"layout\":{\"autotypenumbers\":\"strict\",\"colorway\":[\"#636efa\",\"#EF553B\",\"#00cc96\",\"#ab63fa\",\"#FFA15A\",\"#19d3f3\",\"#FF6692\",\"#B6E880\",\"#FF97FF\",\"#FECB52\"],\"font\":{\"color\":\"#2a3f5f\"},\"hovermode\":\"closest\",\"hoverlabel\":{\"align\":\"left\"},\"paper_bgcolor\":\"white\",\"plot_bgcolor\":\"#E5ECF6\",\"polar\":{\"bgcolor\":\"#E5ECF6\",\"angularaxis\":{\"gridcolor\":\"white\",\"linecolor\":\"white\",\"ticks\":\"\"},\"radialaxis\":{\"gridcolor\":\"white\",\"linecolor\":\"white\",\"ticks\":\"\"}},\"ternary\":{\"bgcolor\":\"#E5ECF6\",\"aaxis\":{\"gridcolor\":\"white\",\"linecolor\":\"white\",\"ticks\":\"\"},\"baxis\":{\"gridcolor\":\"white\",\"linecolor\":\"white\",\"ticks\":\"\"},\"caxis\":{\"gridcolor\":\"white\",\"linecolor\":\"white\",\"ticks\":\"\"}},\"coloraxis\":{\"colorbar\":{\"outlinewidth\":0,\"ticks\":\"\"}},\"colorscale\":{\"sequential\":[[0.0,\"#0d0887\"],[0.1111111111111111,\"#46039f\"],[0.2222222222222222,\"#7201a8\"],[0.3333333333333333,\"#9c179e\"],[0.4444444444444444,\"#bd3786\"],[0.5555555555555556,\"#d8576b\"],[0.6666666666666666,\"#ed7953\"],[0.7777777777777778,\"#fb9f3a\"],[0.8888888888888888,\"#fdca26\"],[1.0,\"#f0f921\"]],\"sequentialminus\":[[0.0,\"#0d0887\"],[0.1111111111111111,\"#46039f\"],[0.2222222222222222,\"#7201a8\"],[0.3333333333333333,\"#9c179e\"],[0.4444444444444444,\"#bd3786\"],[0.5555555555555556,\"#d8576b\"],[0.6666666666666666,\"#ed7953\"],[0.7777777777777778,\"#fb9f3a\"],[0.8888888888888888,\"#fdca26\"],[1.0,\"#f0f921\"]],\"diverging\":[[0,\"#8e0152\"],[0.1,\"#c51b7d\"],[0.2,\"#de77ae\"],[0.3,\"#f1b6da\"],[0.4,\"#fde0ef\"],[0.5,\"#f7f7f7\"],[0.6,\"#e6f5d0\"],[0.7,\"#b8e186\"],[0.8,\"#7fbc41\"],[0.9,\"#4d9221\"],[1,\"#276419\"]]},\"xaxis\":{\"gridcolor\":\"white\",\"linecolor\":\"white\",\"ticks\":\"\",\"title\":{\"standoff\":15},\"zerolinecolor\":\"white\",\"automargin\":true,\"zerolinewidth\":2},\"yaxis\":{\"gridcolor\":\"white\",\"linecolor\":\"white\",\"ticks\":\"\",\"title\":{\"standoff\":15},\"zerolinecolor\":\"white\",\"automargin\":true,\"zerolinewidth\":2},\"scene\":{\"xaxis\":{\"backgroundcolor\":\"#E5ECF6\",\"gridcolor\":\"white\",\"linecolor\":\"white\",\"showbackground\":true,\"ticks\":\"\",\"zerolinecolor\":\"white\",\"gridwidth\":2},\"yaxis\":{\"backgroundcolor\":\"#E5ECF6\",\"gridcolor\":\"white\",\"linecolor\":\"white\",\"showbackground\":true,\"ticks\":\"\",\"zerolinecolor\":\"white\",\"gridwidth\":2},\"zaxis\":{\"backgroundcolor\":\"#E5ECF6\",\"gridcolor\":\"white\",\"linecolor\":\"white\",\"showbackground\":true,\"ticks\":\"\",\"zerolinecolor\":\"white\",\"gridwidth\":2}},\"shapedefaults\":{\"line\":{\"color\":\"#2a3f5f\"}},\"annotationdefaults\":{\"arrowcolor\":\"#2a3f5f\",\"arrowhead\":0,\"arrowwidth\":1},\"geo\":{\"bgcolor\":\"white\",\"landcolor\":\"#E5ECF6\",\"subunitcolor\":\"white\",\"showland\":true,\"showlakes\":true,\"lakecolor\":\"white\"},\"title\":{\"x\":0.05},\"mapbox\":{\"style\":\"light\"}}},\"xaxis\":{\"anchor\":\"y\",\"domain\":[0.0,1.0],\"title\":{\"text\":\"Height\"}},\"yaxis\":{\"anchor\":\"x\",\"domain\":[0.0,1.0],\"title\":{\"text\":\"Width\"}},\"legend\":{\"tracegroupgap\":0},\"margin\":{\"t\":60},\"title\":{\"text\":\"Height vs Width of lattice of models\",\"x\":0.5,\"y\":0.95},\"font\":{\"size\":16}},                        {\"responsive\": true}                    ).then(function(){\n",
              "                            \n",
              "var gd = document.getElementById('6407c386-a380-431b-a1ec-8bb3b3e1dc9f');\n",
              "var x = new MutationObserver(function (mutations, observer) {{\n",
              "        var display = window.getComputedStyle(gd).display;\n",
              "        if (!display || display === 'none') {{\n",
              "            console.log([gd, 'removed!']);\n",
              "            Plotly.purge(gd);\n",
              "            observer.disconnect();\n",
              "        }}\n",
              "}});\n",
              "\n",
              "// Listen for the removal of the full notebook cells\n",
              "var notebookContainer = gd.closest('#notebook-container');\n",
              "if (notebookContainer) {{\n",
              "    x.observe(notebookContainer, {childList: true});\n",
              "}}\n",
              "\n",
              "// Listen for the clearing of the current output cell\n",
              "var outputEl = gd.closest('.output');\n",
              "if (outputEl) {{\n",
              "    x.observe(outputEl, {childList: true});\n",
              "}}\n",
              "\n",
              "                        })                };                            </script>        </div>\n",
              "</body>\n",
              "</html>"
            ]
          },
          "metadata": {}
        }
      ]
    },
    {
      "cell_type": "code",
      "source": [
        "#Parameter 3a\n",
        "import plotly.graph_objects as go\n",
        "import numpy as np\n",
        "\n",
        "bins = [1, 2, 3, 4, 5, 100]\n",
        "\n",
        "hist, bin_edges = np.histogram(df['3c. Height'], bins)\n",
        "\n",
        "# Create plotly histogram\n",
        "fig = go.Figure()\n",
        "\n",
        "# Add histogram trace\n",
        "fig.add_trace(go.Bar(\n",
        "    x=[f\"{bins[i]} - {bins[i+1]}\" for i in range(len(bins) - 1)],\n",
        "    y=hist,\n",
        "    marker_color='blue',\n",
        "    opacity=0.7\n",
        "))\n",
        "\n",
        "\n",
        "# Update layout\n",
        "fig.update_layout(\n",
        "    title='Histogram of Height of lattices along with number of models',\n",
        "    xaxis=dict(title='Height of lattice'),\n",
        "    yaxis=dict(title='No. of Models'),\n",
        "    barmode='overlay',\n",
        "    title_x=0.5,\n",
        "    title_y=0.95\n",
        ")\n",
        "\n",
        "# Update x-axis labels\n",
        "fig.update_xaxes(tickvals=[f\"{bins[i]} - {bins[i+1]}\" for i in range(len(bins) - 1)], ticktext=['1', '2', '3', '4', '5+'], showgrid=False)\n",
        "fig.update_yaxes(showgrid=False)\n",
        "\n",
        "fig.update_layout(font=dict(size=16))\n",
        "\n",
        "# Show plot\n",
        "fig.show()\n",
        "\n",
        "write_image(fig, 'Parameter 3c: Height.png')"
      ],
      "metadata": {
        "colab": {
          "base_uri": "https://localhost:8080/",
          "height": 542
        },
        "id": "Ncp02tKYqJ6-",
        "outputId": "098a700d-35ba-4adc-cebd-ef4d33dadea9"
      },
      "id": "Ncp02tKYqJ6-",
      "execution_count": null,
      "outputs": [
        {
          "output_type": "display_data",
          "data": {
            "text/html": [
              "<html>\n",
              "<head><meta charset=\"utf-8\" /></head>\n",
              "<body>\n",
              "    <div>            <script src=\"https://cdnjs.cloudflare.com/ajax/libs/mathjax/2.7.5/MathJax.js?config=TeX-AMS-MML_SVG\"></script><script type=\"text/javascript\">if (window.MathJax && window.MathJax.Hub && window.MathJax.Hub.Config) {window.MathJax.Hub.Config({SVG: {font: \"STIX-Web\"}});}</script>                <script type=\"text/javascript\">window.PlotlyConfig = {MathJaxConfig: 'local'};</script>\n",
              "        <script charset=\"utf-8\" src=\"https://cdn.plot.ly/plotly-2.24.1.min.js\"></script>                <div id=\"451b299b-1e7b-4b36-8a7f-3002f974616b\" class=\"plotly-graph-div\" style=\"height:525px; width:100%;\"></div>            <script type=\"text/javascript\">                                    window.PLOTLYENV=window.PLOTLYENV || {};                                    if (document.getElementById(\"451b299b-1e7b-4b36-8a7f-3002f974616b\")) {                    Plotly.newPlot(                        \"451b299b-1e7b-4b36-8a7f-3002f974616b\",                        [{\"marker\":{\"color\":\"blue\"},\"opacity\":0.7,\"x\":[\"1 - 2\",\"2 - 3\",\"3 - 4\",\"4 - 5\",\"5 - 100\"],\"y\":[148,20,7,8,27],\"type\":\"bar\"}],                        {\"template\":{\"data\":{\"histogram2dcontour\":[{\"type\":\"histogram2dcontour\",\"colorbar\":{\"outlinewidth\":0,\"ticks\":\"\"},\"colorscale\":[[0.0,\"#0d0887\"],[0.1111111111111111,\"#46039f\"],[0.2222222222222222,\"#7201a8\"],[0.3333333333333333,\"#9c179e\"],[0.4444444444444444,\"#bd3786\"],[0.5555555555555556,\"#d8576b\"],[0.6666666666666666,\"#ed7953\"],[0.7777777777777778,\"#fb9f3a\"],[0.8888888888888888,\"#fdca26\"],[1.0,\"#f0f921\"]]}],\"choropleth\":[{\"type\":\"choropleth\",\"colorbar\":{\"outlinewidth\":0,\"ticks\":\"\"}}],\"histogram2d\":[{\"type\":\"histogram2d\",\"colorbar\":{\"outlinewidth\":0,\"ticks\":\"\"},\"colorscale\":[[0.0,\"#0d0887\"],[0.1111111111111111,\"#46039f\"],[0.2222222222222222,\"#7201a8\"],[0.3333333333333333,\"#9c179e\"],[0.4444444444444444,\"#bd3786\"],[0.5555555555555556,\"#d8576b\"],[0.6666666666666666,\"#ed7953\"],[0.7777777777777778,\"#fb9f3a\"],[0.8888888888888888,\"#fdca26\"],[1.0,\"#f0f921\"]]}],\"heatmap\":[{\"type\":\"heatmap\",\"colorbar\":{\"outlinewidth\":0,\"ticks\":\"\"},\"colorscale\":[[0.0,\"#0d0887\"],[0.1111111111111111,\"#46039f\"],[0.2222222222222222,\"#7201a8\"],[0.3333333333333333,\"#9c179e\"],[0.4444444444444444,\"#bd3786\"],[0.5555555555555556,\"#d8576b\"],[0.6666666666666666,\"#ed7953\"],[0.7777777777777778,\"#fb9f3a\"],[0.8888888888888888,\"#fdca26\"],[1.0,\"#f0f921\"]]}],\"heatmapgl\":[{\"type\":\"heatmapgl\",\"colorbar\":{\"outlinewidth\":0,\"ticks\":\"\"},\"colorscale\":[[0.0,\"#0d0887\"],[0.1111111111111111,\"#46039f\"],[0.2222222222222222,\"#7201a8\"],[0.3333333333333333,\"#9c179e\"],[0.4444444444444444,\"#bd3786\"],[0.5555555555555556,\"#d8576b\"],[0.6666666666666666,\"#ed7953\"],[0.7777777777777778,\"#fb9f3a\"],[0.8888888888888888,\"#fdca26\"],[1.0,\"#f0f921\"]]}],\"contourcarpet\":[{\"type\":\"contourcarpet\",\"colorbar\":{\"outlinewidth\":0,\"ticks\":\"\"}}],\"contour\":[{\"type\":\"contour\",\"colorbar\":{\"outlinewidth\":0,\"ticks\":\"\"},\"colorscale\":[[0.0,\"#0d0887\"],[0.1111111111111111,\"#46039f\"],[0.2222222222222222,\"#7201a8\"],[0.3333333333333333,\"#9c179e\"],[0.4444444444444444,\"#bd3786\"],[0.5555555555555556,\"#d8576b\"],[0.6666666666666666,\"#ed7953\"],[0.7777777777777778,\"#fb9f3a\"],[0.8888888888888888,\"#fdca26\"],[1.0,\"#f0f921\"]]}],\"surface\":[{\"type\":\"surface\",\"colorbar\":{\"outlinewidth\":0,\"ticks\":\"\"},\"colorscale\":[[0.0,\"#0d0887\"],[0.1111111111111111,\"#46039f\"],[0.2222222222222222,\"#7201a8\"],[0.3333333333333333,\"#9c179e\"],[0.4444444444444444,\"#bd3786\"],[0.5555555555555556,\"#d8576b\"],[0.6666666666666666,\"#ed7953\"],[0.7777777777777778,\"#fb9f3a\"],[0.8888888888888888,\"#fdca26\"],[1.0,\"#f0f921\"]]}],\"mesh3d\":[{\"type\":\"mesh3d\",\"colorbar\":{\"outlinewidth\":0,\"ticks\":\"\"}}],\"scatter\":[{\"fillpattern\":{\"fillmode\":\"overlay\",\"size\":10,\"solidity\":0.2},\"type\":\"scatter\"}],\"parcoords\":[{\"type\":\"parcoords\",\"line\":{\"colorbar\":{\"outlinewidth\":0,\"ticks\":\"\"}}}],\"scatterpolargl\":[{\"type\":\"scatterpolargl\",\"marker\":{\"colorbar\":{\"outlinewidth\":0,\"ticks\":\"\"}}}],\"bar\":[{\"error_x\":{\"color\":\"#2a3f5f\"},\"error_y\":{\"color\":\"#2a3f5f\"},\"marker\":{\"line\":{\"color\":\"#E5ECF6\",\"width\":0.5},\"pattern\":{\"fillmode\":\"overlay\",\"size\":10,\"solidity\":0.2}},\"type\":\"bar\"}],\"scattergeo\":[{\"type\":\"scattergeo\",\"marker\":{\"colorbar\":{\"outlinewidth\":0,\"ticks\":\"\"}}}],\"scatterpolar\":[{\"type\":\"scatterpolar\",\"marker\":{\"colorbar\":{\"outlinewidth\":0,\"ticks\":\"\"}}}],\"histogram\":[{\"marker\":{\"pattern\":{\"fillmode\":\"overlay\",\"size\":10,\"solidity\":0.2}},\"type\":\"histogram\"}],\"scattergl\":[{\"type\":\"scattergl\",\"marker\":{\"colorbar\":{\"outlinewidth\":0,\"ticks\":\"\"}}}],\"scatter3d\":[{\"type\":\"scatter3d\",\"line\":{\"colorbar\":{\"outlinewidth\":0,\"ticks\":\"\"}},\"marker\":{\"colorbar\":{\"outlinewidth\":0,\"ticks\":\"\"}}}],\"scattermapbox\":[{\"type\":\"scattermapbox\",\"marker\":{\"colorbar\":{\"outlinewidth\":0,\"ticks\":\"\"}}}],\"scatterternary\":[{\"type\":\"scatterternary\",\"marker\":{\"colorbar\":{\"outlinewidth\":0,\"ticks\":\"\"}}}],\"scattercarpet\":[{\"type\":\"scattercarpet\",\"marker\":{\"colorbar\":{\"outlinewidth\":0,\"ticks\":\"\"}}}],\"carpet\":[{\"aaxis\":{\"endlinecolor\":\"#2a3f5f\",\"gridcolor\":\"white\",\"linecolor\":\"white\",\"minorgridcolor\":\"white\",\"startlinecolor\":\"#2a3f5f\"},\"baxis\":{\"endlinecolor\":\"#2a3f5f\",\"gridcolor\":\"white\",\"linecolor\":\"white\",\"minorgridcolor\":\"white\",\"startlinecolor\":\"#2a3f5f\"},\"type\":\"carpet\"}],\"table\":[{\"cells\":{\"fill\":{\"color\":\"#EBF0F8\"},\"line\":{\"color\":\"white\"}},\"header\":{\"fill\":{\"color\":\"#C8D4E3\"},\"line\":{\"color\":\"white\"}},\"type\":\"table\"}],\"barpolar\":[{\"marker\":{\"line\":{\"color\":\"#E5ECF6\",\"width\":0.5},\"pattern\":{\"fillmode\":\"overlay\",\"size\":10,\"solidity\":0.2}},\"type\":\"barpolar\"}],\"pie\":[{\"automargin\":true,\"type\":\"pie\"}]},\"layout\":{\"autotypenumbers\":\"strict\",\"colorway\":[\"#636efa\",\"#EF553B\",\"#00cc96\",\"#ab63fa\",\"#FFA15A\",\"#19d3f3\",\"#FF6692\",\"#B6E880\",\"#FF97FF\",\"#FECB52\"],\"font\":{\"color\":\"#2a3f5f\"},\"hovermode\":\"closest\",\"hoverlabel\":{\"align\":\"left\"},\"paper_bgcolor\":\"white\",\"plot_bgcolor\":\"#E5ECF6\",\"polar\":{\"bgcolor\":\"#E5ECF6\",\"angularaxis\":{\"gridcolor\":\"white\",\"linecolor\":\"white\",\"ticks\":\"\"},\"radialaxis\":{\"gridcolor\":\"white\",\"linecolor\":\"white\",\"ticks\":\"\"}},\"ternary\":{\"bgcolor\":\"#E5ECF6\",\"aaxis\":{\"gridcolor\":\"white\",\"linecolor\":\"white\",\"ticks\":\"\"},\"baxis\":{\"gridcolor\":\"white\",\"linecolor\":\"white\",\"ticks\":\"\"},\"caxis\":{\"gridcolor\":\"white\",\"linecolor\":\"white\",\"ticks\":\"\"}},\"coloraxis\":{\"colorbar\":{\"outlinewidth\":0,\"ticks\":\"\"}},\"colorscale\":{\"sequential\":[[0.0,\"#0d0887\"],[0.1111111111111111,\"#46039f\"],[0.2222222222222222,\"#7201a8\"],[0.3333333333333333,\"#9c179e\"],[0.4444444444444444,\"#bd3786\"],[0.5555555555555556,\"#d8576b\"],[0.6666666666666666,\"#ed7953\"],[0.7777777777777778,\"#fb9f3a\"],[0.8888888888888888,\"#fdca26\"],[1.0,\"#f0f921\"]],\"sequentialminus\":[[0.0,\"#0d0887\"],[0.1111111111111111,\"#46039f\"],[0.2222222222222222,\"#7201a8\"],[0.3333333333333333,\"#9c179e\"],[0.4444444444444444,\"#bd3786\"],[0.5555555555555556,\"#d8576b\"],[0.6666666666666666,\"#ed7953\"],[0.7777777777777778,\"#fb9f3a\"],[0.8888888888888888,\"#fdca26\"],[1.0,\"#f0f921\"]],\"diverging\":[[0,\"#8e0152\"],[0.1,\"#c51b7d\"],[0.2,\"#de77ae\"],[0.3,\"#f1b6da\"],[0.4,\"#fde0ef\"],[0.5,\"#f7f7f7\"],[0.6,\"#e6f5d0\"],[0.7,\"#b8e186\"],[0.8,\"#7fbc41\"],[0.9,\"#4d9221\"],[1,\"#276419\"]]},\"xaxis\":{\"gridcolor\":\"white\",\"linecolor\":\"white\",\"ticks\":\"\",\"title\":{\"standoff\":15},\"zerolinecolor\":\"white\",\"automargin\":true,\"zerolinewidth\":2},\"yaxis\":{\"gridcolor\":\"white\",\"linecolor\":\"white\",\"ticks\":\"\",\"title\":{\"standoff\":15},\"zerolinecolor\":\"white\",\"automargin\":true,\"zerolinewidth\":2},\"scene\":{\"xaxis\":{\"backgroundcolor\":\"#E5ECF6\",\"gridcolor\":\"white\",\"linecolor\":\"white\",\"showbackground\":true,\"ticks\":\"\",\"zerolinecolor\":\"white\",\"gridwidth\":2},\"yaxis\":{\"backgroundcolor\":\"#E5ECF6\",\"gridcolor\":\"white\",\"linecolor\":\"white\",\"showbackground\":true,\"ticks\":\"\",\"zerolinecolor\":\"white\",\"gridwidth\":2},\"zaxis\":{\"backgroundcolor\":\"#E5ECF6\",\"gridcolor\":\"white\",\"linecolor\":\"white\",\"showbackground\":true,\"ticks\":\"\",\"zerolinecolor\":\"white\",\"gridwidth\":2}},\"shapedefaults\":{\"line\":{\"color\":\"#2a3f5f\"}},\"annotationdefaults\":{\"arrowcolor\":\"#2a3f5f\",\"arrowhead\":0,\"arrowwidth\":1},\"geo\":{\"bgcolor\":\"white\",\"landcolor\":\"#E5ECF6\",\"subunitcolor\":\"white\",\"showland\":true,\"showlakes\":true,\"lakecolor\":\"white\"},\"title\":{\"x\":0.05},\"mapbox\":{\"style\":\"light\"}}},\"title\":{\"text\":\"Histogram of Height of lattices along with number of models\",\"x\":0.5,\"y\":0.95},\"xaxis\":{\"title\":{\"text\":\"Height of lattice\"},\"tickvals\":[\"1 - 2\",\"2 - 3\",\"3 - 4\",\"4 - 5\",\"5 - 100\"],\"ticktext\":[\"1\",\"2\",\"3\",\"4\",\"5+\"],\"showgrid\":false},\"yaxis\":{\"title\":{\"text\":\"No. of Models\"},\"showgrid\":false},\"barmode\":\"overlay\",\"font\":{\"size\":16}},                        {\"responsive\": true}                    ).then(function(){\n",
              "                            \n",
              "var gd = document.getElementById('451b299b-1e7b-4b36-8a7f-3002f974616b');\n",
              "var x = new MutationObserver(function (mutations, observer) {{\n",
              "        var display = window.getComputedStyle(gd).display;\n",
              "        if (!display || display === 'none') {{\n",
              "            console.log([gd, 'removed!']);\n",
              "            Plotly.purge(gd);\n",
              "            observer.disconnect();\n",
              "        }}\n",
              "}});\n",
              "\n",
              "// Listen for the removal of the full notebook cells\n",
              "var notebookContainer = gd.closest('#notebook-container');\n",
              "if (notebookContainer) {{\n",
              "    x.observe(notebookContainer, {childList: true});\n",
              "}}\n",
              "\n",
              "// Listen for the clearing of the current output cell\n",
              "var outputEl = gd.closest('.output');\n",
              "if (outputEl) {{\n",
              "    x.observe(outputEl, {childList: true});\n",
              "}}\n",
              "\n",
              "                        })                };                            </script>        </div>\n",
              "</body>\n",
              "</html>"
            ]
          },
          "metadata": {}
        }
      ]
    },
    {
      "cell_type": "code",
      "source": [
        "#Parameter 3a\n",
        "import plotly.graph_objects as go\n",
        "import numpy as np\n",
        "\n",
        "bins = [1, 2, 3, 4, 5, 100]\n",
        "\n",
        "hist, bin_edges = np.histogram(df['3d. Width'], bins)\n",
        "\n",
        "# Create plotly histogram\n",
        "fig = go.Figure()\n",
        "\n",
        "# Add histogram trace\n",
        "fig.add_trace(go.Bar(\n",
        "    x=[f\"{bins[i]} - {bins[i+1]}\" for i in range(len(bins) - 1)],\n",
        "    y=hist,\n",
        "    marker_color='blue',\n",
        "    opacity=0.7\n",
        "))\n",
        "\n",
        "\n",
        "# Update layout\n",
        "fig.update_layout(\n",
        "    title='Histogram of Width of lattices along with number of models',\n",
        "    xaxis=dict(title='Width of lattice'),\n",
        "    yaxis=dict(title='No. of Models'),\n",
        "    barmode='overlay',\n",
        "    title_x=0.5,\n",
        "    title_y=0.95\n",
        ")\n",
        "\n",
        "# Update x-axis labels\n",
        "fig.update_xaxes(tickvals=[f\"{bins[i]} - {bins[i+1]}\" for i in range(len(bins) - 1)], ticktext=['1', '2', '3', '4', '5+'], showgrid=False)\n",
        "fig.update_yaxes(showgrid=False)\n",
        "\n",
        "fig.update_layout(font=dict(size=16))\n",
        "\n",
        "# Show plot\n",
        "fig.show()\n",
        "\n",
        "write_image(fig, 'Parameter 3d: Width.png')"
      ],
      "metadata": {
        "colab": {
          "base_uri": "https://localhost:8080/",
          "height": 542
        },
        "id": "wEtIwOEDroFd",
        "outputId": "0753bd88-262d-4fd3-936a-a578f4201b87"
      },
      "id": "wEtIwOEDroFd",
      "execution_count": null,
      "outputs": [
        {
          "output_type": "display_data",
          "data": {
            "text/html": [
              "<html>\n",
              "<head><meta charset=\"utf-8\" /></head>\n",
              "<body>\n",
              "    <div>            <script src=\"https://cdnjs.cloudflare.com/ajax/libs/mathjax/2.7.5/MathJax.js?config=TeX-AMS-MML_SVG\"></script><script type=\"text/javascript\">if (window.MathJax && window.MathJax.Hub && window.MathJax.Hub.Config) {window.MathJax.Hub.Config({SVG: {font: \"STIX-Web\"}});}</script>                <script type=\"text/javascript\">window.PlotlyConfig = {MathJaxConfig: 'local'};</script>\n",
              "        <script charset=\"utf-8\" src=\"https://cdn.plot.ly/plotly-2.24.1.min.js\"></script>                <div id=\"fc16f19f-071f-4011-88b3-9abfb7b2d7ae\" class=\"plotly-graph-div\" style=\"height:525px; width:100%;\"></div>            <script type=\"text/javascript\">                                    window.PLOTLYENV=window.PLOTLYENV || {};                                    if (document.getElementById(\"fc16f19f-071f-4011-88b3-9abfb7b2d7ae\")) {                    Plotly.newPlot(                        \"fc16f19f-071f-4011-88b3-9abfb7b2d7ae\",                        [{\"marker\":{\"color\":\"blue\"},\"opacity\":0.7,\"x\":[\"1 - 2\",\"2 - 3\",\"3 - 4\",\"4 - 5\",\"5 - 100\"],\"y\":[246,5,5,1,17],\"type\":\"bar\"}],                        {\"template\":{\"data\":{\"histogram2dcontour\":[{\"type\":\"histogram2dcontour\",\"colorbar\":{\"outlinewidth\":0,\"ticks\":\"\"},\"colorscale\":[[0.0,\"#0d0887\"],[0.1111111111111111,\"#46039f\"],[0.2222222222222222,\"#7201a8\"],[0.3333333333333333,\"#9c179e\"],[0.4444444444444444,\"#bd3786\"],[0.5555555555555556,\"#d8576b\"],[0.6666666666666666,\"#ed7953\"],[0.7777777777777778,\"#fb9f3a\"],[0.8888888888888888,\"#fdca26\"],[1.0,\"#f0f921\"]]}],\"choropleth\":[{\"type\":\"choropleth\",\"colorbar\":{\"outlinewidth\":0,\"ticks\":\"\"}}],\"histogram2d\":[{\"type\":\"histogram2d\",\"colorbar\":{\"outlinewidth\":0,\"ticks\":\"\"},\"colorscale\":[[0.0,\"#0d0887\"],[0.1111111111111111,\"#46039f\"],[0.2222222222222222,\"#7201a8\"],[0.3333333333333333,\"#9c179e\"],[0.4444444444444444,\"#bd3786\"],[0.5555555555555556,\"#d8576b\"],[0.6666666666666666,\"#ed7953\"],[0.7777777777777778,\"#fb9f3a\"],[0.8888888888888888,\"#fdca26\"],[1.0,\"#f0f921\"]]}],\"heatmap\":[{\"type\":\"heatmap\",\"colorbar\":{\"outlinewidth\":0,\"ticks\":\"\"},\"colorscale\":[[0.0,\"#0d0887\"],[0.1111111111111111,\"#46039f\"],[0.2222222222222222,\"#7201a8\"],[0.3333333333333333,\"#9c179e\"],[0.4444444444444444,\"#bd3786\"],[0.5555555555555556,\"#d8576b\"],[0.6666666666666666,\"#ed7953\"],[0.7777777777777778,\"#fb9f3a\"],[0.8888888888888888,\"#fdca26\"],[1.0,\"#f0f921\"]]}],\"heatmapgl\":[{\"type\":\"heatmapgl\",\"colorbar\":{\"outlinewidth\":0,\"ticks\":\"\"},\"colorscale\":[[0.0,\"#0d0887\"],[0.1111111111111111,\"#46039f\"],[0.2222222222222222,\"#7201a8\"],[0.3333333333333333,\"#9c179e\"],[0.4444444444444444,\"#bd3786\"],[0.5555555555555556,\"#d8576b\"],[0.6666666666666666,\"#ed7953\"],[0.7777777777777778,\"#fb9f3a\"],[0.8888888888888888,\"#fdca26\"],[1.0,\"#f0f921\"]]}],\"contourcarpet\":[{\"type\":\"contourcarpet\",\"colorbar\":{\"outlinewidth\":0,\"ticks\":\"\"}}],\"contour\":[{\"type\":\"contour\",\"colorbar\":{\"outlinewidth\":0,\"ticks\":\"\"},\"colorscale\":[[0.0,\"#0d0887\"],[0.1111111111111111,\"#46039f\"],[0.2222222222222222,\"#7201a8\"],[0.3333333333333333,\"#9c179e\"],[0.4444444444444444,\"#bd3786\"],[0.5555555555555556,\"#d8576b\"],[0.6666666666666666,\"#ed7953\"],[0.7777777777777778,\"#fb9f3a\"],[0.8888888888888888,\"#fdca26\"],[1.0,\"#f0f921\"]]}],\"surface\":[{\"type\":\"surface\",\"colorbar\":{\"outlinewidth\":0,\"ticks\":\"\"},\"colorscale\":[[0.0,\"#0d0887\"],[0.1111111111111111,\"#46039f\"],[0.2222222222222222,\"#7201a8\"],[0.3333333333333333,\"#9c179e\"],[0.4444444444444444,\"#bd3786\"],[0.5555555555555556,\"#d8576b\"],[0.6666666666666666,\"#ed7953\"],[0.7777777777777778,\"#fb9f3a\"],[0.8888888888888888,\"#fdca26\"],[1.0,\"#f0f921\"]]}],\"mesh3d\":[{\"type\":\"mesh3d\",\"colorbar\":{\"outlinewidth\":0,\"ticks\":\"\"}}],\"scatter\":[{\"fillpattern\":{\"fillmode\":\"overlay\",\"size\":10,\"solidity\":0.2},\"type\":\"scatter\"}],\"parcoords\":[{\"type\":\"parcoords\",\"line\":{\"colorbar\":{\"outlinewidth\":0,\"ticks\":\"\"}}}],\"scatterpolargl\":[{\"type\":\"scatterpolargl\",\"marker\":{\"colorbar\":{\"outlinewidth\":0,\"ticks\":\"\"}}}],\"bar\":[{\"error_x\":{\"color\":\"#2a3f5f\"},\"error_y\":{\"color\":\"#2a3f5f\"},\"marker\":{\"line\":{\"color\":\"#E5ECF6\",\"width\":0.5},\"pattern\":{\"fillmode\":\"overlay\",\"size\":10,\"solidity\":0.2}},\"type\":\"bar\"}],\"scattergeo\":[{\"type\":\"scattergeo\",\"marker\":{\"colorbar\":{\"outlinewidth\":0,\"ticks\":\"\"}}}],\"scatterpolar\":[{\"type\":\"scatterpolar\",\"marker\":{\"colorbar\":{\"outlinewidth\":0,\"ticks\":\"\"}}}],\"histogram\":[{\"marker\":{\"pattern\":{\"fillmode\":\"overlay\",\"size\":10,\"solidity\":0.2}},\"type\":\"histogram\"}],\"scattergl\":[{\"type\":\"scattergl\",\"marker\":{\"colorbar\":{\"outlinewidth\":0,\"ticks\":\"\"}}}],\"scatter3d\":[{\"type\":\"scatter3d\",\"line\":{\"colorbar\":{\"outlinewidth\":0,\"ticks\":\"\"}},\"marker\":{\"colorbar\":{\"outlinewidth\":0,\"ticks\":\"\"}}}],\"scattermapbox\":[{\"type\":\"scattermapbox\",\"marker\":{\"colorbar\":{\"outlinewidth\":0,\"ticks\":\"\"}}}],\"scatterternary\":[{\"type\":\"scatterternary\",\"marker\":{\"colorbar\":{\"outlinewidth\":0,\"ticks\":\"\"}}}],\"scattercarpet\":[{\"type\":\"scattercarpet\",\"marker\":{\"colorbar\":{\"outlinewidth\":0,\"ticks\":\"\"}}}],\"carpet\":[{\"aaxis\":{\"endlinecolor\":\"#2a3f5f\",\"gridcolor\":\"white\",\"linecolor\":\"white\",\"minorgridcolor\":\"white\",\"startlinecolor\":\"#2a3f5f\"},\"baxis\":{\"endlinecolor\":\"#2a3f5f\",\"gridcolor\":\"white\",\"linecolor\":\"white\",\"minorgridcolor\":\"white\",\"startlinecolor\":\"#2a3f5f\"},\"type\":\"carpet\"}],\"table\":[{\"cells\":{\"fill\":{\"color\":\"#EBF0F8\"},\"line\":{\"color\":\"white\"}},\"header\":{\"fill\":{\"color\":\"#C8D4E3\"},\"line\":{\"color\":\"white\"}},\"type\":\"table\"}],\"barpolar\":[{\"marker\":{\"line\":{\"color\":\"#E5ECF6\",\"width\":0.5},\"pattern\":{\"fillmode\":\"overlay\",\"size\":10,\"solidity\":0.2}},\"type\":\"barpolar\"}],\"pie\":[{\"automargin\":true,\"type\":\"pie\"}]},\"layout\":{\"autotypenumbers\":\"strict\",\"colorway\":[\"#636efa\",\"#EF553B\",\"#00cc96\",\"#ab63fa\",\"#FFA15A\",\"#19d3f3\",\"#FF6692\",\"#B6E880\",\"#FF97FF\",\"#FECB52\"],\"font\":{\"color\":\"#2a3f5f\"},\"hovermode\":\"closest\",\"hoverlabel\":{\"align\":\"left\"},\"paper_bgcolor\":\"white\",\"plot_bgcolor\":\"#E5ECF6\",\"polar\":{\"bgcolor\":\"#E5ECF6\",\"angularaxis\":{\"gridcolor\":\"white\",\"linecolor\":\"white\",\"ticks\":\"\"},\"radialaxis\":{\"gridcolor\":\"white\",\"linecolor\":\"white\",\"ticks\":\"\"}},\"ternary\":{\"bgcolor\":\"#E5ECF6\",\"aaxis\":{\"gridcolor\":\"white\",\"linecolor\":\"white\",\"ticks\":\"\"},\"baxis\":{\"gridcolor\":\"white\",\"linecolor\":\"white\",\"ticks\":\"\"},\"caxis\":{\"gridcolor\":\"white\",\"linecolor\":\"white\",\"ticks\":\"\"}},\"coloraxis\":{\"colorbar\":{\"outlinewidth\":0,\"ticks\":\"\"}},\"colorscale\":{\"sequential\":[[0.0,\"#0d0887\"],[0.1111111111111111,\"#46039f\"],[0.2222222222222222,\"#7201a8\"],[0.3333333333333333,\"#9c179e\"],[0.4444444444444444,\"#bd3786\"],[0.5555555555555556,\"#d8576b\"],[0.6666666666666666,\"#ed7953\"],[0.7777777777777778,\"#fb9f3a\"],[0.8888888888888888,\"#fdca26\"],[1.0,\"#f0f921\"]],\"sequentialminus\":[[0.0,\"#0d0887\"],[0.1111111111111111,\"#46039f\"],[0.2222222222222222,\"#7201a8\"],[0.3333333333333333,\"#9c179e\"],[0.4444444444444444,\"#bd3786\"],[0.5555555555555556,\"#d8576b\"],[0.6666666666666666,\"#ed7953\"],[0.7777777777777778,\"#fb9f3a\"],[0.8888888888888888,\"#fdca26\"],[1.0,\"#f0f921\"]],\"diverging\":[[0,\"#8e0152\"],[0.1,\"#c51b7d\"],[0.2,\"#de77ae\"],[0.3,\"#f1b6da\"],[0.4,\"#fde0ef\"],[0.5,\"#f7f7f7\"],[0.6,\"#e6f5d0\"],[0.7,\"#b8e186\"],[0.8,\"#7fbc41\"],[0.9,\"#4d9221\"],[1,\"#276419\"]]},\"xaxis\":{\"gridcolor\":\"white\",\"linecolor\":\"white\",\"ticks\":\"\",\"title\":{\"standoff\":15},\"zerolinecolor\":\"white\",\"automargin\":true,\"zerolinewidth\":2},\"yaxis\":{\"gridcolor\":\"white\",\"linecolor\":\"white\",\"ticks\":\"\",\"title\":{\"standoff\":15},\"zerolinecolor\":\"white\",\"automargin\":true,\"zerolinewidth\":2},\"scene\":{\"xaxis\":{\"backgroundcolor\":\"#E5ECF6\",\"gridcolor\":\"white\",\"linecolor\":\"white\",\"showbackground\":true,\"ticks\":\"\",\"zerolinecolor\":\"white\",\"gridwidth\":2},\"yaxis\":{\"backgroundcolor\":\"#E5ECF6\",\"gridcolor\":\"white\",\"linecolor\":\"white\",\"showbackground\":true,\"ticks\":\"\",\"zerolinecolor\":\"white\",\"gridwidth\":2},\"zaxis\":{\"backgroundcolor\":\"#E5ECF6\",\"gridcolor\":\"white\",\"linecolor\":\"white\",\"showbackground\":true,\"ticks\":\"\",\"zerolinecolor\":\"white\",\"gridwidth\":2}},\"shapedefaults\":{\"line\":{\"color\":\"#2a3f5f\"}},\"annotationdefaults\":{\"arrowcolor\":\"#2a3f5f\",\"arrowhead\":0,\"arrowwidth\":1},\"geo\":{\"bgcolor\":\"white\",\"landcolor\":\"#E5ECF6\",\"subunitcolor\":\"white\",\"showland\":true,\"showlakes\":true,\"lakecolor\":\"white\"},\"title\":{\"x\":0.05},\"mapbox\":{\"style\":\"light\"}}},\"title\":{\"text\":\"Histogram of Width of lattices along with number of models\",\"x\":0.5,\"y\":0.95},\"xaxis\":{\"title\":{\"text\":\"Width of lattice\"},\"tickvals\":[\"1 - 2\",\"2 - 3\",\"3 - 4\",\"4 - 5\",\"5 - 100\"],\"ticktext\":[\"1\",\"2\",\"3\",\"4\",\"5+\"],\"showgrid\":false},\"yaxis\":{\"title\":{\"text\":\"No. of Models\"},\"showgrid\":false},\"barmode\":\"overlay\",\"font\":{\"size\":16}},                        {\"responsive\": true}                    ).then(function(){\n",
              "                            \n",
              "var gd = document.getElementById('fc16f19f-071f-4011-88b3-9abfb7b2d7ae');\n",
              "var x = new MutationObserver(function (mutations, observer) {{\n",
              "        var display = window.getComputedStyle(gd).display;\n",
              "        if (!display || display === 'none') {{\n",
              "            console.log([gd, 'removed!']);\n",
              "            Plotly.purge(gd);\n",
              "            observer.disconnect();\n",
              "        }}\n",
              "}});\n",
              "\n",
              "// Listen for the removal of the full notebook cells\n",
              "var notebookContainer = gd.closest('#notebook-container');\n",
              "if (notebookContainer) {{\n",
              "    x.observe(notebookContainer, {childList: true});\n",
              "}}\n",
              "\n",
              "// Listen for the clearing of the current output cell\n",
              "var outputEl = gd.closest('.output');\n",
              "if (outputEl) {{\n",
              "    x.observe(outputEl, {childList: true});\n",
              "}}\n",
              "\n",
              "                        })                };                            </script>        </div>\n",
              "</body>\n",
              "</html>"
            ]
          },
          "metadata": {}
        }
      ]
    },
    {
      "cell_type": "code",
      "source": [
        "import plotly.graph_objs as go\n",
        "import numpy as np\n",
        "\n",
        "# Generate data\n",
        "x_data = np.arange(1, 5)\n",
        "y_data = [10, 100, 1000, 10000]\n",
        "\n",
        "# Create plot\n",
        "fig = go.Figure()\n",
        "\n",
        "# Add trace\n",
        "fig.add_trace(go.Scatter(x=x_data, y=y_data, mode='lines'))\n",
        "\n",
        "# Define the powers of 10 for x-axis labels\n",
        "powers_of_10 = np.arange(1, 5)\n",
        "\n",
        "# Generate the corresponding labels for powers of 10\n",
        "x_labels = [f'$10^{power}$' for power in np.arange(1, 5)]\n",
        "\n",
        "# Update x-axis labels\n",
        "fig.update_xaxes(tickvals=x_data, ticktext=x_labels)\n",
        "\n",
        "# Show plot\n",
        "fig.show()"
      ],
      "metadata": {
        "id": "JezWz88f-woe"
      },
      "id": "JezWz88f-woe",
      "execution_count": null,
      "outputs": []
    },
    {
      "cell_type": "code",
      "source": [
        "df.columns"
      ],
      "metadata": {
        "colab": {
          "base_uri": "https://localhost:8080/"
        },
        "id": "RKIuSG0jC6pa",
        "outputId": "3972f006-5d89-49ce-88b5-db76b1d286dd"
      },
      "id": "RKIuSG0jC6pa",
      "execution_count": null,
      "outputs": [
        {
          "output_type": "execute_result",
          "data": {
            "text/plain": [
              "Index(['Unnamed: 0', 'No. of SORs', 'No. of Dos', '2a. No. of Reactions',\n",
              "       '2b. No. of Species', '2c. Reactions / Species',\n",
              "       '3a. No. of Organisations',\n",
              "       '3b. Avg number of reactions per Organization', '3c. Height',\n",
              "       '3e. Persistence', '3d. Width', '4a. No. of Genuine DOs',\n",
              "       '4b. No. of Compartmentalized organisations',\n",
              "       '4c. No. of Compartmentalizations', 'Time Complete',\n",
              "       'No: of Compartments', 'Type of modelling tech', 'Organisms', 'Year',\n",
              "       'Other Details', 'Part of cell cycle ', 'Time Complete exp',\n",
              "       'Time Complete Divided'],\n",
              "      dtype='object')"
            ]
          },
          "metadata": {},
          "execution_count": 44
        }
      ]
    },
    {
      "cell_type": "code",
      "source": [
        "#Parameters 3e\n",
        "import plotly.graph_objects as go\n",
        "import numpy as np\n",
        "\n",
        "bins = [0, 0.1, 0.2, 0.3, 0.4, 0.5, 0.6, 0.7, 0.8, 0.9, 1, 2]\n",
        "\n",
        "hist, bin_edges = np.histogram(df['3e. Persistence'], bins)\n",
        "# Create plotly histogram\n",
        "fig = go.Figure()\n",
        "\n",
        "# Add histogram trace\n",
        "fig.add_trace(go.Bar(\n",
        "    x=[f\"{bins[i]} - {bins[i+1]}\" for i in range(len(bins) - 1)],\n",
        "    y=np.log10(hist),\n",
        "    marker_color='blue',\n",
        "    opacity=0.7,\n",
        "    name='Persistence'\n",
        "))\n",
        "\n",
        "\n",
        "# Update layout\n",
        "fig.update_layout(\n",
        "    title='Histogram of Persistence along with number of models',\n",
        "    xaxis=dict(title='Persistence'),\n",
        "    yaxis=dict(title='Number of Models'),\n",
        "    title_x=0.5,\n",
        "    title_y=0.92\n",
        ")\n",
        "\n",
        "fig.update_layout(font=dict(size=16))\n",
        "fig.update_xaxes(tickvals=[f\"{bins[i]} - {bins[i+1]}\" for i in range(len(bins) - 1)], ticktext=['<0.1', '0.1', '0.2', '0.3', '0.4', '0.5', '0.6', '0.7', '0.8', '0.9', '1'], showgrid=False)\n",
        "fig.update_yaxes(tickvals=[0, 1, 2, 3], ticktext=[f'$10^{power}$' for power in np.arange(0,3)], showgrid=False)\n",
        "fig.show()\n",
        "\n",
        "write_image(fig, 'Parameter 3e: Histogram of Persistence vs log10 of Number of models.png')"
      ],
      "metadata": {
        "colab": {
          "base_uri": "https://localhost:8080/",
          "height": 542
        },
        "id": "Yo9GwCzlC8IG",
        "outputId": "5abcded4-f189-436e-ccbe-52a2fc0ae161"
      },
      "id": "Yo9GwCzlC8IG",
      "execution_count": null,
      "outputs": [
        {
          "output_type": "display_data",
          "data": {
            "text/html": [
              "<html>\n",
              "<head><meta charset=\"utf-8\" /></head>\n",
              "<body>\n",
              "    <div>            <script src=\"https://cdnjs.cloudflare.com/ajax/libs/mathjax/2.7.5/MathJax.js?config=TeX-AMS-MML_SVG\"></script><script type=\"text/javascript\">if (window.MathJax && window.MathJax.Hub && window.MathJax.Hub.Config) {window.MathJax.Hub.Config({SVG: {font: \"STIX-Web\"}});}</script>                <script type=\"text/javascript\">window.PlotlyConfig = {MathJaxConfig: 'local'};</script>\n",
              "        <script charset=\"utf-8\" src=\"https://cdn.plot.ly/plotly-2.24.1.min.js\"></script>                <div id=\"8b713ab4-457e-4d39-aea0-a1d05b995c42\" class=\"plotly-graph-div\" style=\"height:525px; width:100%;\"></div>            <script type=\"text/javascript\">                                    window.PLOTLYENV=window.PLOTLYENV || {};                                    if (document.getElementById(\"8b713ab4-457e-4d39-aea0-a1d05b995c42\")) {                    Plotly.newPlot(                        \"8b713ab4-457e-4d39-aea0-a1d05b995c42\",                        [{\"marker\":{\"color\":\"blue\"},\"name\":\"Persistence\",\"opacity\":0.7,\"x\":[\"0 - 0.1\",\"0.1 - 0.2\",\"0.2 - 0.3\",\"0.3 - 0.4\",\"0.4 - 0.5\",\"0.5 - 0.6\",\"0.6 - 0.7\",\"0.7 - 0.8\",\"0.8 - 0.9\",\"0.9 - 1\",\"1 - 2\"],\"y\":[1.4471580313422192,1.0,0.7781512503836436,1.3424226808222062,0.6989700043360189,0.3010299956639812,0.7781512503836436,0.7781512503836436,1.1139433523068367,0.8450980400142568,2.2278867046136734],\"type\":\"bar\"}],                        {\"template\":{\"data\":{\"histogram2dcontour\":[{\"type\":\"histogram2dcontour\",\"colorbar\":{\"outlinewidth\":0,\"ticks\":\"\"},\"colorscale\":[[0.0,\"#0d0887\"],[0.1111111111111111,\"#46039f\"],[0.2222222222222222,\"#7201a8\"],[0.3333333333333333,\"#9c179e\"],[0.4444444444444444,\"#bd3786\"],[0.5555555555555556,\"#d8576b\"],[0.6666666666666666,\"#ed7953\"],[0.7777777777777778,\"#fb9f3a\"],[0.8888888888888888,\"#fdca26\"],[1.0,\"#f0f921\"]]}],\"choropleth\":[{\"type\":\"choropleth\",\"colorbar\":{\"outlinewidth\":0,\"ticks\":\"\"}}],\"histogram2d\":[{\"type\":\"histogram2d\",\"colorbar\":{\"outlinewidth\":0,\"ticks\":\"\"},\"colorscale\":[[0.0,\"#0d0887\"],[0.1111111111111111,\"#46039f\"],[0.2222222222222222,\"#7201a8\"],[0.3333333333333333,\"#9c179e\"],[0.4444444444444444,\"#bd3786\"],[0.5555555555555556,\"#d8576b\"],[0.6666666666666666,\"#ed7953\"],[0.7777777777777778,\"#fb9f3a\"],[0.8888888888888888,\"#fdca26\"],[1.0,\"#f0f921\"]]}],\"heatmap\":[{\"type\":\"heatmap\",\"colorbar\":{\"outlinewidth\":0,\"ticks\":\"\"},\"colorscale\":[[0.0,\"#0d0887\"],[0.1111111111111111,\"#46039f\"],[0.2222222222222222,\"#7201a8\"],[0.3333333333333333,\"#9c179e\"],[0.4444444444444444,\"#bd3786\"],[0.5555555555555556,\"#d8576b\"],[0.6666666666666666,\"#ed7953\"],[0.7777777777777778,\"#fb9f3a\"],[0.8888888888888888,\"#fdca26\"],[1.0,\"#f0f921\"]]}],\"heatmapgl\":[{\"type\":\"heatmapgl\",\"colorbar\":{\"outlinewidth\":0,\"ticks\":\"\"},\"colorscale\":[[0.0,\"#0d0887\"],[0.1111111111111111,\"#46039f\"],[0.2222222222222222,\"#7201a8\"],[0.3333333333333333,\"#9c179e\"],[0.4444444444444444,\"#bd3786\"],[0.5555555555555556,\"#d8576b\"],[0.6666666666666666,\"#ed7953\"],[0.7777777777777778,\"#fb9f3a\"],[0.8888888888888888,\"#fdca26\"],[1.0,\"#f0f921\"]]}],\"contourcarpet\":[{\"type\":\"contourcarpet\",\"colorbar\":{\"outlinewidth\":0,\"ticks\":\"\"}}],\"contour\":[{\"type\":\"contour\",\"colorbar\":{\"outlinewidth\":0,\"ticks\":\"\"},\"colorscale\":[[0.0,\"#0d0887\"],[0.1111111111111111,\"#46039f\"],[0.2222222222222222,\"#7201a8\"],[0.3333333333333333,\"#9c179e\"],[0.4444444444444444,\"#bd3786\"],[0.5555555555555556,\"#d8576b\"],[0.6666666666666666,\"#ed7953\"],[0.7777777777777778,\"#fb9f3a\"],[0.8888888888888888,\"#fdca26\"],[1.0,\"#f0f921\"]]}],\"surface\":[{\"type\":\"surface\",\"colorbar\":{\"outlinewidth\":0,\"ticks\":\"\"},\"colorscale\":[[0.0,\"#0d0887\"],[0.1111111111111111,\"#46039f\"],[0.2222222222222222,\"#7201a8\"],[0.3333333333333333,\"#9c179e\"],[0.4444444444444444,\"#bd3786\"],[0.5555555555555556,\"#d8576b\"],[0.6666666666666666,\"#ed7953\"],[0.7777777777777778,\"#fb9f3a\"],[0.8888888888888888,\"#fdca26\"],[1.0,\"#f0f921\"]]}],\"mesh3d\":[{\"type\":\"mesh3d\",\"colorbar\":{\"outlinewidth\":0,\"ticks\":\"\"}}],\"scatter\":[{\"fillpattern\":{\"fillmode\":\"overlay\",\"size\":10,\"solidity\":0.2},\"type\":\"scatter\"}],\"parcoords\":[{\"type\":\"parcoords\",\"line\":{\"colorbar\":{\"outlinewidth\":0,\"ticks\":\"\"}}}],\"scatterpolargl\":[{\"type\":\"scatterpolargl\",\"marker\":{\"colorbar\":{\"outlinewidth\":0,\"ticks\":\"\"}}}],\"bar\":[{\"error_x\":{\"color\":\"#2a3f5f\"},\"error_y\":{\"color\":\"#2a3f5f\"},\"marker\":{\"line\":{\"color\":\"#E5ECF6\",\"width\":0.5},\"pattern\":{\"fillmode\":\"overlay\",\"size\":10,\"solidity\":0.2}},\"type\":\"bar\"}],\"scattergeo\":[{\"type\":\"scattergeo\",\"marker\":{\"colorbar\":{\"outlinewidth\":0,\"ticks\":\"\"}}}],\"scatterpolar\":[{\"type\":\"scatterpolar\",\"marker\":{\"colorbar\":{\"outlinewidth\":0,\"ticks\":\"\"}}}],\"histogram\":[{\"marker\":{\"pattern\":{\"fillmode\":\"overlay\",\"size\":10,\"solidity\":0.2}},\"type\":\"histogram\"}],\"scattergl\":[{\"type\":\"scattergl\",\"marker\":{\"colorbar\":{\"outlinewidth\":0,\"ticks\":\"\"}}}],\"scatter3d\":[{\"type\":\"scatter3d\",\"line\":{\"colorbar\":{\"outlinewidth\":0,\"ticks\":\"\"}},\"marker\":{\"colorbar\":{\"outlinewidth\":0,\"ticks\":\"\"}}}],\"scattermapbox\":[{\"type\":\"scattermapbox\",\"marker\":{\"colorbar\":{\"outlinewidth\":0,\"ticks\":\"\"}}}],\"scatterternary\":[{\"type\":\"scatterternary\",\"marker\":{\"colorbar\":{\"outlinewidth\":0,\"ticks\":\"\"}}}],\"scattercarpet\":[{\"type\":\"scattercarpet\",\"marker\":{\"colorbar\":{\"outlinewidth\":0,\"ticks\":\"\"}}}],\"carpet\":[{\"aaxis\":{\"endlinecolor\":\"#2a3f5f\",\"gridcolor\":\"white\",\"linecolor\":\"white\",\"minorgridcolor\":\"white\",\"startlinecolor\":\"#2a3f5f\"},\"baxis\":{\"endlinecolor\":\"#2a3f5f\",\"gridcolor\":\"white\",\"linecolor\":\"white\",\"minorgridcolor\":\"white\",\"startlinecolor\":\"#2a3f5f\"},\"type\":\"carpet\"}],\"table\":[{\"cells\":{\"fill\":{\"color\":\"#EBF0F8\"},\"line\":{\"color\":\"white\"}},\"header\":{\"fill\":{\"color\":\"#C8D4E3\"},\"line\":{\"color\":\"white\"}},\"type\":\"table\"}],\"barpolar\":[{\"marker\":{\"line\":{\"color\":\"#E5ECF6\",\"width\":0.5},\"pattern\":{\"fillmode\":\"overlay\",\"size\":10,\"solidity\":0.2}},\"type\":\"barpolar\"}],\"pie\":[{\"automargin\":true,\"type\":\"pie\"}]},\"layout\":{\"autotypenumbers\":\"strict\",\"colorway\":[\"#636efa\",\"#EF553B\",\"#00cc96\",\"#ab63fa\",\"#FFA15A\",\"#19d3f3\",\"#FF6692\",\"#B6E880\",\"#FF97FF\",\"#FECB52\"],\"font\":{\"color\":\"#2a3f5f\"},\"hovermode\":\"closest\",\"hoverlabel\":{\"align\":\"left\"},\"paper_bgcolor\":\"white\",\"plot_bgcolor\":\"#E5ECF6\",\"polar\":{\"bgcolor\":\"#E5ECF6\",\"angularaxis\":{\"gridcolor\":\"white\",\"linecolor\":\"white\",\"ticks\":\"\"},\"radialaxis\":{\"gridcolor\":\"white\",\"linecolor\":\"white\",\"ticks\":\"\"}},\"ternary\":{\"bgcolor\":\"#E5ECF6\",\"aaxis\":{\"gridcolor\":\"white\",\"linecolor\":\"white\",\"ticks\":\"\"},\"baxis\":{\"gridcolor\":\"white\",\"linecolor\":\"white\",\"ticks\":\"\"},\"caxis\":{\"gridcolor\":\"white\",\"linecolor\":\"white\",\"ticks\":\"\"}},\"coloraxis\":{\"colorbar\":{\"outlinewidth\":0,\"ticks\":\"\"}},\"colorscale\":{\"sequential\":[[0.0,\"#0d0887\"],[0.1111111111111111,\"#46039f\"],[0.2222222222222222,\"#7201a8\"],[0.3333333333333333,\"#9c179e\"],[0.4444444444444444,\"#bd3786\"],[0.5555555555555556,\"#d8576b\"],[0.6666666666666666,\"#ed7953\"],[0.7777777777777778,\"#fb9f3a\"],[0.8888888888888888,\"#fdca26\"],[1.0,\"#f0f921\"]],\"sequentialminus\":[[0.0,\"#0d0887\"],[0.1111111111111111,\"#46039f\"],[0.2222222222222222,\"#7201a8\"],[0.3333333333333333,\"#9c179e\"],[0.4444444444444444,\"#bd3786\"],[0.5555555555555556,\"#d8576b\"],[0.6666666666666666,\"#ed7953\"],[0.7777777777777778,\"#fb9f3a\"],[0.8888888888888888,\"#fdca26\"],[1.0,\"#f0f921\"]],\"diverging\":[[0,\"#8e0152\"],[0.1,\"#c51b7d\"],[0.2,\"#de77ae\"],[0.3,\"#f1b6da\"],[0.4,\"#fde0ef\"],[0.5,\"#f7f7f7\"],[0.6,\"#e6f5d0\"],[0.7,\"#b8e186\"],[0.8,\"#7fbc41\"],[0.9,\"#4d9221\"],[1,\"#276419\"]]},\"xaxis\":{\"gridcolor\":\"white\",\"linecolor\":\"white\",\"ticks\":\"\",\"title\":{\"standoff\":15},\"zerolinecolor\":\"white\",\"automargin\":true,\"zerolinewidth\":2},\"yaxis\":{\"gridcolor\":\"white\",\"linecolor\":\"white\",\"ticks\":\"\",\"title\":{\"standoff\":15},\"zerolinecolor\":\"white\",\"automargin\":true,\"zerolinewidth\":2},\"scene\":{\"xaxis\":{\"backgroundcolor\":\"#E5ECF6\",\"gridcolor\":\"white\",\"linecolor\":\"white\",\"showbackground\":true,\"ticks\":\"\",\"zerolinecolor\":\"white\",\"gridwidth\":2},\"yaxis\":{\"backgroundcolor\":\"#E5ECF6\",\"gridcolor\":\"white\",\"linecolor\":\"white\",\"showbackground\":true,\"ticks\":\"\",\"zerolinecolor\":\"white\",\"gridwidth\":2},\"zaxis\":{\"backgroundcolor\":\"#E5ECF6\",\"gridcolor\":\"white\",\"linecolor\":\"white\",\"showbackground\":true,\"ticks\":\"\",\"zerolinecolor\":\"white\",\"gridwidth\":2}},\"shapedefaults\":{\"line\":{\"color\":\"#2a3f5f\"}},\"annotationdefaults\":{\"arrowcolor\":\"#2a3f5f\",\"arrowhead\":0,\"arrowwidth\":1},\"geo\":{\"bgcolor\":\"white\",\"landcolor\":\"#E5ECF6\",\"subunitcolor\":\"white\",\"showland\":true,\"showlakes\":true,\"lakecolor\":\"white\"},\"title\":{\"x\":0.05},\"mapbox\":{\"style\":\"light\"}}},\"title\":{\"text\":\"Histogram of Persistence along with number of models\",\"x\":0.5,\"y\":0.92},\"xaxis\":{\"title\":{\"text\":\"Persistence\"},\"tickvals\":[\"0 - 0.1\",\"0.1 - 0.2\",\"0.2 - 0.3\",\"0.3 - 0.4\",\"0.4 - 0.5\",\"0.5 - 0.6\",\"0.6 - 0.7\",\"0.7 - 0.8\",\"0.8 - 0.9\",\"0.9 - 1\",\"1 - 2\"],\"ticktext\":[\"\\u003c0.1\",\"0.1\",\"0.2\",\"0.3\",\"0.4\",\"0.5\",\"0.6\",\"0.7\",\"0.8\",\"0.9\",\"1\"],\"showgrid\":false},\"yaxis\":{\"title\":{\"text\":\"Number of Models\"},\"tickvals\":[0,1,2,3],\"ticktext\":[\"$10^0$\",\"$10^1$\",\"$10^2$\"],\"showgrid\":false},\"font\":{\"size\":16}},                        {\"responsive\": true}                    ).then(function(){\n",
              "                            \n",
              "var gd = document.getElementById('8b713ab4-457e-4d39-aea0-a1d05b995c42');\n",
              "var x = new MutationObserver(function (mutations, observer) {{\n",
              "        var display = window.getComputedStyle(gd).display;\n",
              "        if (!display || display === 'none') {{\n",
              "            console.log([gd, 'removed!']);\n",
              "            Plotly.purge(gd);\n",
              "            observer.disconnect();\n",
              "        }}\n",
              "}});\n",
              "\n",
              "// Listen for the removal of the full notebook cells\n",
              "var notebookContainer = gd.closest('#notebook-container');\n",
              "if (notebookContainer) {{\n",
              "    x.observe(notebookContainer, {childList: true});\n",
              "}}\n",
              "\n",
              "// Listen for the clearing of the current output cell\n",
              "var outputEl = gd.closest('.output');\n",
              "if (outputEl) {{\n",
              "    x.observe(outputEl, {childList: true});\n",
              "}}\n",
              "\n",
              "                        })                };                            </script>        </div>\n",
              "</body>\n",
              "</html>"
            ]
          },
          "metadata": {}
        }
      ]
    },
    {
      "cell_type": "code",
      "source": [
        "#Parameters 3e\n",
        "import plotly.express as px\n",
        "fig = px.scatter(x=df['3e. Persistence'],  y=np.log10(df['3a. No. of Organisations']))\n",
        "\n",
        "fig.update_layout(\n",
        "    title='Parameter 3e: Scatter plot of Persistence vs Log10 of Organizations',\n",
        "    xaxis=dict(title='Persistence'),\n",
        "    yaxis=dict(title='Log10 of No. of Organizations'),\n",
        "    title_x=0.5,\n",
        "    title_y=0.95\n",
        ")\n",
        "\n",
        "fig.show()\n",
        "\n",
        "write_image(fig, 'Parameter 3e: Scatter plot of Persistence vs Log10 of Organisations.png')"
      ],
      "metadata": {
        "colab": {
          "base_uri": "https://localhost:8080/",
          "height": 542
        },
        "id": "9vgjnX0YDYP6",
        "outputId": "3f4a13cd-22ec-4804-9c6c-f9462430f793"
      },
      "id": "9vgjnX0YDYP6",
      "execution_count": null,
      "outputs": [
        {
          "output_type": "display_data",
          "data": {
            "text/html": [
              "<html>\n",
              "<head><meta charset=\"utf-8\" /></head>\n",
              "<body>\n",
              "    <div>            <script src=\"https://cdnjs.cloudflare.com/ajax/libs/mathjax/2.7.5/MathJax.js?config=TeX-AMS-MML_SVG\"></script><script type=\"text/javascript\">if (window.MathJax && window.MathJax.Hub && window.MathJax.Hub.Config) {window.MathJax.Hub.Config({SVG: {font: \"STIX-Web\"}});}</script>                <script type=\"text/javascript\">window.PlotlyConfig = {MathJaxConfig: 'local'};</script>\n",
              "        <script charset=\"utf-8\" src=\"https://cdn.plot.ly/plotly-2.24.1.min.js\"></script>                <div id=\"fbcd6040-2957-4855-a987-c19d04c9b1e8\" class=\"plotly-graph-div\" style=\"height:525px; width:100%;\"></div>            <script type=\"text/javascript\">                                    window.PLOTLYENV=window.PLOTLYENV || {};                                    if (document.getElementById(\"fbcd6040-2957-4855-a987-c19d04c9b1e8\")) {                    Plotly.newPlot(                        \"fbcd6040-2957-4855-a987-c19d04c9b1e8\",                        [{\"hovertemplate\":\"x=%{x}\\u003cbr\\u003ey=%{y}\\u003cextra\\u003e\\u003c\\u002fextra\\u003e\",\"legendgroup\":\"\",\"marker\":{\"color\":\"#636efa\",\"symbol\":\"circle\"},\"mode\":\"markers\",\"name\":\"\",\"orientation\":\"v\",\"showlegend\":false,\"x\":[1.0,1.0,1.0,1.0,1.0,1.0,1.0,0.233333333,1.0,0.106382979,0.0,1.0,1.0,1.0,1.0,1.0,1.0,1.0,1.0,1.0,1.0,1.0,0.625,1.0,1.0,1.0,0.627906977,1.0,0.095238095,1.0,1.0,0.0,0.434782609,1.0,0.68115942,1.0,1.0,1.0,1.0,1.0,1.0,1.0,1.0,1.0,1.0,1.0,1.0,1.0,1.0,1.0,1.0,1.0,1.0,1.0,1.0,1.0,1.0,1.0,1.0,1.0,1.0,1.0,1.0,0.071428571,1.0,0.0,1.0,1.0,1.0,0.111111111,0.365591398,0.135135135,1.0,0.006329114,1.0,1.0,1.0,1.0,0.973684211,1.0,0.428571429,0.545454545,0.0,0.0,0.0,0.0,0.0,0.0,0.0,0.0,0.125,0.93877551,0.185185185,0.947368421,0.218181818,0.72815534,1.0,0.0,1.0,1.0,0.857142857,1.0,1.0,0.879699248,0.21,0.0,0.16,0.666666667,0.863636364,0.0,0.545454545,1.0,1.0,1.0,1.0,0.193548387,0.0,0.915492958,1.0,1.0,0.793103448,0.068181818,1.0,0.857142857,1.0,1.0,1.0,1.0,0.625,0.0,0.795918367,0.0,0.878787879,1.0,0.64,0.7,0.066666667,1.0,0.736842105,1.0,1.0,1.0,0.0,0.0,0.862068966,1.0,1.0,1.0,1.0,0.764705882,0.2,0.929824561,1.0,1.0,1.0,1.0,1.0,1.0,0.428571429,1.0,1.0,1.0,1.0,0.8,0.857142857,1.0,1.0,1.0,1.0,1.0,1.0,0.973684211,1.0,1.0,1.0,1.0,0.428571429,0.857142857,1.0,1.0,1.0,1.0,1.0,0.315789474,1.0,1.0,1.0,1.0,0.818897638,1.0,1.0,1.0,1.0,1.0,1.0,1.0,1.0,1.0,1.0,1.0,1.0,1.0,1.0,1.0,1.0,1.0,1.0,0.3,0.139013453,0.0,1.0,1.0,1.0,0.833333333,0.0,0.387096774,0.387096774,0.363636364,0.363636364,0.342857143,0.342857143,0.358974359,0.35,0.333333333,0.318181818,0.318181818,0.318181818,0.333333333,0.333333333,0.326086957,0.326086957,0.319148936,0.319148936,0.319148936,1.0,1.0,1.0,1.0,1.0,0.833333333,1.0,1.0,1.0,1.0,1.0,1.0,0.931034483,1.0,1.0,0.133333333,1.0,1.0,0.294117647,0.266666667,1.0,1.0,1.0,1.0,1.0,1.0,0.45,0.876494024,1.0,1.0,1.0,1.0,1.0,0.0,0.026666667,1.0,1.0,0.142857143,1.0,1.0],\"xaxis\":\"x\",\"y\":[0.3010299956639812,0.9030899869919435,1.3979400086720377,0.7781512503836436,3.0236639181977933,0.3010299956639812,0.3010299956639812,4.645726758261136,0.7781512503836436,3.913442954859396,0.6989700043360189,0.6020599913279624,1.6434526764861874,1.0,1.9344984512435677,1.0,1.9242792860618816,1.255272505103306,1.6127838567197355,0.3010299956639812,1.2041199826559248,0.3010299956639812,0.8450980400142568,2.8488047010518036,0.3010299956639812,2.4533183400470375,3.918764031027999,0.3010299956639812,4.698987375767868,0.3010299956639812,0.6020599913279624,4.698978690138799,1.505149978319906,0.6989700043360189,1.9731278535996986,0.9542425094393249,0.47712125471966244,0.7781512503836436,0.6020599913279624,0.3010299956639812,1.2304489213782739,0.8450980400142568,0.3010299956639812,0.3010299956639812,4.739414102698695,1.146128035678238,0.6989700043360189,0.3010299956639812,0.3010299956639812,0.3010299956639812,0.3010299956639812,2.123851640967086,2.123851640967086,0.9542425094393249,1.505149978319906,1.2304489213782739,0.3010299956639812,2.710963118995276,0.7781512503836436,1.1760912590556813,1.1760912590556813,0.3010299956639812,0.3010299956639812,2.4099331233312946,0.3010299956639812,4.698978690138799,0.6020599913279624,1.0,0.3010299956639812,2.7895807121644256,4.699508195883737,1.7708520116421442,1.2787536009528289,0.3010299956639812,0.47712125471966244,0.3010299956639812,3.913442954859396,0.3010299956639812,1.380211241711606,0.3010299956639812,4.312494707189671,3.9136019497291574,1.2304489213782739,1.2304489213782739,1.2304489213782739,1.2304489213782739,1.5185139398778875,1.2304489213782739,4.5154631883732685,3.010723865391773,3.0111473607757975,4.319813684538678,4.560229533914398,4.640670219621472,4.699525545802118,0.0,1.6127838567197355,4.698978690138799,3.6124659639531425,0.3010299956639812,2.7267272090265724,1.8573324964312685,1.8573324964312685,1.2041199826559248,4.846089580357984,4.698978690138799,3.408748606184244,4.504837716928653,3.3306166672944384,4.698978690138799,0.3010299956639812,0.7781512503836436,0.7781512503836436,0.7781512503836436,0.7781512503836436,2.807535028068853,0.47712125471966244,0.0,0.3010299956639812,4.699247863898858,1.3979400086720377,4.698987375767868,0.3010299956639812,0.47712125471966244,1.3617278360175928,1.7853298350107671,2.41161970596323,0.3010299956639812,1.8129133566428555,0.47712125471966244,4.764863283710636,1.2304489213782739,1.2041199826559248,0.3010299956639812,0.3010299956639812,0.3010299956639812,1.5185139398778875,4.699117639363333,3.011993114659257,4.699117639363333,4.699117639363333,0.7781512503836436,4.698978690138799,0.0,0.3010299956639812,0.9542425094393249,0.47712125471966244,0.3010299956639812,0.3010299956639812,4.699386727043735,4.062469165814253,1.2304489213782739,0.3010299956639812,0.3010299956639812,0.0,0.3010299956639812,0.3010299956639812,0.3010299956639812,0.3010299956639812,0.3010299956639812,0.3010299956639812,0.3010299956639812,0.6989700043360189,0.3010299956639812,0.3010299956639812,0.3010299956639812,0.47712125471966244,0.6989700043360189,0.3010299956639812,0.3010299956639812,3.1152775913959014,1.380211241711606,0.3010299956639812,0.3010299956639812,0.3010299956639812,0.3010299956639812,0.3010299956639812,0.3010299956639812,0.3010299956639812,0.47712125471966244,0.3010299956639812,0.3010299956639812,0.3010299956639812,1.8129133566428555,0.3010299956639812,0.3010299956639812,0.3010299956639812,0.6989700043360189,1.2041199826559248,0.6989700043360189,3.311541958401195,0.0,0.3010299956639812,1.5185139398778875,2.110589710299249,0.9542425094393249,0.0,0.47712125471966244,0.6989700043360189,0.47712125471966244,0.6020599913279624,0.3010299956639812,0.3010299956639812,4.699004746504903,0.3010299956639812,0.3010299956639812,0.3010299956639812,3.7371926427047373,3.612359947967774,0.0,1.6901960800285136,1.1760912590556813,2.7024305364455254,0.3010299956639812,3.913442954859396,4.699108956339093,4.699108956339093,4.699108956339093,4.699108956339093,4.699108956339093,4.699108956339093,4.699108956339093,4.699108956339093,4.699108956339093,4.699108956339093,4.699108956339093,4.699108956339093,4.699108956339093,4.699108956339093,4.699108956339093,4.699108956339093,4.699108956339093,4.699108956339093,4.699108956339093,1.4771212547196624,1.4771212547196624,1.4771212547196624,2.481442628502305,2.481442628502305,0.3010299956639812,0.0,3.1152775913959014,1.0791812460476249,0.3010299956639812,0.47712125471966244,3.4712917110589387,3.3113299523037933,0.9030899869919435,1.255272505103306,1.5314789170422551,0.3010299956639812,1.255272505103306,2.7101173651118162,1.2304489213782739,0.3010299956639812,0.3010299956639812,0.9542425094393249,0.3010299956639812,2.7101173651118162,0.0,4.016197353512439,0.0,1.255272505103306,0.3010299956639812,1.1139433523068367,0.3010299956639812,0.3010299956639812,0.6989700043360189,4.698987375767868,0.47712125471966244,0.47712125471966244,4.515476441382376,0.47712125471966244,1.8260748027008264],\"yaxis\":\"y\",\"type\":\"scatter\"}],                        {\"template\":{\"data\":{\"histogram2dcontour\":[{\"type\":\"histogram2dcontour\",\"colorbar\":{\"outlinewidth\":0,\"ticks\":\"\"},\"colorscale\":[[0.0,\"#0d0887\"],[0.1111111111111111,\"#46039f\"],[0.2222222222222222,\"#7201a8\"],[0.3333333333333333,\"#9c179e\"],[0.4444444444444444,\"#bd3786\"],[0.5555555555555556,\"#d8576b\"],[0.6666666666666666,\"#ed7953\"],[0.7777777777777778,\"#fb9f3a\"],[0.8888888888888888,\"#fdca26\"],[1.0,\"#f0f921\"]]}],\"choropleth\":[{\"type\":\"choropleth\",\"colorbar\":{\"outlinewidth\":0,\"ticks\":\"\"}}],\"histogram2d\":[{\"type\":\"histogram2d\",\"colorbar\":{\"outlinewidth\":0,\"ticks\":\"\"},\"colorscale\":[[0.0,\"#0d0887\"],[0.1111111111111111,\"#46039f\"],[0.2222222222222222,\"#7201a8\"],[0.3333333333333333,\"#9c179e\"],[0.4444444444444444,\"#bd3786\"],[0.5555555555555556,\"#d8576b\"],[0.6666666666666666,\"#ed7953\"],[0.7777777777777778,\"#fb9f3a\"],[0.8888888888888888,\"#fdca26\"],[1.0,\"#f0f921\"]]}],\"heatmap\":[{\"type\":\"heatmap\",\"colorbar\":{\"outlinewidth\":0,\"ticks\":\"\"},\"colorscale\":[[0.0,\"#0d0887\"],[0.1111111111111111,\"#46039f\"],[0.2222222222222222,\"#7201a8\"],[0.3333333333333333,\"#9c179e\"],[0.4444444444444444,\"#bd3786\"],[0.5555555555555556,\"#d8576b\"],[0.6666666666666666,\"#ed7953\"],[0.7777777777777778,\"#fb9f3a\"],[0.8888888888888888,\"#fdca26\"],[1.0,\"#f0f921\"]]}],\"heatmapgl\":[{\"type\":\"heatmapgl\",\"colorbar\":{\"outlinewidth\":0,\"ticks\":\"\"},\"colorscale\":[[0.0,\"#0d0887\"],[0.1111111111111111,\"#46039f\"],[0.2222222222222222,\"#7201a8\"],[0.3333333333333333,\"#9c179e\"],[0.4444444444444444,\"#bd3786\"],[0.5555555555555556,\"#d8576b\"],[0.6666666666666666,\"#ed7953\"],[0.7777777777777778,\"#fb9f3a\"],[0.8888888888888888,\"#fdca26\"],[1.0,\"#f0f921\"]]}],\"contourcarpet\":[{\"type\":\"contourcarpet\",\"colorbar\":{\"outlinewidth\":0,\"ticks\":\"\"}}],\"contour\":[{\"type\":\"contour\",\"colorbar\":{\"outlinewidth\":0,\"ticks\":\"\"},\"colorscale\":[[0.0,\"#0d0887\"],[0.1111111111111111,\"#46039f\"],[0.2222222222222222,\"#7201a8\"],[0.3333333333333333,\"#9c179e\"],[0.4444444444444444,\"#bd3786\"],[0.5555555555555556,\"#d8576b\"],[0.6666666666666666,\"#ed7953\"],[0.7777777777777778,\"#fb9f3a\"],[0.8888888888888888,\"#fdca26\"],[1.0,\"#f0f921\"]]}],\"surface\":[{\"type\":\"surface\",\"colorbar\":{\"outlinewidth\":0,\"ticks\":\"\"},\"colorscale\":[[0.0,\"#0d0887\"],[0.1111111111111111,\"#46039f\"],[0.2222222222222222,\"#7201a8\"],[0.3333333333333333,\"#9c179e\"],[0.4444444444444444,\"#bd3786\"],[0.5555555555555556,\"#d8576b\"],[0.6666666666666666,\"#ed7953\"],[0.7777777777777778,\"#fb9f3a\"],[0.8888888888888888,\"#fdca26\"],[1.0,\"#f0f921\"]]}],\"mesh3d\":[{\"type\":\"mesh3d\",\"colorbar\":{\"outlinewidth\":0,\"ticks\":\"\"}}],\"scatter\":[{\"fillpattern\":{\"fillmode\":\"overlay\",\"size\":10,\"solidity\":0.2},\"type\":\"scatter\"}],\"parcoords\":[{\"type\":\"parcoords\",\"line\":{\"colorbar\":{\"outlinewidth\":0,\"ticks\":\"\"}}}],\"scatterpolargl\":[{\"type\":\"scatterpolargl\",\"marker\":{\"colorbar\":{\"outlinewidth\":0,\"ticks\":\"\"}}}],\"bar\":[{\"error_x\":{\"color\":\"#2a3f5f\"},\"error_y\":{\"color\":\"#2a3f5f\"},\"marker\":{\"line\":{\"color\":\"#E5ECF6\",\"width\":0.5},\"pattern\":{\"fillmode\":\"overlay\",\"size\":10,\"solidity\":0.2}},\"type\":\"bar\"}],\"scattergeo\":[{\"type\":\"scattergeo\",\"marker\":{\"colorbar\":{\"outlinewidth\":0,\"ticks\":\"\"}}}],\"scatterpolar\":[{\"type\":\"scatterpolar\",\"marker\":{\"colorbar\":{\"outlinewidth\":0,\"ticks\":\"\"}}}],\"histogram\":[{\"marker\":{\"pattern\":{\"fillmode\":\"overlay\",\"size\":10,\"solidity\":0.2}},\"type\":\"histogram\"}],\"scattergl\":[{\"type\":\"scattergl\",\"marker\":{\"colorbar\":{\"outlinewidth\":0,\"ticks\":\"\"}}}],\"scatter3d\":[{\"type\":\"scatter3d\",\"line\":{\"colorbar\":{\"outlinewidth\":0,\"ticks\":\"\"}},\"marker\":{\"colorbar\":{\"outlinewidth\":0,\"ticks\":\"\"}}}],\"scattermapbox\":[{\"type\":\"scattermapbox\",\"marker\":{\"colorbar\":{\"outlinewidth\":0,\"ticks\":\"\"}}}],\"scatterternary\":[{\"type\":\"scatterternary\",\"marker\":{\"colorbar\":{\"outlinewidth\":0,\"ticks\":\"\"}}}],\"scattercarpet\":[{\"type\":\"scattercarpet\",\"marker\":{\"colorbar\":{\"outlinewidth\":0,\"ticks\":\"\"}}}],\"carpet\":[{\"aaxis\":{\"endlinecolor\":\"#2a3f5f\",\"gridcolor\":\"white\",\"linecolor\":\"white\",\"minorgridcolor\":\"white\",\"startlinecolor\":\"#2a3f5f\"},\"baxis\":{\"endlinecolor\":\"#2a3f5f\",\"gridcolor\":\"white\",\"linecolor\":\"white\",\"minorgridcolor\":\"white\",\"startlinecolor\":\"#2a3f5f\"},\"type\":\"carpet\"}],\"table\":[{\"cells\":{\"fill\":{\"color\":\"#EBF0F8\"},\"line\":{\"color\":\"white\"}},\"header\":{\"fill\":{\"color\":\"#C8D4E3\"},\"line\":{\"color\":\"white\"}},\"type\":\"table\"}],\"barpolar\":[{\"marker\":{\"line\":{\"color\":\"#E5ECF6\",\"width\":0.5},\"pattern\":{\"fillmode\":\"overlay\",\"size\":10,\"solidity\":0.2}},\"type\":\"barpolar\"}],\"pie\":[{\"automargin\":true,\"type\":\"pie\"}]},\"layout\":{\"autotypenumbers\":\"strict\",\"colorway\":[\"#636efa\",\"#EF553B\",\"#00cc96\",\"#ab63fa\",\"#FFA15A\",\"#19d3f3\",\"#FF6692\",\"#B6E880\",\"#FF97FF\",\"#FECB52\"],\"font\":{\"color\":\"#2a3f5f\"},\"hovermode\":\"closest\",\"hoverlabel\":{\"align\":\"left\"},\"paper_bgcolor\":\"white\",\"plot_bgcolor\":\"#E5ECF6\",\"polar\":{\"bgcolor\":\"#E5ECF6\",\"angularaxis\":{\"gridcolor\":\"white\",\"linecolor\":\"white\",\"ticks\":\"\"},\"radialaxis\":{\"gridcolor\":\"white\",\"linecolor\":\"white\",\"ticks\":\"\"}},\"ternary\":{\"bgcolor\":\"#E5ECF6\",\"aaxis\":{\"gridcolor\":\"white\",\"linecolor\":\"white\",\"ticks\":\"\"},\"baxis\":{\"gridcolor\":\"white\",\"linecolor\":\"white\",\"ticks\":\"\"},\"caxis\":{\"gridcolor\":\"white\",\"linecolor\":\"white\",\"ticks\":\"\"}},\"coloraxis\":{\"colorbar\":{\"outlinewidth\":0,\"ticks\":\"\"}},\"colorscale\":{\"sequential\":[[0.0,\"#0d0887\"],[0.1111111111111111,\"#46039f\"],[0.2222222222222222,\"#7201a8\"],[0.3333333333333333,\"#9c179e\"],[0.4444444444444444,\"#bd3786\"],[0.5555555555555556,\"#d8576b\"],[0.6666666666666666,\"#ed7953\"],[0.7777777777777778,\"#fb9f3a\"],[0.8888888888888888,\"#fdca26\"],[1.0,\"#f0f921\"]],\"sequentialminus\":[[0.0,\"#0d0887\"],[0.1111111111111111,\"#46039f\"],[0.2222222222222222,\"#7201a8\"],[0.3333333333333333,\"#9c179e\"],[0.4444444444444444,\"#bd3786\"],[0.5555555555555556,\"#d8576b\"],[0.6666666666666666,\"#ed7953\"],[0.7777777777777778,\"#fb9f3a\"],[0.8888888888888888,\"#fdca26\"],[1.0,\"#f0f921\"]],\"diverging\":[[0,\"#8e0152\"],[0.1,\"#c51b7d\"],[0.2,\"#de77ae\"],[0.3,\"#f1b6da\"],[0.4,\"#fde0ef\"],[0.5,\"#f7f7f7\"],[0.6,\"#e6f5d0\"],[0.7,\"#b8e186\"],[0.8,\"#7fbc41\"],[0.9,\"#4d9221\"],[1,\"#276419\"]]},\"xaxis\":{\"gridcolor\":\"white\",\"linecolor\":\"white\",\"ticks\":\"\",\"title\":{\"standoff\":15},\"zerolinecolor\":\"white\",\"automargin\":true,\"zerolinewidth\":2},\"yaxis\":{\"gridcolor\":\"white\",\"linecolor\":\"white\",\"ticks\":\"\",\"title\":{\"standoff\":15},\"zerolinecolor\":\"white\",\"automargin\":true,\"zerolinewidth\":2},\"scene\":{\"xaxis\":{\"backgroundcolor\":\"#E5ECF6\",\"gridcolor\":\"white\",\"linecolor\":\"white\",\"showbackground\":true,\"ticks\":\"\",\"zerolinecolor\":\"white\",\"gridwidth\":2},\"yaxis\":{\"backgroundcolor\":\"#E5ECF6\",\"gridcolor\":\"white\",\"linecolor\":\"white\",\"showbackground\":true,\"ticks\":\"\",\"zerolinecolor\":\"white\",\"gridwidth\":2},\"zaxis\":{\"backgroundcolor\":\"#E5ECF6\",\"gridcolor\":\"white\",\"linecolor\":\"white\",\"showbackground\":true,\"ticks\":\"\",\"zerolinecolor\":\"white\",\"gridwidth\":2}},\"shapedefaults\":{\"line\":{\"color\":\"#2a3f5f\"}},\"annotationdefaults\":{\"arrowcolor\":\"#2a3f5f\",\"arrowhead\":0,\"arrowwidth\":1},\"geo\":{\"bgcolor\":\"white\",\"landcolor\":\"#E5ECF6\",\"subunitcolor\":\"white\",\"showland\":true,\"showlakes\":true,\"lakecolor\":\"white\"},\"title\":{\"x\":0.05},\"mapbox\":{\"style\":\"light\"}}},\"xaxis\":{\"anchor\":\"y\",\"domain\":[0.0,1.0],\"title\":{\"text\":\"Persistence\"}},\"yaxis\":{\"anchor\":\"x\",\"domain\":[0.0,1.0],\"title\":{\"text\":\"Log10 of No. of Organizations\"}},\"legend\":{\"tracegroupgap\":0},\"margin\":{\"t\":60},\"title\":{\"text\":\"Parameter 3e: Scatter plot of Persistence vs Log10 of Organizations\",\"x\":0.5,\"y\":0.95}},                        {\"responsive\": true}                    ).then(function(){\n",
              "                            \n",
              "var gd = document.getElementById('fbcd6040-2957-4855-a987-c19d04c9b1e8');\n",
              "var x = new MutationObserver(function (mutations, observer) {{\n",
              "        var display = window.getComputedStyle(gd).display;\n",
              "        if (!display || display === 'none') {{\n",
              "            console.log([gd, 'removed!']);\n",
              "            Plotly.purge(gd);\n",
              "            observer.disconnect();\n",
              "        }}\n",
              "}});\n",
              "\n",
              "// Listen for the removal of the full notebook cells\n",
              "var notebookContainer = gd.closest('#notebook-container');\n",
              "if (notebookContainer) {{\n",
              "    x.observe(notebookContainer, {childList: true});\n",
              "}}\n",
              "\n",
              "// Listen for the clearing of the current output cell\n",
              "var outputEl = gd.closest('.output');\n",
              "if (outputEl) {{\n",
              "    x.observe(outputEl, {childList: true});\n",
              "}}\n",
              "\n",
              "                        })                };                            </script>        </div>\n",
              "</body>\n",
              "</html>"
            ]
          },
          "metadata": {}
        }
      ]
    },
    {
      "cell_type": "code",
      "execution_count": null,
      "id": "e1cc85c2",
      "metadata": {
        "colab": {
          "base_uri": "https://localhost:8080/",
          "height": 611
        },
        "id": "e1cc85c2",
        "outputId": "da75d962-92a1-4585-85f2-d527fd98ace0"
      },
      "outputs": [
        {
          "output_type": "stream",
          "name": "stderr",
          "text": [
            "/usr/local/lib/python3.10/dist-packages/pandas/core/arraylike.py:396: RuntimeWarning:\n",
            "\n",
            "divide by zero encountered in log10\n",
            "\n"
          ]
        },
        {
          "output_type": "display_data",
          "data": {
            "text/html": [
              "<html>\n",
              "<head><meta charset=\"utf-8\" /></head>\n",
              "<body>\n",
              "    <div>            <script src=\"https://cdnjs.cloudflare.com/ajax/libs/mathjax/2.7.5/MathJax.js?config=TeX-AMS-MML_SVG\"></script><script type=\"text/javascript\">if (window.MathJax && window.MathJax.Hub && window.MathJax.Hub.Config) {window.MathJax.Hub.Config({SVG: {font: \"STIX-Web\"}});}</script>                <script type=\"text/javascript\">window.PlotlyConfig = {MathJaxConfig: 'local'};</script>\n",
              "        <script charset=\"utf-8\" src=\"https://cdn.plot.ly/plotly-2.24.1.min.js\"></script>                <div id=\"8f315976-03ba-4805-93e6-f0487152ebd2\" class=\"plotly-graph-div\" style=\"height:525px; width:100%;\"></div>            <script type=\"text/javascript\">                                    window.PLOTLYENV=window.PLOTLYENV || {};                                    if (document.getElementById(\"8f315976-03ba-4805-93e6-f0487152ebd2\")) {                    Plotly.newPlot(                        \"8f315976-03ba-4805-93e6-f0487152ebd2\",                        [{\"hovertemplate\":\"x=%{x}\\u003cbr\\u003ey=%{y}\\u003cextra\\u003e\\u003c\\u002fextra\\u003e\",\"legendgroup\":\"\",\"marker\":{\"color\":\"#636efa\",\"symbol\":\"circle\"},\"mode\":\"markers\",\"name\":\"\",\"orientation\":\"v\",\"showlegend\":false,\"x\":[null,null,0.0,null,null,null,null,null,null,null,null,null,null,null,0.0,null,null,null,0.9542425094393249,null,null,null,null,null,null,1.568201724066995,3.6961815871685237,null,null,null,null,null,null,null,1.8195439355418688,null,null,null,null,null,null,null,null,null,3.44216608578472,null,null,null,null,null,null,1.2041199826559248,1.2041199826559248,null,null,null,null,null,null,null,null,null,null,null,null,null,null,0.0,null,0.3010299956639812,1.380211241711606,null,null,null,null,null,null,null,null,null,0.0,null,null,null,null,null,null,null,null,null,null,1.8920946026904804,0.6020599913279624,null,null,null,0.9542425094393249,null,null,null,0.6020599913279624,null,null,null,3.936513742478893,null,null,1.568201724066995,2.3096301674258988,null,null,null,null,null,null,null,null,null,null,null,0.0,null,null,null,0.47712125471966244,1.0,null,null,null,null,null,null,null,null,null,null,null,0.9030899869919435,null,0.9030899869919435,0.9030899869919435,null,null,null,null,null,null,null,null,null,0.7781512503836436,null,null,null,null,null,null,null,null,null,null,null,null,null,null,null,null,null,null,null,null,null,null,null,null,null,null,null,null,null,null,null,null,null,null,null,null,null,null,null,null,null,null,null,null,null,null,null,null,null,null,null,null,null,null,null,null,3.696356388733332,null,null,0.7781512503836436,null,1.505149978319906,null,null,null,null,null,null,null,null,null,null,null,null,null,null,null,null,null,null,null,null,null,0.0,0.0,0.0,0.6020599913279624,0.6020599913279624,null,null,null,null,null,null,0.7781512503836436,2.709269960975831,null,null,null,null,null,null,null,null,null,null,null,null,null,null,null,null,null,null,null,null,null,null,null,null,null,null,0.3010299956639812],\"xaxis\":\"x\",\"y\":[0.0,0.0,0.3010299956639812,0.0,0.0,0.0,0.0,0.0,0.0,0.0,0.0,0.0,0.0,0.0,0.3010299956639812,0.0,0.0,0.0,1.0,0.0,0.0,0.0,0.0,0.0,0.0,1.7160033436347992,3.728597243383432,0.0,0.0,0.0,0.0,0.0,0.0,0.0,1.863322860120456,0.0,0.0,0.0,0.0,0.0,0.0,0.0,0.0,0.0,3.4423229557455746,0.0,0.0,0.0,0.0,0.0,0.0,1.3010299956639813,1.3010299956639813,0.0,0.0,0.0,0.0,0.0,0.0,0.0,0.0,0.0,0.0,0.0,0.0,0.0,0.0,0.3010299956639812,0.0,0.47712125471966244,1.3979400086720377,0.0,0.0,0.0,0.0,0.0,0.0,0.0,0.0,0.0,0.3010299956639812,0.0,0.0,0.0,0.0,0.0,0.0,0.0,0.0,0.0,0.0,1.9294189257142929,0.6989700043360189,0.0,0.0,0.0,1.0,0.0,0.0,0.0,0.6989700043360189,0.0,0.0,0.0,3.936564005135266,0.0,0.0,1.6434526764861874,2.45178643552429,0.0,0.0,0.0,0.0,0.0,0.0,0.0,0.0,0.0,0.0,0.0,0.3010299956639812,0.0,0.0,0.0,0.6020599913279624,1.0791812460476249,0.0,0.0,0.0,0.0,0.0,0.0,0.0,0.0,0.0,0.0,0.0,0.9542425094393249,0.0,0.9542425094393249,0.9542425094393249,0.0,0.0,0.0,0.0,0.0,0.0,0.0,0.0,0.0,0.8450980400142568,0.0,0.0,0.0,0.0,0.0,0.0,0.0,0.0,0.0,0.0,0.0,0.0,0.0,0.0,0.0,0.0,0.0,0.0,0.0,0.0,0.0,0.0,0.0,0.0,0.0,0.0,0.0,0.0,0.0,0.0,0.0,0.0,0.0,0.0,0.0,0.0,0.0,0.0,0.0,0.0,0.0,0.0,0.0,0.0,0.0,0.0,0.0,0.0,0.0,0.0,0.0,0.0,0.0,0.0,0.0,0.0,3.860098329698518,0.0,0.0,0.8450980400142568,0.0,1.5440680443502757,0.0,0.0,0.0,0.0,0.0,0.0,0.0,0.0,0.0,0.0,0.0,0.0,0.0,0.0,0.0,0.0,0.0,0.0,0.0,0.0,0.0,0.3010299956639812,0.3010299956639812,0.3010299956639812,0.6989700043360189,0.6989700043360189,0.0,0.0,0.0,0.0,0.0,0.0,0.8450980400142568,2.7101173651118162,0.0,0.0,0.0,0.0,0.0,0.0,0.0,0.0,0.0,0.0,0.0,0.0,0.0,0.0,0.0,0.0,0.0,0.0,0.0,0.0,0.0,0.0,0.0,0.0,0.0,0.0,0.47712125471966244],\"yaxis\":\"y\",\"type\":\"scatter\"}],                        {\"template\":{\"data\":{\"histogram2dcontour\":[{\"type\":\"histogram2dcontour\",\"colorbar\":{\"outlinewidth\":0,\"ticks\":\"\"},\"colorscale\":[[0.0,\"#0d0887\"],[0.1111111111111111,\"#46039f\"],[0.2222222222222222,\"#7201a8\"],[0.3333333333333333,\"#9c179e\"],[0.4444444444444444,\"#bd3786\"],[0.5555555555555556,\"#d8576b\"],[0.6666666666666666,\"#ed7953\"],[0.7777777777777778,\"#fb9f3a\"],[0.8888888888888888,\"#fdca26\"],[1.0,\"#f0f921\"]]}],\"choropleth\":[{\"type\":\"choropleth\",\"colorbar\":{\"outlinewidth\":0,\"ticks\":\"\"}}],\"histogram2d\":[{\"type\":\"histogram2d\",\"colorbar\":{\"outlinewidth\":0,\"ticks\":\"\"},\"colorscale\":[[0.0,\"#0d0887\"],[0.1111111111111111,\"#46039f\"],[0.2222222222222222,\"#7201a8\"],[0.3333333333333333,\"#9c179e\"],[0.4444444444444444,\"#bd3786\"],[0.5555555555555556,\"#d8576b\"],[0.6666666666666666,\"#ed7953\"],[0.7777777777777778,\"#fb9f3a\"],[0.8888888888888888,\"#fdca26\"],[1.0,\"#f0f921\"]]}],\"heatmap\":[{\"type\":\"heatmap\",\"colorbar\":{\"outlinewidth\":0,\"ticks\":\"\"},\"colorscale\":[[0.0,\"#0d0887\"],[0.1111111111111111,\"#46039f\"],[0.2222222222222222,\"#7201a8\"],[0.3333333333333333,\"#9c179e\"],[0.4444444444444444,\"#bd3786\"],[0.5555555555555556,\"#d8576b\"],[0.6666666666666666,\"#ed7953\"],[0.7777777777777778,\"#fb9f3a\"],[0.8888888888888888,\"#fdca26\"],[1.0,\"#f0f921\"]]}],\"heatmapgl\":[{\"type\":\"heatmapgl\",\"colorbar\":{\"outlinewidth\":0,\"ticks\":\"\"},\"colorscale\":[[0.0,\"#0d0887\"],[0.1111111111111111,\"#46039f\"],[0.2222222222222222,\"#7201a8\"],[0.3333333333333333,\"#9c179e\"],[0.4444444444444444,\"#bd3786\"],[0.5555555555555556,\"#d8576b\"],[0.6666666666666666,\"#ed7953\"],[0.7777777777777778,\"#fb9f3a\"],[0.8888888888888888,\"#fdca26\"],[1.0,\"#f0f921\"]]}],\"contourcarpet\":[{\"type\":\"contourcarpet\",\"colorbar\":{\"outlinewidth\":0,\"ticks\":\"\"}}],\"contour\":[{\"type\":\"contour\",\"colorbar\":{\"outlinewidth\":0,\"ticks\":\"\"},\"colorscale\":[[0.0,\"#0d0887\"],[0.1111111111111111,\"#46039f\"],[0.2222222222222222,\"#7201a8\"],[0.3333333333333333,\"#9c179e\"],[0.4444444444444444,\"#bd3786\"],[0.5555555555555556,\"#d8576b\"],[0.6666666666666666,\"#ed7953\"],[0.7777777777777778,\"#fb9f3a\"],[0.8888888888888888,\"#fdca26\"],[1.0,\"#f0f921\"]]}],\"surface\":[{\"type\":\"surface\",\"colorbar\":{\"outlinewidth\":0,\"ticks\":\"\"},\"colorscale\":[[0.0,\"#0d0887\"],[0.1111111111111111,\"#46039f\"],[0.2222222222222222,\"#7201a8\"],[0.3333333333333333,\"#9c179e\"],[0.4444444444444444,\"#bd3786\"],[0.5555555555555556,\"#d8576b\"],[0.6666666666666666,\"#ed7953\"],[0.7777777777777778,\"#fb9f3a\"],[0.8888888888888888,\"#fdca26\"],[1.0,\"#f0f921\"]]}],\"mesh3d\":[{\"type\":\"mesh3d\",\"colorbar\":{\"outlinewidth\":0,\"ticks\":\"\"}}],\"scatter\":[{\"fillpattern\":{\"fillmode\":\"overlay\",\"size\":10,\"solidity\":0.2},\"type\":\"scatter\"}],\"parcoords\":[{\"type\":\"parcoords\",\"line\":{\"colorbar\":{\"outlinewidth\":0,\"ticks\":\"\"}}}],\"scatterpolargl\":[{\"type\":\"scatterpolargl\",\"marker\":{\"colorbar\":{\"outlinewidth\":0,\"ticks\":\"\"}}}],\"bar\":[{\"error_x\":{\"color\":\"#2a3f5f\"},\"error_y\":{\"color\":\"#2a3f5f\"},\"marker\":{\"line\":{\"color\":\"#E5ECF6\",\"width\":0.5},\"pattern\":{\"fillmode\":\"overlay\",\"size\":10,\"solidity\":0.2}},\"type\":\"bar\"}],\"scattergeo\":[{\"type\":\"scattergeo\",\"marker\":{\"colorbar\":{\"outlinewidth\":0,\"ticks\":\"\"}}}],\"scatterpolar\":[{\"type\":\"scatterpolar\",\"marker\":{\"colorbar\":{\"outlinewidth\":0,\"ticks\":\"\"}}}],\"histogram\":[{\"marker\":{\"pattern\":{\"fillmode\":\"overlay\",\"size\":10,\"solidity\":0.2}},\"type\":\"histogram\"}],\"scattergl\":[{\"type\":\"scattergl\",\"marker\":{\"colorbar\":{\"outlinewidth\":0,\"ticks\":\"\"}}}],\"scatter3d\":[{\"type\":\"scatter3d\",\"line\":{\"colorbar\":{\"outlinewidth\":0,\"ticks\":\"\"}},\"marker\":{\"colorbar\":{\"outlinewidth\":0,\"ticks\":\"\"}}}],\"scattermapbox\":[{\"type\":\"scattermapbox\",\"marker\":{\"colorbar\":{\"outlinewidth\":0,\"ticks\":\"\"}}}],\"scatterternary\":[{\"type\":\"scatterternary\",\"marker\":{\"colorbar\":{\"outlinewidth\":0,\"ticks\":\"\"}}}],\"scattercarpet\":[{\"type\":\"scattercarpet\",\"marker\":{\"colorbar\":{\"outlinewidth\":0,\"ticks\":\"\"}}}],\"carpet\":[{\"aaxis\":{\"endlinecolor\":\"#2a3f5f\",\"gridcolor\":\"white\",\"linecolor\":\"white\",\"minorgridcolor\":\"white\",\"startlinecolor\":\"#2a3f5f\"},\"baxis\":{\"endlinecolor\":\"#2a3f5f\",\"gridcolor\":\"white\",\"linecolor\":\"white\",\"minorgridcolor\":\"white\",\"startlinecolor\":\"#2a3f5f\"},\"type\":\"carpet\"}],\"table\":[{\"cells\":{\"fill\":{\"color\":\"#EBF0F8\"},\"line\":{\"color\":\"white\"}},\"header\":{\"fill\":{\"color\":\"#C8D4E3\"},\"line\":{\"color\":\"white\"}},\"type\":\"table\"}],\"barpolar\":[{\"marker\":{\"line\":{\"color\":\"#E5ECF6\",\"width\":0.5},\"pattern\":{\"fillmode\":\"overlay\",\"size\":10,\"solidity\":0.2}},\"type\":\"barpolar\"}],\"pie\":[{\"automargin\":true,\"type\":\"pie\"}]},\"layout\":{\"autotypenumbers\":\"strict\",\"colorway\":[\"#636efa\",\"#EF553B\",\"#00cc96\",\"#ab63fa\",\"#FFA15A\",\"#19d3f3\",\"#FF6692\",\"#B6E880\",\"#FF97FF\",\"#FECB52\"],\"font\":{\"color\":\"#2a3f5f\"},\"hovermode\":\"closest\",\"hoverlabel\":{\"align\":\"left\"},\"paper_bgcolor\":\"white\",\"plot_bgcolor\":\"#E5ECF6\",\"polar\":{\"bgcolor\":\"#E5ECF6\",\"angularaxis\":{\"gridcolor\":\"white\",\"linecolor\":\"white\",\"ticks\":\"\"},\"radialaxis\":{\"gridcolor\":\"white\",\"linecolor\":\"white\",\"ticks\":\"\"}},\"ternary\":{\"bgcolor\":\"#E5ECF6\",\"aaxis\":{\"gridcolor\":\"white\",\"linecolor\":\"white\",\"ticks\":\"\"},\"baxis\":{\"gridcolor\":\"white\",\"linecolor\":\"white\",\"ticks\":\"\"},\"caxis\":{\"gridcolor\":\"white\",\"linecolor\":\"white\",\"ticks\":\"\"}},\"coloraxis\":{\"colorbar\":{\"outlinewidth\":0,\"ticks\":\"\"}},\"colorscale\":{\"sequential\":[[0.0,\"#0d0887\"],[0.1111111111111111,\"#46039f\"],[0.2222222222222222,\"#7201a8\"],[0.3333333333333333,\"#9c179e\"],[0.4444444444444444,\"#bd3786\"],[0.5555555555555556,\"#d8576b\"],[0.6666666666666666,\"#ed7953\"],[0.7777777777777778,\"#fb9f3a\"],[0.8888888888888888,\"#fdca26\"],[1.0,\"#f0f921\"]],\"sequentialminus\":[[0.0,\"#0d0887\"],[0.1111111111111111,\"#46039f\"],[0.2222222222222222,\"#7201a8\"],[0.3333333333333333,\"#9c179e\"],[0.4444444444444444,\"#bd3786\"],[0.5555555555555556,\"#d8576b\"],[0.6666666666666666,\"#ed7953\"],[0.7777777777777778,\"#fb9f3a\"],[0.8888888888888888,\"#fdca26\"],[1.0,\"#f0f921\"]],\"diverging\":[[0,\"#8e0152\"],[0.1,\"#c51b7d\"],[0.2,\"#de77ae\"],[0.3,\"#f1b6da\"],[0.4,\"#fde0ef\"],[0.5,\"#f7f7f7\"],[0.6,\"#e6f5d0\"],[0.7,\"#b8e186\"],[0.8,\"#7fbc41\"],[0.9,\"#4d9221\"],[1,\"#276419\"]]},\"xaxis\":{\"gridcolor\":\"white\",\"linecolor\":\"white\",\"ticks\":\"\",\"title\":{\"standoff\":15},\"zerolinecolor\":\"white\",\"automargin\":true,\"zerolinewidth\":2},\"yaxis\":{\"gridcolor\":\"white\",\"linecolor\":\"white\",\"ticks\":\"\",\"title\":{\"standoff\":15},\"zerolinecolor\":\"white\",\"automargin\":true,\"zerolinewidth\":2},\"scene\":{\"xaxis\":{\"backgroundcolor\":\"#E5ECF6\",\"gridcolor\":\"white\",\"linecolor\":\"white\",\"showbackground\":true,\"ticks\":\"\",\"zerolinecolor\":\"white\",\"gridwidth\":2},\"yaxis\":{\"backgroundcolor\":\"#E5ECF6\",\"gridcolor\":\"white\",\"linecolor\":\"white\",\"showbackground\":true,\"ticks\":\"\",\"zerolinecolor\":\"white\",\"gridwidth\":2},\"zaxis\":{\"backgroundcolor\":\"#E5ECF6\",\"gridcolor\":\"white\",\"linecolor\":\"white\",\"showbackground\":true,\"ticks\":\"\",\"zerolinecolor\":\"white\",\"gridwidth\":2}},\"shapedefaults\":{\"line\":{\"color\":\"#2a3f5f\"}},\"annotationdefaults\":{\"arrowcolor\":\"#2a3f5f\",\"arrowhead\":0,\"arrowwidth\":1},\"geo\":{\"bgcolor\":\"white\",\"landcolor\":\"#E5ECF6\",\"subunitcolor\":\"white\",\"showland\":true,\"showlakes\":true,\"lakecolor\":\"white\"},\"title\":{\"x\":0.05},\"mapbox\":{\"style\":\"light\"}}},\"xaxis\":{\"anchor\":\"y\",\"domain\":[0.0,1.0],\"title\":{\"text\":\"No. of Genuine DOs\"}},\"yaxis\":{\"anchor\":\"x\",\"domain\":[0.0,1.0],\"title\":{\"text\":\"No. of Compartmentalizations\"}},\"legend\":{\"tracegroupgap\":0},\"margin\":{\"t\":60},\"title\":{\"text\":\"No. of Genuine DOs vs Compartmentalizations\",\"x\":0.5,\"y\":0.95}},                        {\"responsive\": true}                    ).then(function(){\n",
              "                            \n",
              "var gd = document.getElementById('8f315976-03ba-4805-93e6-f0487152ebd2');\n",
              "var x = new MutationObserver(function (mutations, observer) {{\n",
              "        var display = window.getComputedStyle(gd).display;\n",
              "        if (!display || display === 'none') {{\n",
              "            console.log([gd, 'removed!']);\n",
              "            Plotly.purge(gd);\n",
              "            observer.disconnect();\n",
              "        }}\n",
              "}});\n",
              "\n",
              "// Listen for the removal of the full notebook cells\n",
              "var notebookContainer = gd.closest('#notebook-container');\n",
              "if (notebookContainer) {{\n",
              "    x.observe(notebookContainer, {childList: true});\n",
              "}}\n",
              "\n",
              "// Listen for the clearing of the current output cell\n",
              "var outputEl = gd.closest('.output');\n",
              "if (outputEl) {{\n",
              "    x.observe(outputEl, {childList: true});\n",
              "}}\n",
              "\n",
              "                        })                };                            </script>        </div>\n",
              "</body>\n",
              "</html>"
            ]
          },
          "metadata": {}
        }
      ],
      "source": [
        "import plotly.express as px\n",
        "fig = px.scatter(x=np.log10(df['4a. No. of Genuine DOs']), y=np.log10(df['4c. No. of Compartmentalizations']))\n",
        "\n",
        "fig.update_layout(\n",
        "    title='No. of Genuine DOs vs Compartmentalizations',\n",
        "    xaxis=dict(title='No. of Genuine DOs'),\n",
        "    yaxis=dict(title='No. of Compartmentalizations'),\n",
        "    title_x=0.5,\n",
        "    title_y=0.95\n",
        ")\n",
        "\n",
        "fig.show()\n",
        "\n",
        "write_image(fig, '4a and 4c No. of Genuine DOs vs Compartmentalizations.png')"
      ]
    },
    {
      "cell_type": "code",
      "execution_count": null,
      "id": "3b3cb490",
      "metadata": {
        "colab": {
          "base_uri": "https://localhost:8080/",
          "height": 542
        },
        "id": "3b3cb490",
        "outputId": "ebd38f25-ab46-4b54-ec84-38d26477b66e"
      },
      "outputs": [
        {
          "output_type": "display_data",
          "data": {
            "text/html": [
              "<html>\n",
              "<head><meta charset=\"utf-8\" /></head>\n",
              "<body>\n",
              "    <div>            <script src=\"https://cdnjs.cloudflare.com/ajax/libs/mathjax/2.7.5/MathJax.js?config=TeX-AMS-MML_SVG\"></script><script type=\"text/javascript\">if (window.MathJax && window.MathJax.Hub && window.MathJax.Hub.Config) {window.MathJax.Hub.Config({SVG: {font: \"STIX-Web\"}});}</script>                <script type=\"text/javascript\">window.PlotlyConfig = {MathJaxConfig: 'local'};</script>\n",
              "        <script charset=\"utf-8\" src=\"https://cdn.plot.ly/plotly-2.24.1.min.js\"></script>                <div id=\"2e95ce81-40e9-441a-94c4-8de0926a4f58\" class=\"plotly-graph-div\" style=\"height:525px; width:100%;\"></div>            <script type=\"text/javascript\">                                    window.PLOTLYENV=window.PLOTLYENV || {};                                    if (document.getElementById(\"2e95ce81-40e9-441a-94c4-8de0926a4f58\")) {                    Plotly.newPlot(                        \"2e95ce81-40e9-441a-94c4-8de0926a4f58\",                        [{\"hovertemplate\":\"x=%{x}\\u003cbr\\u003ey=%{y}\\u003cextra\\u003e\\u003c\\u002fextra\\u003e\",\"legendgroup\":\"\",\"marker\":{\"color\":\"#636efa\",\"symbol\":\"circle\"},\"mode\":\"markers\",\"name\":\"\",\"orientation\":\"v\",\"showlegend\":false,\"x\":[0.3010299956639812,0.9030899869919435,1.3979400086720377,0.7781512503836436,3.0236639181977933,0.3010299956639812,0.3010299956639812,4.645726758261136,0.7781512503836436,3.913442954859396,0.6989700043360189,0.6020599913279624,1.6434526764861874,1.0,1.9344984512435677,1.0,1.9242792860618816,1.255272505103306,1.6127838567197355,0.3010299956639812,1.2041199826559248,0.3010299956639812,0.8450980400142568,2.8488047010518036,0.3010299956639812,2.4533183400470375,3.918764031027999,0.3010299956639812,4.698987375767868,0.3010299956639812,0.6020599913279624,4.698978690138799,1.505149978319906,0.6989700043360189,1.9731278535996986,0.9542425094393249,0.47712125471966244,0.7781512503836436,0.6020599913279624,0.3010299956639812,1.2304489213782739,0.8450980400142568,0.3010299956639812,0.3010299956639812,4.739414102698695,1.146128035678238,0.6989700043360189,0.3010299956639812,0.3010299956639812,0.3010299956639812,0.3010299956639812,2.123851640967086,2.123851640967086,0.9542425094393249,1.505149978319906,1.2304489213782739,0.3010299956639812,2.710963118995276,0.7781512503836436,1.1760912590556813,1.1760912590556813,0.3010299956639812,0.3010299956639812,2.4099331233312946,0.3010299956639812,4.698978690138799,0.6020599913279624,1.0,0.3010299956639812,2.7895807121644256,4.699508195883737,1.7708520116421442,1.2787536009528289,0.3010299956639812,0.47712125471966244,0.3010299956639812,3.913442954859396,0.3010299956639812,1.380211241711606,0.3010299956639812,4.312494707189671,3.9136019497291574,1.2304489213782739,1.2304489213782739,1.2304489213782739,1.2304489213782739,1.5185139398778875,1.2304489213782739,4.5154631883732685,3.010723865391773,3.0111473607757975,4.319813684538678,4.560229533914398,4.640670219621472,4.699525545802118,0.0,1.6127838567197355,4.698978690138799,3.6124659639531425,0.3010299956639812,2.7267272090265724,1.8573324964312685,1.8573324964312685,1.2041199826559248,4.846089580357984,4.698978690138799,3.408748606184244,4.504837716928653,3.3306166672944384,4.698978690138799,0.3010299956639812,0.7781512503836436,0.7781512503836436,0.7781512503836436,0.7781512503836436,2.807535028068853,0.47712125471966244,0.0,0.3010299956639812,4.699247863898858,1.3979400086720377,4.698987375767868,0.3010299956639812,0.47712125471966244,1.3617278360175928,1.7853298350107671,2.41161970596323,0.3010299956639812,1.8129133566428555,0.47712125471966244,4.764863283710636,1.2304489213782739,1.2041199826559248,0.3010299956639812,0.3010299956639812,0.3010299956639812,1.5185139398778875,4.699117639363333,3.011993114659257,4.699117639363333,4.699117639363333,0.7781512503836436,4.698978690138799,0.0,0.3010299956639812,0.9542425094393249,0.47712125471966244,0.3010299956639812,0.3010299956639812,4.699386727043735,4.062469165814253,1.2304489213782739,0.3010299956639812,0.3010299956639812,0.0,0.3010299956639812,0.3010299956639812,0.3010299956639812,0.3010299956639812,0.3010299956639812,0.3010299956639812,0.3010299956639812,0.6989700043360189,0.3010299956639812,0.3010299956639812,0.3010299956639812,0.47712125471966244,0.6989700043360189,0.3010299956639812,0.3010299956639812,3.1152775913959014,1.380211241711606,0.3010299956639812,0.3010299956639812,0.3010299956639812,0.3010299956639812,0.3010299956639812,0.3010299956639812,0.3010299956639812,0.47712125471966244,0.3010299956639812,0.3010299956639812,0.3010299956639812,1.8129133566428555,0.3010299956639812,0.3010299956639812,0.3010299956639812,0.6989700043360189,1.2041199826559248,0.6989700043360189,3.311541958401195,0.0,0.3010299956639812,1.5185139398778875,2.110589710299249,0.9542425094393249,0.0,0.47712125471966244,0.6989700043360189,0.47712125471966244,0.6020599913279624,0.3010299956639812,0.3010299956639812,4.699004746504903,0.3010299956639812,0.3010299956639812,0.3010299956639812,3.7371926427047373,3.612359947967774,0.0,1.6901960800285136,1.1760912590556813,2.7024305364455254,0.3010299956639812,3.913442954859396,4.699108956339093,4.699108956339093,4.699108956339093,4.699108956339093,4.699108956339093,4.699108956339093,4.699108956339093,4.699108956339093,4.699108956339093,4.699108956339093,4.699108956339093,4.699108956339093,4.699108956339093,4.699108956339093,4.699108956339093,4.699108956339093,4.699108956339093,4.699108956339093,4.699108956339093,1.4771212547196624,1.4771212547196624,1.4771212547196624,2.481442628502305,2.481442628502305,0.3010299956639812,0.0,3.1152775913959014,1.0791812460476249,0.3010299956639812,0.47712125471966244,3.4712917110589387,3.3113299523037933,0.9030899869919435,1.255272505103306,1.5314789170422551,0.3010299956639812,1.255272505103306,2.7101173651118162,1.2304489213782739,0.3010299956639812,0.3010299956639812,0.9542425094393249,0.3010299956639812,2.7101173651118162,0.0,4.016197353512439,0.0,1.255272505103306,0.3010299956639812,1.1139433523068367,0.3010299956639812,0.3010299956639812,0.6989700043360189,4.698987375767868,0.47712125471966244,0.47712125471966244,4.515476441382376,0.47712125471966244,1.8260748027008264],\"xaxis\":\"x\",\"y\":[0.0,0.0,0.3010299956639812,0.0,0.0,0.0,0.0,0.0,0.0,0.0,0.0,0.0,0.0,0.0,0.3010299956639812,0.0,0.0,0.0,1.0,0.0,0.0,0.0,0.0,0.0,0.0,1.7160033436347992,3.728597243383432,0.0,0.0,0.0,0.0,0.0,0.0,0.0,1.863322860120456,0.0,0.0,0.0,0.0,0.0,0.0,0.0,0.0,0.0,3.4423229557455746,0.0,0.0,0.0,0.0,0.0,0.0,1.3010299956639813,1.3010299956639813,0.0,0.0,0.0,0.0,0.0,0.0,0.0,0.0,0.0,0.0,0.0,0.0,0.0,0.0,0.3010299956639812,0.0,0.47712125471966244,1.3979400086720377,0.0,0.0,0.0,0.0,0.0,0.0,0.0,0.0,0.0,0.3010299956639812,0.0,0.0,0.0,0.0,0.0,0.0,0.0,0.0,0.0,0.0,1.9294189257142929,0.6989700043360189,0.0,0.0,0.0,1.0,0.0,0.0,0.0,0.6989700043360189,0.0,0.0,0.0,3.936564005135266,0.0,0.0,1.6434526764861874,2.45178643552429,0.0,0.0,0.0,0.0,0.0,0.0,0.0,0.0,0.0,0.0,0.0,0.3010299956639812,0.0,0.0,0.0,0.6020599913279624,1.0791812460476249,0.0,0.0,0.0,0.0,0.0,0.0,0.0,0.0,0.0,0.0,0.0,0.9542425094393249,0.0,0.9542425094393249,0.9542425094393249,0.0,0.0,0.0,0.0,0.0,0.0,0.0,0.0,0.0,0.8450980400142568,0.0,0.0,0.0,0.0,0.0,0.0,0.0,0.0,0.0,0.0,0.0,0.0,0.0,0.0,0.0,0.0,0.0,0.0,0.0,0.0,0.0,0.0,0.0,0.0,0.0,0.0,0.0,0.0,0.0,0.0,0.0,0.0,0.0,0.0,0.0,0.0,0.0,0.0,0.0,0.0,0.0,0.0,0.0,0.0,0.0,0.0,0.0,0.0,0.0,0.0,0.0,0.0,0.0,0.0,0.0,0.0,3.860098329698518,0.0,0.0,0.8450980400142568,0.0,1.5440680443502757,0.0,0.0,0.0,0.0,0.0,0.0,0.0,0.0,0.0,0.0,0.0,0.0,0.0,0.0,0.0,0.0,0.0,0.0,0.0,0.0,0.0,0.3010299956639812,0.3010299956639812,0.3010299956639812,0.6989700043360189,0.6989700043360189,0.0,0.0,0.0,0.0,0.0,0.0,0.8450980400142568,2.7101173651118162,0.0,0.0,0.0,0.0,0.0,0.0,0.0,0.0,0.0,0.0,0.0,0.0,0.0,0.0,0.0,0.0,0.0,0.0,0.0,0.0,0.0,0.0,0.0,0.0,0.0,0.0,0.47712125471966244],\"yaxis\":\"y\",\"type\":\"scatter\"}],                        {\"template\":{\"data\":{\"histogram2dcontour\":[{\"type\":\"histogram2dcontour\",\"colorbar\":{\"outlinewidth\":0,\"ticks\":\"\"},\"colorscale\":[[0.0,\"#0d0887\"],[0.1111111111111111,\"#46039f\"],[0.2222222222222222,\"#7201a8\"],[0.3333333333333333,\"#9c179e\"],[0.4444444444444444,\"#bd3786\"],[0.5555555555555556,\"#d8576b\"],[0.6666666666666666,\"#ed7953\"],[0.7777777777777778,\"#fb9f3a\"],[0.8888888888888888,\"#fdca26\"],[1.0,\"#f0f921\"]]}],\"choropleth\":[{\"type\":\"choropleth\",\"colorbar\":{\"outlinewidth\":0,\"ticks\":\"\"}}],\"histogram2d\":[{\"type\":\"histogram2d\",\"colorbar\":{\"outlinewidth\":0,\"ticks\":\"\"},\"colorscale\":[[0.0,\"#0d0887\"],[0.1111111111111111,\"#46039f\"],[0.2222222222222222,\"#7201a8\"],[0.3333333333333333,\"#9c179e\"],[0.4444444444444444,\"#bd3786\"],[0.5555555555555556,\"#d8576b\"],[0.6666666666666666,\"#ed7953\"],[0.7777777777777778,\"#fb9f3a\"],[0.8888888888888888,\"#fdca26\"],[1.0,\"#f0f921\"]]}],\"heatmap\":[{\"type\":\"heatmap\",\"colorbar\":{\"outlinewidth\":0,\"ticks\":\"\"},\"colorscale\":[[0.0,\"#0d0887\"],[0.1111111111111111,\"#46039f\"],[0.2222222222222222,\"#7201a8\"],[0.3333333333333333,\"#9c179e\"],[0.4444444444444444,\"#bd3786\"],[0.5555555555555556,\"#d8576b\"],[0.6666666666666666,\"#ed7953\"],[0.7777777777777778,\"#fb9f3a\"],[0.8888888888888888,\"#fdca26\"],[1.0,\"#f0f921\"]]}],\"heatmapgl\":[{\"type\":\"heatmapgl\",\"colorbar\":{\"outlinewidth\":0,\"ticks\":\"\"},\"colorscale\":[[0.0,\"#0d0887\"],[0.1111111111111111,\"#46039f\"],[0.2222222222222222,\"#7201a8\"],[0.3333333333333333,\"#9c179e\"],[0.4444444444444444,\"#bd3786\"],[0.5555555555555556,\"#d8576b\"],[0.6666666666666666,\"#ed7953\"],[0.7777777777777778,\"#fb9f3a\"],[0.8888888888888888,\"#fdca26\"],[1.0,\"#f0f921\"]]}],\"contourcarpet\":[{\"type\":\"contourcarpet\",\"colorbar\":{\"outlinewidth\":0,\"ticks\":\"\"}}],\"contour\":[{\"type\":\"contour\",\"colorbar\":{\"outlinewidth\":0,\"ticks\":\"\"},\"colorscale\":[[0.0,\"#0d0887\"],[0.1111111111111111,\"#46039f\"],[0.2222222222222222,\"#7201a8\"],[0.3333333333333333,\"#9c179e\"],[0.4444444444444444,\"#bd3786\"],[0.5555555555555556,\"#d8576b\"],[0.6666666666666666,\"#ed7953\"],[0.7777777777777778,\"#fb9f3a\"],[0.8888888888888888,\"#fdca26\"],[1.0,\"#f0f921\"]]}],\"surface\":[{\"type\":\"surface\",\"colorbar\":{\"outlinewidth\":0,\"ticks\":\"\"},\"colorscale\":[[0.0,\"#0d0887\"],[0.1111111111111111,\"#46039f\"],[0.2222222222222222,\"#7201a8\"],[0.3333333333333333,\"#9c179e\"],[0.4444444444444444,\"#bd3786\"],[0.5555555555555556,\"#d8576b\"],[0.6666666666666666,\"#ed7953\"],[0.7777777777777778,\"#fb9f3a\"],[0.8888888888888888,\"#fdca26\"],[1.0,\"#f0f921\"]]}],\"mesh3d\":[{\"type\":\"mesh3d\",\"colorbar\":{\"outlinewidth\":0,\"ticks\":\"\"}}],\"scatter\":[{\"fillpattern\":{\"fillmode\":\"overlay\",\"size\":10,\"solidity\":0.2},\"type\":\"scatter\"}],\"parcoords\":[{\"type\":\"parcoords\",\"line\":{\"colorbar\":{\"outlinewidth\":0,\"ticks\":\"\"}}}],\"scatterpolargl\":[{\"type\":\"scatterpolargl\",\"marker\":{\"colorbar\":{\"outlinewidth\":0,\"ticks\":\"\"}}}],\"bar\":[{\"error_x\":{\"color\":\"#2a3f5f\"},\"error_y\":{\"color\":\"#2a3f5f\"},\"marker\":{\"line\":{\"color\":\"#E5ECF6\",\"width\":0.5},\"pattern\":{\"fillmode\":\"overlay\",\"size\":10,\"solidity\":0.2}},\"type\":\"bar\"}],\"scattergeo\":[{\"type\":\"scattergeo\",\"marker\":{\"colorbar\":{\"outlinewidth\":0,\"ticks\":\"\"}}}],\"scatterpolar\":[{\"type\":\"scatterpolar\",\"marker\":{\"colorbar\":{\"outlinewidth\":0,\"ticks\":\"\"}}}],\"histogram\":[{\"marker\":{\"pattern\":{\"fillmode\":\"overlay\",\"size\":10,\"solidity\":0.2}},\"type\":\"histogram\"}],\"scattergl\":[{\"type\":\"scattergl\",\"marker\":{\"colorbar\":{\"outlinewidth\":0,\"ticks\":\"\"}}}],\"scatter3d\":[{\"type\":\"scatter3d\",\"line\":{\"colorbar\":{\"outlinewidth\":0,\"ticks\":\"\"}},\"marker\":{\"colorbar\":{\"outlinewidth\":0,\"ticks\":\"\"}}}],\"scattermapbox\":[{\"type\":\"scattermapbox\",\"marker\":{\"colorbar\":{\"outlinewidth\":0,\"ticks\":\"\"}}}],\"scatterternary\":[{\"type\":\"scatterternary\",\"marker\":{\"colorbar\":{\"outlinewidth\":0,\"ticks\":\"\"}}}],\"scattercarpet\":[{\"type\":\"scattercarpet\",\"marker\":{\"colorbar\":{\"outlinewidth\":0,\"ticks\":\"\"}}}],\"carpet\":[{\"aaxis\":{\"endlinecolor\":\"#2a3f5f\",\"gridcolor\":\"white\",\"linecolor\":\"white\",\"minorgridcolor\":\"white\",\"startlinecolor\":\"#2a3f5f\"},\"baxis\":{\"endlinecolor\":\"#2a3f5f\",\"gridcolor\":\"white\",\"linecolor\":\"white\",\"minorgridcolor\":\"white\",\"startlinecolor\":\"#2a3f5f\"},\"type\":\"carpet\"}],\"table\":[{\"cells\":{\"fill\":{\"color\":\"#EBF0F8\"},\"line\":{\"color\":\"white\"}},\"header\":{\"fill\":{\"color\":\"#C8D4E3\"},\"line\":{\"color\":\"white\"}},\"type\":\"table\"}],\"barpolar\":[{\"marker\":{\"line\":{\"color\":\"#E5ECF6\",\"width\":0.5},\"pattern\":{\"fillmode\":\"overlay\",\"size\":10,\"solidity\":0.2}},\"type\":\"barpolar\"}],\"pie\":[{\"automargin\":true,\"type\":\"pie\"}]},\"layout\":{\"autotypenumbers\":\"strict\",\"colorway\":[\"#636efa\",\"#EF553B\",\"#00cc96\",\"#ab63fa\",\"#FFA15A\",\"#19d3f3\",\"#FF6692\",\"#B6E880\",\"#FF97FF\",\"#FECB52\"],\"font\":{\"color\":\"#2a3f5f\"},\"hovermode\":\"closest\",\"hoverlabel\":{\"align\":\"left\"},\"paper_bgcolor\":\"white\",\"plot_bgcolor\":\"#E5ECF6\",\"polar\":{\"bgcolor\":\"#E5ECF6\",\"angularaxis\":{\"gridcolor\":\"white\",\"linecolor\":\"white\",\"ticks\":\"\"},\"radialaxis\":{\"gridcolor\":\"white\",\"linecolor\":\"white\",\"ticks\":\"\"}},\"ternary\":{\"bgcolor\":\"#E5ECF6\",\"aaxis\":{\"gridcolor\":\"white\",\"linecolor\":\"white\",\"ticks\":\"\"},\"baxis\":{\"gridcolor\":\"white\",\"linecolor\":\"white\",\"ticks\":\"\"},\"caxis\":{\"gridcolor\":\"white\",\"linecolor\":\"white\",\"ticks\":\"\"}},\"coloraxis\":{\"colorbar\":{\"outlinewidth\":0,\"ticks\":\"\"}},\"colorscale\":{\"sequential\":[[0.0,\"#0d0887\"],[0.1111111111111111,\"#46039f\"],[0.2222222222222222,\"#7201a8\"],[0.3333333333333333,\"#9c179e\"],[0.4444444444444444,\"#bd3786\"],[0.5555555555555556,\"#d8576b\"],[0.6666666666666666,\"#ed7953\"],[0.7777777777777778,\"#fb9f3a\"],[0.8888888888888888,\"#fdca26\"],[1.0,\"#f0f921\"]],\"sequentialminus\":[[0.0,\"#0d0887\"],[0.1111111111111111,\"#46039f\"],[0.2222222222222222,\"#7201a8\"],[0.3333333333333333,\"#9c179e\"],[0.4444444444444444,\"#bd3786\"],[0.5555555555555556,\"#d8576b\"],[0.6666666666666666,\"#ed7953\"],[0.7777777777777778,\"#fb9f3a\"],[0.8888888888888888,\"#fdca26\"],[1.0,\"#f0f921\"]],\"diverging\":[[0,\"#8e0152\"],[0.1,\"#c51b7d\"],[0.2,\"#de77ae\"],[0.3,\"#f1b6da\"],[0.4,\"#fde0ef\"],[0.5,\"#f7f7f7\"],[0.6,\"#e6f5d0\"],[0.7,\"#b8e186\"],[0.8,\"#7fbc41\"],[0.9,\"#4d9221\"],[1,\"#276419\"]]},\"xaxis\":{\"gridcolor\":\"white\",\"linecolor\":\"white\",\"ticks\":\"\",\"title\":{\"standoff\":15},\"zerolinecolor\":\"white\",\"automargin\":true,\"zerolinewidth\":2},\"yaxis\":{\"gridcolor\":\"white\",\"linecolor\":\"white\",\"ticks\":\"\",\"title\":{\"standoff\":15},\"zerolinecolor\":\"white\",\"automargin\":true,\"zerolinewidth\":2},\"scene\":{\"xaxis\":{\"backgroundcolor\":\"#E5ECF6\",\"gridcolor\":\"white\",\"linecolor\":\"white\",\"showbackground\":true,\"ticks\":\"\",\"zerolinecolor\":\"white\",\"gridwidth\":2},\"yaxis\":{\"backgroundcolor\":\"#E5ECF6\",\"gridcolor\":\"white\",\"linecolor\":\"white\",\"showbackground\":true,\"ticks\":\"\",\"zerolinecolor\":\"white\",\"gridwidth\":2},\"zaxis\":{\"backgroundcolor\":\"#E5ECF6\",\"gridcolor\":\"white\",\"linecolor\":\"white\",\"showbackground\":true,\"ticks\":\"\",\"zerolinecolor\":\"white\",\"gridwidth\":2}},\"shapedefaults\":{\"line\":{\"color\":\"#2a3f5f\"}},\"annotationdefaults\":{\"arrowcolor\":\"#2a3f5f\",\"arrowhead\":0,\"arrowwidth\":1},\"geo\":{\"bgcolor\":\"white\",\"landcolor\":\"#E5ECF6\",\"subunitcolor\":\"white\",\"showland\":true,\"showlakes\":true,\"lakecolor\":\"white\"},\"title\":{\"x\":0.05},\"mapbox\":{\"style\":\"light\"}}},\"xaxis\":{\"anchor\":\"y\",\"domain\":[0.0,1.0],\"title\":{\"text\":\"No. of Organizations\"}},\"yaxis\":{\"anchor\":\"x\",\"domain\":[0.0,1.0],\"title\":{\"text\":\"No. of Compartmentalizations\"}},\"legend\":{\"tracegroupgap\":0},\"margin\":{\"t\":60},\"title\":{\"text\":\"No. of Organizations vs No. of Compartmentalizations\",\"x\":0.5,\"y\":0.95}},                        {\"responsive\": true}                    ).then(function(){\n",
              "                            \n",
              "var gd = document.getElementById('2e95ce81-40e9-441a-94c4-8de0926a4f58');\n",
              "var x = new MutationObserver(function (mutations, observer) {{\n",
              "        var display = window.getComputedStyle(gd).display;\n",
              "        if (!display || display === 'none') {{\n",
              "            console.log([gd, 'removed!']);\n",
              "            Plotly.purge(gd);\n",
              "            observer.disconnect();\n",
              "        }}\n",
              "}});\n",
              "\n",
              "// Listen for the removal of the full notebook cells\n",
              "var notebookContainer = gd.closest('#notebook-container');\n",
              "if (notebookContainer) {{\n",
              "    x.observe(notebookContainer, {childList: true});\n",
              "}}\n",
              "\n",
              "// Listen for the clearing of the current output cell\n",
              "var outputEl = gd.closest('.output');\n",
              "if (outputEl) {{\n",
              "    x.observe(outputEl, {childList: true});\n",
              "}}\n",
              "\n",
              "                        })                };                            </script>        </div>\n",
              "</body>\n",
              "</html>"
            ]
          },
          "metadata": {}
        }
      ],
      "source": [
        "import plotly.express as px\n",
        "fig = px.scatter(x=np.log10(df['3a. No. of Organisations']), y=np.log10(df['4c. No. of Compartmentalizations']))\n",
        "\n",
        "fig.update_layout(\n",
        "    title='No. of Organizations vs No. of Compartmentalizations',\n",
        "    xaxis=dict(title='No. of Organizations'),\n",
        "    yaxis=dict(title='No. of Compartmentalizations'),\n",
        "    title_x=0.5,\n",
        "    title_y=0.95\n",
        ")\n",
        "\n",
        "fig.show()\n",
        "\n",
        "write_image(fig, '3a & 4c No. of Organisations vs No. of Compartmentalizations.png')"
      ]
    },
    {
      "cell_type": "code",
      "execution_count": null,
      "id": "8a27a66c",
      "metadata": {
        "colab": {
          "base_uri": "https://localhost:8080/"
        },
        "id": "8a27a66c",
        "outputId": "7c10642e-5b30-4912-8607-c9da852a45aa"
      },
      "outputs": [
        {
          "output_type": "execute_result",
          "data": {
            "text/plain": [
              "Index(['Unnamed: 0', 'No. of SORs', 'No. of Dos', '2a. No. of Reactions',\n",
              "       '2b. No. of Species', '2c. Reactions / Species',\n",
              "       '3a. No. of Organisations',\n",
              "       '3b. Avg number of reactions per Organization', '3c. Height',\n",
              "       '3e. Persistence', '3d. Width', '4a. No. of Genuine DOs',\n",
              "       '4b. No. of Compartmentalized organisations',\n",
              "       '4c. No. of Compartmentalizations', 'Time Complete',\n",
              "       'No: of Compartments', 'Type of modelling tech', 'Organisms', 'Year',\n",
              "       'Other Details', 'Part of cell cycle ', 'Time Complete exp',\n",
              "       'Time Complete Divided'],\n",
              "      dtype='object')"
            ]
          },
          "metadata": {},
          "execution_count": 25
        }
      ],
      "source": [
        "df.columns"
      ]
    },
    {
      "cell_type": "code",
      "execution_count": null,
      "id": "955aa20d",
      "metadata": {
        "id": "955aa20d"
      },
      "outputs": [],
      "source": [
        "import plotly.express as px\n",
        "fig = px.scatter(x=np.log10(df['No. of SORs']), y=np.log10(df['Time Complete exp']))\n",
        "\n",
        "fig.update_layout(\n",
        "    title='SORs vs Time Complete (milliseconds)',\n",
        "    xaxis=dict(title='No. of SORs'),\n",
        "    yaxis=dict(title='Time Complete (milliseconds)')\n",
        ")\n",
        "\n",
        "fig.show()"
      ]
    },
    {
      "cell_type": "code",
      "execution_count": null,
      "id": "5670c18b",
      "metadata": {
        "id": "5670c18b"
      },
      "outputs": [],
      "source": [
        "import plotly.express as px\n",
        "fig = px.scatter(x=np.log10(df['No. of Dos']), y=np.log10(df['Time Complete exp']))\n",
        "\n",
        "fig.update_layout(\n",
        "    title='DOs vs Time Complete',\n",
        "    xaxis=dict(title='No. of Dos'),\n",
        "    yaxis=dict(title='Time Complete')\n",
        ")\n",
        "\n",
        "fig.show()"
      ]
    },
    {
      "cell_type": "code",
      "execution_count": null,
      "id": "e7aba5b9",
      "metadata": {
        "colab": {
          "base_uri": "https://localhost:8080/",
          "height": 611
        },
        "id": "e7aba5b9",
        "outputId": "abe9d770-2415-4e4c-b028-fb6946e30b9c"
      },
      "outputs": [
        {
          "output_type": "stream",
          "name": "stderr",
          "text": [
            "/usr/local/lib/python3.10/dist-packages/pandas/core/arraylike.py:396: RuntimeWarning:\n",
            "\n",
            "divide by zero encountered in log10\n",
            "\n"
          ]
        },
        {
          "output_type": "display_data",
          "data": {
            "text/html": [
              "<html>\n",
              "<head><meta charset=\"utf-8\" /></head>\n",
              "<body>\n",
              "    <div>            <script src=\"https://cdnjs.cloudflare.com/ajax/libs/mathjax/2.7.5/MathJax.js?config=TeX-AMS-MML_SVG\"></script><script type=\"text/javascript\">if (window.MathJax && window.MathJax.Hub && window.MathJax.Hub.Config) {window.MathJax.Hub.Config({SVG: {font: \"STIX-Web\"}});}</script>                <script type=\"text/javascript\">window.PlotlyConfig = {MathJaxConfig: 'local'};</script>\n",
              "        <script charset=\"utf-8\" src=\"https://cdn.plot.ly/plotly-2.24.1.min.js\"></script>                <div id=\"d52e8a2b-1f2b-4dd5-86fd-af98f14deb7a\" class=\"plotly-graph-div\" style=\"height:525px; width:100%;\"></div>            <script type=\"text/javascript\">                                    window.PLOTLYENV=window.PLOTLYENV || {};                                    if (document.getElementById(\"d52e8a2b-1f2b-4dd5-86fd-af98f14deb7a\")) {                    Plotly.newPlot(                        \"d52e8a2b-1f2b-4dd5-86fd-af98f14deb7a\",                        [{\"hovertemplate\":\"x=%{x}\\u003cbr\\u003ey=%{y}\\u003cextra\\u003e\\u003c\\u002fextra\\u003e\",\"legendgroup\":\"\",\"marker\":{\"color\":\"#636efa\",\"symbol\":\"circle\"},\"mode\":\"markers\",\"name\":\"\",\"orientation\":\"v\",\"showlegend\":false,\"x\":[null,null,0.0,null,null,null,null,null,null,null,null,null,null,null,0.0,null,null,null,0.9542425094393249,null,null,null,null,null,null,1.568201724066995,3.6961815871685237,null,null,null,null,null,null,null,1.8195439355418688,null,null,null,null,null,null,null,null,null,3.44216608578472,null,null,null,null,null,null,1.2041199826559248,1.2041199826559248,null,null,null,null,null,null,null,null,null,null,null,null,null,null,0.0,null,0.3010299956639812,1.380211241711606,null,null,null,null,null,null,null,null,null,0.0,null,null,null,null,null,null,null,null,null,null,1.8920946026904804,0.6020599913279624,null,null,null,0.9542425094393249,null,null,null,0.6020599913279624,null,null,null,3.936513742478893,null,null,1.568201724066995,2.3096301674258988,null,null,null,null,null,null,null,null,null,null,null,0.0,null,null,null,0.47712125471966244,1.0,null,null,null,null,null,null,null,null,null,null,null,0.9030899869919435,null,0.9030899869919435,0.9030899869919435,null,null,null,null,null,null,null,null,null,0.7781512503836436,null,null,null,null,null,null,null,null,null,null,null,null,null,null,null,null,null,null,null,null,null,null,null,null,null,null,null,null,null,null,null,null,null,null,null,null,null,null,null,null,null,null,null,null,null,null,null,null,null,null,null,null,null,null,null,null,3.696356388733332,null,null,0.7781512503836436,null,1.505149978319906,null,null,null,null,null,null,null,null,null,null,null,null,null,null,null,null,null,null,null,null,null,0.0,0.0,0.0,0.6020599913279624,0.6020599913279624,null,null,null,null,null,null,0.7781512503836436,2.709269960975831,null,null,null,null,null,null,null,null,null,null,null,null,null,null,null,null,null,null,null,null,null,null,null,null,null,null,0.3010299956639812],\"xaxis\":\"x\",\"y\":[16.35663391897557,16.27379465940449,16.423585458817534,16.02247732688005,16.42907163842508,16.205671247081618,16.084424612091503,16.805853740055216,16.22196635953019,16.774836125523954,15.55280841914701,16.061386122528837,16.478949712625525,16.102050042472516,15.797522014424693,15.190373701550321,15.82852762044912,16.191001130865615,15.579931933302534,15.29893294041639,16.289494982584166,16.190760945875493,12.178277013963928,15.836260634748733,15.769046008663533,15.501980586454385,15.581690026033794,16.4921611712913,15.923521895342093,15.38231886301456,16.397083478018452,16.32111109812068,15.609456567658805,16.25286435934172,15.70917529436888,15.817054800306515,15.537835637767758,16.47999672285089,15.575147002659962,16.205277715359895,16.32281360447004,15.263960525520103,16.17701829815043,16.161943125246523,16.416058422627057,16.42520660229995,15.20491612611827,15.932567594320632,16.161843272677615,14.415757565781147,16.18987912936562,15.998735547060278,15.998977440354167,16.45969454672338,15.636489419139114,16.3020224677835,16.216403133601787,16.374779343405546,15.45167737805991,14.733752245429374,16.668624565508665,16.48518407912015,15.398843627235866,16.37773599145873,15.218229973642313,15.702990601034225,16.079417192944323,15.690282929861564,15.412481542495632,15.802484351784788,16.315306905073545,15.770848613985825,15.119680238212036,15.6960312417885,16.36216433763018,15.518560902329419,15.363791632139296,15.217471292850934,15.596701916560015,15.27872757251293,15.88966007559893,16.364577304988146,15.001477746241914,15.000361838603656,15.954211030961064,15.954199525099916,16.04845737449159,16.042273382942216,16.244119497836305,15.272012753533895,15.73671790509453,16.138482601325,16.126183336559766,15.598703399112631,15.90684088599617,15.177619222573782,15.585491108487336,16.074980322635458,15.308136052785493,16.04323051649487,16.346497777403187,16.477465850040982,16.462395084378816,15.796714871442196,15.63464161435977,15.925168134527002,16.061473941619866,15.78575784075877,16.281556862177897,16.098162671873226,15.607208718382882,15.209516773506593,16.1761081018658,16.091258841604187,16.14639970897921,15.393343856025576,15.844652158372964,15.897302546129584,16.079434440540904,15.914971639240528,16.5683297413943,14.179991086085112,16.0789253482753,16.230039620631974,15.633434568923052,16.198634783817848,15.889651126015696,16.06150297104747,15.303597115507843,16.062059816494,16.023400403043706,16.231949733488207,15.795819841759677,16.072681654287617,16.276684472691638,15.377035982803251,15.638029078493977,15.873905847295305,16.25538883831994,15.87893558972291,15.876452435174418,15.690686271592382,16.067139159640668,15.39485631874783,16.290533841199906,16.17705962541829,14.785257613095377,16.07918428332395,15.67183497963517,15.877429824171307,15.167865775063483,16.681270159667783,15.999149694199058,15.078890811934771,15.603199135355261,15.000154874016294,16.026051303691293,15.130999742678412,16.04136120667996,15.078830366729466,16.041605895540087,16.255384824175476,15.255258284845233,13.07894261541571,16.078579861218454,16.591107466765152,16.14614093409491,16.30100887220013,16.255338814139346,16.32199053073115,15.48664498769383,15.602051811284936,16.11369675231081,15.041398860094402,15.051990005634844,16.079296440585214,15.041756404805811,16.041408272937947,16.00258050100956,16.07933957028205,15.999989231303669,15.999678480832303,16.04171878237915,15.590982677510429,16.040937380666133,15.954268555694833,16.04143651024457,16.11412688884175,16.349101653516787,16.14580059529544,15.847572656788842,16.10191558053182,16.04138003379525,16.421004898565037,16.03565396109345,15.802742246813715,15.739016946021625,16.079046203843607,16.145770988008938,16.041775214797017,15.113856111814256,15.99938824631166,16.04104102078206,15.863638103438607,16.17588716064514,16.112915044366837,16.324915944584674,16.451045922484184,16.646019004910084,15.440160781971187,15.672103832596415,16.27870577194911,15.605968732370725,15.098705474828055,15.918652852875221,15.135873133693519,15.131403953821206,16.144233004546663,16.14274778729756,16.136436984313946,16.13200639639037,16.12841098689104,15.131706292625898,16.132790710981723,16.142021470494875,14.141849944169302,16.148221231759745,16.13999141322469,16.130720847730316,16.144014693357576,16.131373633222857,16.13497904475641,15.15247218115793,16.136175541450708,16.27020905593662,16.671852614437526,15.646759632903462,16.36912640399152,16.338113299137138,16.301691757836746,16.52168623011675,16.475022222611447,16.670835238864438,16.193674211766716,16.494730722754102,16.4748532544825,15.735900242748752,15.096914154743237,16.494843394821643,15.795870077018481,null,16.193833279429665,16.273190095034344,15.797026596937519,15.193866411194154,null,15.193647694824351,16.191101168753764,14.574118235872945,15.88057892328385,16.066868224083812,15.74575953091967,15.491333221675953,16.69950768532457,15.597066045513692,14.38736428929237,15.372589078775624,15.484441477845841,16.23023410730387,15.124984138223484,16.439353929218193,16.315153994105128,16.404979136354758,15.940782021322224],\"yaxis\":\"y\",\"type\":\"scatter\"}],                        {\"template\":{\"data\":{\"histogram2dcontour\":[{\"type\":\"histogram2dcontour\",\"colorbar\":{\"outlinewidth\":0,\"ticks\":\"\"},\"colorscale\":[[0.0,\"#0d0887\"],[0.1111111111111111,\"#46039f\"],[0.2222222222222222,\"#7201a8\"],[0.3333333333333333,\"#9c179e\"],[0.4444444444444444,\"#bd3786\"],[0.5555555555555556,\"#d8576b\"],[0.6666666666666666,\"#ed7953\"],[0.7777777777777778,\"#fb9f3a\"],[0.8888888888888888,\"#fdca26\"],[1.0,\"#f0f921\"]]}],\"choropleth\":[{\"type\":\"choropleth\",\"colorbar\":{\"outlinewidth\":0,\"ticks\":\"\"}}],\"histogram2d\":[{\"type\":\"histogram2d\",\"colorbar\":{\"outlinewidth\":0,\"ticks\":\"\"},\"colorscale\":[[0.0,\"#0d0887\"],[0.1111111111111111,\"#46039f\"],[0.2222222222222222,\"#7201a8\"],[0.3333333333333333,\"#9c179e\"],[0.4444444444444444,\"#bd3786\"],[0.5555555555555556,\"#d8576b\"],[0.6666666666666666,\"#ed7953\"],[0.7777777777777778,\"#fb9f3a\"],[0.8888888888888888,\"#fdca26\"],[1.0,\"#f0f921\"]]}],\"heatmap\":[{\"type\":\"heatmap\",\"colorbar\":{\"outlinewidth\":0,\"ticks\":\"\"},\"colorscale\":[[0.0,\"#0d0887\"],[0.1111111111111111,\"#46039f\"],[0.2222222222222222,\"#7201a8\"],[0.3333333333333333,\"#9c179e\"],[0.4444444444444444,\"#bd3786\"],[0.5555555555555556,\"#d8576b\"],[0.6666666666666666,\"#ed7953\"],[0.7777777777777778,\"#fb9f3a\"],[0.8888888888888888,\"#fdca26\"],[1.0,\"#f0f921\"]]}],\"heatmapgl\":[{\"type\":\"heatmapgl\",\"colorbar\":{\"outlinewidth\":0,\"ticks\":\"\"},\"colorscale\":[[0.0,\"#0d0887\"],[0.1111111111111111,\"#46039f\"],[0.2222222222222222,\"#7201a8\"],[0.3333333333333333,\"#9c179e\"],[0.4444444444444444,\"#bd3786\"],[0.5555555555555556,\"#d8576b\"],[0.6666666666666666,\"#ed7953\"],[0.7777777777777778,\"#fb9f3a\"],[0.8888888888888888,\"#fdca26\"],[1.0,\"#f0f921\"]]}],\"contourcarpet\":[{\"type\":\"contourcarpet\",\"colorbar\":{\"outlinewidth\":0,\"ticks\":\"\"}}],\"contour\":[{\"type\":\"contour\",\"colorbar\":{\"outlinewidth\":0,\"ticks\":\"\"},\"colorscale\":[[0.0,\"#0d0887\"],[0.1111111111111111,\"#46039f\"],[0.2222222222222222,\"#7201a8\"],[0.3333333333333333,\"#9c179e\"],[0.4444444444444444,\"#bd3786\"],[0.5555555555555556,\"#d8576b\"],[0.6666666666666666,\"#ed7953\"],[0.7777777777777778,\"#fb9f3a\"],[0.8888888888888888,\"#fdca26\"],[1.0,\"#f0f921\"]]}],\"surface\":[{\"type\":\"surface\",\"colorbar\":{\"outlinewidth\":0,\"ticks\":\"\"},\"colorscale\":[[0.0,\"#0d0887\"],[0.1111111111111111,\"#46039f\"],[0.2222222222222222,\"#7201a8\"],[0.3333333333333333,\"#9c179e\"],[0.4444444444444444,\"#bd3786\"],[0.5555555555555556,\"#d8576b\"],[0.6666666666666666,\"#ed7953\"],[0.7777777777777778,\"#fb9f3a\"],[0.8888888888888888,\"#fdca26\"],[1.0,\"#f0f921\"]]}],\"mesh3d\":[{\"type\":\"mesh3d\",\"colorbar\":{\"outlinewidth\":0,\"ticks\":\"\"}}],\"scatter\":[{\"fillpattern\":{\"fillmode\":\"overlay\",\"size\":10,\"solidity\":0.2},\"type\":\"scatter\"}],\"parcoords\":[{\"type\":\"parcoords\",\"line\":{\"colorbar\":{\"outlinewidth\":0,\"ticks\":\"\"}}}],\"scatterpolargl\":[{\"type\":\"scatterpolargl\",\"marker\":{\"colorbar\":{\"outlinewidth\":0,\"ticks\":\"\"}}}],\"bar\":[{\"error_x\":{\"color\":\"#2a3f5f\"},\"error_y\":{\"color\":\"#2a3f5f\"},\"marker\":{\"line\":{\"color\":\"#E5ECF6\",\"width\":0.5},\"pattern\":{\"fillmode\":\"overlay\",\"size\":10,\"solidity\":0.2}},\"type\":\"bar\"}],\"scattergeo\":[{\"type\":\"scattergeo\",\"marker\":{\"colorbar\":{\"outlinewidth\":0,\"ticks\":\"\"}}}],\"scatterpolar\":[{\"type\":\"scatterpolar\",\"marker\":{\"colorbar\":{\"outlinewidth\":0,\"ticks\":\"\"}}}],\"histogram\":[{\"marker\":{\"pattern\":{\"fillmode\":\"overlay\",\"size\":10,\"solidity\":0.2}},\"type\":\"histogram\"}],\"scattergl\":[{\"type\":\"scattergl\",\"marker\":{\"colorbar\":{\"outlinewidth\":0,\"ticks\":\"\"}}}],\"scatter3d\":[{\"type\":\"scatter3d\",\"line\":{\"colorbar\":{\"outlinewidth\":0,\"ticks\":\"\"}},\"marker\":{\"colorbar\":{\"outlinewidth\":0,\"ticks\":\"\"}}}],\"scattermapbox\":[{\"type\":\"scattermapbox\",\"marker\":{\"colorbar\":{\"outlinewidth\":0,\"ticks\":\"\"}}}],\"scatterternary\":[{\"type\":\"scatterternary\",\"marker\":{\"colorbar\":{\"outlinewidth\":0,\"ticks\":\"\"}}}],\"scattercarpet\":[{\"type\":\"scattercarpet\",\"marker\":{\"colorbar\":{\"outlinewidth\":0,\"ticks\":\"\"}}}],\"carpet\":[{\"aaxis\":{\"endlinecolor\":\"#2a3f5f\",\"gridcolor\":\"white\",\"linecolor\":\"white\",\"minorgridcolor\":\"white\",\"startlinecolor\":\"#2a3f5f\"},\"baxis\":{\"endlinecolor\":\"#2a3f5f\",\"gridcolor\":\"white\",\"linecolor\":\"white\",\"minorgridcolor\":\"white\",\"startlinecolor\":\"#2a3f5f\"},\"type\":\"carpet\"}],\"table\":[{\"cells\":{\"fill\":{\"color\":\"#EBF0F8\"},\"line\":{\"color\":\"white\"}},\"header\":{\"fill\":{\"color\":\"#C8D4E3\"},\"line\":{\"color\":\"white\"}},\"type\":\"table\"}],\"barpolar\":[{\"marker\":{\"line\":{\"color\":\"#E5ECF6\",\"width\":0.5},\"pattern\":{\"fillmode\":\"overlay\",\"size\":10,\"solidity\":0.2}},\"type\":\"barpolar\"}],\"pie\":[{\"automargin\":true,\"type\":\"pie\"}]},\"layout\":{\"autotypenumbers\":\"strict\",\"colorway\":[\"#636efa\",\"#EF553B\",\"#00cc96\",\"#ab63fa\",\"#FFA15A\",\"#19d3f3\",\"#FF6692\",\"#B6E880\",\"#FF97FF\",\"#FECB52\"],\"font\":{\"color\":\"#2a3f5f\"},\"hovermode\":\"closest\",\"hoverlabel\":{\"align\":\"left\"},\"paper_bgcolor\":\"white\",\"plot_bgcolor\":\"#E5ECF6\",\"polar\":{\"bgcolor\":\"#E5ECF6\",\"angularaxis\":{\"gridcolor\":\"white\",\"linecolor\":\"white\",\"ticks\":\"\"},\"radialaxis\":{\"gridcolor\":\"white\",\"linecolor\":\"white\",\"ticks\":\"\"}},\"ternary\":{\"bgcolor\":\"#E5ECF6\",\"aaxis\":{\"gridcolor\":\"white\",\"linecolor\":\"white\",\"ticks\":\"\"},\"baxis\":{\"gridcolor\":\"white\",\"linecolor\":\"white\",\"ticks\":\"\"},\"caxis\":{\"gridcolor\":\"white\",\"linecolor\":\"white\",\"ticks\":\"\"}},\"coloraxis\":{\"colorbar\":{\"outlinewidth\":0,\"ticks\":\"\"}},\"colorscale\":{\"sequential\":[[0.0,\"#0d0887\"],[0.1111111111111111,\"#46039f\"],[0.2222222222222222,\"#7201a8\"],[0.3333333333333333,\"#9c179e\"],[0.4444444444444444,\"#bd3786\"],[0.5555555555555556,\"#d8576b\"],[0.6666666666666666,\"#ed7953\"],[0.7777777777777778,\"#fb9f3a\"],[0.8888888888888888,\"#fdca26\"],[1.0,\"#f0f921\"]],\"sequentialminus\":[[0.0,\"#0d0887\"],[0.1111111111111111,\"#46039f\"],[0.2222222222222222,\"#7201a8\"],[0.3333333333333333,\"#9c179e\"],[0.4444444444444444,\"#bd3786\"],[0.5555555555555556,\"#d8576b\"],[0.6666666666666666,\"#ed7953\"],[0.7777777777777778,\"#fb9f3a\"],[0.8888888888888888,\"#fdca26\"],[1.0,\"#f0f921\"]],\"diverging\":[[0,\"#8e0152\"],[0.1,\"#c51b7d\"],[0.2,\"#de77ae\"],[0.3,\"#f1b6da\"],[0.4,\"#fde0ef\"],[0.5,\"#f7f7f7\"],[0.6,\"#e6f5d0\"],[0.7,\"#b8e186\"],[0.8,\"#7fbc41\"],[0.9,\"#4d9221\"],[1,\"#276419\"]]},\"xaxis\":{\"gridcolor\":\"white\",\"linecolor\":\"white\",\"ticks\":\"\",\"title\":{\"standoff\":15},\"zerolinecolor\":\"white\",\"automargin\":true,\"zerolinewidth\":2},\"yaxis\":{\"gridcolor\":\"white\",\"linecolor\":\"white\",\"ticks\":\"\",\"title\":{\"standoff\":15},\"zerolinecolor\":\"white\",\"automargin\":true,\"zerolinewidth\":2},\"scene\":{\"xaxis\":{\"backgroundcolor\":\"#E5ECF6\",\"gridcolor\":\"white\",\"linecolor\":\"white\",\"showbackground\":true,\"ticks\":\"\",\"zerolinecolor\":\"white\",\"gridwidth\":2},\"yaxis\":{\"backgroundcolor\":\"#E5ECF6\",\"gridcolor\":\"white\",\"linecolor\":\"white\",\"showbackground\":true,\"ticks\":\"\",\"zerolinecolor\":\"white\",\"gridwidth\":2},\"zaxis\":{\"backgroundcolor\":\"#E5ECF6\",\"gridcolor\":\"white\",\"linecolor\":\"white\",\"showbackground\":true,\"ticks\":\"\",\"zerolinecolor\":\"white\",\"gridwidth\":2}},\"shapedefaults\":{\"line\":{\"color\":\"#2a3f5f\"}},\"annotationdefaults\":{\"arrowcolor\":\"#2a3f5f\",\"arrowhead\":0,\"arrowwidth\":1},\"geo\":{\"bgcolor\":\"white\",\"landcolor\":\"#E5ECF6\",\"subunitcolor\":\"white\",\"showland\":true,\"showlakes\":true,\"lakecolor\":\"white\"},\"title\":{\"x\":0.05},\"mapbox\":{\"style\":\"light\"}}},\"xaxis\":{\"anchor\":\"y\",\"domain\":[0.0,1.0],\"title\":{\"text\":\"No. of Genuine Dos\"}},\"yaxis\":{\"anchor\":\"x\",\"domain\":[0.0,1.0],\"title\":{\"text\":\"Time Complete\"}},\"legend\":{\"tracegroupgap\":0},\"margin\":{\"t\":60},\"title\":{\"text\":\"Genuine DOs vs Time Complete\",\"x\":0.5,\"y\":0.95}},                        {\"responsive\": true}                    ).then(function(){\n",
              "                            \n",
              "var gd = document.getElementById('d52e8a2b-1f2b-4dd5-86fd-af98f14deb7a');\n",
              "var x = new MutationObserver(function (mutations, observer) {{\n",
              "        var display = window.getComputedStyle(gd).display;\n",
              "        if (!display || display === 'none') {{\n",
              "            console.log([gd, 'removed!']);\n",
              "            Plotly.purge(gd);\n",
              "            observer.disconnect();\n",
              "        }}\n",
              "}});\n",
              "\n",
              "// Listen for the removal of the full notebook cells\n",
              "var notebookContainer = gd.closest('#notebook-container');\n",
              "if (notebookContainer) {{\n",
              "    x.observe(notebookContainer, {childList: true});\n",
              "}}\n",
              "\n",
              "// Listen for the clearing of the current output cell\n",
              "var outputEl = gd.closest('.output');\n",
              "if (outputEl) {{\n",
              "    x.observe(outputEl, {childList: true});\n",
              "}}\n",
              "\n",
              "                        })                };                            </script>        </div>\n",
              "</body>\n",
              "</html>"
            ]
          },
          "metadata": {}
        }
      ],
      "source": [
        "import plotly.express as px\n",
        "fig = px.scatter(x=np.log10(df['4a. No. of Genuine DOs']), y=np.log10(df['Time Complete exp']))\n",
        "\n",
        "fig.update_layout(\n",
        "    title='Genuine DOs vs Time Complete',\n",
        "    xaxis=dict(title='No. of Genuine Dos'),\n",
        "    yaxis=dict(title='Time Complete'),\n",
        "    title_x=0.5,\n",
        "    title_y=0.95\n",
        ")\n",
        "\n",
        "fig.show()\n",
        "\n",
        "write_image(fig, 'Genuine DOs vs Time Complete.png')"
      ]
    },
    {
      "cell_type": "code",
      "execution_count": null,
      "id": "d6d91f38",
      "metadata": {
        "colab": {
          "base_uri": "https://localhost:8080/",
          "height": 611
        },
        "id": "d6d91f38",
        "outputId": "066225c2-7971-4dce-e9d7-90aaa291d5f0"
      },
      "outputs": [
        {
          "output_type": "stream",
          "name": "stderr",
          "text": [
            "/usr/local/lib/python3.10/dist-packages/pandas/core/arraylike.py:396: RuntimeWarning:\n",
            "\n",
            "divide by zero encountered in log10\n",
            "\n"
          ]
        },
        {
          "output_type": "display_data",
          "data": {
            "text/html": [
              "<html>\n",
              "<head><meta charset=\"utf-8\" /></head>\n",
              "<body>\n",
              "    <div>            <script src=\"https://cdnjs.cloudflare.com/ajax/libs/mathjax/2.7.5/MathJax.js?config=TeX-AMS-MML_SVG\"></script><script type=\"text/javascript\">if (window.MathJax && window.MathJax.Hub && window.MathJax.Hub.Config) {window.MathJax.Hub.Config({SVG: {font: \"STIX-Web\"}});}</script>                <script type=\"text/javascript\">window.PlotlyConfig = {MathJaxConfig: 'local'};</script>\n",
              "        <script charset=\"utf-8\" src=\"https://cdn.plot.ly/plotly-2.24.1.min.js\"></script>                <div id=\"297660bf-4505-4e17-9611-f226c76e312b\" class=\"plotly-graph-div\" style=\"height:525px; width:100%;\"></div>            <script type=\"text/javascript\">                                    window.PLOTLYENV=window.PLOTLYENV || {};                                    if (document.getElementById(\"297660bf-4505-4e17-9611-f226c76e312b\")) {                    Plotly.newPlot(                        \"297660bf-4505-4e17-9611-f226c76e312b\",                        [{\"hovertemplate\":\"x=%{x}\\u003cbr\\u003ey=%{y}\\u003cextra\\u003e\\u003c\\u002fextra\\u003e\",\"legendgroup\":\"\",\"marker\":{\"color\":\"#636efa\",\"symbol\":\"circle\"},\"mode\":\"markers\",\"name\":\"\",\"orientation\":\"v\",\"showlegend\":false,\"x\":[7,7,9,3,34,13,12,30,10,47,34,4,16,4,27,7,32,4,17,32,94,16,8,30,62,48,43,41,21,14,10,94,23,17,138,30,19,10,22,3,6,4,7,7,74,13,10,27,10,18,20,13,13,20,13,6,15,12,17,26,22,22,14,14,12,23,4,61,39,72,93,37,4,316,26,51,10,17,38,30,14,11,4,4,4,4,4,7,21,8,32,49,54,19,55,103,18,57,20,8,21,10,10,133,200,52,25,39,44,71,44,9,9,7,7,31,2,71,7,41,29,44,10,14,35,80,28,6,40,10,49,10,132,9,25,30,30,71,57,71,71,33,61,127,29,9,25,10,73,34,40,57,5,7,108,6,7,9,7,8,8,29,9,5,7,18,12,28,20,21,29,38,13,8,8,9,7,7,3,7,3,4,3,19,4,2,6,8,127,12,15,83,6,15,36,52,83,7,10,4,9,3,6,39,20,12,36,250,223,135,24,12,36,12,62,31,31,33,33,35,35,39,40,42,44,44,44,45,45,46,46,47,47,47,18,18,18,22,22,12,242,29,24,16,24,21,145,43,21,45,8,14,17,15,11,13,6,26,35,274,40,251,34,17,6,2,4,4,75,83,4,14,6,28],\"xaxis\":\"x\",\"y\":[16.35663391897557,16.27379465940449,16.423585458817534,16.02247732688005,16.42907163842508,16.205671247081618,16.084424612091503,16.805853740055216,16.22196635953019,16.774836125523954,15.55280841914701,16.061386122528837,16.478949712625525,16.102050042472516,15.797522014424693,15.190373701550321,15.82852762044912,16.191001130865615,15.579931933302534,15.29893294041639,16.289494982584166,16.190760945875493,12.178277013963928,15.836260634748733,15.769046008663533,15.501980586454385,15.581690026033794,16.4921611712913,15.923521895342093,15.38231886301456,16.397083478018452,16.32111109812068,15.609456567658805,16.25286435934172,15.70917529436888,15.817054800306515,15.537835637767758,16.47999672285089,15.575147002659962,16.205277715359895,16.32281360447004,15.263960525520103,16.17701829815043,16.161943125246523,16.416058422627057,16.42520660229995,15.20491612611827,15.932567594320632,16.161843272677615,14.415757565781147,16.18987912936562,15.998735547060278,15.998977440354167,16.45969454672338,15.636489419139114,16.3020224677835,16.216403133601787,16.374779343405546,15.45167737805991,14.733752245429374,16.668624565508665,16.48518407912015,15.398843627235866,16.37773599145873,15.218229973642313,15.702990601034225,16.079417192944323,15.690282929861564,15.412481542495632,15.802484351784788,16.315306905073545,15.770848613985825,15.119680238212036,15.6960312417885,16.36216433763018,15.518560902329419,15.363791632139296,15.217471292850934,15.596701916560015,15.27872757251293,15.88966007559893,16.364577304988146,15.001477746241914,15.000361838603656,15.954211030961064,15.954199525099916,16.04845737449159,16.042273382942216,16.244119497836305,15.272012753533895,15.73671790509453,16.138482601325,16.126183336559766,15.598703399112631,15.90684088599617,15.177619222573782,15.585491108487336,16.074980322635458,15.308136052785493,16.04323051649487,16.346497777403187,16.477465850040982,16.462395084378816,15.796714871442196,15.63464161435977,15.925168134527002,16.061473941619866,15.78575784075877,16.281556862177897,16.098162671873226,15.607208718382882,15.209516773506593,16.1761081018658,16.091258841604187,16.14639970897921,15.393343856025576,15.844652158372964,15.897302546129584,16.079434440540904,15.914971639240528,16.5683297413943,14.179991086085112,16.0789253482753,16.230039620631974,15.633434568923052,16.198634783817848,15.889651126015696,16.06150297104747,15.303597115507843,16.062059816494,16.023400403043706,16.231949733488207,15.795819841759677,16.072681654287617,16.276684472691638,15.377035982803251,15.638029078493977,15.873905847295305,16.25538883831994,15.87893558972291,15.876452435174418,15.690686271592382,16.067139159640668,15.39485631874783,16.290533841199906,16.17705962541829,14.785257613095377,16.07918428332395,15.67183497963517,15.877429824171307,15.167865775063483,16.681270159667783,15.999149694199058,15.078890811934771,15.603199135355261,15.000154874016294,16.026051303691293,15.130999742678412,16.04136120667996,15.078830366729466,16.041605895540087,16.255384824175476,15.255258284845233,13.07894261541571,16.078579861218454,16.591107466765152,16.14614093409491,16.30100887220013,16.255338814139346,16.32199053073115,15.48664498769383,15.602051811284936,16.11369675231081,15.041398860094402,15.051990005634844,16.079296440585214,15.041756404805811,16.041408272937947,16.00258050100956,16.07933957028205,15.999989231303669,15.999678480832303,16.04171878237915,15.590982677510429,16.040937380666133,15.954268555694833,16.04143651024457,16.11412688884175,16.349101653516787,16.14580059529544,15.847572656788842,16.10191558053182,16.04138003379525,16.421004898565037,16.03565396109345,15.802742246813715,15.739016946021625,16.079046203843607,16.145770988008938,16.041775214797017,15.113856111814256,15.99938824631166,16.04104102078206,15.863638103438607,16.17588716064514,16.112915044366837,16.324915944584674,16.451045922484184,16.646019004910084,15.440160781971187,15.672103832596415,16.27870577194911,15.605968732370725,15.098705474828055,15.918652852875221,15.135873133693519,15.131403953821206,16.144233004546663,16.14274778729756,16.136436984313946,16.13200639639037,16.12841098689104,15.131706292625898,16.132790710981723,16.142021470494875,14.141849944169302,16.148221231759745,16.13999141322469,16.130720847730316,16.144014693357576,16.131373633222857,16.13497904475641,15.15247218115793,16.136175541450708,16.27020905593662,16.671852614437526,15.646759632903462,16.36912640399152,16.338113299137138,16.301691757836746,16.52168623011675,16.475022222611447,16.670835238864438,16.193674211766716,16.494730722754102,16.4748532544825,15.735900242748752,15.096914154743237,16.494843394821643,15.795870077018481,null,16.193833279429665,16.273190095034344,15.797026596937519,15.193866411194154,null,15.193647694824351,16.191101168753764,14.574118235872945,15.88057892328385,16.066868224083812,15.74575953091967,15.491333221675953,16.69950768532457,15.597066045513692,14.38736428929237,15.372589078775624,15.484441477845841,16.23023410730387,15.124984138223484,16.439353929218193,16.315153994105128,16.404979136354758,15.940782021322224],\"yaxis\":\"y\",\"type\":\"scatter\"}],                        {\"template\":{\"data\":{\"histogram2dcontour\":[{\"type\":\"histogram2dcontour\",\"colorbar\":{\"outlinewidth\":0,\"ticks\":\"\"},\"colorscale\":[[0.0,\"#0d0887\"],[0.1111111111111111,\"#46039f\"],[0.2222222222222222,\"#7201a8\"],[0.3333333333333333,\"#9c179e\"],[0.4444444444444444,\"#bd3786\"],[0.5555555555555556,\"#d8576b\"],[0.6666666666666666,\"#ed7953\"],[0.7777777777777778,\"#fb9f3a\"],[0.8888888888888888,\"#fdca26\"],[1.0,\"#f0f921\"]]}],\"choropleth\":[{\"type\":\"choropleth\",\"colorbar\":{\"outlinewidth\":0,\"ticks\":\"\"}}],\"histogram2d\":[{\"type\":\"histogram2d\",\"colorbar\":{\"outlinewidth\":0,\"ticks\":\"\"},\"colorscale\":[[0.0,\"#0d0887\"],[0.1111111111111111,\"#46039f\"],[0.2222222222222222,\"#7201a8\"],[0.3333333333333333,\"#9c179e\"],[0.4444444444444444,\"#bd3786\"],[0.5555555555555556,\"#d8576b\"],[0.6666666666666666,\"#ed7953\"],[0.7777777777777778,\"#fb9f3a\"],[0.8888888888888888,\"#fdca26\"],[1.0,\"#f0f921\"]]}],\"heatmap\":[{\"type\":\"heatmap\",\"colorbar\":{\"outlinewidth\":0,\"ticks\":\"\"},\"colorscale\":[[0.0,\"#0d0887\"],[0.1111111111111111,\"#46039f\"],[0.2222222222222222,\"#7201a8\"],[0.3333333333333333,\"#9c179e\"],[0.4444444444444444,\"#bd3786\"],[0.5555555555555556,\"#d8576b\"],[0.6666666666666666,\"#ed7953\"],[0.7777777777777778,\"#fb9f3a\"],[0.8888888888888888,\"#fdca26\"],[1.0,\"#f0f921\"]]}],\"heatmapgl\":[{\"type\":\"heatmapgl\",\"colorbar\":{\"outlinewidth\":0,\"ticks\":\"\"},\"colorscale\":[[0.0,\"#0d0887\"],[0.1111111111111111,\"#46039f\"],[0.2222222222222222,\"#7201a8\"],[0.3333333333333333,\"#9c179e\"],[0.4444444444444444,\"#bd3786\"],[0.5555555555555556,\"#d8576b\"],[0.6666666666666666,\"#ed7953\"],[0.7777777777777778,\"#fb9f3a\"],[0.8888888888888888,\"#fdca26\"],[1.0,\"#f0f921\"]]}],\"contourcarpet\":[{\"type\":\"contourcarpet\",\"colorbar\":{\"outlinewidth\":0,\"ticks\":\"\"}}],\"contour\":[{\"type\":\"contour\",\"colorbar\":{\"outlinewidth\":0,\"ticks\":\"\"},\"colorscale\":[[0.0,\"#0d0887\"],[0.1111111111111111,\"#46039f\"],[0.2222222222222222,\"#7201a8\"],[0.3333333333333333,\"#9c179e\"],[0.4444444444444444,\"#bd3786\"],[0.5555555555555556,\"#d8576b\"],[0.6666666666666666,\"#ed7953\"],[0.7777777777777778,\"#fb9f3a\"],[0.8888888888888888,\"#fdca26\"],[1.0,\"#f0f921\"]]}],\"surface\":[{\"type\":\"surface\",\"colorbar\":{\"outlinewidth\":0,\"ticks\":\"\"},\"colorscale\":[[0.0,\"#0d0887\"],[0.1111111111111111,\"#46039f\"],[0.2222222222222222,\"#7201a8\"],[0.3333333333333333,\"#9c179e\"],[0.4444444444444444,\"#bd3786\"],[0.5555555555555556,\"#d8576b\"],[0.6666666666666666,\"#ed7953\"],[0.7777777777777778,\"#fb9f3a\"],[0.8888888888888888,\"#fdca26\"],[1.0,\"#f0f921\"]]}],\"mesh3d\":[{\"type\":\"mesh3d\",\"colorbar\":{\"outlinewidth\":0,\"ticks\":\"\"}}],\"scatter\":[{\"fillpattern\":{\"fillmode\":\"overlay\",\"size\":10,\"solidity\":0.2},\"type\":\"scatter\"}],\"parcoords\":[{\"type\":\"parcoords\",\"line\":{\"colorbar\":{\"outlinewidth\":0,\"ticks\":\"\"}}}],\"scatterpolargl\":[{\"type\":\"scatterpolargl\",\"marker\":{\"colorbar\":{\"outlinewidth\":0,\"ticks\":\"\"}}}],\"bar\":[{\"error_x\":{\"color\":\"#2a3f5f\"},\"error_y\":{\"color\":\"#2a3f5f\"},\"marker\":{\"line\":{\"color\":\"#E5ECF6\",\"width\":0.5},\"pattern\":{\"fillmode\":\"overlay\",\"size\":10,\"solidity\":0.2}},\"type\":\"bar\"}],\"scattergeo\":[{\"type\":\"scattergeo\",\"marker\":{\"colorbar\":{\"outlinewidth\":0,\"ticks\":\"\"}}}],\"scatterpolar\":[{\"type\":\"scatterpolar\",\"marker\":{\"colorbar\":{\"outlinewidth\":0,\"ticks\":\"\"}}}],\"histogram\":[{\"marker\":{\"pattern\":{\"fillmode\":\"overlay\",\"size\":10,\"solidity\":0.2}},\"type\":\"histogram\"}],\"scattergl\":[{\"type\":\"scattergl\",\"marker\":{\"colorbar\":{\"outlinewidth\":0,\"ticks\":\"\"}}}],\"scatter3d\":[{\"type\":\"scatter3d\",\"line\":{\"colorbar\":{\"outlinewidth\":0,\"ticks\":\"\"}},\"marker\":{\"colorbar\":{\"outlinewidth\":0,\"ticks\":\"\"}}}],\"scattermapbox\":[{\"type\":\"scattermapbox\",\"marker\":{\"colorbar\":{\"outlinewidth\":0,\"ticks\":\"\"}}}],\"scatterternary\":[{\"type\":\"scatterternary\",\"marker\":{\"colorbar\":{\"outlinewidth\":0,\"ticks\":\"\"}}}],\"scattercarpet\":[{\"type\":\"scattercarpet\",\"marker\":{\"colorbar\":{\"outlinewidth\":0,\"ticks\":\"\"}}}],\"carpet\":[{\"aaxis\":{\"endlinecolor\":\"#2a3f5f\",\"gridcolor\":\"white\",\"linecolor\":\"white\",\"minorgridcolor\":\"white\",\"startlinecolor\":\"#2a3f5f\"},\"baxis\":{\"endlinecolor\":\"#2a3f5f\",\"gridcolor\":\"white\",\"linecolor\":\"white\",\"minorgridcolor\":\"white\",\"startlinecolor\":\"#2a3f5f\"},\"type\":\"carpet\"}],\"table\":[{\"cells\":{\"fill\":{\"color\":\"#EBF0F8\"},\"line\":{\"color\":\"white\"}},\"header\":{\"fill\":{\"color\":\"#C8D4E3\"},\"line\":{\"color\":\"white\"}},\"type\":\"table\"}],\"barpolar\":[{\"marker\":{\"line\":{\"color\":\"#E5ECF6\",\"width\":0.5},\"pattern\":{\"fillmode\":\"overlay\",\"size\":10,\"solidity\":0.2}},\"type\":\"barpolar\"}],\"pie\":[{\"automargin\":true,\"type\":\"pie\"}]},\"layout\":{\"autotypenumbers\":\"strict\",\"colorway\":[\"#636efa\",\"#EF553B\",\"#00cc96\",\"#ab63fa\",\"#FFA15A\",\"#19d3f3\",\"#FF6692\",\"#B6E880\",\"#FF97FF\",\"#FECB52\"],\"font\":{\"color\":\"#2a3f5f\"},\"hovermode\":\"closest\",\"hoverlabel\":{\"align\":\"left\"},\"paper_bgcolor\":\"white\",\"plot_bgcolor\":\"#E5ECF6\",\"polar\":{\"bgcolor\":\"#E5ECF6\",\"angularaxis\":{\"gridcolor\":\"white\",\"linecolor\":\"white\",\"ticks\":\"\"},\"radialaxis\":{\"gridcolor\":\"white\",\"linecolor\":\"white\",\"ticks\":\"\"}},\"ternary\":{\"bgcolor\":\"#E5ECF6\",\"aaxis\":{\"gridcolor\":\"white\",\"linecolor\":\"white\",\"ticks\":\"\"},\"baxis\":{\"gridcolor\":\"white\",\"linecolor\":\"white\",\"ticks\":\"\"},\"caxis\":{\"gridcolor\":\"white\",\"linecolor\":\"white\",\"ticks\":\"\"}},\"coloraxis\":{\"colorbar\":{\"outlinewidth\":0,\"ticks\":\"\"}},\"colorscale\":{\"sequential\":[[0.0,\"#0d0887\"],[0.1111111111111111,\"#46039f\"],[0.2222222222222222,\"#7201a8\"],[0.3333333333333333,\"#9c179e\"],[0.4444444444444444,\"#bd3786\"],[0.5555555555555556,\"#d8576b\"],[0.6666666666666666,\"#ed7953\"],[0.7777777777777778,\"#fb9f3a\"],[0.8888888888888888,\"#fdca26\"],[1.0,\"#f0f921\"]],\"sequentialminus\":[[0.0,\"#0d0887\"],[0.1111111111111111,\"#46039f\"],[0.2222222222222222,\"#7201a8\"],[0.3333333333333333,\"#9c179e\"],[0.4444444444444444,\"#bd3786\"],[0.5555555555555556,\"#d8576b\"],[0.6666666666666666,\"#ed7953\"],[0.7777777777777778,\"#fb9f3a\"],[0.8888888888888888,\"#fdca26\"],[1.0,\"#f0f921\"]],\"diverging\":[[0,\"#8e0152\"],[0.1,\"#c51b7d\"],[0.2,\"#de77ae\"],[0.3,\"#f1b6da\"],[0.4,\"#fde0ef\"],[0.5,\"#f7f7f7\"],[0.6,\"#e6f5d0\"],[0.7,\"#b8e186\"],[0.8,\"#7fbc41\"],[0.9,\"#4d9221\"],[1,\"#276419\"]]},\"xaxis\":{\"gridcolor\":\"white\",\"linecolor\":\"white\",\"ticks\":\"\",\"title\":{\"standoff\":15},\"zerolinecolor\":\"white\",\"automargin\":true,\"zerolinewidth\":2},\"yaxis\":{\"gridcolor\":\"white\",\"linecolor\":\"white\",\"ticks\":\"\",\"title\":{\"standoff\":15},\"zerolinecolor\":\"white\",\"automargin\":true,\"zerolinewidth\":2},\"scene\":{\"xaxis\":{\"backgroundcolor\":\"#E5ECF6\",\"gridcolor\":\"white\",\"linecolor\":\"white\",\"showbackground\":true,\"ticks\":\"\",\"zerolinecolor\":\"white\",\"gridwidth\":2},\"yaxis\":{\"backgroundcolor\":\"#E5ECF6\",\"gridcolor\":\"white\",\"linecolor\":\"white\",\"showbackground\":true,\"ticks\":\"\",\"zerolinecolor\":\"white\",\"gridwidth\":2},\"zaxis\":{\"backgroundcolor\":\"#E5ECF6\",\"gridcolor\":\"white\",\"linecolor\":\"white\",\"showbackground\":true,\"ticks\":\"\",\"zerolinecolor\":\"white\",\"gridwidth\":2}},\"shapedefaults\":{\"line\":{\"color\":\"#2a3f5f\"}},\"annotationdefaults\":{\"arrowcolor\":\"#2a3f5f\",\"arrowhead\":0,\"arrowwidth\":1},\"geo\":{\"bgcolor\":\"white\",\"landcolor\":\"#E5ECF6\",\"subunitcolor\":\"white\",\"showland\":true,\"showlakes\":true,\"lakecolor\":\"white\"},\"title\":{\"x\":0.05},\"mapbox\":{\"style\":\"light\"}}},\"xaxis\":{\"anchor\":\"y\",\"domain\":[0.0,1.0],\"title\":{\"text\":\"No. of Reactions\"},\"showgrid\":false},\"yaxis\":{\"anchor\":\"x\",\"domain\":[0.0,1.0],\"title\":{\"text\":\"Time Complete\"},\"tickvals\":[12,13,14,15,16,17],\"ticktext\":[\"$100^2$\",\"$100^3$\",\"$100^4$\",\"$100^5$\",\"$100^6$\",\"$100^7$\"],\"showgrid\":false},\"legend\":{\"tracegroupgap\":0},\"margin\":{\"t\":60},\"title\":{\"text\":\"No. of Reactions vs Time Complete\",\"x\":0.5,\"y\":0.95},\"font\":{\"size\":16}},                        {\"responsive\": true}                    ).then(function(){\n",
              "                            \n",
              "var gd = document.getElementById('297660bf-4505-4e17-9611-f226c76e312b');\n",
              "var x = new MutationObserver(function (mutations, observer) {{\n",
              "        var display = window.getComputedStyle(gd).display;\n",
              "        if (!display || display === 'none') {{\n",
              "            console.log([gd, 'removed!']);\n",
              "            Plotly.purge(gd);\n",
              "            observer.disconnect();\n",
              "        }}\n",
              "}});\n",
              "\n",
              "// Listen for the removal of the full notebook cells\n",
              "var notebookContainer = gd.closest('#notebook-container');\n",
              "if (notebookContainer) {{\n",
              "    x.observe(notebookContainer, {childList: true});\n",
              "}}\n",
              "\n",
              "// Listen for the clearing of the current output cell\n",
              "var outputEl = gd.closest('.output');\n",
              "if (outputEl) {{\n",
              "    x.observe(outputEl, {childList: true});\n",
              "}}\n",
              "\n",
              "                        })                };                            </script>        </div>\n",
              "</body>\n",
              "</html>"
            ]
          },
          "metadata": {}
        }
      ],
      "source": [
        "import plotly.express as px\n",
        "fig = px.scatter(x=df['2a. No. of Reactions'], y=np.log10(df['Time Complete exp']))\n",
        "\n",
        "fig.update_layout(\n",
        "    title='No. of Reactions vs Time Complete',\n",
        "    xaxis=dict(title='No. of Reactions'),\n",
        "    yaxis=dict(title='Time Complete'),\n",
        "    title_x=0.5,\n",
        "    title_y=0.95\n",
        ")\n",
        "\n",
        "\n",
        "fig.update_layout(font=dict(size=16))\n",
        "fig.update_xaxes(showgrid=False)\n",
        "fig.update_yaxes(tickvals=[12, 13, 14, 15, 16, 17], ticktext=[f'$100^{power}$' for power in np.arange(2,8)], showgrid=False)\n",
        "#fig.update_yaxes(tickvals=[0, 1, 2, 3, 4, 5, 6], ticktext=[f'$10^{power}$' for power in np.arange(0,7)], showgrid=False)\n",
        "fig.show()\n",
        "\n",
        "\n",
        "write_image(fig, '2a: No. of Reactions vs Time Complete.png')"
      ]
    },
    {
      "cell_type": "code",
      "source": [
        "[f'$10^{power}$' for power in np.arange(12,17)]"
      ],
      "metadata": {
        "colab": {
          "base_uri": "https://localhost:8080/"
        },
        "id": "5klVDDkcdPEv",
        "outputId": "b3a1f0db-6950-4050-881b-bb97031305bf"
      },
      "id": "5klVDDkcdPEv",
      "execution_count": null,
      "outputs": [
        {
          "output_type": "execute_result",
          "data": {
            "text/plain": [
              "['$10^12$', '$10^13$', '$10^14$', '$10^15$', '$10^16$']"
            ]
          },
          "metadata": {},
          "execution_count": 128
        }
      ]
    },
    {
      "cell_type": "code",
      "execution_count": null,
      "id": "8447990b",
      "metadata": {
        "colab": {
          "base_uri": "https://localhost:8080/",
          "height": 611
        },
        "id": "8447990b",
        "outputId": "494bc040-9c84-477f-bc54-735e6d2f54ed"
      },
      "outputs": [
        {
          "output_type": "stream",
          "name": "stderr",
          "text": [
            "/usr/local/lib/python3.10/dist-packages/pandas/core/arraylike.py:396: RuntimeWarning:\n",
            "\n",
            "divide by zero encountered in log10\n",
            "\n"
          ]
        },
        {
          "output_type": "display_data",
          "data": {
            "text/html": [
              "<html>\n",
              "<head><meta charset=\"utf-8\" /></head>\n",
              "<body>\n",
              "    <div>            <script src=\"https://cdnjs.cloudflare.com/ajax/libs/mathjax/2.7.5/MathJax.js?config=TeX-AMS-MML_SVG\"></script><script type=\"text/javascript\">if (window.MathJax && window.MathJax.Hub && window.MathJax.Hub.Config) {window.MathJax.Hub.Config({SVG: {font: \"STIX-Web\"}});}</script>                <script type=\"text/javascript\">window.PlotlyConfig = {MathJaxConfig: 'local'};</script>\n",
              "        <script charset=\"utf-8\" src=\"https://cdn.plot.ly/plotly-2.24.1.min.js\"></script>                <div id=\"a526f5d7-6f3b-46fb-9031-25fbb3437fff\" class=\"plotly-graph-div\" style=\"height:525px; width:100%;\"></div>            <script type=\"text/javascript\">                                    window.PLOTLYENV=window.PLOTLYENV || {};                                    if (document.getElementById(\"a526f5d7-6f3b-46fb-9031-25fbb3437fff\")) {                    Plotly.newPlot(                        \"a526f5d7-6f3b-46fb-9031-25fbb3437fff\",                        [{\"hovertemplate\":\"x=%{x}\\u003cbr\\u003ey=%{y}\\u003cextra\\u003e\\u003c\\u002fextra\\u003e\",\"legendgroup\":\"\",\"marker\":{\"color\":\"#636efa\",\"symbol\":\"circle\"},\"mode\":\"markers\",\"name\":\"\",\"orientation\":\"v\",\"showlegend\":false,\"x\":[3,5,9,4,22,5,6,27,7,33,13,3,11,5,16,6,18,6,10,13,54,8,7,23,19,17,55,16,26,7,5,39,14,9,57,15,10,6,9,3,7,4,3,3,46,9,7,11,4,6,8,11,11,11,11,6,6,14,6,13,12,9,7,14,6,23,3,23,19,27,59,23,6,136,11,19,16,7,26,14,28,16,6,6,6,6,7,8,22,11,22,53,58,23,49,47,10,79,32,4,20,11,11,53,166,39,23,33,28,80,21,4,4,3,3,25,2,39,2,40,18,56,6,9,12,21,18,3,20,5,48,14,53,4,15,16,16,36,30,36,36,17,43,57,16,7,9,5,25,39,51,30,2,3,45,2,2,3,4,3,3,6,6,3,3,8,6,13,8,9,26,26,6,4,4,4,4,4,3,8,3,4,3,16,2,1,3,5,60,8,18,52,3,15,25,19,41,4,6,3,6,2,3,30,10,6,15,119,189,56,14,8,17,5,45,46,46,46,46,51,51,60,61,61,61,61,61,61,61,61,61,61,61,61,13,13,13,18,18,6,134,26,12,7,10,21,66,16,11,25,8,9,21,15,8,7,6,13,27,153,43,101,13,7,6,1,2,4,95,38,3,19,4,16],\"xaxis\":\"x\",\"y\":[16.35663391897557,16.27379465940449,16.423585458817534,16.02247732688005,16.42907163842508,16.205671247081618,16.084424612091503,16.805853740055216,16.22196635953019,16.774836125523954,15.55280841914701,16.061386122528837,16.478949712625525,16.102050042472516,15.797522014424693,15.190373701550321,15.82852762044912,16.191001130865615,15.579931933302534,15.29893294041639,16.289494982584166,16.190760945875493,12.178277013963928,15.836260634748733,15.769046008663533,15.501980586454385,15.581690026033794,16.4921611712913,15.923521895342093,15.38231886301456,16.397083478018452,16.32111109812068,15.609456567658805,16.25286435934172,15.70917529436888,15.817054800306515,15.537835637767758,16.47999672285089,15.575147002659962,16.205277715359895,16.32281360447004,15.263960525520103,16.17701829815043,16.161943125246523,16.416058422627057,16.42520660229995,15.20491612611827,15.932567594320632,16.161843272677615,14.415757565781147,16.18987912936562,15.998735547060278,15.998977440354167,16.45969454672338,15.636489419139114,16.3020224677835,16.216403133601787,16.374779343405546,15.45167737805991,14.733752245429374,16.668624565508665,16.48518407912015,15.398843627235866,16.37773599145873,15.218229973642313,15.702990601034225,16.079417192944323,15.690282929861564,15.412481542495632,15.802484351784788,16.315306905073545,15.770848613985825,15.119680238212036,15.6960312417885,16.36216433763018,15.518560902329419,15.363791632139296,15.217471292850934,15.596701916560015,15.27872757251293,15.88966007559893,16.364577304988146,15.001477746241914,15.000361838603656,15.954211030961064,15.954199525099916,16.04845737449159,16.042273382942216,16.244119497836305,15.272012753533895,15.73671790509453,16.138482601325,16.126183336559766,15.598703399112631,15.90684088599617,15.177619222573782,15.585491108487336,16.074980322635458,15.308136052785493,16.04323051649487,16.346497777403187,16.477465850040982,16.462395084378816,15.796714871442196,15.63464161435977,15.925168134527002,16.061473941619866,15.78575784075877,16.281556862177897,16.098162671873226,15.607208718382882,15.209516773506593,16.1761081018658,16.091258841604187,16.14639970897921,15.393343856025576,15.844652158372964,15.897302546129584,16.079434440540904,15.914971639240528,16.5683297413943,14.179991086085112,16.0789253482753,16.230039620631974,15.633434568923052,16.198634783817848,15.889651126015696,16.06150297104747,15.303597115507843,16.062059816494,16.023400403043706,16.231949733488207,15.795819841759677,16.072681654287617,16.276684472691638,15.377035982803251,15.638029078493977,15.873905847295305,16.25538883831994,15.87893558972291,15.876452435174418,15.690686271592382,16.067139159640668,15.39485631874783,16.290533841199906,16.17705962541829,14.785257613095377,16.07918428332395,15.67183497963517,15.877429824171307,15.167865775063483,16.681270159667783,15.999149694199058,15.078890811934771,15.603199135355261,15.000154874016294,16.026051303691293,15.130999742678412,16.04136120667996,15.078830366729466,16.041605895540087,16.255384824175476,15.255258284845233,13.07894261541571,16.078579861218454,16.591107466765152,16.14614093409491,16.30100887220013,16.255338814139346,16.32199053073115,15.48664498769383,15.602051811284936,16.11369675231081,15.041398860094402,15.051990005634844,16.079296440585214,15.041756404805811,16.041408272937947,16.00258050100956,16.07933957028205,15.999989231303669,15.999678480832303,16.04171878237915,15.590982677510429,16.040937380666133,15.954268555694833,16.04143651024457,16.11412688884175,16.349101653516787,16.14580059529544,15.847572656788842,16.10191558053182,16.04138003379525,16.421004898565037,16.03565396109345,15.802742246813715,15.739016946021625,16.079046203843607,16.145770988008938,16.041775214797017,15.113856111814256,15.99938824631166,16.04104102078206,15.863638103438607,16.17588716064514,16.112915044366837,16.324915944584674,16.451045922484184,16.646019004910084,15.440160781971187,15.672103832596415,16.27870577194911,15.605968732370725,15.098705474828055,15.918652852875221,15.135873133693519,15.131403953821206,16.144233004546663,16.14274778729756,16.136436984313946,16.13200639639037,16.12841098689104,15.131706292625898,16.132790710981723,16.142021470494875,14.141849944169302,16.148221231759745,16.13999141322469,16.130720847730316,16.144014693357576,16.131373633222857,16.13497904475641,15.15247218115793,16.136175541450708,16.27020905593662,16.671852614437526,15.646759632903462,16.36912640399152,16.338113299137138,16.301691757836746,16.52168623011675,16.475022222611447,16.670835238864438,16.193674211766716,16.494730722754102,16.4748532544825,15.735900242748752,15.096914154743237,16.494843394821643,15.795870077018481,null,16.193833279429665,16.273190095034344,15.797026596937519,15.193866411194154,null,15.193647694824351,16.191101168753764,14.574118235872945,15.88057892328385,16.066868224083812,15.74575953091967,15.491333221675953,16.69950768532457,15.597066045513692,14.38736428929237,15.372589078775624,15.484441477845841,16.23023410730387,15.124984138223484,16.439353929218193,16.315153994105128,16.404979136354758,15.940782021322224],\"yaxis\":\"y\",\"type\":\"scatter\"}],                        {\"template\":{\"data\":{\"histogram2dcontour\":[{\"type\":\"histogram2dcontour\",\"colorbar\":{\"outlinewidth\":0,\"ticks\":\"\"},\"colorscale\":[[0.0,\"#0d0887\"],[0.1111111111111111,\"#46039f\"],[0.2222222222222222,\"#7201a8\"],[0.3333333333333333,\"#9c179e\"],[0.4444444444444444,\"#bd3786\"],[0.5555555555555556,\"#d8576b\"],[0.6666666666666666,\"#ed7953\"],[0.7777777777777778,\"#fb9f3a\"],[0.8888888888888888,\"#fdca26\"],[1.0,\"#f0f921\"]]}],\"choropleth\":[{\"type\":\"choropleth\",\"colorbar\":{\"outlinewidth\":0,\"ticks\":\"\"}}],\"histogram2d\":[{\"type\":\"histogram2d\",\"colorbar\":{\"outlinewidth\":0,\"ticks\":\"\"},\"colorscale\":[[0.0,\"#0d0887\"],[0.1111111111111111,\"#46039f\"],[0.2222222222222222,\"#7201a8\"],[0.3333333333333333,\"#9c179e\"],[0.4444444444444444,\"#bd3786\"],[0.5555555555555556,\"#d8576b\"],[0.6666666666666666,\"#ed7953\"],[0.7777777777777778,\"#fb9f3a\"],[0.8888888888888888,\"#fdca26\"],[1.0,\"#f0f921\"]]}],\"heatmap\":[{\"type\":\"heatmap\",\"colorbar\":{\"outlinewidth\":0,\"ticks\":\"\"},\"colorscale\":[[0.0,\"#0d0887\"],[0.1111111111111111,\"#46039f\"],[0.2222222222222222,\"#7201a8\"],[0.3333333333333333,\"#9c179e\"],[0.4444444444444444,\"#bd3786\"],[0.5555555555555556,\"#d8576b\"],[0.6666666666666666,\"#ed7953\"],[0.7777777777777778,\"#fb9f3a\"],[0.8888888888888888,\"#fdca26\"],[1.0,\"#f0f921\"]]}],\"heatmapgl\":[{\"type\":\"heatmapgl\",\"colorbar\":{\"outlinewidth\":0,\"ticks\":\"\"},\"colorscale\":[[0.0,\"#0d0887\"],[0.1111111111111111,\"#46039f\"],[0.2222222222222222,\"#7201a8\"],[0.3333333333333333,\"#9c179e\"],[0.4444444444444444,\"#bd3786\"],[0.5555555555555556,\"#d8576b\"],[0.6666666666666666,\"#ed7953\"],[0.7777777777777778,\"#fb9f3a\"],[0.8888888888888888,\"#fdca26\"],[1.0,\"#f0f921\"]]}],\"contourcarpet\":[{\"type\":\"contourcarpet\",\"colorbar\":{\"outlinewidth\":0,\"ticks\":\"\"}}],\"contour\":[{\"type\":\"contour\",\"colorbar\":{\"outlinewidth\":0,\"ticks\":\"\"},\"colorscale\":[[0.0,\"#0d0887\"],[0.1111111111111111,\"#46039f\"],[0.2222222222222222,\"#7201a8\"],[0.3333333333333333,\"#9c179e\"],[0.4444444444444444,\"#bd3786\"],[0.5555555555555556,\"#d8576b\"],[0.6666666666666666,\"#ed7953\"],[0.7777777777777778,\"#fb9f3a\"],[0.8888888888888888,\"#fdca26\"],[1.0,\"#f0f921\"]]}],\"surface\":[{\"type\":\"surface\",\"colorbar\":{\"outlinewidth\":0,\"ticks\":\"\"},\"colorscale\":[[0.0,\"#0d0887\"],[0.1111111111111111,\"#46039f\"],[0.2222222222222222,\"#7201a8\"],[0.3333333333333333,\"#9c179e\"],[0.4444444444444444,\"#bd3786\"],[0.5555555555555556,\"#d8576b\"],[0.6666666666666666,\"#ed7953\"],[0.7777777777777778,\"#fb9f3a\"],[0.8888888888888888,\"#fdca26\"],[1.0,\"#f0f921\"]]}],\"mesh3d\":[{\"type\":\"mesh3d\",\"colorbar\":{\"outlinewidth\":0,\"ticks\":\"\"}}],\"scatter\":[{\"fillpattern\":{\"fillmode\":\"overlay\",\"size\":10,\"solidity\":0.2},\"type\":\"scatter\"}],\"parcoords\":[{\"type\":\"parcoords\",\"line\":{\"colorbar\":{\"outlinewidth\":0,\"ticks\":\"\"}}}],\"scatterpolargl\":[{\"type\":\"scatterpolargl\",\"marker\":{\"colorbar\":{\"outlinewidth\":0,\"ticks\":\"\"}}}],\"bar\":[{\"error_x\":{\"color\":\"#2a3f5f\"},\"error_y\":{\"color\":\"#2a3f5f\"},\"marker\":{\"line\":{\"color\":\"#E5ECF6\",\"width\":0.5},\"pattern\":{\"fillmode\":\"overlay\",\"size\":10,\"solidity\":0.2}},\"type\":\"bar\"}],\"scattergeo\":[{\"type\":\"scattergeo\",\"marker\":{\"colorbar\":{\"outlinewidth\":0,\"ticks\":\"\"}}}],\"scatterpolar\":[{\"type\":\"scatterpolar\",\"marker\":{\"colorbar\":{\"outlinewidth\":0,\"ticks\":\"\"}}}],\"histogram\":[{\"marker\":{\"pattern\":{\"fillmode\":\"overlay\",\"size\":10,\"solidity\":0.2}},\"type\":\"histogram\"}],\"scattergl\":[{\"type\":\"scattergl\",\"marker\":{\"colorbar\":{\"outlinewidth\":0,\"ticks\":\"\"}}}],\"scatter3d\":[{\"type\":\"scatter3d\",\"line\":{\"colorbar\":{\"outlinewidth\":0,\"ticks\":\"\"}},\"marker\":{\"colorbar\":{\"outlinewidth\":0,\"ticks\":\"\"}}}],\"scattermapbox\":[{\"type\":\"scattermapbox\",\"marker\":{\"colorbar\":{\"outlinewidth\":0,\"ticks\":\"\"}}}],\"scatterternary\":[{\"type\":\"scatterternary\",\"marker\":{\"colorbar\":{\"outlinewidth\":0,\"ticks\":\"\"}}}],\"scattercarpet\":[{\"type\":\"scattercarpet\",\"marker\":{\"colorbar\":{\"outlinewidth\":0,\"ticks\":\"\"}}}],\"carpet\":[{\"aaxis\":{\"endlinecolor\":\"#2a3f5f\",\"gridcolor\":\"white\",\"linecolor\":\"white\",\"minorgridcolor\":\"white\",\"startlinecolor\":\"#2a3f5f\"},\"baxis\":{\"endlinecolor\":\"#2a3f5f\",\"gridcolor\":\"white\",\"linecolor\":\"white\",\"minorgridcolor\":\"white\",\"startlinecolor\":\"#2a3f5f\"},\"type\":\"carpet\"}],\"table\":[{\"cells\":{\"fill\":{\"color\":\"#EBF0F8\"},\"line\":{\"color\":\"white\"}},\"header\":{\"fill\":{\"color\":\"#C8D4E3\"},\"line\":{\"color\":\"white\"}},\"type\":\"table\"}],\"barpolar\":[{\"marker\":{\"line\":{\"color\":\"#E5ECF6\",\"width\":0.5},\"pattern\":{\"fillmode\":\"overlay\",\"size\":10,\"solidity\":0.2}},\"type\":\"barpolar\"}],\"pie\":[{\"automargin\":true,\"type\":\"pie\"}]},\"layout\":{\"autotypenumbers\":\"strict\",\"colorway\":[\"#636efa\",\"#EF553B\",\"#00cc96\",\"#ab63fa\",\"#FFA15A\",\"#19d3f3\",\"#FF6692\",\"#B6E880\",\"#FF97FF\",\"#FECB52\"],\"font\":{\"color\":\"#2a3f5f\"},\"hovermode\":\"closest\",\"hoverlabel\":{\"align\":\"left\"},\"paper_bgcolor\":\"white\",\"plot_bgcolor\":\"#E5ECF6\",\"polar\":{\"bgcolor\":\"#E5ECF6\",\"angularaxis\":{\"gridcolor\":\"white\",\"linecolor\":\"white\",\"ticks\":\"\"},\"radialaxis\":{\"gridcolor\":\"white\",\"linecolor\":\"white\",\"ticks\":\"\"}},\"ternary\":{\"bgcolor\":\"#E5ECF6\",\"aaxis\":{\"gridcolor\":\"white\",\"linecolor\":\"white\",\"ticks\":\"\"},\"baxis\":{\"gridcolor\":\"white\",\"linecolor\":\"white\",\"ticks\":\"\"},\"caxis\":{\"gridcolor\":\"white\",\"linecolor\":\"white\",\"ticks\":\"\"}},\"coloraxis\":{\"colorbar\":{\"outlinewidth\":0,\"ticks\":\"\"}},\"colorscale\":{\"sequential\":[[0.0,\"#0d0887\"],[0.1111111111111111,\"#46039f\"],[0.2222222222222222,\"#7201a8\"],[0.3333333333333333,\"#9c179e\"],[0.4444444444444444,\"#bd3786\"],[0.5555555555555556,\"#d8576b\"],[0.6666666666666666,\"#ed7953\"],[0.7777777777777778,\"#fb9f3a\"],[0.8888888888888888,\"#fdca26\"],[1.0,\"#f0f921\"]],\"sequentialminus\":[[0.0,\"#0d0887\"],[0.1111111111111111,\"#46039f\"],[0.2222222222222222,\"#7201a8\"],[0.3333333333333333,\"#9c179e\"],[0.4444444444444444,\"#bd3786\"],[0.5555555555555556,\"#d8576b\"],[0.6666666666666666,\"#ed7953\"],[0.7777777777777778,\"#fb9f3a\"],[0.8888888888888888,\"#fdca26\"],[1.0,\"#f0f921\"]],\"diverging\":[[0,\"#8e0152\"],[0.1,\"#c51b7d\"],[0.2,\"#de77ae\"],[0.3,\"#f1b6da\"],[0.4,\"#fde0ef\"],[0.5,\"#f7f7f7\"],[0.6,\"#e6f5d0\"],[0.7,\"#b8e186\"],[0.8,\"#7fbc41\"],[0.9,\"#4d9221\"],[1,\"#276419\"]]},\"xaxis\":{\"gridcolor\":\"white\",\"linecolor\":\"white\",\"ticks\":\"\",\"title\":{\"standoff\":15},\"zerolinecolor\":\"white\",\"automargin\":true,\"zerolinewidth\":2},\"yaxis\":{\"gridcolor\":\"white\",\"linecolor\":\"white\",\"ticks\":\"\",\"title\":{\"standoff\":15},\"zerolinecolor\":\"white\",\"automargin\":true,\"zerolinewidth\":2},\"scene\":{\"xaxis\":{\"backgroundcolor\":\"#E5ECF6\",\"gridcolor\":\"white\",\"linecolor\":\"white\",\"showbackground\":true,\"ticks\":\"\",\"zerolinecolor\":\"white\",\"gridwidth\":2},\"yaxis\":{\"backgroundcolor\":\"#E5ECF6\",\"gridcolor\":\"white\",\"linecolor\":\"white\",\"showbackground\":true,\"ticks\":\"\",\"zerolinecolor\":\"white\",\"gridwidth\":2},\"zaxis\":{\"backgroundcolor\":\"#E5ECF6\",\"gridcolor\":\"white\",\"linecolor\":\"white\",\"showbackground\":true,\"ticks\":\"\",\"zerolinecolor\":\"white\",\"gridwidth\":2}},\"shapedefaults\":{\"line\":{\"color\":\"#2a3f5f\"}},\"annotationdefaults\":{\"arrowcolor\":\"#2a3f5f\",\"arrowhead\":0,\"arrowwidth\":1},\"geo\":{\"bgcolor\":\"white\",\"landcolor\":\"#E5ECF6\",\"subunitcolor\":\"white\",\"showland\":true,\"showlakes\":true,\"lakecolor\":\"white\"},\"title\":{\"x\":0.05},\"mapbox\":{\"style\":\"light\"}}},\"xaxis\":{\"anchor\":\"y\",\"domain\":[0.0,1.0],\"title\":{\"text\":\"No. of Species\"},\"showgrid\":false},\"yaxis\":{\"anchor\":\"x\",\"domain\":[0.0,1.0],\"title\":{\"text\":\"Time Complete\"},\"tickvals\":[12,13,14,15,16,17],\"ticktext\":[\"$100^2$\",\"$100^3$\",\"$100^4$\",\"$100^5$\",\"$100^6$\",\"$100^7$\"],\"showgrid\":false},\"legend\":{\"tracegroupgap\":0},\"margin\":{\"t\":60},\"title\":{\"text\":\"No. of Species vs Time Complete\",\"x\":0.5,\"y\":0.95},\"font\":{\"size\":16}},                        {\"responsive\": true}                    ).then(function(){\n",
              "                            \n",
              "var gd = document.getElementById('a526f5d7-6f3b-46fb-9031-25fbb3437fff');\n",
              "var x = new MutationObserver(function (mutations, observer) {{\n",
              "        var display = window.getComputedStyle(gd).display;\n",
              "        if (!display || display === 'none') {{\n",
              "            console.log([gd, 'removed!']);\n",
              "            Plotly.purge(gd);\n",
              "            observer.disconnect();\n",
              "        }}\n",
              "}});\n",
              "\n",
              "// Listen for the removal of the full notebook cells\n",
              "var notebookContainer = gd.closest('#notebook-container');\n",
              "if (notebookContainer) {{\n",
              "    x.observe(notebookContainer, {childList: true});\n",
              "}}\n",
              "\n",
              "// Listen for the clearing of the current output cell\n",
              "var outputEl = gd.closest('.output');\n",
              "if (outputEl) {{\n",
              "    x.observe(outputEl, {childList: true});\n",
              "}}\n",
              "\n",
              "                        })                };                            </script>        </div>\n",
              "</body>\n",
              "</html>"
            ]
          },
          "metadata": {}
        }
      ],
      "source": [
        "import plotly.express as px\n",
        "fig = px.scatter(x=df['2b. No. of Species'], y=np.log10(df['Time Complete exp']))\n",
        "\n",
        "fig.update_layout(\n",
        "    title='No. of Species vs Time Complete',\n",
        "    xaxis=dict(title='No. of Species'),\n",
        "    yaxis=dict(title='Time Complete'),\n",
        "    title_x=0.5,\n",
        "    title_y=0.95\n",
        ")\n",
        "\n",
        "fig.update_layout(font=dict(size=16))\n",
        "fig.update_xaxes(showgrid=False)\n",
        "fig.update_yaxes(tickvals=[12, 13, 14, 15, 16, 17], ticktext=[f'$100^{power}$' for power in np.arange(2,8)], showgrid=False)\n",
        "#fig.update_yaxes(tickvals=[0, 1, 2, 3, 4, 5, 6], ticktext=[f'$10^{power}$' for power in np.arange(0,7)], showgrid=False)\n",
        "fig.show()\n",
        "\n",
        "write_image(fig, '2b: No. of Species vs Time Complete.png')"
      ]
    },
    {
      "cell_type": "code",
      "execution_count": null,
      "id": "256a5d68",
      "metadata": {
        "colab": {
          "base_uri": "https://localhost:8080/",
          "height": 611
        },
        "id": "256a5d68",
        "outputId": "e084068b-1a8b-4186-fad1-0348a291598d"
      },
      "outputs": [
        {
          "output_type": "stream",
          "name": "stderr",
          "text": [
            "/usr/local/lib/python3.10/dist-packages/pandas/core/arraylike.py:396: RuntimeWarning:\n",
            "\n",
            "divide by zero encountered in log10\n",
            "\n"
          ]
        },
        {
          "output_type": "display_data",
          "data": {
            "text/html": [
              "<html>\n",
              "<head><meta charset=\"utf-8\" /></head>\n",
              "<body>\n",
              "    <div>            <script src=\"https://cdnjs.cloudflare.com/ajax/libs/mathjax/2.7.5/MathJax.js?config=TeX-AMS-MML_SVG\"></script><script type=\"text/javascript\">if (window.MathJax && window.MathJax.Hub && window.MathJax.Hub.Config) {window.MathJax.Hub.Config({SVG: {font: \"STIX-Web\"}});}</script>                <script type=\"text/javascript\">window.PlotlyConfig = {MathJaxConfig: 'local'};</script>\n",
              "        <script charset=\"utf-8\" src=\"https://cdn.plot.ly/plotly-2.24.1.min.js\"></script>                <div id=\"81e83a6a-e08e-40b4-87d2-2e297c83c438\" class=\"plotly-graph-div\" style=\"height:525px; width:100%;\"></div>            <script type=\"text/javascript\">                                    window.PLOTLYENV=window.PLOTLYENV || {};                                    if (document.getElementById(\"81e83a6a-e08e-40b4-87d2-2e297c83c438\")) {                    Plotly.newPlot(                        \"81e83a6a-e08e-40b4-87d2-2e297c83c438\",                        [{\"hovertemplate\":\"x=%{x}\\u003cbr\\u003ey=%{y}\\u003cextra\\u003e\\u003c\\u002fextra\\u003e\",\"legendgroup\":\"\",\"marker\":{\"color\":\"#636efa\",\"symbol\":\"circle\"},\"mode\":\"markers\",\"name\":\"\",\"orientation\":\"v\",\"showlegend\":false,\"x\":[0.3010299956639812,0.9030899869919435,1.3979400086720377,0.7781512503836436,3.0236639181977933,0.3010299956639812,0.3010299956639812,4.645726758261136,0.7781512503836436,3.913442954859396,0.6989700043360189,0.6020599913279624,1.6434526764861874,1.0,1.9344984512435677,1.0,1.9242792860618816,1.255272505103306,1.6127838567197355,0.3010299956639812,1.2041199826559248,0.3010299956639812,0.8450980400142568,2.8488047010518036,0.3010299956639812,2.4533183400470375,3.918764031027999,0.3010299956639812,4.698987375767868,0.3010299956639812,0.6020599913279624,4.698978690138799,1.505149978319906,0.6989700043360189,1.9731278535996986,0.9542425094393249,0.47712125471966244,0.7781512503836436,0.6020599913279624,0.3010299956639812,1.2304489213782739,0.8450980400142568,0.3010299956639812,0.3010299956639812,4.739414102698695,1.146128035678238,0.6989700043360189,0.3010299956639812,0.3010299956639812,0.3010299956639812,0.3010299956639812,2.123851640967086,2.123851640967086,0.9542425094393249,1.505149978319906,1.2304489213782739,0.3010299956639812,2.710963118995276,0.7781512503836436,1.1760912590556813,1.1760912590556813,0.3010299956639812,0.3010299956639812,2.4099331233312946,0.3010299956639812,4.698978690138799,0.6020599913279624,1.0,0.3010299956639812,2.7895807121644256,4.699508195883737,1.7708520116421442,1.2787536009528289,0.3010299956639812,0.47712125471966244,0.3010299956639812,3.913442954859396,0.3010299956639812,1.380211241711606,0.3010299956639812,4.312494707189671,3.9136019497291574,1.2304489213782739,1.2304489213782739,1.2304489213782739,1.2304489213782739,1.5185139398778875,1.2304489213782739,4.5154631883732685,3.010723865391773,3.0111473607757975,4.319813684538678,4.560229533914398,4.640670219621472,4.699525545802118,0.0,1.6127838567197355,4.698978690138799,3.6124659639531425,0.3010299956639812,2.7267272090265724,1.8573324964312685,1.8573324964312685,1.2041199826559248,4.846089580357984,4.698978690138799,3.408748606184244,4.504837716928653,3.3306166672944384,4.698978690138799,0.3010299956639812,0.7781512503836436,0.7781512503836436,0.7781512503836436,0.7781512503836436,2.807535028068853,0.47712125471966244,0.0,0.3010299956639812,4.699247863898858,1.3979400086720377,4.698987375767868,0.3010299956639812,0.47712125471966244,1.3617278360175928,1.7853298350107671,2.41161970596323,0.3010299956639812,1.8129133566428555,0.47712125471966244,4.764863283710636,1.2304489213782739,1.2041199826559248,0.3010299956639812,0.3010299956639812,0.3010299956639812,1.5185139398778875,4.699117639363333,3.011993114659257,4.699117639363333,4.699117639363333,0.7781512503836436,4.698978690138799,0.0,0.3010299956639812,0.9542425094393249,0.47712125471966244,0.3010299956639812,0.3010299956639812,4.699386727043735,4.062469165814253,1.2304489213782739,0.3010299956639812,0.3010299956639812,0.0,0.3010299956639812,0.3010299956639812,0.3010299956639812,0.3010299956639812,0.3010299956639812,0.3010299956639812,0.3010299956639812,0.6989700043360189,0.3010299956639812,0.3010299956639812,0.3010299956639812,0.47712125471966244,0.6989700043360189,0.3010299956639812,0.3010299956639812,3.1152775913959014,1.380211241711606,0.3010299956639812,0.3010299956639812,0.3010299956639812,0.3010299956639812,0.3010299956639812,0.3010299956639812,0.3010299956639812,0.47712125471966244,0.3010299956639812,0.3010299956639812,0.3010299956639812,1.8129133566428555,0.3010299956639812,0.3010299956639812,0.3010299956639812,0.6989700043360189,1.2041199826559248,0.6989700043360189,3.311541958401195,0.0,0.3010299956639812,1.5185139398778875,2.110589710299249,0.9542425094393249,0.0,0.47712125471966244,0.6989700043360189,0.47712125471966244,0.6020599913279624,0.3010299956639812,0.3010299956639812,4.699004746504903,0.3010299956639812,0.3010299956639812,0.3010299956639812,3.7371926427047373,3.612359947967774,0.0,1.6901960800285136,1.1760912590556813,2.7024305364455254,0.3010299956639812,3.913442954859396,4.699108956339093,4.699108956339093,4.699108956339093,4.699108956339093,4.699108956339093,4.699108956339093,4.699108956339093,4.699108956339093,4.699108956339093,4.699108956339093,4.699108956339093,4.699108956339093,4.699108956339093,4.699108956339093,4.699108956339093,4.699108956339093,4.699108956339093,4.699108956339093,4.699108956339093,1.4771212547196624,1.4771212547196624,1.4771212547196624,2.481442628502305,2.481442628502305,0.3010299956639812,0.0,3.1152775913959014,1.0791812460476249,0.3010299956639812,0.47712125471966244,3.4712917110589387,3.3113299523037933,0.9030899869919435,1.255272505103306,1.5314789170422551,0.3010299956639812,1.255272505103306,2.7101173651118162,1.2304489213782739,0.3010299956639812,0.3010299956639812,0.9542425094393249,0.3010299956639812,2.7101173651118162,0.0,4.016197353512439,0.0,1.255272505103306,0.3010299956639812,1.1139433523068367,0.3010299956639812,0.3010299956639812,0.6989700043360189,4.698987375767868,0.47712125471966244,0.47712125471966244,4.515476441382376,0.47712125471966244,1.8260748027008264],\"xaxis\":\"x\",\"y\":[16.35663391897557,16.27379465940449,16.423585458817534,16.02247732688005,16.42907163842508,16.205671247081618,16.084424612091503,16.805853740055216,16.22196635953019,16.774836125523954,15.55280841914701,16.061386122528837,16.478949712625525,16.102050042472516,15.797522014424693,15.190373701550321,15.82852762044912,16.191001130865615,15.579931933302534,15.29893294041639,16.289494982584166,16.190760945875493,12.178277013963928,15.836260634748733,15.769046008663533,15.501980586454385,15.581690026033794,16.4921611712913,15.923521895342093,15.38231886301456,16.397083478018452,16.32111109812068,15.609456567658805,16.25286435934172,15.70917529436888,15.817054800306515,15.537835637767758,16.47999672285089,15.575147002659962,16.205277715359895,16.32281360447004,15.263960525520103,16.17701829815043,16.161943125246523,16.416058422627057,16.42520660229995,15.20491612611827,15.932567594320632,16.161843272677615,14.415757565781147,16.18987912936562,15.998735547060278,15.998977440354167,16.45969454672338,15.636489419139114,16.3020224677835,16.216403133601787,16.374779343405546,15.45167737805991,14.733752245429374,16.668624565508665,16.48518407912015,15.398843627235866,16.37773599145873,15.218229973642313,15.702990601034225,16.079417192944323,15.690282929861564,15.412481542495632,15.802484351784788,16.315306905073545,15.770848613985825,15.119680238212036,15.6960312417885,16.36216433763018,15.518560902329419,15.363791632139296,15.217471292850934,15.596701916560015,15.27872757251293,15.88966007559893,16.364577304988146,15.001477746241914,15.000361838603656,15.954211030961064,15.954199525099916,16.04845737449159,16.042273382942216,16.244119497836305,15.272012753533895,15.73671790509453,16.138482601325,16.126183336559766,15.598703399112631,15.90684088599617,15.177619222573782,15.585491108487336,16.074980322635458,15.308136052785493,16.04323051649487,16.346497777403187,16.477465850040982,16.462395084378816,15.796714871442196,15.63464161435977,15.925168134527002,16.061473941619866,15.78575784075877,16.281556862177897,16.098162671873226,15.607208718382882,15.209516773506593,16.1761081018658,16.091258841604187,16.14639970897921,15.393343856025576,15.844652158372964,15.897302546129584,16.079434440540904,15.914971639240528,16.5683297413943,14.179991086085112,16.0789253482753,16.230039620631974,15.633434568923052,16.198634783817848,15.889651126015696,16.06150297104747,15.303597115507843,16.062059816494,16.023400403043706,16.231949733488207,15.795819841759677,16.072681654287617,16.276684472691638,15.377035982803251,15.638029078493977,15.873905847295305,16.25538883831994,15.87893558972291,15.876452435174418,15.690686271592382,16.067139159640668,15.39485631874783,16.290533841199906,16.17705962541829,14.785257613095377,16.07918428332395,15.67183497963517,15.877429824171307,15.167865775063483,16.681270159667783,15.999149694199058,15.078890811934771,15.603199135355261,15.000154874016294,16.026051303691293,15.130999742678412,16.04136120667996,15.078830366729466,16.041605895540087,16.255384824175476,15.255258284845233,13.07894261541571,16.078579861218454,16.591107466765152,16.14614093409491,16.30100887220013,16.255338814139346,16.32199053073115,15.48664498769383,15.602051811284936,16.11369675231081,15.041398860094402,15.051990005634844,16.079296440585214,15.041756404805811,16.041408272937947,16.00258050100956,16.07933957028205,15.999989231303669,15.999678480832303,16.04171878237915,15.590982677510429,16.040937380666133,15.954268555694833,16.04143651024457,16.11412688884175,16.349101653516787,16.14580059529544,15.847572656788842,16.10191558053182,16.04138003379525,16.421004898565037,16.03565396109345,15.802742246813715,15.739016946021625,16.079046203843607,16.145770988008938,16.041775214797017,15.113856111814256,15.99938824631166,16.04104102078206,15.863638103438607,16.17588716064514,16.112915044366837,16.324915944584674,16.451045922484184,16.646019004910084,15.440160781971187,15.672103832596415,16.27870577194911,15.605968732370725,15.098705474828055,15.918652852875221,15.135873133693519,15.131403953821206,16.144233004546663,16.14274778729756,16.136436984313946,16.13200639639037,16.12841098689104,15.131706292625898,16.132790710981723,16.142021470494875,14.141849944169302,16.148221231759745,16.13999141322469,16.130720847730316,16.144014693357576,16.131373633222857,16.13497904475641,15.15247218115793,16.136175541450708,16.27020905593662,16.671852614437526,15.646759632903462,16.36912640399152,16.338113299137138,16.301691757836746,16.52168623011675,16.475022222611447,16.670835238864438,16.193674211766716,16.494730722754102,16.4748532544825,15.735900242748752,15.096914154743237,16.494843394821643,15.795870077018481,null,16.193833279429665,16.273190095034344,15.797026596937519,15.193866411194154,null,15.193647694824351,16.191101168753764,14.574118235872945,15.88057892328385,16.066868224083812,15.74575953091967,15.491333221675953,16.69950768532457,15.597066045513692,14.38736428929237,15.372589078775624,15.484441477845841,16.23023410730387,15.124984138223484,16.439353929218193,16.315153994105128,16.404979136354758,15.940782021322224],\"yaxis\":\"y\",\"type\":\"scatter\"}],                        {\"template\":{\"data\":{\"histogram2dcontour\":[{\"type\":\"histogram2dcontour\",\"colorbar\":{\"outlinewidth\":0,\"ticks\":\"\"},\"colorscale\":[[0.0,\"#0d0887\"],[0.1111111111111111,\"#46039f\"],[0.2222222222222222,\"#7201a8\"],[0.3333333333333333,\"#9c179e\"],[0.4444444444444444,\"#bd3786\"],[0.5555555555555556,\"#d8576b\"],[0.6666666666666666,\"#ed7953\"],[0.7777777777777778,\"#fb9f3a\"],[0.8888888888888888,\"#fdca26\"],[1.0,\"#f0f921\"]]}],\"choropleth\":[{\"type\":\"choropleth\",\"colorbar\":{\"outlinewidth\":0,\"ticks\":\"\"}}],\"histogram2d\":[{\"type\":\"histogram2d\",\"colorbar\":{\"outlinewidth\":0,\"ticks\":\"\"},\"colorscale\":[[0.0,\"#0d0887\"],[0.1111111111111111,\"#46039f\"],[0.2222222222222222,\"#7201a8\"],[0.3333333333333333,\"#9c179e\"],[0.4444444444444444,\"#bd3786\"],[0.5555555555555556,\"#d8576b\"],[0.6666666666666666,\"#ed7953\"],[0.7777777777777778,\"#fb9f3a\"],[0.8888888888888888,\"#fdca26\"],[1.0,\"#f0f921\"]]}],\"heatmap\":[{\"type\":\"heatmap\",\"colorbar\":{\"outlinewidth\":0,\"ticks\":\"\"},\"colorscale\":[[0.0,\"#0d0887\"],[0.1111111111111111,\"#46039f\"],[0.2222222222222222,\"#7201a8\"],[0.3333333333333333,\"#9c179e\"],[0.4444444444444444,\"#bd3786\"],[0.5555555555555556,\"#d8576b\"],[0.6666666666666666,\"#ed7953\"],[0.7777777777777778,\"#fb9f3a\"],[0.8888888888888888,\"#fdca26\"],[1.0,\"#f0f921\"]]}],\"heatmapgl\":[{\"type\":\"heatmapgl\",\"colorbar\":{\"outlinewidth\":0,\"ticks\":\"\"},\"colorscale\":[[0.0,\"#0d0887\"],[0.1111111111111111,\"#46039f\"],[0.2222222222222222,\"#7201a8\"],[0.3333333333333333,\"#9c179e\"],[0.4444444444444444,\"#bd3786\"],[0.5555555555555556,\"#d8576b\"],[0.6666666666666666,\"#ed7953\"],[0.7777777777777778,\"#fb9f3a\"],[0.8888888888888888,\"#fdca26\"],[1.0,\"#f0f921\"]]}],\"contourcarpet\":[{\"type\":\"contourcarpet\",\"colorbar\":{\"outlinewidth\":0,\"ticks\":\"\"}}],\"contour\":[{\"type\":\"contour\",\"colorbar\":{\"outlinewidth\":0,\"ticks\":\"\"},\"colorscale\":[[0.0,\"#0d0887\"],[0.1111111111111111,\"#46039f\"],[0.2222222222222222,\"#7201a8\"],[0.3333333333333333,\"#9c179e\"],[0.4444444444444444,\"#bd3786\"],[0.5555555555555556,\"#d8576b\"],[0.6666666666666666,\"#ed7953\"],[0.7777777777777778,\"#fb9f3a\"],[0.8888888888888888,\"#fdca26\"],[1.0,\"#f0f921\"]]}],\"surface\":[{\"type\":\"surface\",\"colorbar\":{\"outlinewidth\":0,\"ticks\":\"\"},\"colorscale\":[[0.0,\"#0d0887\"],[0.1111111111111111,\"#46039f\"],[0.2222222222222222,\"#7201a8\"],[0.3333333333333333,\"#9c179e\"],[0.4444444444444444,\"#bd3786\"],[0.5555555555555556,\"#d8576b\"],[0.6666666666666666,\"#ed7953\"],[0.7777777777777778,\"#fb9f3a\"],[0.8888888888888888,\"#fdca26\"],[1.0,\"#f0f921\"]]}],\"mesh3d\":[{\"type\":\"mesh3d\",\"colorbar\":{\"outlinewidth\":0,\"ticks\":\"\"}}],\"scatter\":[{\"fillpattern\":{\"fillmode\":\"overlay\",\"size\":10,\"solidity\":0.2},\"type\":\"scatter\"}],\"parcoords\":[{\"type\":\"parcoords\",\"line\":{\"colorbar\":{\"outlinewidth\":0,\"ticks\":\"\"}}}],\"scatterpolargl\":[{\"type\":\"scatterpolargl\",\"marker\":{\"colorbar\":{\"outlinewidth\":0,\"ticks\":\"\"}}}],\"bar\":[{\"error_x\":{\"color\":\"#2a3f5f\"},\"error_y\":{\"color\":\"#2a3f5f\"},\"marker\":{\"line\":{\"color\":\"#E5ECF6\",\"width\":0.5},\"pattern\":{\"fillmode\":\"overlay\",\"size\":10,\"solidity\":0.2}},\"type\":\"bar\"}],\"scattergeo\":[{\"type\":\"scattergeo\",\"marker\":{\"colorbar\":{\"outlinewidth\":0,\"ticks\":\"\"}}}],\"scatterpolar\":[{\"type\":\"scatterpolar\",\"marker\":{\"colorbar\":{\"outlinewidth\":0,\"ticks\":\"\"}}}],\"histogram\":[{\"marker\":{\"pattern\":{\"fillmode\":\"overlay\",\"size\":10,\"solidity\":0.2}},\"type\":\"histogram\"}],\"scattergl\":[{\"type\":\"scattergl\",\"marker\":{\"colorbar\":{\"outlinewidth\":0,\"ticks\":\"\"}}}],\"scatter3d\":[{\"type\":\"scatter3d\",\"line\":{\"colorbar\":{\"outlinewidth\":0,\"ticks\":\"\"}},\"marker\":{\"colorbar\":{\"outlinewidth\":0,\"ticks\":\"\"}}}],\"scattermapbox\":[{\"type\":\"scattermapbox\",\"marker\":{\"colorbar\":{\"outlinewidth\":0,\"ticks\":\"\"}}}],\"scatterternary\":[{\"type\":\"scatterternary\",\"marker\":{\"colorbar\":{\"outlinewidth\":0,\"ticks\":\"\"}}}],\"scattercarpet\":[{\"type\":\"scattercarpet\",\"marker\":{\"colorbar\":{\"outlinewidth\":0,\"ticks\":\"\"}}}],\"carpet\":[{\"aaxis\":{\"endlinecolor\":\"#2a3f5f\",\"gridcolor\":\"white\",\"linecolor\":\"white\",\"minorgridcolor\":\"white\",\"startlinecolor\":\"#2a3f5f\"},\"baxis\":{\"endlinecolor\":\"#2a3f5f\",\"gridcolor\":\"white\",\"linecolor\":\"white\",\"minorgridcolor\":\"white\",\"startlinecolor\":\"#2a3f5f\"},\"type\":\"carpet\"}],\"table\":[{\"cells\":{\"fill\":{\"color\":\"#EBF0F8\"},\"line\":{\"color\":\"white\"}},\"header\":{\"fill\":{\"color\":\"#C8D4E3\"},\"line\":{\"color\":\"white\"}},\"type\":\"table\"}],\"barpolar\":[{\"marker\":{\"line\":{\"color\":\"#E5ECF6\",\"width\":0.5},\"pattern\":{\"fillmode\":\"overlay\",\"size\":10,\"solidity\":0.2}},\"type\":\"barpolar\"}],\"pie\":[{\"automargin\":true,\"type\":\"pie\"}]},\"layout\":{\"autotypenumbers\":\"strict\",\"colorway\":[\"#636efa\",\"#EF553B\",\"#00cc96\",\"#ab63fa\",\"#FFA15A\",\"#19d3f3\",\"#FF6692\",\"#B6E880\",\"#FF97FF\",\"#FECB52\"],\"font\":{\"color\":\"#2a3f5f\"},\"hovermode\":\"closest\",\"hoverlabel\":{\"align\":\"left\"},\"paper_bgcolor\":\"white\",\"plot_bgcolor\":\"#E5ECF6\",\"polar\":{\"bgcolor\":\"#E5ECF6\",\"angularaxis\":{\"gridcolor\":\"white\",\"linecolor\":\"white\",\"ticks\":\"\"},\"radialaxis\":{\"gridcolor\":\"white\",\"linecolor\":\"white\",\"ticks\":\"\"}},\"ternary\":{\"bgcolor\":\"#E5ECF6\",\"aaxis\":{\"gridcolor\":\"white\",\"linecolor\":\"white\",\"ticks\":\"\"},\"baxis\":{\"gridcolor\":\"white\",\"linecolor\":\"white\",\"ticks\":\"\"},\"caxis\":{\"gridcolor\":\"white\",\"linecolor\":\"white\",\"ticks\":\"\"}},\"coloraxis\":{\"colorbar\":{\"outlinewidth\":0,\"ticks\":\"\"}},\"colorscale\":{\"sequential\":[[0.0,\"#0d0887\"],[0.1111111111111111,\"#46039f\"],[0.2222222222222222,\"#7201a8\"],[0.3333333333333333,\"#9c179e\"],[0.4444444444444444,\"#bd3786\"],[0.5555555555555556,\"#d8576b\"],[0.6666666666666666,\"#ed7953\"],[0.7777777777777778,\"#fb9f3a\"],[0.8888888888888888,\"#fdca26\"],[1.0,\"#f0f921\"]],\"sequentialminus\":[[0.0,\"#0d0887\"],[0.1111111111111111,\"#46039f\"],[0.2222222222222222,\"#7201a8\"],[0.3333333333333333,\"#9c179e\"],[0.4444444444444444,\"#bd3786\"],[0.5555555555555556,\"#d8576b\"],[0.6666666666666666,\"#ed7953\"],[0.7777777777777778,\"#fb9f3a\"],[0.8888888888888888,\"#fdca26\"],[1.0,\"#f0f921\"]],\"diverging\":[[0,\"#8e0152\"],[0.1,\"#c51b7d\"],[0.2,\"#de77ae\"],[0.3,\"#f1b6da\"],[0.4,\"#fde0ef\"],[0.5,\"#f7f7f7\"],[0.6,\"#e6f5d0\"],[0.7,\"#b8e186\"],[0.8,\"#7fbc41\"],[0.9,\"#4d9221\"],[1,\"#276419\"]]},\"xaxis\":{\"gridcolor\":\"white\",\"linecolor\":\"white\",\"ticks\":\"\",\"title\":{\"standoff\":15},\"zerolinecolor\":\"white\",\"automargin\":true,\"zerolinewidth\":2},\"yaxis\":{\"gridcolor\":\"white\",\"linecolor\":\"white\",\"ticks\":\"\",\"title\":{\"standoff\":15},\"zerolinecolor\":\"white\",\"automargin\":true,\"zerolinewidth\":2},\"scene\":{\"xaxis\":{\"backgroundcolor\":\"#E5ECF6\",\"gridcolor\":\"white\",\"linecolor\":\"white\",\"showbackground\":true,\"ticks\":\"\",\"zerolinecolor\":\"white\",\"gridwidth\":2},\"yaxis\":{\"backgroundcolor\":\"#E5ECF6\",\"gridcolor\":\"white\",\"linecolor\":\"white\",\"showbackground\":true,\"ticks\":\"\",\"zerolinecolor\":\"white\",\"gridwidth\":2},\"zaxis\":{\"backgroundcolor\":\"#E5ECF6\",\"gridcolor\":\"white\",\"linecolor\":\"white\",\"showbackground\":true,\"ticks\":\"\",\"zerolinecolor\":\"white\",\"gridwidth\":2}},\"shapedefaults\":{\"line\":{\"color\":\"#2a3f5f\"}},\"annotationdefaults\":{\"arrowcolor\":\"#2a3f5f\",\"arrowhead\":0,\"arrowwidth\":1},\"geo\":{\"bgcolor\":\"white\",\"landcolor\":\"#E5ECF6\",\"subunitcolor\":\"white\",\"showland\":true,\"showlakes\":true,\"lakecolor\":\"white\"},\"title\":{\"x\":0.05},\"mapbox\":{\"style\":\"light\"}}},\"xaxis\":{\"anchor\":\"y\",\"domain\":[0.0,1.0],\"title\":{\"text\":\"No. of Organizations\"},\"showgrid\":false},\"yaxis\":{\"anchor\":\"x\",\"domain\":[0.0,1.0],\"title\":{\"text\":\"Time Taken (milliseconds)\"},\"tickvals\":[12,13,14,15,16,17],\"ticktext\":[\"$100^2$\",\"$100^3$\",\"$100^4$\",\"$100^5$\",\"$100^6$\",\"$100^7$\"],\"showgrid\":false},\"legend\":{\"tracegroupgap\":0},\"margin\":{\"t\":60},\"title\":{\"text\":\"Organizations vs Time Complete\",\"x\":0.5,\"y\":0.95},\"font\":{\"size\":16}},                        {\"responsive\": true}                    ).then(function(){\n",
              "                            \n",
              "var gd = document.getElementById('81e83a6a-e08e-40b4-87d2-2e297c83c438');\n",
              "var x = new MutationObserver(function (mutations, observer) {{\n",
              "        var display = window.getComputedStyle(gd).display;\n",
              "        if (!display || display === 'none') {{\n",
              "            console.log([gd, 'removed!']);\n",
              "            Plotly.purge(gd);\n",
              "            observer.disconnect();\n",
              "        }}\n",
              "}});\n",
              "\n",
              "// Listen for the removal of the full notebook cells\n",
              "var notebookContainer = gd.closest('#notebook-container');\n",
              "if (notebookContainer) {{\n",
              "    x.observe(notebookContainer, {childList: true});\n",
              "}}\n",
              "\n",
              "// Listen for the clearing of the current output cell\n",
              "var outputEl = gd.closest('.output');\n",
              "if (outputEl) {{\n",
              "    x.observe(outputEl, {childList: true});\n",
              "}}\n",
              "\n",
              "                        })                };                            </script>        </div>\n",
              "</body>\n",
              "</html>"
            ]
          },
          "metadata": {}
        }
      ],
      "source": [
        "import plotly.express as px\n",
        "fig = px.scatter(x=np.log10(df['3a. No. of Organisations']), y=np.log10(df['Time Complete exp']))\n",
        "\n",
        "fig.update_layout(\n",
        "    title='Organizations vs Time Complete',\n",
        "    xaxis=dict(title='No. of Organizations'),\n",
        "    yaxis=dict(title='Time Taken (milliseconds)'),\n",
        "    title_x=0.5,\n",
        "    title_y=0.95\n",
        ")\n",
        "fig.update_layout(font=dict(size=16))\n",
        "fig.update_xaxes(showgrid=False)\n",
        "fig.update_yaxes(tickvals=[12, 13, 14, 15, 16, 17], ticktext=[f'$100^{power}$' for power in np.arange(2,8)], showgrid=False)\n",
        "#fig.update_yaxes(tickvals=[0, 1, 2, 3, 4, 5, 6], ticktext=[f'$10^{power}$' for power in np.arange(0,7)], showgrid=False)\n",
        "fig.show()\n",
        "\n",
        "write_image(fig, '3a: Organisations vs Time Complete.png')"
      ]
    },
    {
      "cell_type": "code",
      "source": [
        "import plotly.express as px\n",
        "fig = px.scatter(x=np.log10(df['4c. No. of Compartmentalizations']), y=np.log10(df['Time Complete exp']))\n",
        "\n",
        "fig.update_layout(\n",
        "    title='Compartmentalizaions vs Time Complete',\n",
        "    xaxis=dict(title='No. of Compartmentalizations'),\n",
        "    yaxis=dict(title='Time Complete'),\n",
        "    title_x=0.5,\n",
        "    title_y=0.95\n",
        ")\n",
        "\n",
        "fig.update_layout(font=dict(size=16))\n",
        "fig.update_xaxes(tickvals=[0, 1, 2, 3, 4], ticktext=[f'$10^{power}$' for power in np.arange(0,5)], showgrid=False)\n",
        "fig.update_yaxes(tickvals=[12, 13, 14, 15, 16, 17], ticktext=[f'$100^{power}$' for power in np.arange(2,8)], showgrid=False)\n",
        "#fig.update_yaxes(tickvals=[0, 1, 2, 3, 4, 5, 6], ticktext=[f'$10^{power}$' for power in np.arange(0,7)], showgrid=False)\n",
        "fig.show()\n",
        "\n",
        "write_image(fig, '4c: Compartmentalizaions vs Time Complete.png')"
      ],
      "metadata": {
        "colab": {
          "base_uri": "https://localhost:8080/",
          "height": 611
        },
        "id": "CtDMA6Vdu2GB",
        "outputId": "8c5b88f8-d783-42e8-ed8e-f51d64697f6a"
      },
      "id": "CtDMA6Vdu2GB",
      "execution_count": null,
      "outputs": [
        {
          "output_type": "stream",
          "name": "stderr",
          "text": [
            "/usr/local/lib/python3.10/dist-packages/pandas/core/arraylike.py:396: RuntimeWarning:\n",
            "\n",
            "divide by zero encountered in log10\n",
            "\n"
          ]
        },
        {
          "output_type": "display_data",
          "data": {
            "text/html": [
              "<html>\n",
              "<head><meta charset=\"utf-8\" /></head>\n",
              "<body>\n",
              "    <div>            <script src=\"https://cdnjs.cloudflare.com/ajax/libs/mathjax/2.7.5/MathJax.js?config=TeX-AMS-MML_SVG\"></script><script type=\"text/javascript\">if (window.MathJax && window.MathJax.Hub && window.MathJax.Hub.Config) {window.MathJax.Hub.Config({SVG: {font: \"STIX-Web\"}});}</script>                <script type=\"text/javascript\">window.PlotlyConfig = {MathJaxConfig: 'local'};</script>\n",
              "        <script charset=\"utf-8\" src=\"https://cdn.plot.ly/plotly-2.24.1.min.js\"></script>                <div id=\"e20ced0a-7366-4bec-a959-a34864c9d2e8\" class=\"plotly-graph-div\" style=\"height:525px; width:100%;\"></div>            <script type=\"text/javascript\">                                    window.PLOTLYENV=window.PLOTLYENV || {};                                    if (document.getElementById(\"e20ced0a-7366-4bec-a959-a34864c9d2e8\")) {                    Plotly.newPlot(                        \"e20ced0a-7366-4bec-a959-a34864c9d2e8\",                        [{\"hovertemplate\":\"x=%{x}\\u003cbr\\u003ey=%{y}\\u003cextra\\u003e\\u003c\\u002fextra\\u003e\",\"legendgroup\":\"\",\"marker\":{\"color\":\"#636efa\",\"symbol\":\"circle\"},\"mode\":\"markers\",\"name\":\"\",\"orientation\":\"v\",\"showlegend\":false,\"x\":[0.0,0.0,0.3010299956639812,0.0,0.0,0.0,0.0,0.0,0.0,0.0,0.0,0.0,0.0,0.0,0.3010299956639812,0.0,0.0,0.0,1.0,0.0,0.0,0.0,0.0,0.0,0.0,1.7160033436347992,3.728597243383432,0.0,0.0,0.0,0.0,0.0,0.0,0.0,1.863322860120456,0.0,0.0,0.0,0.0,0.0,0.0,0.0,0.0,0.0,3.4423229557455746,0.0,0.0,0.0,0.0,0.0,0.0,1.3010299956639813,1.3010299956639813,0.0,0.0,0.0,0.0,0.0,0.0,0.0,0.0,0.0,0.0,0.0,0.0,0.0,0.0,0.3010299956639812,0.0,0.47712125471966244,1.3979400086720377,0.0,0.0,0.0,0.0,0.0,0.0,0.0,0.0,0.0,0.3010299956639812,0.0,0.0,0.0,0.0,0.0,0.0,0.0,0.0,0.0,0.0,1.9294189257142929,0.6989700043360189,0.0,0.0,0.0,1.0,0.0,0.0,0.0,0.6989700043360189,0.0,0.0,0.0,3.936564005135266,0.0,0.0,1.6434526764861874,2.45178643552429,0.0,0.0,0.0,0.0,0.0,0.0,0.0,0.0,0.0,0.0,0.0,0.3010299956639812,0.0,0.0,0.0,0.6020599913279624,1.0791812460476249,0.0,0.0,0.0,0.0,0.0,0.0,0.0,0.0,0.0,0.0,0.0,0.9542425094393249,0.0,0.9542425094393249,0.9542425094393249,0.0,0.0,0.0,0.0,0.0,0.0,0.0,0.0,0.0,0.8450980400142568,0.0,0.0,0.0,0.0,0.0,0.0,0.0,0.0,0.0,0.0,0.0,0.0,0.0,0.0,0.0,0.0,0.0,0.0,0.0,0.0,0.0,0.0,0.0,0.0,0.0,0.0,0.0,0.0,0.0,0.0,0.0,0.0,0.0,0.0,0.0,0.0,0.0,0.0,0.0,0.0,0.0,0.0,0.0,0.0,0.0,0.0,0.0,0.0,0.0,0.0,0.0,0.0,0.0,0.0,0.0,0.0,3.860098329698518,0.0,0.0,0.8450980400142568,0.0,1.5440680443502757,0.0,0.0,0.0,0.0,0.0,0.0,0.0,0.0,0.0,0.0,0.0,0.0,0.0,0.0,0.0,0.0,0.0,0.0,0.0,0.0,0.0,0.3010299956639812,0.3010299956639812,0.3010299956639812,0.6989700043360189,0.6989700043360189,0.0,0.0,0.0,0.0,0.0,0.0,0.8450980400142568,2.7101173651118162,0.0,0.0,0.0,0.0,0.0,0.0,0.0,0.0,0.0,0.0,0.0,0.0,0.0,0.0,0.0,0.0,0.0,0.0,0.0,0.0,0.0,0.0,0.0,0.0,0.0,0.0,0.47712125471966244],\"xaxis\":\"x\",\"y\":[16.35663391897557,16.27379465940449,16.423585458817534,16.02247732688005,16.42907163842508,16.205671247081618,16.084424612091503,16.805853740055216,16.22196635953019,16.774836125523954,15.55280841914701,16.061386122528837,16.478949712625525,16.102050042472516,15.797522014424693,15.190373701550321,15.82852762044912,16.191001130865615,15.579931933302534,15.29893294041639,16.289494982584166,16.190760945875493,12.178277013963928,15.836260634748733,15.769046008663533,15.501980586454385,15.581690026033794,16.4921611712913,15.923521895342093,15.38231886301456,16.397083478018452,16.32111109812068,15.609456567658805,16.25286435934172,15.70917529436888,15.817054800306515,15.537835637767758,16.47999672285089,15.575147002659962,16.205277715359895,16.32281360447004,15.263960525520103,16.17701829815043,16.161943125246523,16.416058422627057,16.42520660229995,15.20491612611827,15.932567594320632,16.161843272677615,14.415757565781147,16.18987912936562,15.998735547060278,15.998977440354167,16.45969454672338,15.636489419139114,16.3020224677835,16.216403133601787,16.374779343405546,15.45167737805991,14.733752245429374,16.668624565508665,16.48518407912015,15.398843627235866,16.37773599145873,15.218229973642313,15.702990601034225,16.079417192944323,15.690282929861564,15.412481542495632,15.802484351784788,16.315306905073545,15.770848613985825,15.119680238212036,15.6960312417885,16.36216433763018,15.518560902329419,15.363791632139296,15.217471292850934,15.596701916560015,15.27872757251293,15.88966007559893,16.364577304988146,15.001477746241914,15.000361838603656,15.954211030961064,15.954199525099916,16.04845737449159,16.042273382942216,16.244119497836305,15.272012753533895,15.73671790509453,16.138482601325,16.126183336559766,15.598703399112631,15.90684088599617,15.177619222573782,15.585491108487336,16.074980322635458,15.308136052785493,16.04323051649487,16.346497777403187,16.477465850040982,16.462395084378816,15.796714871442196,15.63464161435977,15.925168134527002,16.061473941619866,15.78575784075877,16.281556862177897,16.098162671873226,15.607208718382882,15.209516773506593,16.1761081018658,16.091258841604187,16.14639970897921,15.393343856025576,15.844652158372964,15.897302546129584,16.079434440540904,15.914971639240528,16.5683297413943,14.179991086085112,16.0789253482753,16.230039620631974,15.633434568923052,16.198634783817848,15.889651126015696,16.06150297104747,15.303597115507843,16.062059816494,16.023400403043706,16.231949733488207,15.795819841759677,16.072681654287617,16.276684472691638,15.377035982803251,15.638029078493977,15.873905847295305,16.25538883831994,15.87893558972291,15.876452435174418,15.690686271592382,16.067139159640668,15.39485631874783,16.290533841199906,16.17705962541829,14.785257613095377,16.07918428332395,15.67183497963517,15.877429824171307,15.167865775063483,16.681270159667783,15.999149694199058,15.078890811934771,15.603199135355261,15.000154874016294,16.026051303691293,15.130999742678412,16.04136120667996,15.078830366729466,16.041605895540087,16.255384824175476,15.255258284845233,13.07894261541571,16.078579861218454,16.591107466765152,16.14614093409491,16.30100887220013,16.255338814139346,16.32199053073115,15.48664498769383,15.602051811284936,16.11369675231081,15.041398860094402,15.051990005634844,16.079296440585214,15.041756404805811,16.041408272937947,16.00258050100956,16.07933957028205,15.999989231303669,15.999678480832303,16.04171878237915,15.590982677510429,16.040937380666133,15.954268555694833,16.04143651024457,16.11412688884175,16.349101653516787,16.14580059529544,15.847572656788842,16.10191558053182,16.04138003379525,16.421004898565037,16.03565396109345,15.802742246813715,15.739016946021625,16.079046203843607,16.145770988008938,16.041775214797017,15.113856111814256,15.99938824631166,16.04104102078206,15.863638103438607,16.17588716064514,16.112915044366837,16.324915944584674,16.451045922484184,16.646019004910084,15.440160781971187,15.672103832596415,16.27870577194911,15.605968732370725,15.098705474828055,15.918652852875221,15.135873133693519,15.131403953821206,16.144233004546663,16.14274778729756,16.136436984313946,16.13200639639037,16.12841098689104,15.131706292625898,16.132790710981723,16.142021470494875,14.141849944169302,16.148221231759745,16.13999141322469,16.130720847730316,16.144014693357576,16.131373633222857,16.13497904475641,15.15247218115793,16.136175541450708,16.27020905593662,16.671852614437526,15.646759632903462,16.36912640399152,16.338113299137138,16.301691757836746,16.52168623011675,16.475022222611447,16.670835238864438,16.193674211766716,16.494730722754102,16.4748532544825,15.735900242748752,15.096914154743237,16.494843394821643,15.795870077018481,null,16.193833279429665,16.273190095034344,15.797026596937519,15.193866411194154,null,15.193647694824351,16.191101168753764,14.574118235872945,15.88057892328385,16.066868224083812,15.74575953091967,15.491333221675953,16.69950768532457,15.597066045513692,14.38736428929237,15.372589078775624,15.484441477845841,16.23023410730387,15.124984138223484,16.439353929218193,16.315153994105128,16.404979136354758,15.940782021322224],\"yaxis\":\"y\",\"type\":\"scatter\"}],                        {\"template\":{\"data\":{\"histogram2dcontour\":[{\"type\":\"histogram2dcontour\",\"colorbar\":{\"outlinewidth\":0,\"ticks\":\"\"},\"colorscale\":[[0.0,\"#0d0887\"],[0.1111111111111111,\"#46039f\"],[0.2222222222222222,\"#7201a8\"],[0.3333333333333333,\"#9c179e\"],[0.4444444444444444,\"#bd3786\"],[0.5555555555555556,\"#d8576b\"],[0.6666666666666666,\"#ed7953\"],[0.7777777777777778,\"#fb9f3a\"],[0.8888888888888888,\"#fdca26\"],[1.0,\"#f0f921\"]]}],\"choropleth\":[{\"type\":\"choropleth\",\"colorbar\":{\"outlinewidth\":0,\"ticks\":\"\"}}],\"histogram2d\":[{\"type\":\"histogram2d\",\"colorbar\":{\"outlinewidth\":0,\"ticks\":\"\"},\"colorscale\":[[0.0,\"#0d0887\"],[0.1111111111111111,\"#46039f\"],[0.2222222222222222,\"#7201a8\"],[0.3333333333333333,\"#9c179e\"],[0.4444444444444444,\"#bd3786\"],[0.5555555555555556,\"#d8576b\"],[0.6666666666666666,\"#ed7953\"],[0.7777777777777778,\"#fb9f3a\"],[0.8888888888888888,\"#fdca26\"],[1.0,\"#f0f921\"]]}],\"heatmap\":[{\"type\":\"heatmap\",\"colorbar\":{\"outlinewidth\":0,\"ticks\":\"\"},\"colorscale\":[[0.0,\"#0d0887\"],[0.1111111111111111,\"#46039f\"],[0.2222222222222222,\"#7201a8\"],[0.3333333333333333,\"#9c179e\"],[0.4444444444444444,\"#bd3786\"],[0.5555555555555556,\"#d8576b\"],[0.6666666666666666,\"#ed7953\"],[0.7777777777777778,\"#fb9f3a\"],[0.8888888888888888,\"#fdca26\"],[1.0,\"#f0f921\"]]}],\"heatmapgl\":[{\"type\":\"heatmapgl\",\"colorbar\":{\"outlinewidth\":0,\"ticks\":\"\"},\"colorscale\":[[0.0,\"#0d0887\"],[0.1111111111111111,\"#46039f\"],[0.2222222222222222,\"#7201a8\"],[0.3333333333333333,\"#9c179e\"],[0.4444444444444444,\"#bd3786\"],[0.5555555555555556,\"#d8576b\"],[0.6666666666666666,\"#ed7953\"],[0.7777777777777778,\"#fb9f3a\"],[0.8888888888888888,\"#fdca26\"],[1.0,\"#f0f921\"]]}],\"contourcarpet\":[{\"type\":\"contourcarpet\",\"colorbar\":{\"outlinewidth\":0,\"ticks\":\"\"}}],\"contour\":[{\"type\":\"contour\",\"colorbar\":{\"outlinewidth\":0,\"ticks\":\"\"},\"colorscale\":[[0.0,\"#0d0887\"],[0.1111111111111111,\"#46039f\"],[0.2222222222222222,\"#7201a8\"],[0.3333333333333333,\"#9c179e\"],[0.4444444444444444,\"#bd3786\"],[0.5555555555555556,\"#d8576b\"],[0.6666666666666666,\"#ed7953\"],[0.7777777777777778,\"#fb9f3a\"],[0.8888888888888888,\"#fdca26\"],[1.0,\"#f0f921\"]]}],\"surface\":[{\"type\":\"surface\",\"colorbar\":{\"outlinewidth\":0,\"ticks\":\"\"},\"colorscale\":[[0.0,\"#0d0887\"],[0.1111111111111111,\"#46039f\"],[0.2222222222222222,\"#7201a8\"],[0.3333333333333333,\"#9c179e\"],[0.4444444444444444,\"#bd3786\"],[0.5555555555555556,\"#d8576b\"],[0.6666666666666666,\"#ed7953\"],[0.7777777777777778,\"#fb9f3a\"],[0.8888888888888888,\"#fdca26\"],[1.0,\"#f0f921\"]]}],\"mesh3d\":[{\"type\":\"mesh3d\",\"colorbar\":{\"outlinewidth\":0,\"ticks\":\"\"}}],\"scatter\":[{\"fillpattern\":{\"fillmode\":\"overlay\",\"size\":10,\"solidity\":0.2},\"type\":\"scatter\"}],\"parcoords\":[{\"type\":\"parcoords\",\"line\":{\"colorbar\":{\"outlinewidth\":0,\"ticks\":\"\"}}}],\"scatterpolargl\":[{\"type\":\"scatterpolargl\",\"marker\":{\"colorbar\":{\"outlinewidth\":0,\"ticks\":\"\"}}}],\"bar\":[{\"error_x\":{\"color\":\"#2a3f5f\"},\"error_y\":{\"color\":\"#2a3f5f\"},\"marker\":{\"line\":{\"color\":\"#E5ECF6\",\"width\":0.5},\"pattern\":{\"fillmode\":\"overlay\",\"size\":10,\"solidity\":0.2}},\"type\":\"bar\"}],\"scattergeo\":[{\"type\":\"scattergeo\",\"marker\":{\"colorbar\":{\"outlinewidth\":0,\"ticks\":\"\"}}}],\"scatterpolar\":[{\"type\":\"scatterpolar\",\"marker\":{\"colorbar\":{\"outlinewidth\":0,\"ticks\":\"\"}}}],\"histogram\":[{\"marker\":{\"pattern\":{\"fillmode\":\"overlay\",\"size\":10,\"solidity\":0.2}},\"type\":\"histogram\"}],\"scattergl\":[{\"type\":\"scattergl\",\"marker\":{\"colorbar\":{\"outlinewidth\":0,\"ticks\":\"\"}}}],\"scatter3d\":[{\"type\":\"scatter3d\",\"line\":{\"colorbar\":{\"outlinewidth\":0,\"ticks\":\"\"}},\"marker\":{\"colorbar\":{\"outlinewidth\":0,\"ticks\":\"\"}}}],\"scattermapbox\":[{\"type\":\"scattermapbox\",\"marker\":{\"colorbar\":{\"outlinewidth\":0,\"ticks\":\"\"}}}],\"scatterternary\":[{\"type\":\"scatterternary\",\"marker\":{\"colorbar\":{\"outlinewidth\":0,\"ticks\":\"\"}}}],\"scattercarpet\":[{\"type\":\"scattercarpet\",\"marker\":{\"colorbar\":{\"outlinewidth\":0,\"ticks\":\"\"}}}],\"carpet\":[{\"aaxis\":{\"endlinecolor\":\"#2a3f5f\",\"gridcolor\":\"white\",\"linecolor\":\"white\",\"minorgridcolor\":\"white\",\"startlinecolor\":\"#2a3f5f\"},\"baxis\":{\"endlinecolor\":\"#2a3f5f\",\"gridcolor\":\"white\",\"linecolor\":\"white\",\"minorgridcolor\":\"white\",\"startlinecolor\":\"#2a3f5f\"},\"type\":\"carpet\"}],\"table\":[{\"cells\":{\"fill\":{\"color\":\"#EBF0F8\"},\"line\":{\"color\":\"white\"}},\"header\":{\"fill\":{\"color\":\"#C8D4E3\"},\"line\":{\"color\":\"white\"}},\"type\":\"table\"}],\"barpolar\":[{\"marker\":{\"line\":{\"color\":\"#E5ECF6\",\"width\":0.5},\"pattern\":{\"fillmode\":\"overlay\",\"size\":10,\"solidity\":0.2}},\"type\":\"barpolar\"}],\"pie\":[{\"automargin\":true,\"type\":\"pie\"}]},\"layout\":{\"autotypenumbers\":\"strict\",\"colorway\":[\"#636efa\",\"#EF553B\",\"#00cc96\",\"#ab63fa\",\"#FFA15A\",\"#19d3f3\",\"#FF6692\",\"#B6E880\",\"#FF97FF\",\"#FECB52\"],\"font\":{\"color\":\"#2a3f5f\"},\"hovermode\":\"closest\",\"hoverlabel\":{\"align\":\"left\"},\"paper_bgcolor\":\"white\",\"plot_bgcolor\":\"#E5ECF6\",\"polar\":{\"bgcolor\":\"#E5ECF6\",\"angularaxis\":{\"gridcolor\":\"white\",\"linecolor\":\"white\",\"ticks\":\"\"},\"radialaxis\":{\"gridcolor\":\"white\",\"linecolor\":\"white\",\"ticks\":\"\"}},\"ternary\":{\"bgcolor\":\"#E5ECF6\",\"aaxis\":{\"gridcolor\":\"white\",\"linecolor\":\"white\",\"ticks\":\"\"},\"baxis\":{\"gridcolor\":\"white\",\"linecolor\":\"white\",\"ticks\":\"\"},\"caxis\":{\"gridcolor\":\"white\",\"linecolor\":\"white\",\"ticks\":\"\"}},\"coloraxis\":{\"colorbar\":{\"outlinewidth\":0,\"ticks\":\"\"}},\"colorscale\":{\"sequential\":[[0.0,\"#0d0887\"],[0.1111111111111111,\"#46039f\"],[0.2222222222222222,\"#7201a8\"],[0.3333333333333333,\"#9c179e\"],[0.4444444444444444,\"#bd3786\"],[0.5555555555555556,\"#d8576b\"],[0.6666666666666666,\"#ed7953\"],[0.7777777777777778,\"#fb9f3a\"],[0.8888888888888888,\"#fdca26\"],[1.0,\"#f0f921\"]],\"sequentialminus\":[[0.0,\"#0d0887\"],[0.1111111111111111,\"#46039f\"],[0.2222222222222222,\"#7201a8\"],[0.3333333333333333,\"#9c179e\"],[0.4444444444444444,\"#bd3786\"],[0.5555555555555556,\"#d8576b\"],[0.6666666666666666,\"#ed7953\"],[0.7777777777777778,\"#fb9f3a\"],[0.8888888888888888,\"#fdca26\"],[1.0,\"#f0f921\"]],\"diverging\":[[0,\"#8e0152\"],[0.1,\"#c51b7d\"],[0.2,\"#de77ae\"],[0.3,\"#f1b6da\"],[0.4,\"#fde0ef\"],[0.5,\"#f7f7f7\"],[0.6,\"#e6f5d0\"],[0.7,\"#b8e186\"],[0.8,\"#7fbc41\"],[0.9,\"#4d9221\"],[1,\"#276419\"]]},\"xaxis\":{\"gridcolor\":\"white\",\"linecolor\":\"white\",\"ticks\":\"\",\"title\":{\"standoff\":15},\"zerolinecolor\":\"white\",\"automargin\":true,\"zerolinewidth\":2},\"yaxis\":{\"gridcolor\":\"white\",\"linecolor\":\"white\",\"ticks\":\"\",\"title\":{\"standoff\":15},\"zerolinecolor\":\"white\",\"automargin\":true,\"zerolinewidth\":2},\"scene\":{\"xaxis\":{\"backgroundcolor\":\"#E5ECF6\",\"gridcolor\":\"white\",\"linecolor\":\"white\",\"showbackground\":true,\"ticks\":\"\",\"zerolinecolor\":\"white\",\"gridwidth\":2},\"yaxis\":{\"backgroundcolor\":\"#E5ECF6\",\"gridcolor\":\"white\",\"linecolor\":\"white\",\"showbackground\":true,\"ticks\":\"\",\"zerolinecolor\":\"white\",\"gridwidth\":2},\"zaxis\":{\"backgroundcolor\":\"#E5ECF6\",\"gridcolor\":\"white\",\"linecolor\":\"white\",\"showbackground\":true,\"ticks\":\"\",\"zerolinecolor\":\"white\",\"gridwidth\":2}},\"shapedefaults\":{\"line\":{\"color\":\"#2a3f5f\"}},\"annotationdefaults\":{\"arrowcolor\":\"#2a3f5f\",\"arrowhead\":0,\"arrowwidth\":1},\"geo\":{\"bgcolor\":\"white\",\"landcolor\":\"#E5ECF6\",\"subunitcolor\":\"white\",\"showland\":true,\"showlakes\":true,\"lakecolor\":\"white\"},\"title\":{\"x\":0.05},\"mapbox\":{\"style\":\"light\"}}},\"xaxis\":{\"anchor\":\"y\",\"domain\":[0.0,1.0],\"title\":{\"text\":\"No. of Compartmentalizations\"},\"tickvals\":[0,1,2,3,4],\"ticktext\":[\"$10^0$\",\"$10^1$\",\"$10^2$\",\"$10^3$\",\"$10^4$\"],\"showgrid\":false},\"yaxis\":{\"anchor\":\"x\",\"domain\":[0.0,1.0],\"title\":{\"text\":\"Time Complete\"},\"tickvals\":[12,13,14,15,16,17],\"ticktext\":[\"$100^2$\",\"$100^3$\",\"$100^4$\",\"$100^5$\",\"$100^6$\",\"$100^7$\"],\"showgrid\":false},\"legend\":{\"tracegroupgap\":0},\"margin\":{\"t\":60},\"title\":{\"text\":\"Compartmentalizaions vs Time Complete\",\"x\":0.5,\"y\":0.95},\"font\":{\"size\":16}},                        {\"responsive\": true}                    ).then(function(){\n",
              "                            \n",
              "var gd = document.getElementById('e20ced0a-7366-4bec-a959-a34864c9d2e8');\n",
              "var x = new MutationObserver(function (mutations, observer) {{\n",
              "        var display = window.getComputedStyle(gd).display;\n",
              "        if (!display || display === 'none') {{\n",
              "            console.log([gd, 'removed!']);\n",
              "            Plotly.purge(gd);\n",
              "            observer.disconnect();\n",
              "        }}\n",
              "}});\n",
              "\n",
              "// Listen for the removal of the full notebook cells\n",
              "var notebookContainer = gd.closest('#notebook-container');\n",
              "if (notebookContainer) {{\n",
              "    x.observe(notebookContainer, {childList: true});\n",
              "}}\n",
              "\n",
              "// Listen for the clearing of the current output cell\n",
              "var outputEl = gd.closest('.output');\n",
              "if (outputEl) {{\n",
              "    x.observe(outputEl, {childList: true});\n",
              "}}\n",
              "\n",
              "                        })                };                            </script>        </div>\n",
              "</body>\n",
              "</html>"
            ]
          },
          "metadata": {}
        }
      ]
    },
    {
      "cell_type": "code",
      "execution_count": null,
      "id": "9e3d9c6a",
      "metadata": {
        "colab": {
          "base_uri": "https://localhost:8080/"
        },
        "id": "9e3d9c6a",
        "outputId": "30c9a0a1-6f5e-4837-96b0-59cebe65d198"
      },
      "outputs": [
        {
          "output_type": "execute_result",
          "data": {
            "text/plain": [
              "Index(['Unnamed: 0', 'No. of SORs', 'No. of Dos', '2a. No. of Reactions',\n",
              "       '2b. No. of Species', '2c. Reactions / Species',\n",
              "       '3a. No. of Organisations',\n",
              "       '3b. Avg number of reactions per Organization', '3c. Height',\n",
              "       '3e. Persistence', '3d. Width', '4a. No. of Genuine DOs',\n",
              "       '4b. No. of Compartmentalized organisations',\n",
              "       '4c. No. of Compartmentalizations', 'Time Complete',\n",
              "       'No: of Compartments', 'Type of modelling tech', 'Organisms', 'Year',\n",
              "       'Other Details', 'Part of cell cycle ', 'Time Complete exp'],\n",
              "      dtype='object')"
            ]
          },
          "metadata": {},
          "execution_count": 26
        }
      ],
      "source": [
        "df.columns"
      ]
    },
    {
      "cell_type": "code",
      "source": [
        "org = df['Organisms'].dropna().to_list()"
      ],
      "metadata": {
        "id": "VfSSnCfTjg_j"
      },
      "id": "VfSSnCfTjg_j",
      "execution_count": null,
      "outputs": []
    },
    {
      "cell_type": "code",
      "source": [
        "from collections import Counter\n",
        "\n",
        "item_counts = Counter(org)\n",
        "item_counts_dict = dict(item_counts)\n",
        "print(item_counts_dict)"
      ],
      "metadata": {
        "colab": {
          "base_uri": "https://localhost:8080/"
        },
        "id": "JAgDfSEEkYbW",
        "outputId": "0d630c31-594d-4c44-943a-f073b34509f1"
      },
      "id": "JAgDfSEEkYbW",
      "execution_count": null,
      "outputs": [
        {
          "output_type": "stream",
          "name": "stdout",
          "text": [
            "{'Amphibia': 4, 'Opisthokonta ': 3, 'Schizosaccharomyces pombe ': 4, 'Escherichia coli ': 2, 'Nicotiana tabacum ': 1, 'Drosophila melanogaster ': 2, 'Homo sapiens ': 49, 'Mesocricetus auratus  Drosophila melanogaster ': 1, 'Xenopus laevis ': 13, 'Oryctolagus ': 2, 'Arabidopsis ': 2, 'Saccharomyces cerevisiae ': 38, 'Escherichia coli K-12 ': 1, 'Mammalia ': 24, 'cellular organisms ': 8, 'Arabidopsis thaliana ': 4, 'Dictyostelium ': 1, 'Eukaryota ': 8, 'Schizosaccharomycetaceae ': 1, 'Cavia porcellus ': 1, 'Chordata ': 2, 'Rattus ': 1, 'Mycobacterium tuberculosis ': 1, 'Dictyostelium discoideum ': 1, 'Murinae ': 6, 'Viridiplantae ': 11, 'Bordetella pertussis  Homo sapiens ': 1, 'Mus musculus ': 5, 'Ostreococcus tauri ': 1, 'Viridiplantae  Mammalia ': 1, 'Arabidopsis thaliana': 1, 'Influenza A virus (A/Puerto Rico/8/1934(H1N1))  Influenza A virus  Mammalia ': 1, 'Mus ': 2, 'Vertebrata ': 1, 'Caulobacter vibrioides ': 2, 'unclassified eukaryotes ': 1, 'Danio rerio ': 1, 'Rattus norvegicus  Mus musculus ': 1, 'Eukaryota  Homo sapiens ': 1, 'Rattus norvegicus  Homo sapiens ': 1}\n"
          ]
        }
      ]
    },
    {
      "cell_type": "code",
      "source": [
        "item_counts = {key: value for key, value in item_counts_dict.items() if value != 1}\n",
        "\n",
        "print(item_counts)"
      ],
      "metadata": {
        "colab": {
          "base_uri": "https://localhost:8080/"
        },
        "id": "ymhhqsM6k24X",
        "outputId": "68f58a7f-2160-468c-d940-6bdb1df34b5e"
      },
      "id": "ymhhqsM6k24X",
      "execution_count": null,
      "outputs": [
        {
          "output_type": "stream",
          "name": "stdout",
          "text": [
            "{'Amphibia': 4, 'Opisthokonta ': 3, 'Schizosaccharomyces pombe ': 4, 'Escherichia coli ': 2, 'Drosophila melanogaster ': 2, 'Homo sapiens ': 49, 'Xenopus laevis ': 13, 'Oryctolagus ': 2, 'Arabidopsis ': 2, 'Saccharomyces cerevisiae ': 38, 'Mammalia ': 24, 'cellular organisms ': 8, 'Arabidopsis thaliana ': 4, 'Eukaryota ': 8, 'Chordata ': 2, 'Murinae ': 6, 'Viridiplantae ': 11, 'Mus musculus ': 5, 'Mus ': 2, 'Caulobacter vibrioides ': 2}\n"
          ]
        }
      ]
    },
    {
      "cell_type": "code",
      "source": [
        "k = 0\n",
        "for i in item_counts_dict.values():\n",
        "  if i==1:\n",
        "    k+=1\n",
        "k"
      ],
      "metadata": {
        "colab": {
          "base_uri": "https://localhost:8080/"
        },
        "id": "yi923Jm6lNE-",
        "outputId": "c16fdada-c91c-415f-ae0f-a5298d022734"
      },
      "id": "yi923Jm6lNE-",
      "execution_count": null,
      "outputs": [
        {
          "output_type": "execute_result",
          "data": {
            "text/plain": [
              "20"
            ]
          },
          "metadata": {},
          "execution_count": 34
        }
      ]
    },
    {
      "cell_type": "code",
      "source": [
        "item_counts['Other organisms'] = 20"
      ],
      "metadata": {
        "id": "Oa1V7H_Pld7k"
      },
      "id": "Oa1V7H_Pld7k",
      "execution_count": null,
      "outputs": []
    },
    {
      "cell_type": "code",
      "source": [
        "import plotly.graph_objects as go\n",
        "\n",
        "item_counts = {k: v for k, v in sorted(item_counts.items(), key=lambda item: item[1], reverse=True)}\n",
        "\n",
        "# Extracting class names and counts from dictionary\n",
        "classes = list(item_counts.keys())\n",
        "counts = list(item_counts.values())\n",
        "\n",
        "# Create bar plot\n",
        "fig = go.Figure(data=[go.Bar(x=classes, y=counts)])\n",
        "\n",
        "# Update layout\n",
        "fig.update_layout(\n",
        "    title='Different types of Organisms',\n",
        "    xaxis_title='Organisms',\n",
        "    yaxis_title='No. of Models',\n",
        "    title_x=0.5,\n",
        "    title_y=0.95\n",
        ")\n",
        "\n",
        "fig.update_layout(font=dict(size=16))\n",
        "fig.update_xaxes(showgrid=False)\n",
        "fig.update_yaxes(showgrid=False)\n",
        "# Show plot\n",
        "fig.show()\n",
        "\n",
        "\n",
        "write_image(fig, '1a: Different types of Organisms.png')"
      ],
      "metadata": {
        "colab": {
          "base_uri": "https://localhost:8080/",
          "height": 542
        },
        "id": "-u-rsJ-hlE-A",
        "outputId": "63994177-076a-48c7-9afb-dfa61f07f14f"
      },
      "id": "-u-rsJ-hlE-A",
      "execution_count": null,
      "outputs": [
        {
          "output_type": "display_data",
          "data": {
            "text/html": [
              "<html>\n",
              "<head><meta charset=\"utf-8\" /></head>\n",
              "<body>\n",
              "    <div>            <script src=\"https://cdnjs.cloudflare.com/ajax/libs/mathjax/2.7.5/MathJax.js?config=TeX-AMS-MML_SVG\"></script><script type=\"text/javascript\">if (window.MathJax && window.MathJax.Hub && window.MathJax.Hub.Config) {window.MathJax.Hub.Config({SVG: {font: \"STIX-Web\"}});}</script>                <script type=\"text/javascript\">window.PlotlyConfig = {MathJaxConfig: 'local'};</script>\n",
              "        <script charset=\"utf-8\" src=\"https://cdn.plot.ly/plotly-2.24.1.min.js\"></script>                <div id=\"ad13170f-3e14-4cd0-941b-d64de0fea0b2\" class=\"plotly-graph-div\" style=\"height:525px; width:100%;\"></div>            <script type=\"text/javascript\">                                    window.PLOTLYENV=window.PLOTLYENV || {};                                    if (document.getElementById(\"ad13170f-3e14-4cd0-941b-d64de0fea0b2\")) {                    Plotly.newPlot(                        \"ad13170f-3e14-4cd0-941b-d64de0fea0b2\",                        [{\"x\":[\"Homo sapiens \",\"Saccharomyces cerevisiae \",\"Mammalia \",\"Other organisms\",\"Xenopus laevis \",\"Viridiplantae \",\"cellular organisms \",\"Eukaryota \",\"Murinae \",\"Mus musculus \",\"Amphibia\",\"Schizosaccharomyces pombe \",\"Arabidopsis thaliana \",\"Opisthokonta \",\"Escherichia coli \",\"Drosophila melanogaster \",\"Oryctolagus \",\"Arabidopsis \",\"Chordata \",\"Mus \",\"Caulobacter vibrioides \"],\"y\":[49,38,24,20,13,11,8,8,6,5,4,4,4,3,2,2,2,2,2,2,2],\"type\":\"bar\"}],                        {\"template\":{\"data\":{\"histogram2dcontour\":[{\"type\":\"histogram2dcontour\",\"colorbar\":{\"outlinewidth\":0,\"ticks\":\"\"},\"colorscale\":[[0.0,\"#0d0887\"],[0.1111111111111111,\"#46039f\"],[0.2222222222222222,\"#7201a8\"],[0.3333333333333333,\"#9c179e\"],[0.4444444444444444,\"#bd3786\"],[0.5555555555555556,\"#d8576b\"],[0.6666666666666666,\"#ed7953\"],[0.7777777777777778,\"#fb9f3a\"],[0.8888888888888888,\"#fdca26\"],[1.0,\"#f0f921\"]]}],\"choropleth\":[{\"type\":\"choropleth\",\"colorbar\":{\"outlinewidth\":0,\"ticks\":\"\"}}],\"histogram2d\":[{\"type\":\"histogram2d\",\"colorbar\":{\"outlinewidth\":0,\"ticks\":\"\"},\"colorscale\":[[0.0,\"#0d0887\"],[0.1111111111111111,\"#46039f\"],[0.2222222222222222,\"#7201a8\"],[0.3333333333333333,\"#9c179e\"],[0.4444444444444444,\"#bd3786\"],[0.5555555555555556,\"#d8576b\"],[0.6666666666666666,\"#ed7953\"],[0.7777777777777778,\"#fb9f3a\"],[0.8888888888888888,\"#fdca26\"],[1.0,\"#f0f921\"]]}],\"heatmap\":[{\"type\":\"heatmap\",\"colorbar\":{\"outlinewidth\":0,\"ticks\":\"\"},\"colorscale\":[[0.0,\"#0d0887\"],[0.1111111111111111,\"#46039f\"],[0.2222222222222222,\"#7201a8\"],[0.3333333333333333,\"#9c179e\"],[0.4444444444444444,\"#bd3786\"],[0.5555555555555556,\"#d8576b\"],[0.6666666666666666,\"#ed7953\"],[0.7777777777777778,\"#fb9f3a\"],[0.8888888888888888,\"#fdca26\"],[1.0,\"#f0f921\"]]}],\"heatmapgl\":[{\"type\":\"heatmapgl\",\"colorbar\":{\"outlinewidth\":0,\"ticks\":\"\"},\"colorscale\":[[0.0,\"#0d0887\"],[0.1111111111111111,\"#46039f\"],[0.2222222222222222,\"#7201a8\"],[0.3333333333333333,\"#9c179e\"],[0.4444444444444444,\"#bd3786\"],[0.5555555555555556,\"#d8576b\"],[0.6666666666666666,\"#ed7953\"],[0.7777777777777778,\"#fb9f3a\"],[0.8888888888888888,\"#fdca26\"],[1.0,\"#f0f921\"]]}],\"contourcarpet\":[{\"type\":\"contourcarpet\",\"colorbar\":{\"outlinewidth\":0,\"ticks\":\"\"}}],\"contour\":[{\"type\":\"contour\",\"colorbar\":{\"outlinewidth\":0,\"ticks\":\"\"},\"colorscale\":[[0.0,\"#0d0887\"],[0.1111111111111111,\"#46039f\"],[0.2222222222222222,\"#7201a8\"],[0.3333333333333333,\"#9c179e\"],[0.4444444444444444,\"#bd3786\"],[0.5555555555555556,\"#d8576b\"],[0.6666666666666666,\"#ed7953\"],[0.7777777777777778,\"#fb9f3a\"],[0.8888888888888888,\"#fdca26\"],[1.0,\"#f0f921\"]]}],\"surface\":[{\"type\":\"surface\",\"colorbar\":{\"outlinewidth\":0,\"ticks\":\"\"},\"colorscale\":[[0.0,\"#0d0887\"],[0.1111111111111111,\"#46039f\"],[0.2222222222222222,\"#7201a8\"],[0.3333333333333333,\"#9c179e\"],[0.4444444444444444,\"#bd3786\"],[0.5555555555555556,\"#d8576b\"],[0.6666666666666666,\"#ed7953\"],[0.7777777777777778,\"#fb9f3a\"],[0.8888888888888888,\"#fdca26\"],[1.0,\"#f0f921\"]]}],\"mesh3d\":[{\"type\":\"mesh3d\",\"colorbar\":{\"outlinewidth\":0,\"ticks\":\"\"}}],\"scatter\":[{\"fillpattern\":{\"fillmode\":\"overlay\",\"size\":10,\"solidity\":0.2},\"type\":\"scatter\"}],\"parcoords\":[{\"type\":\"parcoords\",\"line\":{\"colorbar\":{\"outlinewidth\":0,\"ticks\":\"\"}}}],\"scatterpolargl\":[{\"type\":\"scatterpolargl\",\"marker\":{\"colorbar\":{\"outlinewidth\":0,\"ticks\":\"\"}}}],\"bar\":[{\"error_x\":{\"color\":\"#2a3f5f\"},\"error_y\":{\"color\":\"#2a3f5f\"},\"marker\":{\"line\":{\"color\":\"#E5ECF6\",\"width\":0.5},\"pattern\":{\"fillmode\":\"overlay\",\"size\":10,\"solidity\":0.2}},\"type\":\"bar\"}],\"scattergeo\":[{\"type\":\"scattergeo\",\"marker\":{\"colorbar\":{\"outlinewidth\":0,\"ticks\":\"\"}}}],\"scatterpolar\":[{\"type\":\"scatterpolar\",\"marker\":{\"colorbar\":{\"outlinewidth\":0,\"ticks\":\"\"}}}],\"histogram\":[{\"marker\":{\"pattern\":{\"fillmode\":\"overlay\",\"size\":10,\"solidity\":0.2}},\"type\":\"histogram\"}],\"scattergl\":[{\"type\":\"scattergl\",\"marker\":{\"colorbar\":{\"outlinewidth\":0,\"ticks\":\"\"}}}],\"scatter3d\":[{\"type\":\"scatter3d\",\"line\":{\"colorbar\":{\"outlinewidth\":0,\"ticks\":\"\"}},\"marker\":{\"colorbar\":{\"outlinewidth\":0,\"ticks\":\"\"}}}],\"scattermapbox\":[{\"type\":\"scattermapbox\",\"marker\":{\"colorbar\":{\"outlinewidth\":0,\"ticks\":\"\"}}}],\"scatterternary\":[{\"type\":\"scatterternary\",\"marker\":{\"colorbar\":{\"outlinewidth\":0,\"ticks\":\"\"}}}],\"scattercarpet\":[{\"type\":\"scattercarpet\",\"marker\":{\"colorbar\":{\"outlinewidth\":0,\"ticks\":\"\"}}}],\"carpet\":[{\"aaxis\":{\"endlinecolor\":\"#2a3f5f\",\"gridcolor\":\"white\",\"linecolor\":\"white\",\"minorgridcolor\":\"white\",\"startlinecolor\":\"#2a3f5f\"},\"baxis\":{\"endlinecolor\":\"#2a3f5f\",\"gridcolor\":\"white\",\"linecolor\":\"white\",\"minorgridcolor\":\"white\",\"startlinecolor\":\"#2a3f5f\"},\"type\":\"carpet\"}],\"table\":[{\"cells\":{\"fill\":{\"color\":\"#EBF0F8\"},\"line\":{\"color\":\"white\"}},\"header\":{\"fill\":{\"color\":\"#C8D4E3\"},\"line\":{\"color\":\"white\"}},\"type\":\"table\"}],\"barpolar\":[{\"marker\":{\"line\":{\"color\":\"#E5ECF6\",\"width\":0.5},\"pattern\":{\"fillmode\":\"overlay\",\"size\":10,\"solidity\":0.2}},\"type\":\"barpolar\"}],\"pie\":[{\"automargin\":true,\"type\":\"pie\"}]},\"layout\":{\"autotypenumbers\":\"strict\",\"colorway\":[\"#636efa\",\"#EF553B\",\"#00cc96\",\"#ab63fa\",\"#FFA15A\",\"#19d3f3\",\"#FF6692\",\"#B6E880\",\"#FF97FF\",\"#FECB52\"],\"font\":{\"color\":\"#2a3f5f\"},\"hovermode\":\"closest\",\"hoverlabel\":{\"align\":\"left\"},\"paper_bgcolor\":\"white\",\"plot_bgcolor\":\"#E5ECF6\",\"polar\":{\"bgcolor\":\"#E5ECF6\",\"angularaxis\":{\"gridcolor\":\"white\",\"linecolor\":\"white\",\"ticks\":\"\"},\"radialaxis\":{\"gridcolor\":\"white\",\"linecolor\":\"white\",\"ticks\":\"\"}},\"ternary\":{\"bgcolor\":\"#E5ECF6\",\"aaxis\":{\"gridcolor\":\"white\",\"linecolor\":\"white\",\"ticks\":\"\"},\"baxis\":{\"gridcolor\":\"white\",\"linecolor\":\"white\",\"ticks\":\"\"},\"caxis\":{\"gridcolor\":\"white\",\"linecolor\":\"white\",\"ticks\":\"\"}},\"coloraxis\":{\"colorbar\":{\"outlinewidth\":0,\"ticks\":\"\"}},\"colorscale\":{\"sequential\":[[0.0,\"#0d0887\"],[0.1111111111111111,\"#46039f\"],[0.2222222222222222,\"#7201a8\"],[0.3333333333333333,\"#9c179e\"],[0.4444444444444444,\"#bd3786\"],[0.5555555555555556,\"#d8576b\"],[0.6666666666666666,\"#ed7953\"],[0.7777777777777778,\"#fb9f3a\"],[0.8888888888888888,\"#fdca26\"],[1.0,\"#f0f921\"]],\"sequentialminus\":[[0.0,\"#0d0887\"],[0.1111111111111111,\"#46039f\"],[0.2222222222222222,\"#7201a8\"],[0.3333333333333333,\"#9c179e\"],[0.4444444444444444,\"#bd3786\"],[0.5555555555555556,\"#d8576b\"],[0.6666666666666666,\"#ed7953\"],[0.7777777777777778,\"#fb9f3a\"],[0.8888888888888888,\"#fdca26\"],[1.0,\"#f0f921\"]],\"diverging\":[[0,\"#8e0152\"],[0.1,\"#c51b7d\"],[0.2,\"#de77ae\"],[0.3,\"#f1b6da\"],[0.4,\"#fde0ef\"],[0.5,\"#f7f7f7\"],[0.6,\"#e6f5d0\"],[0.7,\"#b8e186\"],[0.8,\"#7fbc41\"],[0.9,\"#4d9221\"],[1,\"#276419\"]]},\"xaxis\":{\"gridcolor\":\"white\",\"linecolor\":\"white\",\"ticks\":\"\",\"title\":{\"standoff\":15},\"zerolinecolor\":\"white\",\"automargin\":true,\"zerolinewidth\":2},\"yaxis\":{\"gridcolor\":\"white\",\"linecolor\":\"white\",\"ticks\":\"\",\"title\":{\"standoff\":15},\"zerolinecolor\":\"white\",\"automargin\":true,\"zerolinewidth\":2},\"scene\":{\"xaxis\":{\"backgroundcolor\":\"#E5ECF6\",\"gridcolor\":\"white\",\"linecolor\":\"white\",\"showbackground\":true,\"ticks\":\"\",\"zerolinecolor\":\"white\",\"gridwidth\":2},\"yaxis\":{\"backgroundcolor\":\"#E5ECF6\",\"gridcolor\":\"white\",\"linecolor\":\"white\",\"showbackground\":true,\"ticks\":\"\",\"zerolinecolor\":\"white\",\"gridwidth\":2},\"zaxis\":{\"backgroundcolor\":\"#E5ECF6\",\"gridcolor\":\"white\",\"linecolor\":\"white\",\"showbackground\":true,\"ticks\":\"\",\"zerolinecolor\":\"white\",\"gridwidth\":2}},\"shapedefaults\":{\"line\":{\"color\":\"#2a3f5f\"}},\"annotationdefaults\":{\"arrowcolor\":\"#2a3f5f\",\"arrowhead\":0,\"arrowwidth\":1},\"geo\":{\"bgcolor\":\"white\",\"landcolor\":\"#E5ECF6\",\"subunitcolor\":\"white\",\"showland\":true,\"showlakes\":true,\"lakecolor\":\"white\"},\"title\":{\"x\":0.05},\"mapbox\":{\"style\":\"light\"}}},\"title\":{\"text\":\"Different types of Organisms\",\"x\":0.5,\"y\":0.95},\"xaxis\":{\"title\":{\"text\":\"Organisms\"},\"showgrid\":false},\"yaxis\":{\"title\":{\"text\":\"No. of Models\"},\"showgrid\":false},\"font\":{\"size\":16}},                        {\"responsive\": true}                    ).then(function(){\n",
              "                            \n",
              "var gd = document.getElementById('ad13170f-3e14-4cd0-941b-d64de0fea0b2');\n",
              "var x = new MutationObserver(function (mutations, observer) {{\n",
              "        var display = window.getComputedStyle(gd).display;\n",
              "        if (!display || display === 'none') {{\n",
              "            console.log([gd, 'removed!']);\n",
              "            Plotly.purge(gd);\n",
              "            observer.disconnect();\n",
              "        }}\n",
              "}});\n",
              "\n",
              "// Listen for the removal of the full notebook cells\n",
              "var notebookContainer = gd.closest('#notebook-container');\n",
              "if (notebookContainer) {{\n",
              "    x.observe(notebookContainer, {childList: true});\n",
              "}}\n",
              "\n",
              "// Listen for the clearing of the current output cell\n",
              "var outputEl = gd.closest('.output');\n",
              "if (outputEl) {{\n",
              "    x.observe(outputEl, {childList: true});\n",
              "}}\n",
              "\n",
              "                        })                };                            </script>        </div>\n",
              "</body>\n",
              "</html>"
            ]
          },
          "metadata": {}
        }
      ]
    },
    {
      "cell_type": "code",
      "source": [
        "import plotly.graph_objects as go\n",
        "\n",
        "# Sample list of numbers\n",
        "data = [1, 2, 2, 3, 3, 3, 4, 4, 4, 4, 5, 5, 5, 5, 5]\n",
        "\n",
        "# Create histogram\n",
        "fig = go.Figure(data=[go.Histogram(x=df['No: of Compartments'])])\n",
        "\n",
        "# Update layout\n",
        "fig.update_layout(\n",
        "    title='Histogram of Number of compartments in the models',\n",
        "    xaxis_title='No. of compartments',\n",
        "    yaxis_title='No. of Models',\n",
        "    title_x=0.5,\n",
        "    title_y=0.95\n",
        ")\n",
        "\n",
        "fig.update_layout(font=dict(size=16))\n",
        "fig.update_xaxes(showgrid=False)\n",
        "fig.update_yaxes(showgrid=False)\n",
        "# Show plot\n",
        "fig.show()\n",
        "\n",
        "\n",
        "write_image(fig, '1e: Different types of Organisms.png')"
      ],
      "metadata": {
        "colab": {
          "base_uri": "https://localhost:8080/",
          "height": 542
        },
        "id": "7iSr5T0wmhez",
        "outputId": "3078c588-b6cb-4477-8bf6-c041667cfa0f"
      },
      "id": "7iSr5T0wmhez",
      "execution_count": null,
      "outputs": [
        {
          "output_type": "display_data",
          "data": {
            "text/html": [
              "<html>\n",
              "<head><meta charset=\"utf-8\" /></head>\n",
              "<body>\n",
              "    <div>            <script src=\"https://cdnjs.cloudflare.com/ajax/libs/mathjax/2.7.5/MathJax.js?config=TeX-AMS-MML_SVG\"></script><script type=\"text/javascript\">if (window.MathJax && window.MathJax.Hub && window.MathJax.Hub.Config) {window.MathJax.Hub.Config({SVG: {font: \"STIX-Web\"}});}</script>                <script type=\"text/javascript\">window.PlotlyConfig = {MathJaxConfig: 'local'};</script>\n",
              "        <script charset=\"utf-8\" src=\"https://cdn.plot.ly/plotly-2.24.1.min.js\"></script>                <div id=\"20768c41-2ad2-48c0-8353-f575a4da0d73\" class=\"plotly-graph-div\" style=\"height:525px; width:100%;\"></div>            <script type=\"text/javascript\">                                    window.PLOTLYENV=window.PLOTLYENV || {};                                    if (document.getElementById(\"20768c41-2ad2-48c0-8353-f575a4da0d73\")) {                    Plotly.newPlot(                        \"20768c41-2ad2-48c0-8353-f575a4da0d73\",                        [{\"x\":[1.0,1.0,1.0,1.0,1.0,1.0,1.0,2.0,3.0,2.0,3.0,1.0,1.0,1.0,1.0,1.0,1.0,1.0,2.0,1.0,1.0,1.0,1.0,3.0,1.0,1.0,2.0,1.0,3.0,2.0,3.0,1.0,1.0,1.0,1.0,1.0,1.0,1.0,1.0,1.0,1.0,1.0,1.0,1.0,7.0,3.0,1.0,1.0,1.0,1.0,1.0,1.0,1.0,1.0,1.0,1.0,1.0,1.0,1.0,1.0,1.0,1.0,1.0,2.0,1.0,1.0,1.0,1.0,1.0,1.0,1.0,1.0,1.0,1.0,1.0,1.0,1.0,1.0,2.0,1.0,7.0,2.0,1.0,1.0,1.0,1.0,1.0,1.0,4.0,2.0,2.0,2.0,2.0,2.0,1.0,3.0,3.0,2.0,1.0,1.0,1.0,1.0,1.0,4.0,1.0,1.0,1.0,1.0,1.0,1.0,2.0,1.0,1.0,1.0,1.0,2.0,1.0,2.0,1.0,1.0,3.0,1.0,1.0,1.0,1.0,2.0,1.0,1.0,1.0,1.0,1.0,1.0,4.0,1.0,1.0,1.0,1.0,2.0,1.0,2.0,2.0,1.0,5.0,5.0,1.0,1.0,1.0,1.0,1.0,1.0,1.0,1.0,1.0,1.0,1.0,1.0,1.0,1.0,1.0,1.0,1.0,1.0,1.0,1.0,1.0,1.0,1.0,1.0,1.0,1.0,3.0,2.0,1.0,1.0,1.0,1.0,1.0,1.0,1.0,1.0,1.0,1.0,1.0,1.0,1.0,1.0,1.0,1.0,2.0,1.0,1.0,2.0,1.0,2.0,1.0,1.0,3.0,2.0,2.0,2.0,1.0,1.0,1.0,1.0,1.0,1.0,1.0,1.0,1.0,5.0,1.0,1.0,1.0,2.0,3.0,null,null,null,null,null,null,null,null,null,null,null,null,null,null,null,null,null,null,null,2.0,2.0,2.0,2.0,2.0,1.0,1.0,3.0,1.0,1.0,1.0,2.0,1.0,1.0,1.0,2.0,1.0,1.0,1.0,1.0,1.0,1.0,1.0,1.0,1.0,1.0,3.0,2.0,1.0,1.0,1.0,1.0,1.0,1.0,5.0,2.0,1.0,1.0,1.0,4.0],\"type\":\"histogram\"}],                        {\"template\":{\"data\":{\"histogram2dcontour\":[{\"type\":\"histogram2dcontour\",\"colorbar\":{\"outlinewidth\":0,\"ticks\":\"\"},\"colorscale\":[[0.0,\"#0d0887\"],[0.1111111111111111,\"#46039f\"],[0.2222222222222222,\"#7201a8\"],[0.3333333333333333,\"#9c179e\"],[0.4444444444444444,\"#bd3786\"],[0.5555555555555556,\"#d8576b\"],[0.6666666666666666,\"#ed7953\"],[0.7777777777777778,\"#fb9f3a\"],[0.8888888888888888,\"#fdca26\"],[1.0,\"#f0f921\"]]}],\"choropleth\":[{\"type\":\"choropleth\",\"colorbar\":{\"outlinewidth\":0,\"ticks\":\"\"}}],\"histogram2d\":[{\"type\":\"histogram2d\",\"colorbar\":{\"outlinewidth\":0,\"ticks\":\"\"},\"colorscale\":[[0.0,\"#0d0887\"],[0.1111111111111111,\"#46039f\"],[0.2222222222222222,\"#7201a8\"],[0.3333333333333333,\"#9c179e\"],[0.4444444444444444,\"#bd3786\"],[0.5555555555555556,\"#d8576b\"],[0.6666666666666666,\"#ed7953\"],[0.7777777777777778,\"#fb9f3a\"],[0.8888888888888888,\"#fdca26\"],[1.0,\"#f0f921\"]]}],\"heatmap\":[{\"type\":\"heatmap\",\"colorbar\":{\"outlinewidth\":0,\"ticks\":\"\"},\"colorscale\":[[0.0,\"#0d0887\"],[0.1111111111111111,\"#46039f\"],[0.2222222222222222,\"#7201a8\"],[0.3333333333333333,\"#9c179e\"],[0.4444444444444444,\"#bd3786\"],[0.5555555555555556,\"#d8576b\"],[0.6666666666666666,\"#ed7953\"],[0.7777777777777778,\"#fb9f3a\"],[0.8888888888888888,\"#fdca26\"],[1.0,\"#f0f921\"]]}],\"heatmapgl\":[{\"type\":\"heatmapgl\",\"colorbar\":{\"outlinewidth\":0,\"ticks\":\"\"},\"colorscale\":[[0.0,\"#0d0887\"],[0.1111111111111111,\"#46039f\"],[0.2222222222222222,\"#7201a8\"],[0.3333333333333333,\"#9c179e\"],[0.4444444444444444,\"#bd3786\"],[0.5555555555555556,\"#d8576b\"],[0.6666666666666666,\"#ed7953\"],[0.7777777777777778,\"#fb9f3a\"],[0.8888888888888888,\"#fdca26\"],[1.0,\"#f0f921\"]]}],\"contourcarpet\":[{\"type\":\"contourcarpet\",\"colorbar\":{\"outlinewidth\":0,\"ticks\":\"\"}}],\"contour\":[{\"type\":\"contour\",\"colorbar\":{\"outlinewidth\":0,\"ticks\":\"\"},\"colorscale\":[[0.0,\"#0d0887\"],[0.1111111111111111,\"#46039f\"],[0.2222222222222222,\"#7201a8\"],[0.3333333333333333,\"#9c179e\"],[0.4444444444444444,\"#bd3786\"],[0.5555555555555556,\"#d8576b\"],[0.6666666666666666,\"#ed7953\"],[0.7777777777777778,\"#fb9f3a\"],[0.8888888888888888,\"#fdca26\"],[1.0,\"#f0f921\"]]}],\"surface\":[{\"type\":\"surface\",\"colorbar\":{\"outlinewidth\":0,\"ticks\":\"\"},\"colorscale\":[[0.0,\"#0d0887\"],[0.1111111111111111,\"#46039f\"],[0.2222222222222222,\"#7201a8\"],[0.3333333333333333,\"#9c179e\"],[0.4444444444444444,\"#bd3786\"],[0.5555555555555556,\"#d8576b\"],[0.6666666666666666,\"#ed7953\"],[0.7777777777777778,\"#fb9f3a\"],[0.8888888888888888,\"#fdca26\"],[1.0,\"#f0f921\"]]}],\"mesh3d\":[{\"type\":\"mesh3d\",\"colorbar\":{\"outlinewidth\":0,\"ticks\":\"\"}}],\"scatter\":[{\"fillpattern\":{\"fillmode\":\"overlay\",\"size\":10,\"solidity\":0.2},\"type\":\"scatter\"}],\"parcoords\":[{\"type\":\"parcoords\",\"line\":{\"colorbar\":{\"outlinewidth\":0,\"ticks\":\"\"}}}],\"scatterpolargl\":[{\"type\":\"scatterpolargl\",\"marker\":{\"colorbar\":{\"outlinewidth\":0,\"ticks\":\"\"}}}],\"bar\":[{\"error_x\":{\"color\":\"#2a3f5f\"},\"error_y\":{\"color\":\"#2a3f5f\"},\"marker\":{\"line\":{\"color\":\"#E5ECF6\",\"width\":0.5},\"pattern\":{\"fillmode\":\"overlay\",\"size\":10,\"solidity\":0.2}},\"type\":\"bar\"}],\"scattergeo\":[{\"type\":\"scattergeo\",\"marker\":{\"colorbar\":{\"outlinewidth\":0,\"ticks\":\"\"}}}],\"scatterpolar\":[{\"type\":\"scatterpolar\",\"marker\":{\"colorbar\":{\"outlinewidth\":0,\"ticks\":\"\"}}}],\"histogram\":[{\"marker\":{\"pattern\":{\"fillmode\":\"overlay\",\"size\":10,\"solidity\":0.2}},\"type\":\"histogram\"}],\"scattergl\":[{\"type\":\"scattergl\",\"marker\":{\"colorbar\":{\"outlinewidth\":0,\"ticks\":\"\"}}}],\"scatter3d\":[{\"type\":\"scatter3d\",\"line\":{\"colorbar\":{\"outlinewidth\":0,\"ticks\":\"\"}},\"marker\":{\"colorbar\":{\"outlinewidth\":0,\"ticks\":\"\"}}}],\"scattermapbox\":[{\"type\":\"scattermapbox\",\"marker\":{\"colorbar\":{\"outlinewidth\":0,\"ticks\":\"\"}}}],\"scatterternary\":[{\"type\":\"scatterternary\",\"marker\":{\"colorbar\":{\"outlinewidth\":0,\"ticks\":\"\"}}}],\"scattercarpet\":[{\"type\":\"scattercarpet\",\"marker\":{\"colorbar\":{\"outlinewidth\":0,\"ticks\":\"\"}}}],\"carpet\":[{\"aaxis\":{\"endlinecolor\":\"#2a3f5f\",\"gridcolor\":\"white\",\"linecolor\":\"white\",\"minorgridcolor\":\"white\",\"startlinecolor\":\"#2a3f5f\"},\"baxis\":{\"endlinecolor\":\"#2a3f5f\",\"gridcolor\":\"white\",\"linecolor\":\"white\",\"minorgridcolor\":\"white\",\"startlinecolor\":\"#2a3f5f\"},\"type\":\"carpet\"}],\"table\":[{\"cells\":{\"fill\":{\"color\":\"#EBF0F8\"},\"line\":{\"color\":\"white\"}},\"header\":{\"fill\":{\"color\":\"#C8D4E3\"},\"line\":{\"color\":\"white\"}},\"type\":\"table\"}],\"barpolar\":[{\"marker\":{\"line\":{\"color\":\"#E5ECF6\",\"width\":0.5},\"pattern\":{\"fillmode\":\"overlay\",\"size\":10,\"solidity\":0.2}},\"type\":\"barpolar\"}],\"pie\":[{\"automargin\":true,\"type\":\"pie\"}]},\"layout\":{\"autotypenumbers\":\"strict\",\"colorway\":[\"#636efa\",\"#EF553B\",\"#00cc96\",\"#ab63fa\",\"#FFA15A\",\"#19d3f3\",\"#FF6692\",\"#B6E880\",\"#FF97FF\",\"#FECB52\"],\"font\":{\"color\":\"#2a3f5f\"},\"hovermode\":\"closest\",\"hoverlabel\":{\"align\":\"left\"},\"paper_bgcolor\":\"white\",\"plot_bgcolor\":\"#E5ECF6\",\"polar\":{\"bgcolor\":\"#E5ECF6\",\"angularaxis\":{\"gridcolor\":\"white\",\"linecolor\":\"white\",\"ticks\":\"\"},\"radialaxis\":{\"gridcolor\":\"white\",\"linecolor\":\"white\",\"ticks\":\"\"}},\"ternary\":{\"bgcolor\":\"#E5ECF6\",\"aaxis\":{\"gridcolor\":\"white\",\"linecolor\":\"white\",\"ticks\":\"\"},\"baxis\":{\"gridcolor\":\"white\",\"linecolor\":\"white\",\"ticks\":\"\"},\"caxis\":{\"gridcolor\":\"white\",\"linecolor\":\"white\",\"ticks\":\"\"}},\"coloraxis\":{\"colorbar\":{\"outlinewidth\":0,\"ticks\":\"\"}},\"colorscale\":{\"sequential\":[[0.0,\"#0d0887\"],[0.1111111111111111,\"#46039f\"],[0.2222222222222222,\"#7201a8\"],[0.3333333333333333,\"#9c179e\"],[0.4444444444444444,\"#bd3786\"],[0.5555555555555556,\"#d8576b\"],[0.6666666666666666,\"#ed7953\"],[0.7777777777777778,\"#fb9f3a\"],[0.8888888888888888,\"#fdca26\"],[1.0,\"#f0f921\"]],\"sequentialminus\":[[0.0,\"#0d0887\"],[0.1111111111111111,\"#46039f\"],[0.2222222222222222,\"#7201a8\"],[0.3333333333333333,\"#9c179e\"],[0.4444444444444444,\"#bd3786\"],[0.5555555555555556,\"#d8576b\"],[0.6666666666666666,\"#ed7953\"],[0.7777777777777778,\"#fb9f3a\"],[0.8888888888888888,\"#fdca26\"],[1.0,\"#f0f921\"]],\"diverging\":[[0,\"#8e0152\"],[0.1,\"#c51b7d\"],[0.2,\"#de77ae\"],[0.3,\"#f1b6da\"],[0.4,\"#fde0ef\"],[0.5,\"#f7f7f7\"],[0.6,\"#e6f5d0\"],[0.7,\"#b8e186\"],[0.8,\"#7fbc41\"],[0.9,\"#4d9221\"],[1,\"#276419\"]]},\"xaxis\":{\"gridcolor\":\"white\",\"linecolor\":\"white\",\"ticks\":\"\",\"title\":{\"standoff\":15},\"zerolinecolor\":\"white\",\"automargin\":true,\"zerolinewidth\":2},\"yaxis\":{\"gridcolor\":\"white\",\"linecolor\":\"white\",\"ticks\":\"\",\"title\":{\"standoff\":15},\"zerolinecolor\":\"white\",\"automargin\":true,\"zerolinewidth\":2},\"scene\":{\"xaxis\":{\"backgroundcolor\":\"#E5ECF6\",\"gridcolor\":\"white\",\"linecolor\":\"white\",\"showbackground\":true,\"ticks\":\"\",\"zerolinecolor\":\"white\",\"gridwidth\":2},\"yaxis\":{\"backgroundcolor\":\"#E5ECF6\",\"gridcolor\":\"white\",\"linecolor\":\"white\",\"showbackground\":true,\"ticks\":\"\",\"zerolinecolor\":\"white\",\"gridwidth\":2},\"zaxis\":{\"backgroundcolor\":\"#E5ECF6\",\"gridcolor\":\"white\",\"linecolor\":\"white\",\"showbackground\":true,\"ticks\":\"\",\"zerolinecolor\":\"white\",\"gridwidth\":2}},\"shapedefaults\":{\"line\":{\"color\":\"#2a3f5f\"}},\"annotationdefaults\":{\"arrowcolor\":\"#2a3f5f\",\"arrowhead\":0,\"arrowwidth\":1},\"geo\":{\"bgcolor\":\"white\",\"landcolor\":\"#E5ECF6\",\"subunitcolor\":\"white\",\"showland\":true,\"showlakes\":true,\"lakecolor\":\"white\"},\"title\":{\"x\":0.05},\"mapbox\":{\"style\":\"light\"}}},\"title\":{\"text\":\"Histogram of Number of compartments in the models\",\"x\":0.5,\"y\":0.95},\"xaxis\":{\"title\":{\"text\":\"No. of compartments\"},\"showgrid\":false},\"yaxis\":{\"title\":{\"text\":\"No. of Models\"},\"showgrid\":false},\"font\":{\"size\":16}},                        {\"responsive\": true}                    ).then(function(){\n",
              "                            \n",
              "var gd = document.getElementById('20768c41-2ad2-48c0-8353-f575a4da0d73');\n",
              "var x = new MutationObserver(function (mutations, observer) {{\n",
              "        var display = window.getComputedStyle(gd).display;\n",
              "        if (!display || display === 'none') {{\n",
              "            console.log([gd, 'removed!']);\n",
              "            Plotly.purge(gd);\n",
              "            observer.disconnect();\n",
              "        }}\n",
              "}});\n",
              "\n",
              "// Listen for the removal of the full notebook cells\n",
              "var notebookContainer = gd.closest('#notebook-container');\n",
              "if (notebookContainer) {{\n",
              "    x.observe(notebookContainer, {childList: true});\n",
              "}}\n",
              "\n",
              "// Listen for the clearing of the current output cell\n",
              "var outputEl = gd.closest('.output');\n",
              "if (outputEl) {{\n",
              "    x.observe(outputEl, {childList: true});\n",
              "}}\n",
              "\n",
              "                        })                };                            </script>        </div>\n",
              "</body>\n",
              "</html>"
            ]
          },
          "metadata": {}
        }
      ]
    }
  ],
  "metadata": {
    "kernelspec": {
      "display_name": "Python 3 (ipykernel)",
      "language": "python",
      "name": "python3"
    },
    "language_info": {
      "codemirror_mode": {
        "name": "ipython",
        "version": 3
      },
      "file_extension": ".py",
      "mimetype": "text/x-python",
      "name": "python",
      "nbconvert_exporter": "python",
      "pygments_lexer": "ipython3",
      "version": "3.8.16"
    },
    "colab": {
      "provenance": []
    }
  },
  "nbformat": 4,
  "nbformat_minor": 5
}